{
 "cells": [
  {
   "cell_type": "code",
   "id": "initial_id",
   "metadata": {
    "collapsed": true,
    "ExecuteTime": {
     "end_time": "2024-08-26T11:39:03.497848Z",
     "start_time": "2024-08-26T11:39:03.495201Z"
    }
   },
   "source": [
    "import json\n",
    "import pandas as pd\n",
    "import os"
   ],
   "outputs": [],
   "execution_count": 15
  },
  {
   "metadata": {
    "ExecuteTime": {
     "end_time": "2024-08-26T11:41:31.639828Z",
     "start_time": "2024-08-26T11:41:31.637941Z"
    }
   },
   "cell_type": "code",
   "source": [
    "from util_folder.json_extraction_util import read_file\n",
    "\n",
    "\n",
    "def read_json_files_from_folder(folder_path):\n",
    "    data = []\n",
    "    for file_name in os.listdir(folder_path):\n",
    "        file_path = os.path.join(folder_path, file_name)\n",
    "        a = read_file(file_path)\n",
    "        data.append(a)\n",
    "    return data"
   ],
   "id": "eafec19aff89bafd",
   "outputs": [],
   "execution_count": 32
  },
  {
   "metadata": {
    "ExecuteTime": {
     "end_time": "2024-08-26T11:44:53.400598Z",
     "start_time": "2024-08-26T11:44:53.360153Z"
    }
   },
   "cell_type": "code",
   "source": [
    "input_data = read_json_files_from_folder(\"json_files/json_fine_tuning_input/json2000\")\n",
    "output_data = read_json_files_from_folder(\"json_files/json_fine_tuning_output/json2000\")\n",
    "\n",
    "# Convert the JSON data to DataFrames\n",
    "df = pd.DataFrame(input_data, columns=['input'])\n",
    "df['output'] = output_data\n",
    "df"
   ],
   "id": "24b33af414bea791",
   "outputs": [
    {
     "data": {
      "text/plain": [
       "                                                 input  \\\n",
       "0    {\"nodes\":[{\"viewpoint\":null,\"visibility\":\"PUBL...   \n",
       "1    {\"nodes\":[{\"viewpoint\":null,\"visibility\":\"PUBL...   \n",
       "2    {\"nodes\":[{\"viewpoint\":null,\"visibility\":\"PUBL...   \n",
       "3    {\"nodes\":[{\"viewpoint\":null,\"visibility\":\"PUBL...   \n",
       "4    {\"nodes\":[{\"viewpoint\":null,\"visibility\":\"PUBL...   \n",
       "..                                                 ...   \n",
       "127  {\"nodes\":[{\"viewpoint\":null,\"visibility\":\"PUBL...   \n",
       "128  {\"nodes\":[{\"viewpoint\":null,\"visibility\":\"PUBL...   \n",
       "129  {\"nodes\":[{\"viewpoint\":null,\"visibility\":\"PUBL...   \n",
       "130  {\"nodes\":[{\"viewpoint\":null,\"visibility\":\"PUBL...   \n",
       "131  {\"nodes\":[{\"viewpoint\":null,\"visibility\":\"PUBL...   \n",
       "\n",
       "                                                output  \n",
       "0    {\"nodes\":[{\"visibility\":\"PUBLIC_LITERAL\",\"qual...  \n",
       "1    {\"nodes\":[{\"visibility\":\"PUBLIC_LITERAL\",\"qual...  \n",
       "2    {\"nodes\":[{\"visibility\":\"PUBLIC_LITERAL\",\"qual...  \n",
       "3    {\"nodes\":[{\"isDerived\":false,\"visibility\":\"PUB...  \n",
       "4    {\"nodes\":[{\"isStatic\":false,\"isDerived\":false,...  \n",
       "..                                                 ...  \n",
       "127  {\"nodes\":[{\"visibility\":\"PUBLIC_LITERAL\",\"qual...  \n",
       "128  {\"nodes\":[{\"visibility\":\"PUBLIC_LITERAL\",\"qual...  \n",
       "129  {\"nodes\":[{\"visibility\":\"PUBLIC_LITERAL\",\"qual...  \n",
       "130  {\"nodes\":[{\"visibility\":\"PUBLIC_LITERAL\",\"qual...  \n",
       "131  {\"nodes\":[{\"visibility\":\"PUBLIC_LITERAL\",\"id\":...  \n",
       "\n",
       "[132 rows x 2 columns]"
      ],
      "text/html": [
       "<div>\n",
       "<style scoped>\n",
       "    .dataframe tbody tr th:only-of-type {\n",
       "        vertical-align: middle;\n",
       "    }\n",
       "\n",
       "    .dataframe tbody tr th {\n",
       "        vertical-align: top;\n",
       "    }\n",
       "\n",
       "    .dataframe thead th {\n",
       "        text-align: right;\n",
       "    }\n",
       "</style>\n",
       "<table border=\"1\" class=\"dataframe\">\n",
       "  <thead>\n",
       "    <tr style=\"text-align: right;\">\n",
       "      <th></th>\n",
       "      <th>input</th>\n",
       "      <th>output</th>\n",
       "    </tr>\n",
       "  </thead>\n",
       "  <tbody>\n",
       "    <tr>\n",
       "      <th>0</th>\n",
       "      <td>{\"nodes\":[{\"viewpoint\":null,\"visibility\":\"PUBL...</td>\n",
       "      <td>{\"nodes\":[{\"visibility\":\"PUBLIC_LITERAL\",\"qual...</td>\n",
       "    </tr>\n",
       "    <tr>\n",
       "      <th>1</th>\n",
       "      <td>{\"nodes\":[{\"viewpoint\":null,\"visibility\":\"PUBL...</td>\n",
       "      <td>{\"nodes\":[{\"visibility\":\"PUBLIC_LITERAL\",\"qual...</td>\n",
       "    </tr>\n",
       "    <tr>\n",
       "      <th>2</th>\n",
       "      <td>{\"nodes\":[{\"viewpoint\":null,\"visibility\":\"PUBL...</td>\n",
       "      <td>{\"nodes\":[{\"visibility\":\"PUBLIC_LITERAL\",\"qual...</td>\n",
       "    </tr>\n",
       "    <tr>\n",
       "      <th>3</th>\n",
       "      <td>{\"nodes\":[{\"viewpoint\":null,\"visibility\":\"PUBL...</td>\n",
       "      <td>{\"nodes\":[{\"isDerived\":false,\"visibility\":\"PUB...</td>\n",
       "    </tr>\n",
       "    <tr>\n",
       "      <th>4</th>\n",
       "      <td>{\"nodes\":[{\"viewpoint\":null,\"visibility\":\"PUBL...</td>\n",
       "      <td>{\"nodes\":[{\"isStatic\":false,\"isDerived\":false,...</td>\n",
       "    </tr>\n",
       "    <tr>\n",
       "      <th>...</th>\n",
       "      <td>...</td>\n",
       "      <td>...</td>\n",
       "    </tr>\n",
       "    <tr>\n",
       "      <th>127</th>\n",
       "      <td>{\"nodes\":[{\"viewpoint\":null,\"visibility\":\"PUBL...</td>\n",
       "      <td>{\"nodes\":[{\"visibility\":\"PUBLIC_LITERAL\",\"qual...</td>\n",
       "    </tr>\n",
       "    <tr>\n",
       "      <th>128</th>\n",
       "      <td>{\"nodes\":[{\"viewpoint\":null,\"visibility\":\"PUBL...</td>\n",
       "      <td>{\"nodes\":[{\"visibility\":\"PUBLIC_LITERAL\",\"qual...</td>\n",
       "    </tr>\n",
       "    <tr>\n",
       "      <th>129</th>\n",
       "      <td>{\"nodes\":[{\"viewpoint\":null,\"visibility\":\"PUBL...</td>\n",
       "      <td>{\"nodes\":[{\"visibility\":\"PUBLIC_LITERAL\",\"qual...</td>\n",
       "    </tr>\n",
       "    <tr>\n",
       "      <th>130</th>\n",
       "      <td>{\"nodes\":[{\"viewpoint\":null,\"visibility\":\"PUBL...</td>\n",
       "      <td>{\"nodes\":[{\"visibility\":\"PUBLIC_LITERAL\",\"qual...</td>\n",
       "    </tr>\n",
       "    <tr>\n",
       "      <th>131</th>\n",
       "      <td>{\"nodes\":[{\"viewpoint\":null,\"visibility\":\"PUBL...</td>\n",
       "      <td>{\"nodes\":[{\"visibility\":\"PUBLIC_LITERAL\",\"id\":...</td>\n",
       "    </tr>\n",
       "  </tbody>\n",
       "</table>\n",
       "<p>132 rows × 2 columns</p>\n",
       "</div>"
      ]
     },
     "execution_count": 38,
     "metadata": {},
     "output_type": "execute_result"
    }
   ],
   "execution_count": 38
  },
  {
   "metadata": {
    "ExecuteTime": {
     "end_time": "2024-08-26T12:37:50.230490Z",
     "start_time": "2024-08-26T12:37:50.227219Z"
    }
   },
   "cell_type": "code",
   "source": [
    "\n",
    "def create_dataset(jsonl_file_path, dataset_df):\n",
    "    with open(jsonl_file_path, 'w') as file:\n",
    "        for _, row in dataset_df.iterrows():\n",
    "            # Construct the json object for each line\n",
    "            json_line = {\"input\": row['input'], \"output\": row['output']}\n",
    "            # Convert the dictionary to a JSON string and write it to the file\n",
    "            file.write(json.dumps(json_line) + '\\n')\n",
    "\n",
    "    \n",
    "            "
   ],
   "id": "83558309d7a73a57",
   "outputs": [],
   "execution_count": 46
  },
  {
   "metadata": {
    "ExecuteTime": {
     "end_time": "2024-08-26T12:39:27.150803Z",
     "start_time": "2024-08-26T12:39:27.130308Z"
    }
   },
   "cell_type": "code",
   "source": [
    "from sklearn.model_selection import train_test_split\n",
    "\n",
    "def split_dataframe(df, train_size=0.8, validation_size=0.15, test_size=0.05, random_state=None):\n",
    "\n",
    "    # First split to separate out the training set\n",
    "    train_df, temp_df = train_test_split(df, train_size=train_size, random_state=random_state)\n",
    "\n",
    "    # Adjust the proportion sizes for validation and test splits\n",
    "    proportion = validation_size / (validation_size + test_size)\n",
    "\n",
    "    # Second split to separate out the validation and test sets\n",
    "    validation_df, test_df = train_test_split(temp_df, train_size=proportion, random_state=random_state)\n",
    "\n",
    "    return train_df, validation_df, test_df\n",
    "\n",
    "train_df, validation_df, test_df = split_dataframe(df)\n",
    "# Save the datasets\n",
    "create_dataset(\"json_files/json_ready/train.jsonl\", train_df)\n",
    "create_dataset(\"json_files/json_ready/validation.jsonl\", validation_df)\n",
    "create_dataset(\"json_files/json_ready/test.jsonl\", test_df)"
   ],
   "id": "44245149e009ede3",
   "outputs": [],
   "execution_count": 48
  },
  {
   "metadata": {
    "ExecuteTime": {
     "end_time": "2024-08-26T12:46:31.856805Z",
     "start_time": "2024-08-26T12:46:31.838122Z"
    }
   },
   "cell_type": "code",
   "source": [
    "import shutil\n",
    "import os\n",
    "\n",
    "\n",
    "def zip_folder(folder_path):\n",
    "    shutil.make_archive(folder_path, 'zip', folder_path)\n"
   ],
   "id": "5a2967cb74edbcca",
   "outputs": [],
   "execution_count": 58
  },
  {
   "metadata": {},
   "cell_type": "code",
   "outputs": [],
   "execution_count": null,
   "source": "",
   "id": "2866a9281572e86b"
  }
 ],
 "metadata": {
  "kernelspec": {
   "display_name": "Python 3",
   "language": "python",
   "name": "python3"
  },
  "language_info": {
   "codemirror_mode": {
    "name": "ipython",
    "version": 2
   },
   "file_extension": ".py",
   "mimetype": "text/x-python",
   "name": "python",
   "nbconvert_exporter": "python",
   "pygments_lexer": "ipython2",
   "version": "2.7.6"
  }
 },
 "nbformat": 4,
 "nbformat_minor": 5
}
