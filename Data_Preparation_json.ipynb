{
 "cells": [
  {
   "cell_type": "code",
   "id": "initial_id",
   "metadata": {
    "collapsed": true,
    "ExecuteTime": {
     "end_time": "2024-08-27T09:14:43.921588Z",
     "start_time": "2024-08-27T09:14:43.313114Z"
    }
   },
   "source": [
    "import json\n",
    "import pandas as pd\n",
    "import os"
   ],
   "outputs": [],
   "execution_count": 1
  },
  {
   "metadata": {
    "ExecuteTime": {
     "end_time": "2024-08-27T09:14:44.367805Z",
     "start_time": "2024-08-27T09:14:43.931757Z"
    }
   },
   "cell_type": "code",
   "source": [
    "from util_folder.json_extraction_util import read_file\n",
    "\n",
    "\n",
    "def read_json_files_from_folder(folder_path):\n",
    "    data = []\n",
    "    for file_name in os.listdir(folder_path):\n",
    "        file_path = os.path.join(folder_path, file_name)\n",
    "        a = read_file(file_path)\n",
    "        data.append(a)\n",
    "    return data"
   ],
   "id": "eafec19aff89bafd",
   "outputs": [],
   "execution_count": 2
  },
  {
   "metadata": {
    "ExecuteTime": {
     "end_time": "2024-08-27T09:22:59.403483Z",
     "start_time": "2024-08-27T09:22:57.141551Z"
    }
   },
   "cell_type": "code",
   "source": [
    "input_data3000 = read_json_files_from_folder(\"json_fine_tuning_input/json3000\")\n",
    "input_data4000 = read_json_files_from_folder(\"json_fine_tuning_input/json4000\")\n",
    "input_data5000 = read_json_files_from_folder(\"json_fine_tuning_input/json5000\")\n",
    "input_data6000 = read_json_files_from_folder(\"json_fine_tuning_input/json6000\")\n",
    "input_data7000 = read_json_files_from_folder(\"json_fine_tuning_input/json7000\")\n",
    "input_data8000 = read_json_files_from_folder(\"json_fine_tuning_input/json8192\")\n",
    "output_data3000 = read_json_files_from_folder(\"json_fine_tuning_output/json3000\")\n",
    "output_data4000 = read_json_files_from_folder(\"json_fine_tuning_output/json4000\")\n",
    "output_data5000 = read_json_files_from_folder(\"json_fine_tuning_output/json5000\")\n",
    "output_data6000 = read_json_files_from_folder(\"json_fine_tuning_output/json6000\")\n",
    "output_data7000 = read_json_files_from_folder(\"json_fine_tuning_output/json7000\")\n",
    "output_data8000 = read_json_files_from_folder(\"json_fine_tuning_output/json8192\")\n",
    "\n",
    "\n",
    "# Convert the JSON data to DataFrames\n",
    "df = pd.DataFrame(input_data8000, columns=['input'])\n",
    "df['output'] = output_data8000\n",
    "df"
   ],
   "id": "24b33af414bea791",
   "outputs": [
    {
     "data": {
      "text/plain": [
       "                                                  input  \\\n",
       "0     {\"nodes\":[{\"viewpoint\":null,\"visibility\":\"PUBL...   \n",
       "1     {\"nodes\":[{\"viewpoint\":null,\"visibility\":\"PUBL...   \n",
       "2     {\"nodes\":[{\"viewpoint\":null,\"visibility\":\"PUBL...   \n",
       "3     {\"nodes\":[{\"viewpoint\":null,\"visibility\":\"PUBL...   \n",
       "4     {\"nodes\":[{\"viewpoint\":null,\"visibility\":\"PUBL...   \n",
       "...                                                 ...   \n",
       "2536  {\"nodes\":[{\"viewpoint\":null,\"visibility\":\"PUBL...   \n",
       "2537  {\"nodes\":[{\"viewpoint\":null,\"visibility\":\"PUBL...   \n",
       "2538  {\"nodes\":[{\"viewpoint\":null,\"visibility\":\"PUBL...   \n",
       "2539  {\"nodes\":[{\"viewpoint\":null,\"visibility\":\"PUBL...   \n",
       "2540  {\"nodes\":[{\"viewpoint\":null,\"visibility\":\"PUBL...   \n",
       "\n",
       "                                                 output  \n",
       "0     {\"nodes\":[{\"id\":3,\"body\":\"check patient record...  \n",
       "1     {\"nodes\":[{\"visibility\":\"PUBLIC_LITERAL\",\"qual...  \n",
       "2     {\"nodes\":[{\"isStatic\":false,\"isDerived\":false,...  \n",
       "3     {\"nodes\":[{\"isStatic\":false,\"isDerived\":false,...  \n",
       "4     {\"nodes\":[{\"visibility\":\"PUBLIC_LITERAL\",\"qual...  \n",
       "...                                                 ...  \n",
       "2536  {\"nodes\":[{\"visibility\":\"PUBLIC_LITERAL\",\"qual...  \n",
       "2537  {\"nodes\":[{\"visibility\":\"PUBLIC_LITERAL\",\"qual...  \n",
       "2538  {\"nodes\":[{\"visibility\":\"PUBLIC_LITERAL\",\"qual...  \n",
       "2539  {\"nodes\":[{\"isStatic\":false,\"isDerived\":false,...  \n",
       "2540  {\"nodes\":[{\"visibility\":\"PUBLIC_LITERAL\",\"qual...  \n",
       "\n",
       "[2541 rows x 2 columns]"
      ],
      "text/html": [
       "<div>\n",
       "<style scoped>\n",
       "    .dataframe tbody tr th:only-of-type {\n",
       "        vertical-align: middle;\n",
       "    }\n",
       "\n",
       "    .dataframe tbody tr th {\n",
       "        vertical-align: top;\n",
       "    }\n",
       "\n",
       "    .dataframe thead th {\n",
       "        text-align: right;\n",
       "    }\n",
       "</style>\n",
       "<table border=\"1\" class=\"dataframe\">\n",
       "  <thead>\n",
       "    <tr style=\"text-align: right;\">\n",
       "      <th></th>\n",
       "      <th>input</th>\n",
       "      <th>output</th>\n",
       "    </tr>\n",
       "  </thead>\n",
       "  <tbody>\n",
       "    <tr>\n",
       "      <th>0</th>\n",
       "      <td>{\"nodes\":[{\"viewpoint\":null,\"visibility\":\"PUBL...</td>\n",
       "      <td>{\"nodes\":[{\"id\":3,\"body\":\"check patient record...</td>\n",
       "    </tr>\n",
       "    <tr>\n",
       "      <th>1</th>\n",
       "      <td>{\"nodes\":[{\"viewpoint\":null,\"visibility\":\"PUBL...</td>\n",
       "      <td>{\"nodes\":[{\"visibility\":\"PUBLIC_LITERAL\",\"qual...</td>\n",
       "    </tr>\n",
       "    <tr>\n",
       "      <th>2</th>\n",
       "      <td>{\"nodes\":[{\"viewpoint\":null,\"visibility\":\"PUBL...</td>\n",
       "      <td>{\"nodes\":[{\"isStatic\":false,\"isDerived\":false,...</td>\n",
       "    </tr>\n",
       "    <tr>\n",
       "      <th>3</th>\n",
       "      <td>{\"nodes\":[{\"viewpoint\":null,\"visibility\":\"PUBL...</td>\n",
       "      <td>{\"nodes\":[{\"isStatic\":false,\"isDerived\":false,...</td>\n",
       "    </tr>\n",
       "    <tr>\n",
       "      <th>4</th>\n",
       "      <td>{\"nodes\":[{\"viewpoint\":null,\"visibility\":\"PUBL...</td>\n",
       "      <td>{\"nodes\":[{\"visibility\":\"PUBLIC_LITERAL\",\"qual...</td>\n",
       "    </tr>\n",
       "    <tr>\n",
       "      <th>...</th>\n",
       "      <td>...</td>\n",
       "      <td>...</td>\n",
       "    </tr>\n",
       "    <tr>\n",
       "      <th>2536</th>\n",
       "      <td>{\"nodes\":[{\"viewpoint\":null,\"visibility\":\"PUBL...</td>\n",
       "      <td>{\"nodes\":[{\"visibility\":\"PUBLIC_LITERAL\",\"qual...</td>\n",
       "    </tr>\n",
       "    <tr>\n",
       "      <th>2537</th>\n",
       "      <td>{\"nodes\":[{\"viewpoint\":null,\"visibility\":\"PUBL...</td>\n",
       "      <td>{\"nodes\":[{\"visibility\":\"PUBLIC_LITERAL\",\"qual...</td>\n",
       "    </tr>\n",
       "    <tr>\n",
       "      <th>2538</th>\n",
       "      <td>{\"nodes\":[{\"viewpoint\":null,\"visibility\":\"PUBL...</td>\n",
       "      <td>{\"nodes\":[{\"visibility\":\"PUBLIC_LITERAL\",\"qual...</td>\n",
       "    </tr>\n",
       "    <tr>\n",
       "      <th>2539</th>\n",
       "      <td>{\"nodes\":[{\"viewpoint\":null,\"visibility\":\"PUBL...</td>\n",
       "      <td>{\"nodes\":[{\"isStatic\":false,\"isDerived\":false,...</td>\n",
       "    </tr>\n",
       "    <tr>\n",
       "      <th>2540</th>\n",
       "      <td>{\"nodes\":[{\"viewpoint\":null,\"visibility\":\"PUBL...</td>\n",
       "      <td>{\"nodes\":[{\"visibility\":\"PUBLIC_LITERAL\",\"qual...</td>\n",
       "    </tr>\n",
       "  </tbody>\n",
       "</table>\n",
       "<p>2541 rows × 2 columns</p>\n",
       "</div>"
      ]
     },
     "execution_count": 21,
     "metadata": {},
     "output_type": "execute_result"
    }
   ],
   "execution_count": 21
  },
  {
   "metadata": {
    "ExecuteTime": {
     "end_time": "2024-08-27T09:23:01.543564Z",
     "start_time": "2024-08-27T09:23:01.540664Z"
    }
   },
   "cell_type": "code",
   "source": [
    "\n",
    "def create_dataset(jsonl_file_path, dataset_df):\n",
    "    with open(jsonl_file_path, 'w') as file:\n",
    "        for _, row in dataset_df.iterrows():\n",
    "            # Construct the json object for each line\n",
    "            json_line = {\"input\": row['input'], \"output\": row['output']}\n",
    "            # Convert the dictionary to a JSON string and write it to the file\n",
    "            file.write(json.dumps(json_line) + '\\n')\n",
    "\n",
    "    \n",
    "            "
   ],
   "id": "83558309d7a73a57",
   "outputs": [],
   "execution_count": 22
  },
  {
   "metadata": {
    "ExecuteTime": {
     "end_time": "2024-08-27T09:23:22.651381Z",
     "start_time": "2024-08-27T09:23:22.398412Z"
    }
   },
   "cell_type": "code",
   "source": [
    "from sklearn.model_selection import train_test_split\n",
    "\n",
    "def split_dataframe(df, train_size=0.8, validation_size=0.2, test_size=0.1, random_state=None):\n",
    "\n",
    "    # First split to separate out the training set\n",
    "    train_df, temp_df = train_test_split(df, train_size=train_size, random_state=random_state)\n",
    "\n",
    "    # Adjust the proportion sizes for validation and test splits\n",
    "    proportion = validation_size / (validation_size + test_size)\n",
    "\n",
    "    # Second split to separate out the validation and test sets\n",
    "    validation_df, test_df = train_test_split(temp_df, train_size=proportion, random_state=random_state)\n",
    "\n",
    "    return train_df, validation_df, test_df\n",
    "\n",
    "train_df, validation_df, test_df = split_dataframe(df)\n",
    "# Save the datasets\n",
    "create_dataset(\"json_files/json_ready/json_8192/train.jsonl\", train_df)\n",
    "create_dataset(\"json_files/json_ready/json_8192/validation.jsonl\", validation_df)\n",
    "create_dataset(\"json_files/json_ready/json_8192/test.jsonl\", test_df)"
   ],
   "id": "44245149e009ede3",
   "outputs": [],
   "execution_count": 24
  },
  {
   "metadata": {
    "ExecuteTime": {
     "end_time": "2024-08-26T12:46:31.856805Z",
     "start_time": "2024-08-26T12:46:31.838122Z"
    }
   },
   "cell_type": "code",
   "source": [
    "import shutil\n",
    "import os\n",
    "\n",
    "\n",
    "def zip_folder(folder_path):\n",
    "    shutil.make_archive(folder_path, 'zip', folder_path)\n"
   ],
   "id": "5a2967cb74edbcca",
   "outputs": [],
   "execution_count": 58
  },
  {
   "metadata": {},
   "cell_type": "code",
   "outputs": [],
   "execution_count": null,
   "source": "",
   "id": "2866a9281572e86b"
  }
 ],
 "metadata": {
  "kernelspec": {
   "display_name": "Python 3",
   "language": "python",
   "name": "python3"
  },
  "language_info": {
   "codemirror_mode": {
    "name": "ipython",
    "version": 2
   },
   "file_extension": ".py",
   "mimetype": "text/x-python",
   "name": "python",
   "nbconvert_exporter": "python",
   "pygments_lexer": "ipython2",
   "version": "2.7.6"
  }
 },
 "nbformat": 4,
 "nbformat_minor": 5
}
