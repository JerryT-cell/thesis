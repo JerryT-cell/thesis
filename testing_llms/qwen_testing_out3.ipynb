{
 "cells": [
  {
   "metadata": {},
   "cell_type": "markdown",
   "source": "## This script is there to go through the Qwen model and see how it works.",
   "id": "156dd67fecff98c1"
  },
  {
   "metadata": {},
   "cell_type": "markdown",
   "source": "Let's start by importing the necessary libraries.",
   "id": "d23c3afecbc43e8c"
  },
  {
   "metadata": {
    "ExecuteTime": {
     "end_time": "2024-11-26T14:26:09.463980Z",
     "start_time": "2024-11-26T14:26:04.923790Z"
    }
   },
   "cell_type": "code",
   "source": [
    "from transformers import AutoModelForCausalLM, AutoTokenizer, Starcoder2ForCausalLM, Qwen2ForCausalLM\n",
    "from trl.commands.scripts.ppo import device_map"
   ],
   "id": "4fe09365c9cf4c29",
   "outputs": [
    {
     "ename": "ValueError",
     "evalue": "Some specified arguments are not used by the HfArgumentParser: ['-f', 'C:\\\\Users\\\\Admin\\\\AppData\\\\Roaming\\\\jupyter\\\\runtime\\\\kernel-d8186e7d-618c-4a7e-ae44-7cca59a9dd98.json']",
     "output_type": "error",
     "traceback": [
      "\u001B[1;31m---------------------------------------------------------------------------\u001B[0m",
      "\u001B[1;31mValueError\u001B[0m                                Traceback (most recent call last)",
      "Cell \u001B[1;32mIn[1], line 2\u001B[0m\n\u001B[0;32m      1\u001B[0m \u001B[38;5;28;01mfrom\u001B[39;00m \u001B[38;5;21;01mtransformers\u001B[39;00m \u001B[38;5;28;01mimport\u001B[39;00m AutoModelForCausalLM, AutoTokenizer, Starcoder2ForCausalLM, Qwen2ForCausalLM\n\u001B[1;32m----> 2\u001B[0m \u001B[38;5;28;01mfrom\u001B[39;00m \u001B[38;5;21;01mtrl\u001B[39;00m\u001B[38;5;21;01m.\u001B[39;00m\u001B[38;5;21;01mcommands\u001B[39;00m\u001B[38;5;21;01m.\u001B[39;00m\u001B[38;5;21;01mscripts\u001B[39;00m\u001B[38;5;21;01m.\u001B[39;00m\u001B[38;5;21;01mppo\u001B[39;00m \u001B[38;5;28;01mimport\u001B[39;00m device_map\n",
      "File \u001B[1;32m~\\anaconda3\\envs\\LLM\\Lib\\site-packages\\trl\\commands\\scripts\\ppo.py:48\u001B[0m\n\u001B[0;32m     44\u001B[0m     lora_r: Optional[\u001B[38;5;28mint\u001B[39m] \u001B[38;5;241m=\u001B[39m field(default\u001B[38;5;241m=\u001B[39m\u001B[38;5;241m16\u001B[39m, metadata\u001B[38;5;241m=\u001B[39m{\u001B[38;5;124m\"\u001B[39m\u001B[38;5;124mhelp\u001B[39m\u001B[38;5;124m\"\u001B[39m: \u001B[38;5;124m\"\u001B[39m\u001B[38;5;124mthe lora r parameter\u001B[39m\u001B[38;5;124m\"\u001B[39m})\n\u001B[0;32m     47\u001B[0m parser \u001B[38;5;241m=\u001B[39m HfArgumentParser((ScriptArguments, PPOConfig))\n\u001B[1;32m---> 48\u001B[0m args, ppo_config \u001B[38;5;241m=\u001B[39m parser\u001B[38;5;241m.\u001B[39mparse_args_into_dataclasses()\n\u001B[0;32m     50\u001B[0m \u001B[38;5;66;03m# We then define the arguments to pass to the sentiment analysis pipeline.\u001B[39;00m\n\u001B[0;32m     51\u001B[0m \u001B[38;5;66;03m# We set `return_all_scores` to True to get the sentiment score for each token.\u001B[39;00m\n\u001B[0;32m     52\u001B[0m sent_kwargs \u001B[38;5;241m=\u001B[39m {\u001B[38;5;124m\"\u001B[39m\u001B[38;5;124mreturn_all_scores\u001B[39m\u001B[38;5;124m\"\u001B[39m: \u001B[38;5;28;01mTrue\u001B[39;00m, \u001B[38;5;124m\"\u001B[39m\u001B[38;5;124mfunction_to_apply\u001B[39m\u001B[38;5;124m\"\u001B[39m: \u001B[38;5;124m\"\u001B[39m\u001B[38;5;124mnone\u001B[39m\u001B[38;5;124m\"\u001B[39m, \u001B[38;5;124m\"\u001B[39m\u001B[38;5;124mbatch_size\u001B[39m\u001B[38;5;124m\"\u001B[39m: \u001B[38;5;241m16\u001B[39m}\n",
      "File \u001B[1;32m~\\anaconda3\\envs\\LLM\\Lib\\site-packages\\transformers\\hf_argparser.py:361\u001B[0m, in \u001B[0;36mHfArgumentParser.parse_args_into_dataclasses\u001B[1;34m(self, args, return_remaining_strings, look_for_args_file, args_filename, args_file_flag)\u001B[0m\n\u001B[0;32m    359\u001B[0m \u001B[38;5;28;01melse\u001B[39;00m:\n\u001B[0;32m    360\u001B[0m     \u001B[38;5;28;01mif\u001B[39;00m remaining_args:\n\u001B[1;32m--> 361\u001B[0m         \u001B[38;5;28;01mraise\u001B[39;00m \u001B[38;5;167;01mValueError\u001B[39;00m(\u001B[38;5;124mf\u001B[39m\u001B[38;5;124m\"\u001B[39m\u001B[38;5;124mSome specified arguments are not used by the HfArgumentParser: \u001B[39m\u001B[38;5;132;01m{\u001B[39;00mremaining_args\u001B[38;5;132;01m}\u001B[39;00m\u001B[38;5;124m\"\u001B[39m)\n\u001B[0;32m    363\u001B[0m     \u001B[38;5;28;01mreturn\u001B[39;00m (\u001B[38;5;241m*\u001B[39moutputs,)\n",
      "\u001B[1;31mValueError\u001B[0m: Some specified arguments are not used by the HfArgumentParser: ['-f', 'C:\\\\Users\\\\Admin\\\\AppData\\\\Roaming\\\\jupyter\\\\runtime\\\\kernel-d8186e7d-618c-4a7e-ae44-7cca59a9dd98.json']"
     ]
    }
   ],
   "execution_count": 1
  },
  {
   "metadata": {},
   "cell_type": "markdown",
   "source": "get the model and tokenizer from the checkpoint.",
   "id": "fc8009f7316074d0"
  },
  {
   "metadata": {
    "ExecuteTime": {
     "end_time": "2024-11-21T08:03:54.650523Z",
     "start_time": "2024-11-21T08:03:54.647784Z"
    }
   },
   "cell_type": "code",
   "source": [
    "checkpoint = \"Qwen/Qwen2.5-3B-Instruct\"\n",
    "device = \"cuda\""
   ],
   "id": "1bae35c7d52292dc",
   "outputs": [],
   "execution_count": 4
  },
  {
   "metadata": {
    "ExecuteTime": {
     "end_time": "2024-11-21T08:03:55.999979Z",
     "start_time": "2024-11-21T08:03:55.449632Z"
    }
   },
   "cell_type": "code",
   "source": [
    "tokenizer = AutoTokenizer.from_pretrained(checkpoint)\n",
    "\n",
    "model = AutoModelForCausalLM.from_pretrained(checkpoint).to(device)"
   ],
   "id": "31e755d7f9af815e",
   "outputs": [],
   "execution_count": 5
  },
  {
   "metadata": {
    "ExecuteTime": {
     "end_time": "2024-11-21T08:04:17.786614Z",
     "start_time": "2024-11-21T08:04:17.783960Z"
    }
   },
   "cell_type": "code",
   "source": [
    "# test_data = dataset[\"test\"]\n",
    "instruction =\"You are a helpful programmer instruction\"\n",
    "\n",
    "messages = [{\"role\": \"system\", \"content\": instruction},\n",
    "            {\"role\": \"user\", \"content\": \"write a function that takes a list of integers and returns the sum of all the integers in the list in java.\"},\n",
    "            {\"role\": \"assistant\", \"content\": \"write a function that takes a list of integers and returns the sum of all the integers in the list in java.\"}]"
   ],
   "id": "2fcdddc96b0b38a2",
   "outputs": [],
   "execution_count": 9
  },
  {
   "metadata": {},
   "cell_type": "markdown",
   "source": "Test the model with a simple input.",
   "id": "15094c93541ff3ed"
  },
  {
   "metadata": {
    "ExecuteTime": {
     "end_time": "2024-11-21T08:04:20.245608Z",
     "start_time": "2024-11-21T08:04:20.242971Z"
    }
   },
   "cell_type": "code",
   "source": [
    "text = tokenizer.apply_chat_template(\n",
    "    messages,\n",
    "    tokenize=False,\n",
    "    add_generation_prompt=True\n",
    ")\n",
    "print(text)\n",
    "model_inputs = tokenizer([text], return_tensors=\"pt\").to(model.device)"
   ],
   "id": "386aa4c5ef708e8d",
   "outputs": [
    {
     "name": "stdout",
     "output_type": "stream",
     "text": [
      "<|im_start|>system\n",
      "You are a helpful programmer instruction<|im_end|>\n",
      "<|im_start|>user\n",
      "write a function that takes a list of integers and returns the sum of all the integers in the list in java.<|im_end|>\n",
      "<|im_start|>assistant\n",
      "write a function that takes a list of integers and returns the sum of all the integers in the list in java.<|im_end|>\n",
      "<|im_start|>assistant\n",
      "\n"
     ]
    }
   ],
   "execution_count": 10
  },
  {
   "metadata": {
    "ExecuteTime": {
     "end_time": "2024-11-19T20:31:11.221190Z",
     "start_time": "2024-11-19T20:30:19.849355Z"
    }
   },
   "cell_type": "code",
   "source": [
    "generated_ids0 = model.generate(\n",
    "    **model_inputs,\n",
    "    max_new_tokens=300\n",
    ")\n",
    "generated_ids = [\n",
    "    output_ids[len(input_ids):] for input_ids, output_ids in zip(model_inputs.input_ids, generated_ids0)\n",
    "]\n",
    "\n",
    "response = tokenizer.batch_decode(generated_ids, skip_special_tokens=True)[0]\n",
    "print(response)\n"
   ],
   "id": "742f916c9c8e3fdf",
   "outputs": [
    {
     "name": "stdout",
     "output_type": "stream",
     "text": [
      "Certainly! Below is a simple Java function that takes a list of integers and returns the sum of all the integers in the list:\n",
      "\n",
      "```java\n",
      "import java.util.ArrayList;\n",
      "import java.util.Arrays;\n",
      "\n",
      "public class SumCalculator {\n",
      "\n",
      "    /**\n",
      "     * Calculates the sum of all elements in the given list of integers.\n",
      "     *\n",
      "     * @param numbers An ArrayList of Integer values.\n",
      "     * @return The sum of all elements in the list.\n",
      "     */\n",
      "    public static int calculateSum(ArrayList<Integer> numbers) {\n",
      "        return numbers.stream().mapToInt(Integer::intValue).sum();\n",
      "    }\n",
      "\n",
      "    public static void main(String[] args) {\n",
      "        // Example usage:\n",
      "        ArrayList<Integer> exampleList = new ArrayList<>(Arrays.asList(1, 2, 3, 4, 5));\n",
      "        System.out.println(\"The sum of the list is: \" + calculateSum(exampleList));\n",
      "        \n",
      "        // Additional test cases\n",
      "        ArrayList<Integer> emptyList = new ArrayList<>();\n",
      "        System.out.println(\"The sum of the empty list is: \" + calculateSum(emptyList));\n",
      "        \n",
      "        ArrayList<Integer> mixedList = new ArrayList<>(Arrays.asList(-1, 0, 1, -2, 3));\n",
      "        System.out.println(\"The sum of the mixed list is: \" + calculateSum(mixedList));\n",
      "    }\n",
      "}\n",
      "```\n",
      "\n",
      "### Explanation:\n",
      "- **Import Statements**: We import `ArrayList` from `java.util` to use it and `Arrays.asList` to create an example list.\n",
      "\n"
     ]
    }
   ],
   "execution_count": 10
  },
  {
   "metadata": {
    "ExecuteTime": {
     "end_time": "2024-11-19T20:29:04.365376Z",
     "start_time": "2024-11-19T20:29:04.361463Z"
    }
   },
   "cell_type": "code",
   "source": [
    "#print(generated_ids)\n",
    "output = tokenizer.decode(generated_ids[0], skip_special_tokens=True)\n",
    "print(output)"
   ],
   "id": "c0e0816358517e3f",
   "outputs": [
    {
     "name": "stdout",
     "output_type": "stream",
     "text": [
      "Certainly! Below is a simple Java function that takes a list of integers and returns the sum of all the integers in the list:\n",
      "\n",
      "```java\n",
      "import java.util.ArrayList;\n",
      "import java.util.Arrays;\n",
      "\n",
      "public class SumCalculator {\n",
      "    /**\n",
      "     * Calculates the sum of all elements in the given list.\n",
      "     * \n",
      "     * @param numbers An ArrayList of Integers.\n",
      "     * @return The sum of all elements in the list.\n",
      "     */\n",
      "    public static int calculateSum(ArrayList<Integer> numbers) {\n",
      "        return numbers.stream().mapToInt(Integer::intValue).sum();\n",
      "    }\n",
      "\n",
      "    public static void main(String[] args) {\n",
      "        // Example usage:\n",
      "        ArrayList<Integer> exampleList = new ArrayList<>(Arrays.asList(1, 2, 3, 4, 5));\n",
      "        System.out.println(\"The sum of the list is: \" + calculateSum(exampleList));\n",
      "        \n",
      "        // Additional test cases\n",
      "        ArrayList<Integer> emptyList = new ArrayList<>();\n",
      "        System.out.println(\"The sum of an empty list is: \" + calculateSum(emptyList));\n",
      "        \n",
      "        ArrayList<Integer> mixedList = new ArrayList<>(Arrays.asList(-1, -2, 3, 4, -5));\n",
      "        System.out.println(\"The sum of the mixed list is: \" + calculateSum(mixedList));\n",
      "    }\n",
      "}\n",
      "```\n",
      "\n",
      "### Explanation:\n",
      "- **`ArrayList<Integer>`**: This is used to store the integers.\n",
      "- **`calculateSum` method**: This method uses Java Streams to convert\n"
     ]
    }
   ],
   "execution_count": 9
  },
  {
   "metadata": {},
   "cell_type": "markdown",
   "source": "### LLMs for software Model Completion",
   "id": "39c2657c21e8c73f"
  },
  {
   "metadata": {
    "ExecuteTime": {
     "end_time": "2024-11-26T14:26:20.021448Z",
     "start_time": "2024-11-26T14:26:20.019025Z"
    }
   },
   "cell_type": "code",
   "source": [
    "from datasets import load_dataset\n",
    "import torch\n",
    "from transformers import AutoTokenizer, AutoModelForCausalLM, BitsAndBytesConfig"
   ],
   "id": "32dcb98d575125bd",
   "outputs": [],
   "execution_count": 5
  },
  {
   "metadata": {
    "ExecuteTime": {
     "end_time": "2024-11-26T14:26:36.918624Z",
     "start_time": "2024-11-26T14:26:36.915924Z"
    }
   },
   "cell_type": "code",
   "source": "checkpoint = \"D:\\\\LLM\\\\thesisPractical\\\\fine_tuned_models\\\\Qwen2.5-3B-Instruct-software-model_completion\"",
   "id": "f43c7bd2801eb2f4",
   "outputs": [],
   "execution_count": 7
  },
  {
   "metadata": {
    "ExecuteTime": {
     "end_time": "2024-11-26T14:26:12.390200Z",
     "start_time": "2024-11-26T14:26:12.386218Z"
    }
   },
   "cell_type": "code",
   "source": [
    "instruction = \"You are an AI assistant that specializes in UML model completion. Given an incomplete UML model represented in JSON format, output the missing portions of the model in JSON format.\"\n",
    "\n",
    "def format_chat_template_to_print(input):\n",
    "    row_json = [\n",
    "        {\"role\": \"system\", \"content\": instruction},\n",
    "        {\"role\": \"user\", \"content\": f'Here is the incomplete UML model:\\n{input}'}\n",
    "    ] \n",
    "    return tokenizer.apply_chat_template(row_json, tokenize=False, add_generation_prompt=True)\n",
    "\n",
    "def format_chat_template(input):\n",
    "    row_json = [\n",
    "        {\"role\": \"system\", \"content\": instruction},\n",
    "        {\"role\": \"user\", \"content\": f'Here is the incomplete UML model:\\n{input}'}\n",
    "    ] \n",
    "    return tokenizer.apply_chat_template(row_json, tokenize=True, return_tensors=\"pt\", add_generation_prompt=True).to(\"cuda\")"
   ],
   "id": "92c14135e62af1a6",
   "outputs": [],
   "execution_count": 3
  },
  {
   "metadata": {
    "ExecuteTime": {
     "end_time": "2024-11-26T14:26:49.331675Z",
     "start_time": "2024-11-26T14:26:38.797925Z"
    }
   },
   "cell_type": "code",
   "source": [
    "quantization_config = BitsAndBytesConfig(\n",
    "    load_in_4bit=True,\n",
    "    bnb_4bit_quant_type=\"nf4\",\n",
    "    bnb_4bit_compute_dtype=torch.float16,\n",
    "    bnb_4bit_use_double_quant=True,\n",
    ")\n",
    "model = AutoModelForCausalLM.from_pretrained(\n",
    "    checkpoint, device_map=\"auto\", quantization_config=quantization_config\n",
    ")\n",
    "tokenizer = AutoTokenizer.from_pretrained(checkpoint)"
   ],
   "id": "4f9ea55ce0200438",
   "outputs": [
    {
     "data": {
      "text/plain": [
       "Loading checkpoint shards:   0%|          | 0/2 [00:00<?, ?it/s]"
      ],
      "application/vnd.jupyter.widget-view+json": {
       "version_major": 2,
       "version_minor": 0,
       "model_id": "046fd95bf99748d0b09ebbb3b69ecf9f"
      }
     },
     "metadata": {},
     "output_type": "display_data"
    }
   ],
   "execution_count": 8
  },
  {
   "metadata": {
    "ExecuteTime": {
     "end_time": "2024-11-26T14:26:49.957945Z",
     "start_time": "2024-11-26T14:26:49.337680Z"
    }
   },
   "cell_type": "code",
   "source": [
    "org_path = \"D:\\\\LLM\\\\thesisPractical\\\\datasets_for_fine_tuning\\\\structural_removal_non_contiguous\\\\processed_4000\"\n",
    "\n",
    "test_dataset_url = org_path + \"\\\\test.jsonl\"\n",
    "\n",
    "data_files = {\n",
    "    'test': test_dataset_url\n",
    "}\n",
    "\n",
    "dataset = load_dataset('json', data_files=data_files)\n",
    "test_dataset = dataset['test']"
   ],
   "id": "e2505bcbe6369143",
   "outputs": [],
   "execution_count": 9
  },
  {
   "metadata": {
    "ExecuteTime": {
     "end_time": "2024-11-26T14:38:33.754611Z",
     "start_time": "2024-11-26T14:38:33.744712Z"
    }
   },
   "cell_type": "code",
   "source": [
    "data = test_dataset[2]['input']\n",
    "text_to_print = format_chat_template_to_print(data)\n",
    "print(text_to_print)\n",
    "input_ids = format_chat_template(data)"
   ],
   "id": "8b703743aa0ca8f",
   "outputs": [
    {
     "name": "stdout",
     "output_type": "stream",
     "text": [
      "<|im_start|>system\n",
      "You are an AI assistant that specializes in UML model completion. Given an incomplete UML model represented in JSON format, output the missing portions of the model in JSON format.<|im_end|>\n",
      "<|im_start|>user\n",
      "Here is the incomplete UML model:\n",
      "{\"directed\":true,\"nodes\":[{\"viewpoint\":null,\"visibility\":\"PUBLIC_LITERAL\",\"qualifiedName\":\"model\",\"name\":\"model\",\"id\":0,\"URI\":null,\"eClass\":\"Model\"},{\"visibility\":\"PUBLIC_LITERAL\",\"qualifiedName\":\"model::Bank Customer\",\"name\":\"Bank Customer\",\"id\":2,\"isLeaf\":false,\"isAbstract\":false,\"isFinalSpecialization\":false,\"eClass\":\"Actor\"},{\"visibility\":\"PUBLIC_LITERAL\",\"qualifiedName\":\"model::Insert Card\",\"name\":\"Insert Card\",\"id\":3,\"isLeaf\":false,\"isAbstract\":false,\"isFinalSpecialization\":false,\"eClass\":\"UseCase\"},{\"visibility\":\"PUBLIC_LITERAL\",\"qualifiedName\":\"model::Insert Pin\",\"name\":\"Insert Pin\",\"id\":4,\"isLeaf\":false,\"isAbstract\":false,\"isFinalSpecialization\":false,\"eClass\":\"UseCase\"},{\"visibility\":\"PUBLIC_LITERAL\",\"qualifiedName\":\"model::Display Menu\",\"name\":\"Display Menu\",\"id\":5,\"isLeaf\":false,\"isAbstract\":false,\"isFinalSpecialization\":false,\"eClass\":\"UseCase\"},{\"isDerived\":false,\"visibility\":\"PUBLIC_LITERAL\",\"qualifiedName\":\"model::Bank Customer_Insert Card\",\"name\":\"Bank Customer_Insert Card\",\"id\":6,\"isLeaf\":false,\"isAbstract\":false,\"isFinalSpecialization\":false,\"eClass\":\"Association\"},{\"isDerived\":false,\"visibility\":\"PUBLIC_LITERAL\",\"qualifiedName\":\"model::Bank Customer_Insert Pin\",\"name\":\"Bank Customer_Insert Pin\",\"id\":7,\"isLeaf\":false,\"isAbstract\":false,\"isFinalSpecialization\":false,\"eClass\":\"Association\"},{\"visibility\":\"PUBLIC_LITERAL\",\"qualifiedName\":\"model::ask for account number for deposit\",\"name\":\"ask for account number for deposit\",\"id\":11,\"isLeaf\":false,\"isAbstract\":false,\"isFinalSpecialization\":false,\"eClass\":\"UseCase\"},{\"visibility\":\"PUBLIC_LITERAL\",\"qualifiedName\":\"model::chk for valid account number\",\"name\":\"chk for valid account number\",\"id\":12,\"isLeaf\":false,\"isAbstract\":false,\"isFinalSpecialization\":false,\"eClass\":\"UseCase\"},{\"visibility\":\"PUBLIC_LITERAL\",\"qualifiedName\":\"model::Ask for amount to be deposited\",\"name\":\"Ask for amount to be deposited\",\"id\":13,\"isLeaf\":false,\"isAbstract\":false,\"isFinalSpecialization\":false,\"eClass\":\"UseCase\"},{\"isDerived\":false,\"visibility\":\"PUBLIC_LITERAL\",\"qualifiedName\":\"model::Bank Customer_deposits cash/cheque for deposit\",\"name\":\"Bank Customer_deposits cash/cheque for deposit\",\"id\":15,\"isLeaf\":false,\"isAbstract\":false,\"isFinalSpecialization\":false,\"eClass\":\"Association\"},{\"visibility\":\"PUBLIC_LITERAL\",\"qualifiedName\":\"model::send email/text confirming and notifying about the deposit\",\"name\":\"send email/text confirming and notifying about the deposit\",\"id\":16,\"isLeaf\":false,\"isAbstract\":false,\"isFinalSpecialization\":false,\"eClass\":\"UseCase\"},{\"isStatic\":false,\"isDerived\":false,\"visibility\":\"PUBLIC_LITERAL\",\"qualifiedName\":\"model::Bank Customer_Insert Card::insert Card\",\"lower\":0,\"upper\":1,\"isUnique\":true,\"aggregation\":\"NONE_LITERAL\",\"isLeaf\":false,\"eClass\":\"Property\",\"default\":null,\"isReadOnly\":false,\"isComposite\":false,\"isID\":false,\"isDerivedUnion\":false,\"name\":\"insert Card\",\"id\":17,\"isOrdered\":false},{\"isStatic\":false,\"isDerived\":false,\"visibility\":\"PUBLIC_LITERAL\",\"qualifiedName\":\"model::Bank Customer_Insert Card::bank Customer\",\"lower\":0,\"upper\":1,\"isUnique\":true,\"aggregation\":\"NONE_LITERAL\",\"isLeaf\":false,\"eClass\":\"Property\",\"default\":null,\"isReadOnly\":false,\"isComposite\":false,\"isID\":false,\"isDerivedUnion\":false,\"name\":\"bank Customer\",\"id\":18,\"isOrdered\":false},{\"visibility\":\"PUBLIC_LITERAL\",\"qualifiedName\":null,\"name\":null,\"id\":19,\"value\":0,\"eClass\":\"LiteralInteger\"},{\"visibility\":\"PUBLIC_LITERAL\",\"qualifiedName\":null,\"name\":null,\"id\":20,\"value\":1,\"eClass\":\"LiteralInteger\"},{\"visibility\":\"PUBLIC_LITERAL\",\"qualifiedName\":null,\"name\":null,\"id\":21,\"value\":0,\"eClass\":\"LiteralInteger\"},{\"isStatic\":false,\"isDerived\":false,\"visibility\":\"PUBLIC_LITERAL\",\"qualifiedName\":\"model::Bank Customer_Insert Pin::insert Pin\",\"lower\":0,\"upper\":1,\"isUnique\":true,\"aggregation\":\"NONE_LITERAL\",\"isLeaf\":false,\"eClass\":\"Property\",\"default\":null,\"isReadOnly\":false,\"isComposite\":false,\"isID\":false,\"isDerivedUnion\":false,\"name\":\"insert Pin\",\"id\":23,\"isOrdered\":false},{\"isStatic\":false,\"isDerived\":false,\"visibility\":\"PUBLIC_LITERAL\",\"qualifiedName\":\"model::Bank Customer_Insert Pin::bank Customer\",\"lower\":0,\"upper\":1,\"isUnique\":true,\"aggregation\":\"NONE_LITERAL\",\"isLeaf\":false,\"eClass\":\"Property\",\"default\":null,\"isReadOnly\":false,\"isComposite\":false,\"isID\":false,\"isDerivedUnion\":false,\"name\":\"bank Customer\",\"id\":24,\"isOrdered\":false},{\"visibility\":\"PUBLIC_LITERAL\",\"qualifiedName\":null,\"name\":null,\"id\":25,\"value\":0,\"eClass\":\"LiteralInteger\"},{\"visibility\":\"PUBLIC_LITERAL\",\"qualifiedName\":null,\"name\":null,\"id\":26,\"value\":1,\"eClass\":\"LiteralInteger\"},{\"visibility\":\"PUBLIC_LITERAL\",\"qualifiedName\":null,\"name\":null,\"id\":27,\"value\":0,\"eClass\":\"LiteralInteger\"},{\"visibility\":\"PUBLIC_LITERAL\",\"qualifiedName\":null,\"name\":null,\"id\":28,\"value\":1,\"eClass\":\"LiteralInteger\"},{\"isStatic\":false,\"isDerived\":false,\"visibility\":\"PUBLIC_LITERAL\",\"qualifiedName\":\"model::Bank Customer_Display Menu::display Menu\",\"lower\":0,\"upper\":1,\"isUnique\":true,\"aggregation\":\"NONE_LITERAL\",\"isLeaf\":false,\"eClass\":\"Property\",\"default\":null,\"isReadOnly\":false,\"isComposite\":false,\"isID\":false,\"isDerivedUnion\":false,\"name\":\"display Menu\",\"id\":29,\"isOrdered\":false},{\"isStatic\":false,\"isDerived\":false,\"visibility\":\"PUBLIC_LITERAL\",\"qualifiedName\":\"model::Bank Customer_Display Menu::bank Customer\",\"lower\":0,\"upper\":1,\"isUnique\":true,\"aggregation\":\"NONE_LITERAL\",\"isLeaf\":false,\"eClass\":\"Property\",\"default\":null,\"isReadOnly\":false,\"isComposite\":false,\"isID\":false,\"isDerivedUnion\":false,\"name\":\"bank Customer\",\"id\":30,\"isOrdered\":false},{\"visibility\":\"PUBLIC_LITERAL\",\"qualifiedName\":null,\"name\":null,\"id\":31,\"value\":0,\"eClass\":\"LiteralInteger\"},{\"visibility\":\"PUBLIC_LITERAL\",\"qualifiedName\":null,\"name\":null,\"id\":33,\"value\":0,\"eClass\":\"LiteralInteger\"},{\"visibility\":\"PUBLIC_LITERAL\",\"qualifiedName\":null,\"name\":null,\"id\":34,\"value\":1,\"eClass\":\"LiteralInteger\"},{\"isSubstitutable\":true,\"id\":35,\"eClass\":\"Generalization\"},{\"isSubstitutable\":true,\"id\":36,\"eClass\":\"Generalization\"},{\"isSubstitutable\":true,\"id\":38,\"eClass\":\"Generalization\"},{\"visibility\":\"PUBLIC_LITERAL\",\"qualifiedName\":\"model::deposits cash/cheque ::ExtPoint\",\"name\":\"ExtPoint\",\"id\":39,\"isLeaf\":false,\"eClass\":\"ExtensionPoint\"},{\"isStatic\":false,\"isDerived\":false,\"visibility\":\"PUBLIC_LITERAL\",\"qualifiedName\":\"model::Bank Customer_deposits cash/cheque for deposit::deposits cash/cheque for deposit\",\"lower\":0,\"upper\":1,\"isUnique\":true,\"aggregation\":\"NONE_LITERAL\",\"isLeaf\":false,\"eClass\":\"Property\",\"default\":null,\"isReadOnly\":false,\"isComposite\":false,\"isID\":false,\"isDerivedUnion\":false,\"name\":\"deposits cash/cheque for deposit\",\"id\":40,\"isOrdered\":false},{\"isStatic\":false,\"isDerived\":false,\"visibility\":\"PUBLIC_LITERAL\",\"qualifiedName\":\"model::Bank Customer_deposits cash/cheque for deposit::bank Customer\",\"lower\":0,\"upper\":1,\"isUnique\":true,\"aggregation\":\"NONE_LITERAL\",\"isLeaf\":false,\"eClass\":\"Property\",\"default\":null,\"isReadOnly\":false,\"isComposite\":false,\"isID\":false,\"isDerivedUnion\":false,\"name\":\"bank Customer\",\"id\":41,\"isOrdered\":false},{\"visibility\":\"PUBLIC_LITERAL\",\"qualifiedName\":null,\"name\":null,\"id\":43,\"value\":1,\"eClass\":\"LiteralInteger\"},{\"visibility\":\"PUBLIC_LITERAL\",\"qualifiedName\":null,\"name\":null,\"id\":44,\"value\":0,\"eClass\":\"LiteralInteger\"},{\"visibility\":\"PUBLIC_LITERAL\",\"qualifiedName\":null,\"name\":null,\"id\":45,\"value\":1,\"eClass\":\"LiteralInteger\"},{\"visibility\":\"PUBLIC_LITERAL\",\"qualifiedName\":null,\"name\":null,\"id\":46,\"eClass\":\"Extend\"}],\"links\":[{\"source\":0,\"target\":2},{\"source\":0,\"target\":3},{\"source\":0,\"target\":4},{\"source\":0,\"target\":5},{\"source\":0,\"target\":6},{\"source\":0,\"target\":7},{\"source\":0,\"target\":11},{\"source\":0,\"target\":12},{\"source\":0,\"target\":13},{\"source\":0,\"target\":15},{\"source\":0,\"target\":16},{\"source\":6,\"target\":17},{\"source\":6,\"target\":18},{\"source\":6,\"target\":17},{\"source\":6,\"target\":18},{\"source\":6,\"target\":17},{\"source\":6,\"target\":18},{\"source\":17,\"target\":3},{\"source\":17,\"target\":19},{\"source\":17,\"target\":20},{\"source\":17,\"target\":6},{\"source\":17,\"target\":6},{\"source\":18,\"target\":2},{\"source\":18,\"target\":21},{\"source\":18,\"target\":6},{\"source\":18,\"target\":6},{\"source\":7,\"target\":23},{\"source\":7,\"target\":24},{\"source\":7,\"target\":23},{\"source\":7,\"target\":24},{\"source\":7,\"target\":23},{\"source\":7,\"target\":24},{\"source\":23,\"target\":4},{\"source\":23,\"target\":25},{\"source\":23,\"target\":26},{\"source\":23,\"target\":7},{\"source\":23,\"target\":7},{\"source\":24,\"target\":2},{\"source\":24,\"target\":27},{\"source\":24,\"target\":28},{\"source\":24,\"target\":7},{\"source\":24,\"target\":7},{\"source\":29,\"target\":5},{\"source\":29,\"target\":31},{\"source\":30,\"target\":2},{\"source\":30,\"target\":33},{\"source\":30,\"target\":34},{\"source\":35,\"target\":5},{\"source\":11,\"target\":36},{\"source\":36,\"target\":11},{\"source\":13,\"target\":38},{\"source\":38,\"target\":13},{\"source\":15,\"target\":40},{\"source\":15,\"target\":41},{\"source\":15,\"target\":40},{\"source\":15,\"target\":41},{\"source\":15,\"target\":40},{\"source\":15,\"target\":41},{\"source\":40,\"target\":43},{\"source\":40,\"target\":15},{\"source\":40,\"target\":15},{\"source\":41,\"target\":2},{\"source\":41,\"target\":44},{\"source\":41,\"target\":45},{\"source\":41,\"target\":15},{\"source\":41,\"target\":15},{\"source\":16,\"target\":46},{\"source\":46,\"target\":39},{\"source\":46,\"target\":16}],\"multigraph\":true}<|im_end|>\n",
      "<|im_start|>assistant\n",
      "\n"
     ]
    }
   ],
   "execution_count": 14
  },
  {
   "metadata": {
    "ExecuteTime": {
     "end_time": "2024-11-26T14:38:42.766788Z",
     "start_time": "2024-11-26T14:38:42.763391Z"
    }
   },
   "cell_type": "code",
   "source": [
    "output = test_dataset[2]['output']\n",
    "print(output)"
   ],
   "id": "a8a5b777850d18a0",
   "outputs": [
    {
     "name": "stdout",
     "output_type": "stream",
     "text": [
      "{\"nodes\":[{\"visibility\":\"PUBLIC_LITERAL\",\"id\":1,\"eClass\":\"PackageImport\"},{\"isDerived\":false,\"visibility\":\"PUBLIC_LITERAL\",\"qualifiedName\":\"model::Bank Customer_Display Menu\",\"name\":\"Bank Customer_Display Menu\",\"id\":8,\"isLeaf\":false,\"isAbstract\":false,\"isFinalSpecialization\":false,\"eClass\":\"Association\"},{\"visibility\":\"PUBLIC_LITERAL\",\"qualifiedName\":\"model::Deposit Cheque/Cash\",\"name\":\"Deposit Cheque/Cash\",\"id\":9,\"isLeaf\":false,\"isAbstract\":false,\"isFinalSpecialization\":false,\"eClass\":\"UseCase\"},{\"visibility\":\"PUBLIC_LITERAL\",\"qualifiedName\":\"model::ATM Bank Server\",\"name\":\"ATM Bank Server\",\"id\":10,\"isLeaf\":false,\"isAbstract\":false,\"isFinalSpecialization\":false,\"eClass\":\"Actor\"},{\"visibility\":\"PUBLIC_LITERAL\",\"qualifiedName\":\"model::deposits cash/cheque \",\"name\":\"deposits cash/cheque \",\"id\":14,\"isLeaf\":false,\"isAbstract\":false,\"isFinalSpecialization\":false,\"eClass\":\"UseCase\"},{\"visibility\":\"PUBLIC_LITERAL\",\"qualifiedName\":null,\"name\":null,\"id\":22,\"value\":1,\"eClass\":\"LiteralInteger\"},{\"visibility\":\"PUBLIC_LITERAL\",\"qualifiedName\":null,\"name\":null,\"id\":32,\"value\":1,\"eClass\":\"LiteralInteger\"},{\"visibility\":\"PUBLIC_LITERAL\",\"qualifiedName\":null,\"name\":null,\"id\":37,\"eClass\":\"Include\"},{\"visibility\":\"PUBLIC_LITERAL\",\"qualifiedName\":null,\"name\":null,\"id\":42,\"value\":0,\"eClass\":\"LiteralInteger\"}],\"links\":[{\"source\":0,\"target\":1},{\"source\":0,\"target\":8},{\"source\":0,\"target\":9},{\"source\":0,\"target\":10},{\"source\":0,\"target\":14},{\"source\":1,\"target\":0},{\"source\":18,\"target\":22},{\"source\":8,\"target\":29},{\"source\":8,\"target\":30},{\"source\":8,\"target\":29},{\"source\":8,\"target\":30},{\"source\":8,\"target\":29},{\"source\":8,\"target\":30},{\"source\":29,\"target\":32},{\"source\":29,\"target\":8},{\"source\":29,\"target\":8},{\"source\":30,\"target\":8},{\"source\":30,\"target\":8},{\"source\":9,\"target\":35},{\"source\":35,\"target\":9},{\"source\":36,\"target\":9},{\"source\":12,\"target\":37},{\"source\":37,\"target\":11},{\"source\":37,\"target\":12},{\"source\":38,\"target\":9},{\"source\":14,\"target\":39},{\"source\":39,\"target\":14},{\"source\":40,\"target\":14},{\"source\":40,\"target\":42},{\"source\":46,\"target\":14}]}\n"
     ]
    }
   ],
   "execution_count": 15
  },
  {
   "metadata": {
    "ExecuteTime": {
     "end_time": "2024-11-26T14:39:31.143008Z",
     "start_time": "2024-11-26T14:38:44.717182Z"
    }
   },
   "cell_type": "code",
   "source": [
    "outputs = model.generate(input_ids=input_ids, max_length=4100)\n",
    "decoded_output = tokenizer.decode(outputs[0], skip_special_tokens=True)\n",
    "print(decoded_output)"
   ],
   "id": "8a0d2f1ab7c5e872",
   "outputs": [
    {
     "name": "stdout",
     "output_type": "stream",
     "text": [
      "system\n",
      "You are an AI assistant that specializes in UML model completion. Given an incomplete UML model represented in JSON format, output the missing portions of the model in JSON format.\n",
      "user\n",
      "Here is the incomplete UML model:\n",
      "{\"directed\":true,\"nodes\":[{\"viewpoint\":null,\"visibility\":\"PUBLIC_LITERAL\",\"qualifiedName\":\"model\",\"name\":\"model\",\"id\":0,\"URI\":null,\"eClass\":\"Model\"},{\"visibility\":\"PUBLIC_LITERAL\",\"qualifiedName\":\"model::Bank Customer\",\"name\":\"Bank Customer\",\"id\":2,\"isLeaf\":false,\"isAbstract\":false,\"isFinalSpecialization\":false,\"eClass\":\"Actor\"},{\"visibility\":\"PUBLIC_LITERAL\",\"qualifiedName\":\"model::Insert Card\",\"name\":\"Insert Card\",\"id\":3,\"isLeaf\":false,\"isAbstract\":false,\"isFinalSpecialization\":false,\"eClass\":\"UseCase\"},{\"visibility\":\"PUBLIC_LITERAL\",\"qualifiedName\":\"model::Insert Pin\",\"name\":\"Insert Pin\",\"id\":4,\"isLeaf\":false,\"isAbstract\":false,\"isFinalSpecialization\":false,\"eClass\":\"UseCase\"},{\"visibility\":\"PUBLIC_LITERAL\",\"qualifiedName\":\"model::Display Menu\",\"name\":\"Display Menu\",\"id\":5,\"isLeaf\":false,\"isAbstract\":false,\"isFinalSpecialization\":false,\"eClass\":\"UseCase\"},{\"isDerived\":false,\"visibility\":\"PUBLIC_LITERAL\",\"qualifiedName\":\"model::Bank Customer_Insert Card\",\"name\":\"Bank Customer_Insert Card\",\"id\":6,\"isLeaf\":false,\"isAbstract\":false,\"isFinalSpecialization\":false,\"eClass\":\"Association\"},{\"isDerived\":false,\"visibility\":\"PUBLIC_LITERAL\",\"qualifiedName\":\"model::Bank Customer_Insert Pin\",\"name\":\"Bank Customer_Insert Pin\",\"id\":7,\"isLeaf\":false,\"isAbstract\":false,\"isFinalSpecialization\":false,\"eClass\":\"Association\"},{\"visibility\":\"PUBLIC_LITERAL\",\"qualifiedName\":\"model::ask for account number for deposit\",\"name\":\"ask for account number for deposit\",\"id\":11,\"isLeaf\":false,\"isAbstract\":false,\"isFinalSpecialization\":false,\"eClass\":\"UseCase\"},{\"visibility\":\"PUBLIC_LITERAL\",\"qualifiedName\":\"model::chk for valid account number\",\"name\":\"chk for valid account number\",\"id\":12,\"isLeaf\":false,\"isAbstract\":false,\"isFinalSpecialization\":false,\"eClass\":\"UseCase\"},{\"visibility\":\"PUBLIC_LITERAL\",\"qualifiedName\":\"model::Ask for amount to be deposited\",\"name\":\"Ask for amount to be deposited\",\"id\":13,\"isLeaf\":false,\"isAbstract\":false,\"isFinalSpecialization\":false,\"eClass\":\"UseCase\"},{\"isDerived\":false,\"visibility\":\"PUBLIC_LITERAL\",\"qualifiedName\":\"model::Bank Customer_deposits cash/cheque for deposit\",\"name\":\"Bank Customer_deposits cash/cheque for deposit\",\"id\":15,\"isLeaf\":false,\"isAbstract\":false,\"isFinalSpecialization\":false,\"eClass\":\"Association\"},{\"visibility\":\"PUBLIC_LITERAL\",\"qualifiedName\":\"model::send email/text confirming and notifying about the deposit\",\"name\":\"send email/text confirming and notifying about the deposit\",\"id\":16,\"isLeaf\":false,\"isAbstract\":false,\"isFinalSpecialization\":false,\"eClass\":\"UseCase\"},{\"isStatic\":false,\"isDerived\":false,\"visibility\":\"PUBLIC_LITERAL\",\"qualifiedName\":\"model::Bank Customer_Insert Card::insert Card\",\"lower\":0,\"upper\":1,\"isUnique\":true,\"aggregation\":\"NONE_LITERAL\",\"isLeaf\":false,\"eClass\":\"Property\",\"default\":null,\"isReadOnly\":false,\"isComposite\":false,\"isID\":false,\"isDerivedUnion\":false,\"name\":\"insert Card\",\"id\":17,\"isOrdered\":false},{\"isStatic\":false,\"isDerived\":false,\"visibility\":\"PUBLIC_LITERAL\",\"qualifiedName\":\"model::Bank Customer_Insert Card::bank Customer\",\"lower\":0,\"upper\":1,\"isUnique\":true,\"aggregation\":\"NONE_LITERAL\",\"isLeaf\":false,\"eClass\":\"Property\",\"default\":null,\"isReadOnly\":false,\"isComposite\":false,\"isID\":false,\"isDerivedUnion\":false,\"name\":\"bank Customer\",\"id\":18,\"isOrdered\":false},{\"visibility\":\"PUBLIC_LITERAL\",\"qualifiedName\":null,\"name\":null,\"id\":19,\"value\":0,\"eClass\":\"LiteralInteger\"},{\"visibility\":\"PUBLIC_LITERAL\",\"qualifiedName\":null,\"name\":null,\"id\":20,\"value\":1,\"eClass\":\"LiteralInteger\"},{\"visibility\":\"PUBLIC_LITERAL\",\"qualifiedName\":null,\"name\":null,\"id\":21,\"value\":0,\"eClass\":\"LiteralInteger\"},{\"isStatic\":false,\"isDerived\":false,\"visibility\":\"PUBLIC_LITERAL\",\"qualifiedName\":\"model::Bank Customer_Insert Pin::insert Pin\",\"lower\":0,\"upper\":1,\"isUnique\":true,\"aggregation\":\"NONE_LITERAL\",\"isLeaf\":false,\"eClass\":\"Property\",\"default\":null,\"isReadOnly\":false,\"isComposite\":false,\"isID\":false,\"isDerivedUnion\":false,\"name\":\"insert Pin\",\"id\":23,\"isOrdered\":false},{\"isStatic\":false,\"isDerived\":false,\"visibility\":\"PUBLIC_LITERAL\",\"qualifiedName\":\"model::Bank Customer_Insert Pin::bank Customer\",\"lower\":0,\"upper\":1,\"isUnique\":true,\"aggregation\":\"NONE_LITERAL\",\"isLeaf\":false,\"eClass\":\"Property\",\"default\":null,\"isReadOnly\":false,\"isComposite\":false,\"isID\":false,\"isDerivedUnion\":false,\"name\":\"bank Customer\",\"id\":24,\"isOrdered\":false},{\"visibility\":\"PUBLIC_LITERAL\",\"qualifiedName\":null,\"name\":null,\"id\":25,\"value\":0,\"eClass\":\"LiteralInteger\"},{\"visibility\":\"PUBLIC_LITERAL\",\"qualifiedName\":null,\"name\":null,\"id\":26,\"value\":1,\"eClass\":\"LiteralInteger\"},{\"visibility\":\"PUBLIC_LITERAL\",\"qualifiedName\":null,\"name\":null,\"id\":27,\"value\":0,\"eClass\":\"LiteralInteger\"},{\"visibility\":\"PUBLIC_LITERAL\",\"qualifiedName\":null,\"name\":null,\"id\":28,\"value\":1,\"eClass\":\"LiteralInteger\"},{\"isStatic\":false,\"isDerived\":false,\"visibility\":\"PUBLIC_LITERAL\",\"qualifiedName\":\"model::Bank Customer_Display Menu::display Menu\",\"lower\":0,\"upper\":1,\"isUnique\":true,\"aggregation\":\"NONE_LITERAL\",\"isLeaf\":false,\"eClass\":\"Property\",\"default\":null,\"isReadOnly\":false,\"isComposite\":false,\"isID\":false,\"isDerivedUnion\":false,\"name\":\"display Menu\",\"id\":29,\"isOrdered\":false},{\"isStatic\":false,\"isDerived\":false,\"visibility\":\"PUBLIC_LITERAL\",\"qualifiedName\":\"model::Bank Customer_Display Menu::bank Customer\",\"lower\":0,\"upper\":1,\"isUnique\":true,\"aggregation\":\"NONE_LITERAL\",\"isLeaf\":false,\"eClass\":\"Property\",\"default\":null,\"isReadOnly\":false,\"isComposite\":false,\"isID\":false,\"isDerivedUnion\":false,\"name\":\"bank Customer\",\"id\":30,\"isOrdered\":false},{\"visibility\":\"PUBLIC_LITERAL\",\"qualifiedName\":null,\"name\":null,\"id\":31,\"value\":0,\"eClass\":\"LiteralInteger\"},{\"visibility\":\"PUBLIC_LITERAL\",\"qualifiedName\":null,\"name\":null,\"id\":33,\"value\":0,\"eClass\":\"LiteralInteger\"},{\"visibility\":\"PUBLIC_LITERAL\",\"qualifiedName\":null,\"name\":null,\"id\":34,\"value\":1,\"eClass\":\"LiteralInteger\"},{\"isSubstitutable\":true,\"id\":35,\"eClass\":\"Generalization\"},{\"isSubstitutable\":true,\"id\":36,\"eClass\":\"Generalization\"},{\"isSubstitutable\":true,\"id\":38,\"eClass\":\"Generalization\"},{\"visibility\":\"PUBLIC_LITERAL\",\"qualifiedName\":\"model::deposits cash/cheque ::ExtPoint\",\"name\":\"ExtPoint\",\"id\":39,\"isLeaf\":false,\"eClass\":\"ExtensionPoint\"},{\"isStatic\":false,\"isDerived\":false,\"visibility\":\"PUBLIC_LITERAL\",\"qualifiedName\":\"model::Bank Customer_deposits cash/cheque for deposit::deposits cash/cheque for deposit\",\"lower\":0,\"upper\":1,\"isUnique\":true,\"aggregation\":\"NONE_LITERAL\",\"isLeaf\":false,\"eClass\":\"Property\",\"default\":null,\"isReadOnly\":false,\"isComposite\":false,\"isID\":false,\"isDerivedUnion\":false,\"name\":\"deposits cash/cheque for deposit\",\"id\":40,\"isOrdered\":false},{\"isStatic\":false,\"isDerived\":false,\"visibility\":\"PUBLIC_LITERAL\",\"qualifiedName\":\"model::Bank Customer_deposits cash/cheque for deposit::bank Customer\",\"lower\":0,\"upper\":1,\"isUnique\":true,\"aggregation\":\"NONE_LITERAL\",\"isLeaf\":false,\"eClass\":\"Property\",\"default\":null,\"isReadOnly\":false,\"isComposite\":false,\"isID\":false,\"isDerivedUnion\":false,\"name\":\"bank Customer\",\"id\":41,\"isOrdered\":false},{\"visibility\":\"PUBLIC_LITERAL\",\"qualifiedName\":null,\"name\":null,\"id\":43,\"value\":1,\"eClass\":\"LiteralInteger\"},{\"visibility\":\"PUBLIC_LITERAL\",\"qualifiedName\":null,\"name\":null,\"id\":44,\"value\":0,\"eClass\":\"LiteralInteger\"},{\"visibility\":\"PUBLIC_LITERAL\",\"qualifiedName\":null,\"name\":null,\"id\":45,\"value\":1,\"eClass\":\"LiteralInteger\"},{\"visibility\":\"PUBLIC_LITERAL\",\"qualifiedName\":null,\"name\":null,\"id\":46,\"eClass\":\"Extend\"}],\"links\":[{\"source\":0,\"target\":2},{\"source\":0,\"target\":3},{\"source\":0,\"target\":4},{\"source\":0,\"target\":5},{\"source\":0,\"target\":6},{\"source\":0,\"target\":7},{\"source\":0,\"target\":11},{\"source\":0,\"target\":12},{\"source\":0,\"target\":13},{\"source\":0,\"target\":15},{\"source\":0,\"target\":16},{\"source\":6,\"target\":17},{\"source\":6,\"target\":18},{\"source\":6,\"target\":17},{\"source\":6,\"target\":18},{\"source\":6,\"target\":17},{\"source\":6,\"target\":18},{\"source\":17,\"target\":3},{\"source\":17,\"target\":19},{\"source\":17,\"target\":20},{\"source\":17,\"target\":6},{\"source\":17,\"target\":6},{\"source\":18,\"target\":2},{\"source\":18,\"target\":21},{\"source\":18,\"target\":6},{\"source\":18,\"target\":6},{\"source\":7,\"target\":23},{\"source\":7,\"target\":24},{\"source\":7,\"target\":23},{\"source\":7,\"target\":24},{\"source\":7,\"target\":23},{\"source\":7,\"target\":24},{\"source\":23,\"target\":4},{\"source\":23,\"target\":25},{\"source\":23,\"target\":26},{\"source\":23,\"target\":7},{\"source\":23,\"target\":7},{\"source\":24,\"target\":2},{\"source\":24,\"target\":27},{\"source\":24,\"target\":28},{\"source\":24,\"target\":7},{\"source\":24,\"target\":7},{\"source\":29,\"target\":5},{\"source\":29,\"target\":31},{\"source\":30,\"target\":2},{\"source\":30,\"target\":33},{\"source\":30,\"target\":34},{\"source\":35,\"target\":5},{\"source\":11,\"target\":36},{\"source\":36,\"target\":11},{\"source\":13,\"target\":38},{\"source\":38,\"target\":13},{\"source\":15,\"target\":40},{\"source\":15,\"target\":41},{\"source\":15,\"target\":40},{\"source\":15,\"target\":41},{\"source\":15,\"target\":40},{\"source\":15,\"target\":41},{\"source\":40,\"target\":43},{\"source\":40,\"target\":15},{\"source\":40,\"target\":15},{\"source\":41,\"target\":2},{\"source\":41,\"target\":44},{\"source\":41,\"target\":45},{\"source\":41,\"target\":15},{\"source\":41,\"target\":15},{\"source\":16,\"target\":46},{\"source\":46,\"target\":39},{\"source\":46,\"target\":16}],\"multigraph\":true}\n",
      "assistant\n",
      "{\"nodes\":[{\"visibility\":\"PUBLIC_LITERAL\",\"id\":1,\"eClass\":\"PackageImport\"},{\"visibility\":\"PUBLIC_LITERAL\",\"qualifiedName\":\"model::withdraw cash\",\"name\":\"withdraw cash\",\"id\":8,\"isLeaf\":false,\"isAbstract\":false,\"isFinalSpecialization\":false,\"eClass\":\"UseCase\"},{\"visibility\":\"PUBLIC_LITERAL\",\"qualifiedName\":\"model::Deposit cash/cheque\",\"name\":\"Deposit cash/cheque\",\"id\":9,\"isLeaf\":false,\"isAbstract\":false,\"isFinalSpecialization\":false,\"eClass\":\"UseCase\"},{\"visibility\":\"PUBLIC_LITERAL\",\"qualifiedName\":\"model::withdraw Pin\",\"name\":\"withdraw Pin\",\"id\":10,\"isLeaf\":false,\"isAbstract\":false,\"isFinalSpecialization\":false,\"eClass\":\"UseCase\"},{\"isDerived\":false,\"visibility\":\"PUBLIC_LITERAL\",\"qualifiedName\":\"model::Bank Customer_Display Menu\",\"name\":\"Bank Customer_Display Menu\",\"id\":14,\"isLeaf\":false,\"isAbstract\":false,\"isFinalSpecialization\":false,\"eClass\":\"Association\"},{\"visibility\":\"PUBLIC_LITERAL\",\"qualifiedName\":\"model::ForkNode\",\"name\":\"ForkNode\",\"id\":17,\"isLeaf\":false,\"isAbstract\":false,\"isFinalSpecialization\":false,\"eClass\":\"UseCase\"},{\"visibility\":\"PUBLIC_LITERAL\",\"qualifiedName\":\"model::JoinNode\",\"name\":\"JoinNode\",\"id\":18,\"isLeaf\":false,\"isAbstract\":false,\"isFinalSpecialization\":false,\"eClass\":\"UseCase\"},{\"visibility\":\"PUBLIC_LITERAL\",\"qualifiedName\":\"model::JoinNode2\",\"name\":\"JoinNode2\",\"id\":19,\"isLeaf\":false,\"isAbstract\":false,\"isFinalSpecialization\":false,\"eClass\":\"UseCase\"},{\"visibility\":\"PUBLIC_LITERAL\",\"qualifiedName\":\"model::Deposit cash/cheque ::ExtPoint\",\"name\":\"ExtPoint\",\"id\":22,\"isLeaf\":false,\"eClass\":\"ExtensionPoint\"},{\"visibility\":\"PUBLIC_LITERAL\",\"qualifiedName\":\"model::deposits cash/cheque for deposit ::ExtPoint\",\"name\":\"ExtPoint\",\"id\":37,\"isLeaf\":false,\"eClass\":\"ExtensionPoint\"},{\"visibility\":\"PUBLIC_LITERAL\",\"qualifiedName\":null,\"name\":null,\"id\":32,\"value\":1,\"eClass\":\"LiteralInteger\"},{\"visibility\":\"PUBLIC_LITERAL\",\"qualifiedName\":null,\"name\":null,\"id\":37,\"value\":0,\"eClass\":\"LiteralInteger\"},{\"visibility\":\"PUBLIC_LITERAL\",\"qualifiedName\":null,\"name\":null,\"id\":42,\"value\":0,\"eClass\":\"LiteralInteger\"}],\"links\":[{\"source\":0,\"target\":1},{\"source\":0,\"target\":8},{\"source\":0,\"target\":9},{\"source\":0,\"target\":10},{\"source\":0,\"target\":14},{\"source\":0,\"target\":17},{\"source\":0,\"target\":18},{\"source\":0,\"target\":19},{\"source\":1,\"target\":0},{\"source\":17,\"target\":32},{\"source\":18,\"target\":17},{\"source\":19,\"target\":35},{\"source\":19,\"target\":36},{\"source\":18,\"target\":37},{\"source\":18,\"target\":38},{\"source\":35,\"target\":18},{\"source\":36,\"target\":19},{\"source\":37,\"target\":22},{\"source\":37,\"target\":18},{\"source\":38,\"target\":19},{\"source\":14,\"target\":29},{\"source\":14,\"target\":30},{\"source\":14,\"target\":29},{\"source\":14,\"target\":30},{\"source\":14,\"target\":29},{\"source\":14,\"target\":30},{\"source\":29,\"target\":14},{\"source\":29,\"target\":14},{\"source\":30,\"target\":32},{\"source\":30,\"target\":14},{\"source\":30,\"target\":14},{\"source\":15,\"target\":42}]}\n"
     ]
    }
   ],
   "execution_count": 16
  }
 ],
 "metadata": {
  "kernelspec": {
   "display_name": "Python 3",
   "language": "python",
   "name": "python3"
  },
  "language_info": {
   "codemirror_mode": {
    "name": "ipython",
    "version": 2
   },
   "file_extension": ".py",
   "mimetype": "text/x-python",
   "name": "python",
   "nbconvert_exporter": "python",
   "pygments_lexer": "ipython2",
   "version": "2.7.6"
  }
 },
 "nbformat": 4,
 "nbformat_minor": 5
}
