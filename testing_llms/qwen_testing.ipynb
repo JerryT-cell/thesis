{
 "cells": [
  {
   "metadata": {},
   "cell_type": "markdown",
   "source": "## This script is there to go through the Qwen model and see how it works.",
   "id": "156dd67fecff98c1"
  },
  {
   "metadata": {},
   "cell_type": "markdown",
   "source": "Let's start by importing the necessary libraries.",
   "id": "d23c3afecbc43e8c"
  },
  {
   "metadata": {
    "ExecuteTime": {
     "end_time": "2024-11-19T19:35:43.562275Z",
     "start_time": "2024-11-19T19:35:38.658293Z"
    }
   },
   "cell_type": "code",
   "source": "from transformers import AutoModelForCausalLM, AutoTokenizer, Starcoder2ForCausalLM, Qwen2ForCausalLM",
   "id": "4fe09365c9cf4c29",
   "outputs": [],
   "execution_count": 1
  },
  {
   "metadata": {},
   "cell_type": "markdown",
   "source": "get the model and tokenizer from the checkpoint.",
   "id": "fc8009f7316074d0"
  },
  {
   "metadata": {
    "ExecuteTime": {
     "end_time": "2024-11-19T19:35:44.406091Z",
     "start_time": "2024-11-19T19:35:44.403871Z"
    }
   },
   "cell_type": "code",
   "source": [
    "checkpoint = \"Qwen/Qwen2.5-3B-Instruct\"\n",
    "device = \"cuda\""
   ],
   "id": "1bae35c7d52292dc",
   "outputs": [],
   "execution_count": 2
  },
  {
   "metadata": {
    "ExecuteTime": {
     "end_time": "2024-11-19T19:46:21.224996Z",
     "start_time": "2024-11-19T19:35:46.043039Z"
    }
   },
   "cell_type": "code",
   "source": [
    "tokenizer = AutoTokenizer.from_pretrained(checkpoint)\n",
    "\n",
    "model = AutoModelForCausalLM.from_pretrained(checkpoint).to(device)"
   ],
   "id": "31e755d7f9af815e",
   "outputs": [
    {
     "data": {
      "text/plain": [
       "tokenizer_config.json:   0%|          | 0.00/7.30k [00:00<?, ?B/s]"
      ],
      "application/vnd.jupyter.widget-view+json": {
       "version_major": 2,
       "version_minor": 0,
       "model_id": "c6a14b149ef94d80b499142cde496237"
      }
     },
     "metadata": {},
     "output_type": "display_data"
    },
    {
     "name": "stderr",
     "output_type": "stream",
     "text": [
      "C:\\Users\\Admin\\anaconda3\\envs\\LLM\\Lib\\site-packages\\huggingface_hub\\file_download.py:157: UserWarning: `huggingface_hub` cache-system uses symlinks by default to efficiently store duplicated files but your machine does not support them in C:\\Users\\Admin\\.cache\\huggingface\\hub\\models--Qwen--Qwen2.5-3B-Instruct. Caching files will still work but in a degraded version that might require more space on your disk. This warning can be disabled by setting the `HF_HUB_DISABLE_SYMLINKS_WARNING` environment variable. For more details, see https://huggingface.co/docs/huggingface_hub/how-to-cache#limitations.\n",
      "To support symlinks on Windows, you either need to activate Developer Mode or to run Python as an administrator. In order to see activate developer mode, see this article: https://docs.microsoft.com/en-us/windows/apps/get-started/enable-your-device-for-development\n",
      "  warnings.warn(message)\n"
     ]
    },
    {
     "data": {
      "text/plain": [
       "vocab.json:   0%|          | 0.00/2.78M [00:00<?, ?B/s]"
      ],
      "application/vnd.jupyter.widget-view+json": {
       "version_major": 2,
       "version_minor": 0,
       "model_id": "7b005d55d7664ee88c00d32e8badf73b"
      }
     },
     "metadata": {},
     "output_type": "display_data"
    },
    {
     "data": {
      "text/plain": [
       "merges.txt:   0%|          | 0.00/1.67M [00:00<?, ?B/s]"
      ],
      "application/vnd.jupyter.widget-view+json": {
       "version_major": 2,
       "version_minor": 0,
       "model_id": "f1741754183d416aa0c492f1629a8607"
      }
     },
     "metadata": {},
     "output_type": "display_data"
    },
    {
     "data": {
      "text/plain": [
       "tokenizer.json:   0%|          | 0.00/7.03M [00:00<?, ?B/s]"
      ],
      "application/vnd.jupyter.widget-view+json": {
       "version_major": 2,
       "version_minor": 0,
       "model_id": "0daf00f338324cf095e72f922aa3dd26"
      }
     },
     "metadata": {},
     "output_type": "display_data"
    },
    {
     "data": {
      "text/plain": [
       "config.json:   0%|          | 0.00/661 [00:00<?, ?B/s]"
      ],
      "application/vnd.jupyter.widget-view+json": {
       "version_major": 2,
       "version_minor": 0,
       "model_id": "3df3aa069b8c476bb1a76734a1d0cdfe"
      }
     },
     "metadata": {},
     "output_type": "display_data"
    },
    {
     "data": {
      "text/plain": [
       "model.safetensors.index.json:   0%|          | 0.00/35.6k [00:00<?, ?B/s]"
      ],
      "application/vnd.jupyter.widget-view+json": {
       "version_major": 2,
       "version_minor": 0,
       "model_id": "1fb41e1d03c54885bde4023a319f6522"
      }
     },
     "metadata": {},
     "output_type": "display_data"
    },
    {
     "data": {
      "text/plain": [
       "Downloading shards:   0%|          | 0/2 [00:00<?, ?it/s]"
      ],
      "application/vnd.jupyter.widget-view+json": {
       "version_major": 2,
       "version_minor": 0,
       "model_id": "79ee1e686343438389dfed8ddda76dfb"
      }
     },
     "metadata": {},
     "output_type": "display_data"
    },
    {
     "data": {
      "text/plain": [
       "model-00001-of-00002.safetensors:   0%|          | 0.00/3.97G [00:00<?, ?B/s]"
      ],
      "application/vnd.jupyter.widget-view+json": {
       "version_major": 2,
       "version_minor": 0,
       "model_id": "c506fa58f58144daa1feebaa96bbe77e"
      }
     },
     "metadata": {},
     "output_type": "display_data"
    },
    {
     "data": {
      "text/plain": [
       "model-00002-of-00002.safetensors:   0%|          | 0.00/2.20G [00:00<?, ?B/s]"
      ],
      "application/vnd.jupyter.widget-view+json": {
       "version_major": 2,
       "version_minor": 0,
       "model_id": "cd77ee5ee03e4fdf82d0bdbf304bea97"
      }
     },
     "metadata": {},
     "output_type": "display_data"
    },
    {
     "data": {
      "text/plain": [
       "Loading checkpoint shards:   0%|          | 0/2 [00:00<?, ?it/s]"
      ],
      "application/vnd.jupyter.widget-view+json": {
       "version_major": 2,
       "version_minor": 0,
       "model_id": "69591f25ab884902b6a00c950d5783f3"
      }
     },
     "metadata": {},
     "output_type": "display_data"
    },
    {
     "data": {
      "text/plain": [
       "generation_config.json:   0%|          | 0.00/242 [00:00<?, ?B/s]"
      ],
      "application/vnd.jupyter.widget-view+json": {
       "version_major": 2,
       "version_minor": 0,
       "model_id": "01349192096747c0b6512941476b82c4"
      }
     },
     "metadata": {},
     "output_type": "display_data"
    }
   ],
   "execution_count": 3
  },
  {
   "metadata": {
    "ExecuteTime": {
     "end_time": "2024-11-19T20:23:32.063524Z",
     "start_time": "2024-11-19T20:23:32.044184Z"
    }
   },
   "cell_type": "code",
   "source": [
    "# test_data = dataset[\"test\"]\n",
    "instruction =\"You are a helpful programmer instruction\"\n",
    "\n",
    "messages = [{\"role\": \"system\", \"content\": instruction},\n",
    "            {\"role\": \"user\", \"content\": \"write a function that takes a list of integers and returns the sum of all the integers in the list in java.\"}]"
   ],
   "id": "2fcdddc96b0b38a2",
   "outputs": [],
   "execution_count": 4
  },
  {
   "metadata": {},
   "cell_type": "markdown",
   "source": "Test the model with a simple input.",
   "id": "15094c93541ff3ed"
  },
  {
   "metadata": {
    "ExecuteTime": {
     "end_time": "2024-11-19T20:24:50.693983Z",
     "start_time": "2024-11-19T20:24:50.289114Z"
    }
   },
   "cell_type": "code",
   "source": [
    "text = tokenizer.apply_chat_template(\n",
    "    messages,\n",
    "    tokenize=False,\n",
    "    add_generation_prompt=True\n",
    ")\n",
    "print(text)\n",
    "model_inputs = tokenizer([text], return_tensors=\"pt\").to(model.device)"
   ],
   "id": "386aa4c5ef708e8d",
   "outputs": [
    {
     "name": "stdout",
     "output_type": "stream",
     "text": [
      "<|im_start|>system\n",
      "You are a helpful programmer instruction<|im_end|>\n",
      "<|im_start|>user\n",
      "write a function that takes a list of integers and returns the sum of all the integers in the list in java.<|im_end|>\n",
      "<|im_start|>assistant\n",
      "\n"
     ]
    }
   ],
   "execution_count": 5
  },
  {
   "metadata": {
    "ExecuteTime": {
     "end_time": "2024-11-19T20:31:11.221190Z",
     "start_time": "2024-11-19T20:30:19.849355Z"
    }
   },
   "cell_type": "code",
   "source": [
    "generated_ids0 = model.generate(\n",
    "    **model_inputs,\n",
    "    max_new_tokens=300\n",
    ")\n",
    "generated_ids = [\n",
    "    output_ids[len(input_ids):] for input_ids, output_ids in zip(model_inputs.input_ids, generated_ids0)\n",
    "]\n",
    "\n",
    "response = tokenizer.batch_decode(generated_ids, skip_special_tokens=True)[0]\n",
    "print(response)\n"
   ],
   "id": "742f916c9c8e3fdf",
   "outputs": [
    {
     "name": "stdout",
     "output_type": "stream",
     "text": [
      "Certainly! Below is a simple Java function that takes a list of integers and returns the sum of all the integers in the list:\n",
      "\n",
      "```java\n",
      "import java.util.ArrayList;\n",
      "import java.util.Arrays;\n",
      "\n",
      "public class SumCalculator {\n",
      "\n",
      "    /**\n",
      "     * Calculates the sum of all elements in the given list of integers.\n",
      "     *\n",
      "     * @param numbers An ArrayList of Integer values.\n",
      "     * @return The sum of all elements in the list.\n",
      "     */\n",
      "    public static int calculateSum(ArrayList<Integer> numbers) {\n",
      "        return numbers.stream().mapToInt(Integer::intValue).sum();\n",
      "    }\n",
      "\n",
      "    public static void main(String[] args) {\n",
      "        // Example usage:\n",
      "        ArrayList<Integer> exampleList = new ArrayList<>(Arrays.asList(1, 2, 3, 4, 5));\n",
      "        System.out.println(\"The sum of the list is: \" + calculateSum(exampleList));\n",
      "        \n",
      "        // Additional test cases\n",
      "        ArrayList<Integer> emptyList = new ArrayList<>();\n",
      "        System.out.println(\"The sum of the empty list is: \" + calculateSum(emptyList));\n",
      "        \n",
      "        ArrayList<Integer> mixedList = new ArrayList<>(Arrays.asList(-1, 0, 1, -2, 3));\n",
      "        System.out.println(\"The sum of the mixed list is: \" + calculateSum(mixedList));\n",
      "    }\n",
      "}\n",
      "```\n",
      "\n",
      "### Explanation:\n",
      "- **Import Statements**: We import `ArrayList` from `java.util` to use it and `Arrays.asList` to create an example list.\n",
      "\n"
     ]
    }
   ],
   "execution_count": 10
  },
  {
   "metadata": {
    "ExecuteTime": {
     "end_time": "2024-11-19T20:29:04.365376Z",
     "start_time": "2024-11-19T20:29:04.361463Z"
    }
   },
   "cell_type": "code",
   "source": [
    "#print(generated_ids)\n",
    "output = tokenizer.decode(generated_ids[0], skip_special_tokens=True)\n",
    "print(output)"
   ],
   "id": "c0e0816358517e3f",
   "outputs": [
    {
     "name": "stdout",
     "output_type": "stream",
     "text": [
      "Certainly! Below is a simple Java function that takes a list of integers and returns the sum of all the integers in the list:\n",
      "\n",
      "```java\n",
      "import java.util.ArrayList;\n",
      "import java.util.Arrays;\n",
      "\n",
      "public class SumCalculator {\n",
      "    /**\n",
      "     * Calculates the sum of all elements in the given list.\n",
      "     * \n",
      "     * @param numbers An ArrayList of Integers.\n",
      "     * @return The sum of all elements in the list.\n",
      "     */\n",
      "    public static int calculateSum(ArrayList<Integer> numbers) {\n",
      "        return numbers.stream().mapToInt(Integer::intValue).sum();\n",
      "    }\n",
      "\n",
      "    public static void main(String[] args) {\n",
      "        // Example usage:\n",
      "        ArrayList<Integer> exampleList = new ArrayList<>(Arrays.asList(1, 2, 3, 4, 5));\n",
      "        System.out.println(\"The sum of the list is: \" + calculateSum(exampleList));\n",
      "        \n",
      "        // Additional test cases\n",
      "        ArrayList<Integer> emptyList = new ArrayList<>();\n",
      "        System.out.println(\"The sum of an empty list is: \" + calculateSum(emptyList));\n",
      "        \n",
      "        ArrayList<Integer> mixedList = new ArrayList<>(Arrays.asList(-1, -2, 3, 4, -5));\n",
      "        System.out.println(\"The sum of the mixed list is: \" + calculateSum(mixedList));\n",
      "    }\n",
      "}\n",
      "```\n",
      "\n",
      "### Explanation:\n",
      "- **`ArrayList<Integer>`**: This is used to store the integers.\n",
      "- **`calculateSum` method**: This method uses Java Streams to convert\n"
     ]
    }
   ],
   "execution_count": 9
  },
  {
   "metadata": {},
   "cell_type": "code",
   "outputs": [],
   "execution_count": null,
   "source": "",
   "id": "3983aa4d579f52ed"
  }
 ],
 "metadata": {
  "kernelspec": {
   "display_name": "Python 3",
   "language": "python",
   "name": "python3"
  },
  "language_info": {
   "codemirror_mode": {
    "name": "ipython",
    "version": 2
   },
   "file_extension": ".py",
   "mimetype": "text/x-python",
   "name": "python",
   "nbconvert_exporter": "python",
   "pygments_lexer": "ipython2",
   "version": "2.7.6"
  }
 },
 "nbformat": 4,
 "nbformat_minor": 5
}
