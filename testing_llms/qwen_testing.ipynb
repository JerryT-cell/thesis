{
 "cells": [
  {
   "metadata": {},
   "cell_type": "markdown",
   "source": "## This script is there to go through the Qwen model and see how it works.",
   "id": "156dd67fecff98c1"
  },
  {
   "metadata": {},
   "cell_type": "markdown",
   "source": "Let's start by importing the necessary libraries.",
   "id": "d23c3afecbc43e8c"
  },
  {
   "metadata": {
    "ExecuteTime": {
     "end_time": "2024-11-29T11:15:13.136216Z",
     "start_time": "2024-11-29T11:15:12.557285Z"
    }
   },
   "cell_type": "code",
   "source": [
    "from lamini import batch_size\n",
    "from sympy.physics.units import temperature\n",
    "from transformers import AutoModelForCausalLM, AutoTokenizer, Starcoder2ForCausalLM, Qwen2ForCausalLM"
   ],
   "id": "4fe09365c9cf4c29",
   "outputs": [],
   "execution_count": 166
  },
  {
   "metadata": {},
   "cell_type": "markdown",
   "source": "get the model and tokenizer from the checkpoint.",
   "id": "fc8009f7316074d0"
  },
  {
   "metadata": {
    "ExecuteTime": {
     "end_time": "2024-11-29T11:15:13.619952Z",
     "start_time": "2024-11-29T11:15:13.617035Z"
    }
   },
   "cell_type": "code",
   "source": [
    "checkpoint = \"Qwen/Qwen2.5-3B-Instruct\"\n",
    "device = \"cuda\""
   ],
   "id": "1bae35c7d52292dc",
   "outputs": [],
   "execution_count": 167
  },
  {
   "metadata": {
    "ExecuteTime": {
     "end_time": "2024-11-29T11:15:26.138971Z",
     "start_time": "2024-11-29T11:15:15.322432Z"
    }
   },
   "cell_type": "code",
   "source": [
    "tokenizer = AutoTokenizer.from_pretrained(checkpoint)\n",
    "\n",
    "model = AutoModelForCausalLM.from_pretrained(checkpoint).to(device)\n",
    "print(tokenizer.pad_token)"
   ],
   "id": "31e755d7f9af815e",
   "outputs": [
    {
     "data": {
      "text/plain": [
       "Loading checkpoint shards:   0%|          | 0/2 [00:00<?, ?it/s]"
      ],
      "application/vnd.jupyter.widget-view+json": {
       "version_major": 2,
       "version_minor": 0,
       "model_id": "d3dc121b86cf4d06a9436bd07e6c6850"
      }
     },
     "metadata": {},
     "output_type": "display_data"
    },
    {
     "name": "stdout",
     "output_type": "stream",
     "text": [
      "<|endoftext|>\n"
     ]
    }
   ],
   "execution_count": 168
  },
  {
   "metadata": {
    "ExecuteTime": {
     "end_time": "2024-11-21T08:04:17.786614Z",
     "start_time": "2024-11-21T08:04:17.783960Z"
    }
   },
   "cell_type": "code",
   "source": [
    "# test_data = dataset[\"test\"]\n",
    "instruction =\"You are a helpful programmer instruction\"\n",
    "\n",
    "messages = [{\"role\": \"system\", \"content\": instruction},\n",
    "            {\"role\": \"user\", \"content\": \"write a function that takes a list of integers and returns the sum of all the integers in the list in java.\"},\n",
    "            {\"role\": \"assistant\", \"content\": \"write a function that takes a list of integers and returns the sum of all the integers in the list in java.\"}]"
   ],
   "id": "2fcdddc96b0b38a2",
   "outputs": [],
   "execution_count": 9
  },
  {
   "metadata": {},
   "cell_type": "markdown",
   "source": "Test the model with a simple input.",
   "id": "15094c93541ff3ed"
  },
  {
   "metadata": {
    "ExecuteTime": {
     "end_time": "2024-11-21T08:04:20.245608Z",
     "start_time": "2024-11-21T08:04:20.242971Z"
    }
   },
   "cell_type": "code",
   "source": [
    "text = tokenizer.apply_chat_template(\n",
    "    messages,\n",
    "    tokenize=False,\n",
    "    add_generation_prompt=True\n",
    ")\n",
    "print(text)\n",
    "model_inputs = tokenizer([text], return_tensors=\"pt\").to(model.device)"
   ],
   "id": "386aa4c5ef708e8d",
   "outputs": [
    {
     "name": "stdout",
     "output_type": "stream",
     "text": [
      "<|im_start|>system\n",
      "You are a helpful programmer instruction<|im_end|>\n",
      "<|im_start|>user\n",
      "write a function that takes a list of integers and returns the sum of all the integers in the list in java.<|im_end|>\n",
      "<|im_start|>assistant\n",
      "write a function that takes a list of integers and returns the sum of all the integers in the list in java.<|im_end|>\n",
      "<|im_start|>assistant\n",
      "\n"
     ]
    }
   ],
   "execution_count": 10
  },
  {
   "metadata": {
    "ExecuteTime": {
     "end_time": "2024-11-19T20:31:11.221190Z",
     "start_time": "2024-11-19T20:30:19.849355Z"
    }
   },
   "cell_type": "code",
   "source": [
    "generated_ids0 = model.generate(\n",
    "    **model_inputs,\n",
    "    max_new_tokens=300\n",
    ")\n",
    "generated_ids = [\n",
    "    output_ids[len(input_ids):] for input_ids, output_ids in zip(model_inputs.input_ids, generated_ids0)\n",
    "]\n",
    "\n",
    "response = tokenizer.batch_decode(generated_ids, skip_special_tokens=True)[0]\n",
    "print(response)\n"
   ],
   "id": "742f916c9c8e3fdf",
   "outputs": [
    {
     "name": "stdout",
     "output_type": "stream",
     "text": [
      "Certainly! Below is a simple Java function that takes a list of integers and returns the sum of all the integers in the list:\n",
      "\n",
      "```java\n",
      "import java.util.ArrayList;\n",
      "import java.util.Arrays;\n",
      "\n",
      "public class SumCalculator {\n",
      "\n",
      "    /**\n",
      "     * Calculates the sum of all elements in the given list of integers.\n",
      "     *\n",
      "     * @param numbers An ArrayList of Integer values.\n",
      "     * @return The sum of all elements in the list.\n",
      "     */\n",
      "    public static int calculateSum(ArrayList<Integer> numbers) {\n",
      "        return numbers.stream().mapToInt(Integer::intValue).sum();\n",
      "    }\n",
      "\n",
      "    public static void main(String[] args) {\n",
      "        // Example usage:\n",
      "        ArrayList<Integer> exampleList = new ArrayList<>(Arrays.asList(1, 2, 3, 4, 5));\n",
      "        System.out.println(\"The sum of the list is: \" + calculateSum(exampleList));\n",
      "        \n",
      "        // Additional test cases\n",
      "        ArrayList<Integer> emptyList = new ArrayList<>();\n",
      "        System.out.println(\"The sum of the empty list is: \" + calculateSum(emptyList));\n",
      "        \n",
      "        ArrayList<Integer> mixedList = new ArrayList<>(Arrays.asList(-1, 0, 1, -2, 3));\n",
      "        System.out.println(\"The sum of the mixed list is: \" + calculateSum(mixedList));\n",
      "    }\n",
      "}\n",
      "```\n",
      "\n",
      "### Explanation:\n",
      "- **Import Statements**: We import `ArrayList` from `java.util` to use it and `Arrays.asList` to create an example list.\n",
      "\n"
     ]
    }
   ],
   "execution_count": 10
  },
  {
   "metadata": {
    "ExecuteTime": {
     "end_time": "2024-11-19T20:29:04.365376Z",
     "start_time": "2024-11-19T20:29:04.361463Z"
    }
   },
   "cell_type": "code",
   "source": [
    "#print(generated_ids)\n",
    "output = tokenizer.decode(generated_ids[0], skip_special_tokens=True)\n",
    "print(output)"
   ],
   "id": "c0e0816358517e3f",
   "outputs": [
    {
     "name": "stdout",
     "output_type": "stream",
     "text": [
      "Certainly! Below is a simple Java function that takes a list of integers and returns the sum of all the integers in the list:\n",
      "\n",
      "```java\n",
      "import java.util.ArrayList;\n",
      "import java.util.Arrays;\n",
      "\n",
      "public class SumCalculator {\n",
      "    /**\n",
      "     * Calculates the sum of all elements in the given list.\n",
      "     * \n",
      "     * @param numbers An ArrayList of Integers.\n",
      "     * @return The sum of all elements in the list.\n",
      "     */\n",
      "    public static int calculateSum(ArrayList<Integer> numbers) {\n",
      "        return numbers.stream().mapToInt(Integer::intValue).sum();\n",
      "    }\n",
      "\n",
      "    public static void main(String[] args) {\n",
      "        // Example usage:\n",
      "        ArrayList<Integer> exampleList = new ArrayList<>(Arrays.asList(1, 2, 3, 4, 5));\n",
      "        System.out.println(\"The sum of the list is: \" + calculateSum(exampleList));\n",
      "        \n",
      "        // Additional test cases\n",
      "        ArrayList<Integer> emptyList = new ArrayList<>();\n",
      "        System.out.println(\"The sum of an empty list is: \" + calculateSum(emptyList));\n",
      "        \n",
      "        ArrayList<Integer> mixedList = new ArrayList<>(Arrays.asList(-1, -2, 3, 4, -5));\n",
      "        System.out.println(\"The sum of the mixed list is: \" + calculateSum(mixedList));\n",
      "    }\n",
      "}\n",
      "```\n",
      "\n",
      "### Explanation:\n",
      "- **`ArrayList<Integer>`**: This is used to store the integers.\n",
      "- **`calculateSum` method**: This method uses Java Streams to convert\n"
     ]
    }
   ],
   "execution_count": 9
  },
  {
   "metadata": {},
   "cell_type": "markdown",
   "source": "### LLMs for software Model Completion",
   "id": "39c2657c21e8c73f"
  },
  {
   "metadata": {
    "ExecuteTime": {
     "end_time": "2024-11-29T11:34:39.188689Z",
     "start_time": "2024-11-29T11:34:39.179475Z"
    }
   },
   "cell_type": "code",
   "source": [
    "from datasets import load_dataset\n",
    "import torch\n",
    "from transformers import AutoTokenizer, AutoModelForCausalLM, BitsAndBytesConfig"
   ],
   "id": "32dcb98d575125bd",
   "outputs": [],
   "execution_count": 24
  },
  {
   "metadata": {
    "ExecuteTime": {
     "end_time": "2024-11-29T11:34:40.113233Z",
     "start_time": "2024-11-29T11:34:40.107709Z"
    }
   },
   "cell_type": "code",
   "source": "checkpoint = \"D:\\\\LLM\\\\thesisPractical\\\\fine_tuned_models\\\\Qwen2.5-3B-Instruct-software-model_completion\"",
   "id": "f43c7bd2801eb2f4",
   "outputs": [],
   "execution_count": 25
  },
  {
   "metadata": {
    "ExecuteTime": {
     "end_time": "2024-11-29T11:34:40.880938Z",
     "start_time": "2024-11-29T11:34:40.871933Z"
    }
   },
   "cell_type": "code",
   "source": [
    "instruction = \"Given an incomplete UML model represented in JSON format. Produce only one missing node.\"\n",
    "\n",
    "def format_chat_template_to_print(input):\n",
    "    row_json = [\n",
    "        {\"role\": \"system\", \"content\": instruction},\n",
    "        {\"role\": \"user\", \"content\": f'Here is the incomplete UML model:\\n{input}'}\n",
    "    ] \n",
    "    return tokenizer.apply_chat_template(row_json, tokenize=False, add_generation_prompt=True)\n",
    "\n",
    "def format_chat_template(input):\n",
    "    row_json = [\n",
    "        {\"role\": \"system\", \"content\": instruction},\n",
    "        {\"role\": \"user\", \"content\": f'Here is the incomplete UML model:\\n{input}'}\n",
    "    ] \n",
    "    return tokenizer.apply_chat_template(row_json, tokenize=True, return_tensors=\"pt\", add_generation_prompt=True).to(\"cuda\")"
   ],
   "id": "92c14135e62af1a6",
   "outputs": [],
   "execution_count": 26
  },
  {
   "metadata": {
    "ExecuteTime": {
     "end_time": "2024-11-29T11:34:45.459566Z",
     "start_time": "2024-11-29T11:34:42.207862Z"
    }
   },
   "cell_type": "code",
   "source": [
    "quantization_config = BitsAndBytesConfig(\n",
    "    load_in_4bit=True,\n",
    "    bnb_4bit_quant_type=\"nf4\",\n",
    "    bnb_4bit_compute_dtype=torch.float16,\n",
    "    bnb_4bit_use_double_quant=True,\n",
    ")\n",
    "model = AutoModelForCausalLM.from_pretrained(\n",
    "    checkpoint, device_map=\"auto\", quantization_config=quantization_config\n",
    ")\n",
    "tokenizer = AutoTokenizer.from_pretrained(checkpoint)"
   ],
   "id": "4f9ea55ce0200438",
   "outputs": [
    {
     "data": {
      "text/plain": [
       "Loading checkpoint shards:   0%|          | 0/2 [00:00<?, ?it/s]"
      ],
      "application/vnd.jupyter.widget-view+json": {
       "version_major": 2,
       "version_minor": 0,
       "model_id": "82f90ed29d554ba6ba5ee73817a28be4"
      }
     },
     "metadata": {},
     "output_type": "display_data"
    }
   ],
   "execution_count": 27
  },
  {
   "metadata": {
    "ExecuteTime": {
     "end_time": "2024-11-29T11:34:46.053017Z",
     "start_time": "2024-11-29T11:34:45.459566Z"
    }
   },
   "cell_type": "code",
   "source": [
    "org_path = \"D:\\\\LLM\\\\thesisPractical\\\\datasets_for_fine_tuning\\\\structural_removal_non_contiguous\\\\processed_4000\"\n",
    "\n",
    "test_dataset_url = org_path + \"\\\\test.jsonl\"\n",
    "\n",
    "data_files = {\n",
    "    'test': test_dataset_url\n",
    "}\n",
    "\n",
    "dataset = load_dataset('json', data_files=data_files)\n",
    "test_dataset = dataset['test']"
   ],
   "id": "e2505bcbe6369143",
   "outputs": [],
   "execution_count": 28
  },
  {
   "metadata": {
    "ExecuteTime": {
     "end_time": "2024-11-29T11:34:46.081222Z",
     "start_time": "2024-11-29T11:34:46.072662Z"
    }
   },
   "cell_type": "code",
   "source": [
    "data = test_dataset[2]['input']\n",
    "text_to_print = format_chat_template_to_print(data)\n",
    "print(text_to_print)\n",
    "input_ids = format_chat_template(data)"
   ],
   "id": "8b703743aa0ca8f",
   "outputs": [
    {
     "name": "stdout",
     "output_type": "stream",
     "text": [
      "<|im_start|>system\n",
      "Given an incomplete UML model represented in JSON format. Produce only one missing node.<|im_end|>\n",
      "<|im_start|>user\n",
      "Here is the incomplete UML model:\n",
      "{\"directed\":true,\"nodes\":[{\"viewpoint\":null,\"visibility\":\"PUBLIC_LITERAL\",\"qualifiedName\":\"model\",\"name\":\"model\",\"id\":0,\"URI\":null,\"eClass\":\"Model\"},{\"visibility\":\"PUBLIC_LITERAL\",\"qualifiedName\":\"model::Bank Customer\",\"name\":\"Bank Customer\",\"id\":2,\"isLeaf\":false,\"isAbstract\":false,\"isFinalSpecialization\":false,\"eClass\":\"Actor\"},{\"visibility\":\"PUBLIC_LITERAL\",\"qualifiedName\":\"model::Insert Card\",\"name\":\"Insert Card\",\"id\":3,\"isLeaf\":false,\"isAbstract\":false,\"isFinalSpecialization\":false,\"eClass\":\"UseCase\"},{\"visibility\":\"PUBLIC_LITERAL\",\"qualifiedName\":\"model::Insert Pin\",\"name\":\"Insert Pin\",\"id\":4,\"isLeaf\":false,\"isAbstract\":false,\"isFinalSpecialization\":false,\"eClass\":\"UseCase\"},{\"visibility\":\"PUBLIC_LITERAL\",\"qualifiedName\":\"model::Display Menu\",\"name\":\"Display Menu\",\"id\":5,\"isLeaf\":false,\"isAbstract\":false,\"isFinalSpecialization\":false,\"eClass\":\"UseCase\"},{\"isDerived\":false,\"visibility\":\"PUBLIC_LITERAL\",\"qualifiedName\":\"model::Bank Customer_Insert Card\",\"name\":\"Bank Customer_Insert Card\",\"id\":6,\"isLeaf\":false,\"isAbstract\":false,\"isFinalSpecialization\":false,\"eClass\":\"Association\"},{\"isDerived\":false,\"visibility\":\"PUBLIC_LITERAL\",\"qualifiedName\":\"model::Bank Customer_Insert Pin\",\"name\":\"Bank Customer_Insert Pin\",\"id\":7,\"isLeaf\":false,\"isAbstract\":false,\"isFinalSpecialization\":false,\"eClass\":\"Association\"},{\"visibility\":\"PUBLIC_LITERAL\",\"qualifiedName\":\"model::ask for account number for deposit\",\"name\":\"ask for account number for deposit\",\"id\":11,\"isLeaf\":false,\"isAbstract\":false,\"isFinalSpecialization\":false,\"eClass\":\"UseCase\"},{\"visibility\":\"PUBLIC_LITERAL\",\"qualifiedName\":\"model::chk for valid account number\",\"name\":\"chk for valid account number\",\"id\":12,\"isLeaf\":false,\"isAbstract\":false,\"isFinalSpecialization\":false,\"eClass\":\"UseCase\"},{\"visibility\":\"PUBLIC_LITERAL\",\"qualifiedName\":\"model::Ask for amount to be deposited\",\"name\":\"Ask for amount to be deposited\",\"id\":13,\"isLeaf\":false,\"isAbstract\":false,\"isFinalSpecialization\":false,\"eClass\":\"UseCase\"},{\"isDerived\":false,\"visibility\":\"PUBLIC_LITERAL\",\"qualifiedName\":\"model::Bank Customer_deposits cash/cheque for deposit\",\"name\":\"Bank Customer_deposits cash/cheque for deposit\",\"id\":15,\"isLeaf\":false,\"isAbstract\":false,\"isFinalSpecialization\":false,\"eClass\":\"Association\"},{\"visibility\":\"PUBLIC_LITERAL\",\"qualifiedName\":\"model::send email/text confirming and notifying about the deposit\",\"name\":\"send email/text confirming and notifying about the deposit\",\"id\":16,\"isLeaf\":false,\"isAbstract\":false,\"isFinalSpecialization\":false,\"eClass\":\"UseCase\"},{\"isStatic\":false,\"isDerived\":false,\"visibility\":\"PUBLIC_LITERAL\",\"qualifiedName\":\"model::Bank Customer_Insert Card::insert Card\",\"lower\":0,\"upper\":1,\"isUnique\":true,\"aggregation\":\"NONE_LITERAL\",\"isLeaf\":false,\"eClass\":\"Property\",\"default\":null,\"isReadOnly\":false,\"isComposite\":false,\"isID\":false,\"isDerivedUnion\":false,\"name\":\"insert Card\",\"id\":17,\"isOrdered\":false},{\"isStatic\":false,\"isDerived\":false,\"visibility\":\"PUBLIC_LITERAL\",\"qualifiedName\":\"model::Bank Customer_Insert Card::bank Customer\",\"lower\":0,\"upper\":1,\"isUnique\":true,\"aggregation\":\"NONE_LITERAL\",\"isLeaf\":false,\"eClass\":\"Property\",\"default\":null,\"isReadOnly\":false,\"isComposite\":false,\"isID\":false,\"isDerivedUnion\":false,\"name\":\"bank Customer\",\"id\":18,\"isOrdered\":false},{\"visibility\":\"PUBLIC_LITERAL\",\"qualifiedName\":null,\"name\":null,\"id\":19,\"value\":0,\"eClass\":\"LiteralInteger\"},{\"visibility\":\"PUBLIC_LITERAL\",\"qualifiedName\":null,\"name\":null,\"id\":20,\"value\":1,\"eClass\":\"LiteralInteger\"},{\"visibility\":\"PUBLIC_LITERAL\",\"qualifiedName\":null,\"name\":null,\"id\":21,\"value\":0,\"eClass\":\"LiteralInteger\"},{\"isStatic\":false,\"isDerived\":false,\"visibility\":\"PUBLIC_LITERAL\",\"qualifiedName\":\"model::Bank Customer_Insert Pin::insert Pin\",\"lower\":0,\"upper\":1,\"isUnique\":true,\"aggregation\":\"NONE_LITERAL\",\"isLeaf\":false,\"eClass\":\"Property\",\"default\":null,\"isReadOnly\":false,\"isComposite\":false,\"isID\":false,\"isDerivedUnion\":false,\"name\":\"insert Pin\",\"id\":23,\"isOrdered\":false},{\"isStatic\":false,\"isDerived\":false,\"visibility\":\"PUBLIC_LITERAL\",\"qualifiedName\":\"model::Bank Customer_Insert Pin::bank Customer\",\"lower\":0,\"upper\":1,\"isUnique\":true,\"aggregation\":\"NONE_LITERAL\",\"isLeaf\":false,\"eClass\":\"Property\",\"default\":null,\"isReadOnly\":false,\"isComposite\":false,\"isID\":false,\"isDerivedUnion\":false,\"name\":\"bank Customer\",\"id\":24,\"isOrdered\":false},{\"visibility\":\"PUBLIC_LITERAL\",\"qualifiedName\":null,\"name\":null,\"id\":25,\"value\":0,\"eClass\":\"LiteralInteger\"},{\"visibility\":\"PUBLIC_LITERAL\",\"qualifiedName\":null,\"name\":null,\"id\":26,\"value\":1,\"eClass\":\"LiteralInteger\"},{\"visibility\":\"PUBLIC_LITERAL\",\"qualifiedName\":null,\"name\":null,\"id\":27,\"value\":0,\"eClass\":\"LiteralInteger\"},{\"visibility\":\"PUBLIC_LITERAL\",\"qualifiedName\":null,\"name\":null,\"id\":28,\"value\":1,\"eClass\":\"LiteralInteger\"},{\"isStatic\":false,\"isDerived\":false,\"visibility\":\"PUBLIC_LITERAL\",\"qualifiedName\":\"model::Bank Customer_Display Menu::display Menu\",\"lower\":0,\"upper\":1,\"isUnique\":true,\"aggregation\":\"NONE_LITERAL\",\"isLeaf\":false,\"eClass\":\"Property\",\"default\":null,\"isReadOnly\":false,\"isComposite\":false,\"isID\":false,\"isDerivedUnion\":false,\"name\":\"display Menu\",\"id\":29,\"isOrdered\":false},{\"isStatic\":false,\"isDerived\":false,\"visibility\":\"PUBLIC_LITERAL\",\"qualifiedName\":\"model::Bank Customer_Display Menu::bank Customer\",\"lower\":0,\"upper\":1,\"isUnique\":true,\"aggregation\":\"NONE_LITERAL\",\"isLeaf\":false,\"eClass\":\"Property\",\"default\":null,\"isReadOnly\":false,\"isComposite\":false,\"isID\":false,\"isDerivedUnion\":false,\"name\":\"bank Customer\",\"id\":30,\"isOrdered\":false},{\"visibility\":\"PUBLIC_LITERAL\",\"qualifiedName\":null,\"name\":null,\"id\":31,\"value\":0,\"eClass\":\"LiteralInteger\"},{\"visibility\":\"PUBLIC_LITERAL\",\"qualifiedName\":null,\"name\":null,\"id\":33,\"value\":0,\"eClass\":\"LiteralInteger\"},{\"visibility\":\"PUBLIC_LITERAL\",\"qualifiedName\":null,\"name\":null,\"id\":34,\"value\":1,\"eClass\":\"LiteralInteger\"},{\"isSubstitutable\":true,\"id\":35,\"eClass\":\"Generalization\"},{\"isSubstitutable\":true,\"id\":36,\"eClass\":\"Generalization\"},{\"isSubstitutable\":true,\"id\":38,\"eClass\":\"Generalization\"},{\"visibility\":\"PUBLIC_LITERAL\",\"qualifiedName\":\"model::deposits cash/cheque ::ExtPoint\",\"name\":\"ExtPoint\",\"id\":39,\"isLeaf\":false,\"eClass\":\"ExtensionPoint\"},{\"isStatic\":false,\"isDerived\":false,\"visibility\":\"PUBLIC_LITERAL\",\"qualifiedName\":\"model::Bank Customer_deposits cash/cheque for deposit::deposits cash/cheque for deposit\",\"lower\":0,\"upper\":1,\"isUnique\":true,\"aggregation\":\"NONE_LITERAL\",\"isLeaf\":false,\"eClass\":\"Property\",\"default\":null,\"isReadOnly\":false,\"isComposite\":false,\"isID\":false,\"isDerivedUnion\":false,\"name\":\"deposits cash/cheque for deposit\",\"id\":40,\"isOrdered\":false},{\"isStatic\":false,\"isDerived\":false,\"visibility\":\"PUBLIC_LITERAL\",\"qualifiedName\":\"model::Bank Customer_deposits cash/cheque for deposit::bank Customer\",\"lower\":0,\"upper\":1,\"isUnique\":true,\"aggregation\":\"NONE_LITERAL\",\"isLeaf\":false,\"eClass\":\"Property\",\"default\":null,\"isReadOnly\":false,\"isComposite\":false,\"isID\":false,\"isDerivedUnion\":false,\"name\":\"bank Customer\",\"id\":41,\"isOrdered\":false},{\"visibility\":\"PUBLIC_LITERAL\",\"qualifiedName\":null,\"name\":null,\"id\":43,\"value\":1,\"eClass\":\"LiteralInteger\"},{\"visibility\":\"PUBLIC_LITERAL\",\"qualifiedName\":null,\"name\":null,\"id\":44,\"value\":0,\"eClass\":\"LiteralInteger\"},{\"visibility\":\"PUBLIC_LITERAL\",\"qualifiedName\":null,\"name\":null,\"id\":45,\"value\":1,\"eClass\":\"LiteralInteger\"},{\"visibility\":\"PUBLIC_LITERAL\",\"qualifiedName\":null,\"name\":null,\"id\":46,\"eClass\":\"Extend\"}],\"links\":[{\"source\":0,\"target\":2},{\"source\":0,\"target\":3},{\"source\":0,\"target\":4},{\"source\":0,\"target\":5},{\"source\":0,\"target\":6},{\"source\":0,\"target\":7},{\"source\":0,\"target\":11},{\"source\":0,\"target\":12},{\"source\":0,\"target\":13},{\"source\":0,\"target\":15},{\"source\":0,\"target\":16},{\"source\":6,\"target\":17},{\"source\":6,\"target\":18},{\"source\":6,\"target\":17},{\"source\":6,\"target\":18},{\"source\":6,\"target\":17},{\"source\":6,\"target\":18},{\"source\":17,\"target\":3},{\"source\":17,\"target\":19},{\"source\":17,\"target\":20},{\"source\":17,\"target\":6},{\"source\":17,\"target\":6},{\"source\":18,\"target\":2},{\"source\":18,\"target\":21},{\"source\":18,\"target\":6},{\"source\":18,\"target\":6},{\"source\":7,\"target\":23},{\"source\":7,\"target\":24},{\"source\":7,\"target\":23},{\"source\":7,\"target\":24},{\"source\":7,\"target\":23},{\"source\":7,\"target\":24},{\"source\":23,\"target\":4},{\"source\":23,\"target\":25},{\"source\":23,\"target\":26},{\"source\":23,\"target\":7},{\"source\":23,\"target\":7},{\"source\":24,\"target\":2},{\"source\":24,\"target\":27},{\"source\":24,\"target\":28},{\"source\":24,\"target\":7},{\"source\":24,\"target\":7},{\"source\":29,\"target\":5},{\"source\":29,\"target\":31},{\"source\":30,\"target\":2},{\"source\":30,\"target\":33},{\"source\":30,\"target\":34},{\"source\":35,\"target\":5},{\"source\":11,\"target\":36},{\"source\":36,\"target\":11},{\"source\":13,\"target\":38},{\"source\":38,\"target\":13},{\"source\":15,\"target\":40},{\"source\":15,\"target\":41},{\"source\":15,\"target\":40},{\"source\":15,\"target\":41},{\"source\":15,\"target\":40},{\"source\":15,\"target\":41},{\"source\":40,\"target\":43},{\"source\":40,\"target\":15},{\"source\":40,\"target\":15},{\"source\":41,\"target\":2},{\"source\":41,\"target\":44},{\"source\":41,\"target\":45},{\"source\":41,\"target\":15},{\"source\":41,\"target\":15},{\"source\":16,\"target\":46},{\"source\":46,\"target\":39},{\"source\":46,\"target\":16}],\"multigraph\":true}<|im_end|>\n",
      "<|im_start|>assistant\n",
      "\n"
     ]
    }
   ],
   "execution_count": 29
  },
  {
   "metadata": {
    "ExecuteTime": {
     "end_time": "2024-11-29T11:34:48.666463Z",
     "start_time": "2024-11-29T11:34:48.662589Z"
    }
   },
   "cell_type": "code",
   "source": [
    "output = test_dataset[2]['output']\n",
    "print(output)"
   ],
   "id": "a8a5b777850d18a0",
   "outputs": [
    {
     "name": "stdout",
     "output_type": "stream",
     "text": [
      "{\"nodes\":[{\"visibility\":\"PUBLIC_LITERAL\",\"id\":1,\"eClass\":\"PackageImport\"},{\"isDerived\":false,\"visibility\":\"PUBLIC_LITERAL\",\"qualifiedName\":\"model::Bank Customer_Display Menu\",\"name\":\"Bank Customer_Display Menu\",\"id\":8,\"isLeaf\":false,\"isAbstract\":false,\"isFinalSpecialization\":false,\"eClass\":\"Association\"},{\"visibility\":\"PUBLIC_LITERAL\",\"qualifiedName\":\"model::Deposit Cheque/Cash\",\"name\":\"Deposit Cheque/Cash\",\"id\":9,\"isLeaf\":false,\"isAbstract\":false,\"isFinalSpecialization\":false,\"eClass\":\"UseCase\"},{\"visibility\":\"PUBLIC_LITERAL\",\"qualifiedName\":\"model::ATM Bank Server\",\"name\":\"ATM Bank Server\",\"id\":10,\"isLeaf\":false,\"isAbstract\":false,\"isFinalSpecialization\":false,\"eClass\":\"Actor\"},{\"visibility\":\"PUBLIC_LITERAL\",\"qualifiedName\":\"model::deposits cash/cheque \",\"name\":\"deposits cash/cheque \",\"id\":14,\"isLeaf\":false,\"isAbstract\":false,\"isFinalSpecialization\":false,\"eClass\":\"UseCase\"},{\"visibility\":\"PUBLIC_LITERAL\",\"qualifiedName\":null,\"name\":null,\"id\":22,\"value\":1,\"eClass\":\"LiteralInteger\"},{\"visibility\":\"PUBLIC_LITERAL\",\"qualifiedName\":null,\"name\":null,\"id\":32,\"value\":1,\"eClass\":\"LiteralInteger\"},{\"visibility\":\"PUBLIC_LITERAL\",\"qualifiedName\":null,\"name\":null,\"id\":37,\"eClass\":\"Include\"},{\"visibility\":\"PUBLIC_LITERAL\",\"qualifiedName\":null,\"name\":null,\"id\":42,\"value\":0,\"eClass\":\"LiteralInteger\"}],\"links\":[{\"source\":0,\"target\":1},{\"source\":0,\"target\":8},{\"source\":0,\"target\":9},{\"source\":0,\"target\":10},{\"source\":0,\"target\":14},{\"source\":1,\"target\":0},{\"source\":18,\"target\":22},{\"source\":8,\"target\":29},{\"source\":8,\"target\":30},{\"source\":8,\"target\":29},{\"source\":8,\"target\":30},{\"source\":8,\"target\":29},{\"source\":8,\"target\":30},{\"source\":29,\"target\":32},{\"source\":29,\"target\":8},{\"source\":29,\"target\":8},{\"source\":30,\"target\":8},{\"source\":30,\"target\":8},{\"source\":9,\"target\":35},{\"source\":35,\"target\":9},{\"source\":36,\"target\":9},{\"source\":12,\"target\":37},{\"source\":37,\"target\":11},{\"source\":37,\"target\":12},{\"source\":38,\"target\":9},{\"source\":14,\"target\":39},{\"source\":39,\"target\":14},{\"source\":40,\"target\":14},{\"source\":40,\"target\":42},{\"source\":46,\"target\":14}]}\n"
     ]
    }
   ],
   "execution_count": 30
  },
  {
   "metadata": {
    "ExecuteTime": {
     "end_time": "2024-11-29T11:41:16.278335Z",
     "start_time": "2024-11-29T11:41:11.232497Z"
    }
   },
   "cell_type": "code",
   "source": [
    "outputs = model.generate(input_ids=input_ids, max_new_tokens=80, do_sample=True)\n",
    "# print only assistant text\n",
    "decoded_output = tokenizer.decode(outputs, skip_special_tokens=True)\n",
    "print(text.split(\"assistant\")[1])\n"
   ],
   "id": "8a0d2f1ab7c5e872",
   "outputs": [
    {
     "ename": "TypeError",
     "evalue": "argument 'ids': 'list' object cannot be interpreted as an integer",
     "output_type": "error",
     "traceback": [
      "\u001B[1;31m---------------------------------------------------------------------------\u001B[0m",
      "\u001B[1;31mTypeError\u001B[0m                                 Traceback (most recent call last)",
      "Cell \u001B[1;32mIn[35], line 3\u001B[0m\n\u001B[0;32m      1\u001B[0m outputs \u001B[38;5;241m=\u001B[39m model\u001B[38;5;241m.\u001B[39mgenerate(input_ids\u001B[38;5;241m=\u001B[39minput_ids, max_new_tokens\u001B[38;5;241m=\u001B[39m\u001B[38;5;241m80\u001B[39m, do_sample\u001B[38;5;241m=\u001B[39m\u001B[38;5;28;01mTrue\u001B[39;00m)\n\u001B[0;32m      2\u001B[0m \u001B[38;5;66;03m# print only assistant text\u001B[39;00m\n\u001B[1;32m----> 3\u001B[0m decoded_output \u001B[38;5;241m=\u001B[39m tokenizer\u001B[38;5;241m.\u001B[39mdecode(outputs, skip_special_tokens\u001B[38;5;241m=\u001B[39m\u001B[38;5;28;01mTrue\u001B[39;00m)\n\u001B[0;32m      4\u001B[0m \u001B[38;5;28mprint\u001B[39m(text\u001B[38;5;241m.\u001B[39msplit(\u001B[38;5;124m\"\u001B[39m\u001B[38;5;124massistant\u001B[39m\u001B[38;5;124m\"\u001B[39m)[\u001B[38;5;241m1\u001B[39m])\n",
      "File \u001B[1;32m~\\anaconda3\\envs\\LLM\\Lib\\site-packages\\transformers\\tokenization_utils_base.py:4004\u001B[0m, in \u001B[0;36mPreTrainedTokenizerBase.decode\u001B[1;34m(self, token_ids, skip_special_tokens, clean_up_tokenization_spaces, **kwargs)\u001B[0m\n\u001B[0;32m   4001\u001B[0m \u001B[38;5;66;03m# Convert inputs to python lists\u001B[39;00m\n\u001B[0;32m   4002\u001B[0m token_ids \u001B[38;5;241m=\u001B[39m to_py_obj(token_ids)\n\u001B[1;32m-> 4004\u001B[0m \u001B[38;5;28;01mreturn\u001B[39;00m \u001B[38;5;28mself\u001B[39m\u001B[38;5;241m.\u001B[39m_decode(\n\u001B[0;32m   4005\u001B[0m     token_ids\u001B[38;5;241m=\u001B[39mtoken_ids,\n\u001B[0;32m   4006\u001B[0m     skip_special_tokens\u001B[38;5;241m=\u001B[39mskip_special_tokens,\n\u001B[0;32m   4007\u001B[0m     clean_up_tokenization_spaces\u001B[38;5;241m=\u001B[39mclean_up_tokenization_spaces,\n\u001B[0;32m   4008\u001B[0m     \u001B[38;5;241m*\u001B[39m\u001B[38;5;241m*\u001B[39mkwargs,\n\u001B[0;32m   4009\u001B[0m )\n",
      "File \u001B[1;32m~\\anaconda3\\envs\\LLM\\Lib\\site-packages\\transformers\\tokenization_utils_fast.py:654\u001B[0m, in \u001B[0;36mPreTrainedTokenizerFast._decode\u001B[1;34m(self, token_ids, skip_special_tokens, clean_up_tokenization_spaces, **kwargs)\u001B[0m\n\u001B[0;32m    652\u001B[0m \u001B[38;5;28;01mif\u001B[39;00m \u001B[38;5;28misinstance\u001B[39m(token_ids, \u001B[38;5;28mint\u001B[39m):\n\u001B[0;32m    653\u001B[0m     token_ids \u001B[38;5;241m=\u001B[39m [token_ids]\n\u001B[1;32m--> 654\u001B[0m text \u001B[38;5;241m=\u001B[39m \u001B[38;5;28mself\u001B[39m\u001B[38;5;241m.\u001B[39m_tokenizer\u001B[38;5;241m.\u001B[39mdecode(token_ids, skip_special_tokens\u001B[38;5;241m=\u001B[39mskip_special_tokens)\n\u001B[0;32m    656\u001B[0m clean_up_tokenization_spaces \u001B[38;5;241m=\u001B[39m (\n\u001B[0;32m    657\u001B[0m     clean_up_tokenization_spaces\n\u001B[0;32m    658\u001B[0m     \u001B[38;5;28;01mif\u001B[39;00m clean_up_tokenization_spaces \u001B[38;5;129;01mis\u001B[39;00m \u001B[38;5;129;01mnot\u001B[39;00m \u001B[38;5;28;01mNone\u001B[39;00m\n\u001B[0;32m    659\u001B[0m     \u001B[38;5;28;01melse\u001B[39;00m \u001B[38;5;28mself\u001B[39m\u001B[38;5;241m.\u001B[39mclean_up_tokenization_spaces\n\u001B[0;32m    660\u001B[0m )\n\u001B[0;32m    661\u001B[0m \u001B[38;5;28;01mif\u001B[39;00m clean_up_tokenization_spaces:\n",
      "\u001B[1;31mTypeError\u001B[0m: argument 'ids': 'list' object cannot be interpreted as an integer"
     ]
    }
   ],
   "execution_count": 35
  },
  {
   "metadata": {
    "ExecuteTime": {
     "end_time": "2024-11-29T11:44:38.431061Z",
     "start_time": "2024-11-29T11:44:38.421069Z"
    }
   },
   "cell_type": "code",
   "source": [
    "text = tokenizer.decode(outputs[0], skip_special_tokens=True)\n",
    "print(text.split(\"assistant\\n\")[1])"
   ],
   "id": "ea3bef484b9fc57",
   "outputs": [
    {
     "name": "stdout",
     "output_type": "stream",
     "text": [
      "{\"visibility\":\"PUBLIC_LITERAL\",\"qualifiedName\":\"model::Enter pin\",\"name\":\"Enter pin\",\"id\":8,\"isLeaf\":false,\"isAbstract\":false,\"isFinalSpecialization\":false,\"eClass\":\"UseCase\"},{\"visibility\":\"PUBLIC_LITERAL\",\"qualifiedName\":\"model::Deposit Cash\",\"name\":\"Deposit Cash\",\"id\":9,\"isLeaf\":false,\"isAbstract\":false,\"isFinal\n"
     ]
    }
   ],
   "execution_count": 39
  },
  {
   "metadata": {
    "ExecuteTime": {
     "end_time": "2024-11-28T22:04:48.258567Z",
     "start_time": "2024-11-28T22:04:44.795178Z"
    }
   },
   "cell_type": "code",
   "outputs": [
    {
     "name": "stdout",
     "output_type": "stream",
     "text": [
      "system\n",
      "Given an incomplete UML model represented in JSON format. Produce only one missing node.\n",
      "user\n",
      "Here is the incomplete UML model:\n",
      "{\"directed\":true,\"nodes\":[{\"viewpoint\":null,\"visibility\":\"PUBLIC_LITERAL\",\"qualifiedName\":\"model\",\"name\":\"model\",\"id\":0,\"URI\":null,\"eClass\":\"Model\"},{\"visibility\":\"PUBLIC_LITERAL\",\"qualifiedName\":\"model::Bank Customer\",\"name\":\"Bank Customer\",\"id\":2,\"isLeaf\":false,\"isAbstract\":false,\"isFinalSpecialization\":false,\"eClass\":\"Actor\"},{\"visibility\":\"PUBLIC_LITERAL\",\"qualifiedName\":\"model::Insert Card\",\"name\":\"Insert Card\",\"id\":3,\"isLeaf\":false,\"isAbstract\":false,\"isFinalSpecialization\":false,\"eClass\":\"UseCase\"},{\"visibility\":\"PUBLIC_LITERAL\",\"qualifiedName\":\"model::Insert Pin\",\"name\":\"Insert Pin\",\"id\":4,\"isLeaf\":false,\"isAbstract\":false,\"isFinalSpecialization\":false,\"eClass\":\"UseCase\"},{\"visibility\":\"PUBLIC_LITERAL\",\"qualifiedName\":\"model::Display Menu\",\"name\":\"Display Menu\",\"id\":5,\"isLeaf\":false,\"isAbstract\":false,\"isFinalSpecialization\":false,\"eClass\":\"UseCase\"},{\"isDerived\":false,\"visibility\":\"PUBLIC_LITERAL\",\"qualifiedName\":\"model::Bank Customer_Insert Card\",\"name\":\"Bank Customer_Insert Card\",\"id\":6,\"isLeaf\":false,\"isAbstract\":false,\"isFinalSpecialization\":false,\"eClass\":\"Association\"},{\"isDerived\":false,\"visibility\":\"PUBLIC_LITERAL\",\"qualifiedName\":\"model::Bank Customer_Insert Pin\",\"name\":\"Bank Customer_Insert Pin\",\"id\":7,\"isLeaf\":false,\"isAbstract\":false,\"isFinalSpecialization\":false,\"eClass\":\"Association\"},{\"visibility\":\"PUBLIC_LITERAL\",\"qualifiedName\":\"model::ask for account number for deposit\",\"name\":\"ask for account number for deposit\",\"id\":11,\"isLeaf\":false,\"isAbstract\":false,\"isFinalSpecialization\":false,\"eClass\":\"UseCase\"},{\"visibility\":\"PUBLIC_LITERAL\",\"qualifiedName\":\"model::chk for valid account number\",\"name\":\"chk for valid account number\",\"id\":12,\"isLeaf\":false,\"isAbstract\":false,\"isFinalSpecialization\":false,\"eClass\":\"UseCase\"},{\"visibility\":\"PUBLIC_LITERAL\",\"qualifiedName\":\"model::Ask for amount to be deposited\",\"name\":\"Ask for amount to be deposited\",\"id\":13,\"isLeaf\":false,\"isAbstract\":false,\"isFinalSpecialization\":false,\"eClass\":\"UseCase\"},{\"isDerived\":false,\"visibility\":\"PUBLIC_LITERAL\",\"qualifiedName\":\"model::Bank Customer_deposits cash/cheque for deposit\",\"name\":\"Bank Customer_deposits cash/cheque for deposit\",\"id\":15,\"isLeaf\":false,\"isAbstract\":false,\"isFinalSpecialization\":false,\"eClass\":\"Association\"},{\"visibility\":\"PUBLIC_LITERAL\",\"qualifiedName\":\"model::send email/text confirming and notifying about the deposit\",\"name\":\"send email/text confirming and notifying about the deposit\",\"id\":16,\"isLeaf\":false,\"isAbstract\":false,\"isFinalSpecialization\":false,\"eClass\":\"UseCase\"},{\"isStatic\":false,\"isDerived\":false,\"visibility\":\"PUBLIC_LITERAL\",\"qualifiedName\":\"model::Bank Customer_Insert Card::insert Card\",\"lower\":0,\"upper\":1,\"isUnique\":true,\"aggregation\":\"NONE_LITERAL\",\"isLeaf\":false,\"eClass\":\"Property\",\"default\":null,\"isReadOnly\":false,\"isComposite\":false,\"isID\":false,\"isDerivedUnion\":false,\"name\":\"insert Card\",\"id\":17,\"isOrdered\":false},{\"isStatic\":false,\"isDerived\":false,\"visibility\":\"PUBLIC_LITERAL\",\"qualifiedName\":\"model::Bank Customer_Insert Card::bank Customer\",\"lower\":0,\"upper\":1,\"isUnique\":true,\"aggregation\":\"NONE_LITERAL\",\"isLeaf\":false,\"eClass\":\"Property\",\"default\":null,\"isReadOnly\":false,\"isComposite\":false,\"isID\":false,\"isDerivedUnion\":false,\"name\":\"bank Customer\",\"id\":18,\"isOrdered\":false},{\"visibility\":\"PUBLIC_LITERAL\",\"qualifiedName\":null,\"name\":null,\"id\":19,\"value\":0,\"eClass\":\"LiteralInteger\"},{\"visibility\":\"PUBLIC_LITERAL\",\"qualifiedName\":null,\"name\":null,\"id\":20,\"value\":1,\"eClass\":\"LiteralInteger\"},{\"visibility\":\"PUBLIC_LITERAL\",\"qualifiedName\":null,\"name\":null,\"id\":21,\"value\":0,\"eClass\":\"LiteralInteger\"},{\"isStatic\":false,\"isDerived\":false,\"visibility\":\"PUBLIC_LITERAL\",\"qualifiedName\":\"model::Bank Customer_Insert Pin::insert Pin\",\"lower\":0,\"upper\":1,\"isUnique\":true,\"aggregation\":\"NONE_LITERAL\",\"isLeaf\":false,\"eClass\":\"Property\",\"default\":null,\"isReadOnly\":false,\"isComposite\":false,\"isID\":false,\"isDerivedUnion\":false,\"name\":\"insert Pin\",\"id\":23,\"isOrdered\":false},{\"isStatic\":false,\"isDerived\":false,\"visibility\":\"PUBLIC_LITERAL\",\"qualifiedName\":\"model::Bank Customer_Insert Pin::bank Customer\",\"lower\":0,\"upper\":1,\"isUnique\":true,\"aggregation\":\"NONE_LITERAL\",\"isLeaf\":false,\"eClass\":\"Property\",\"default\":null,\"isReadOnly\":false,\"isComposite\":false,\"isID\":false,\"isDerivedUnion\":false,\"name\":\"bank Customer\",\"id\":24,\"isOrdered\":false},{\"visibility\":\"PUBLIC_LITERAL\",\"qualifiedName\":null,\"name\":null,\"id\":25,\"value\":0,\"eClass\":\"LiteralInteger\"},{\"visibility\":\"PUBLIC_LITERAL\",\"qualifiedName\":null,\"name\":null,\"id\":26,\"value\":1,\"eClass\":\"LiteralInteger\"},{\"visibility\":\"PUBLIC_LITERAL\",\"qualifiedName\":null,\"name\":null,\"id\":27,\"value\":0,\"eClass\":\"LiteralInteger\"},{\"visibility\":\"PUBLIC_LITERAL\",\"qualifiedName\":null,\"name\":null,\"id\":28,\"value\":1,\"eClass\":\"LiteralInteger\"},{\"isStatic\":false,\"isDerived\":false,\"visibility\":\"PUBLIC_LITERAL\",\"qualifiedName\":\"model::Bank Customer_Display Menu::display Menu\",\"lower\":0,\"upper\":1,\"isUnique\":true,\"aggregation\":\"NONE_LITERAL\",\"isLeaf\":false,\"eClass\":\"Property\",\"default\":null,\"isReadOnly\":false,\"isComposite\":false,\"isID\":false,\"isDerivedUnion\":false,\"name\":\"display Menu\",\"id\":29,\"isOrdered\":false},{\"isStatic\":false,\"isDerived\":false,\"visibility\":\"PUBLIC_LITERAL\",\"qualifiedName\":\"model::Bank Customer_Display Menu::bank Customer\",\"lower\":0,\"upper\":1,\"isUnique\":true,\"aggregation\":\"NONE_LITERAL\",\"isLeaf\":false,\"eClass\":\"Property\",\"default\":null,\"isReadOnly\":false,\"isComposite\":false,\"isID\":false,\"isDerivedUnion\":false,\"name\":\"bank Customer\",\"id\":30,\"isOrdered\":false},{\"visibility\":\"PUBLIC_LITERAL\",\"qualifiedName\":null,\"name\":null,\"id\":31,\"value\":0,\"eClass\":\"LiteralInteger\"},{\"visibility\":\"PUBLIC_LITERAL\",\"qualifiedName\":null,\"name\":null,\"id\":33,\"value\":0,\"eClass\":\"LiteralInteger\"},{\"visibility\":\"PUBLIC_LITERAL\",\"qualifiedName\":null,\"name\":null,\"id\":34,\"value\":1,\"eClass\":\"LiteralInteger\"},{\"isSubstitutable\":true,\"id\":35,\"eClass\":\"Generalization\"},{\"isSubstitutable\":true,\"id\":36,\"eClass\":\"Generalization\"},{\"isSubstitutable\":true,\"id\":38,\"eClass\":\"Generalization\"},{\"visibility\":\"PUBLIC_LITERAL\",\"qualifiedName\":\"model::deposits cash/cheque ::ExtPoint\",\"name\":\"ExtPoint\",\"id\":39,\"isLeaf\":false,\"eClass\":\"ExtensionPoint\"},{\"isStatic\":false,\"isDerived\":false,\"visibility\":\"PUBLIC_LITERAL\",\"qualifiedName\":\"model::Bank Customer_deposits cash/cheque for deposit::deposits cash/cheque for deposit\",\"lower\":0,\"upper\":1,\"isUnique\":true,\"aggregation\":\"NONE_LITERAL\",\"isLeaf\":false,\"eClass\":\"Property\",\"default\":null,\"isReadOnly\":false,\"isComposite\":false,\"isID\":false,\"isDerivedUnion\":false,\"name\":\"deposits cash/cheque for deposit\",\"id\":40,\"isOrdered\":false},{\"isStatic\":false,\"isDerived\":false,\"visibility\":\"PUBLIC_LITERAL\",\"qualifiedName\":\"model::Bank Customer_deposits cash/cheque for deposit::bank Customer\",\"lower\":0,\"upper\":1,\"isUnique\":true,\"aggregation\":\"NONE_LITERAL\",\"isLeaf\":false,\"eClass\":\"Property\",\"default\":null,\"isReadOnly\":false,\"isComposite\":false,\"isID\":false,\"isDerivedUnion\":false,\"name\":\"bank Customer\",\"id\":41,\"isOrdered\":false},{\"visibility\":\"PUBLIC_LITERAL\",\"qualifiedName\":null,\"name\":null,\"id\":43,\"value\":1,\"eClass\":\"LiteralInteger\"},{\"visibility\":\"PUBLIC_LITERAL\",\"qualifiedName\":null,\"name\":null,\"id\":44,\"value\":0,\"eClass\":\"LiteralInteger\"},{\"visibility\":\"PUBLIC_LITERAL\",\"qualifiedName\":null,\"name\":null,\"id\":45,\"value\":1,\"eClass\":\"LiteralInteger\"},{\"visibility\":\"PUBLIC_LITERAL\",\"qualifiedName\":null,\"name\":null,\"id\":46,\"eClass\":\"Extend\"}],\"links\":[{\"source\":0,\"target\":2},{\"source\":0,\"target\":3},{\"source\":0,\"target\":4},{\"source\":0,\"target\":5},{\"source\":0,\"target\":6},{\"source\":0,\"target\":7},{\"source\":0,\"target\":11},{\"source\":0,\"target\":12},{\"source\":0,\"target\":13},{\"source\":0,\"target\":15},{\"source\":0,\"target\":16},{\"source\":6,\"target\":17},{\"source\":6,\"target\":18},{\"source\":6,\"target\":17},{\"source\":6,\"target\":18},{\"source\":6,\"target\":17},{\"source\":6,\"target\":18},{\"source\":17,\"target\":3},{\"source\":17,\"target\":19},{\"source\":17,\"target\":20},{\"source\":17,\"target\":6},{\"source\":17,\"target\":6},{\"source\":18,\"target\":2},{\"source\":18,\"target\":21},{\"source\":18,\"target\":6},{\"source\":18,\"target\":6},{\"source\":7,\"target\":23},{\"source\":7,\"target\":24},{\"source\":7,\"target\":23},{\"source\":7,\"target\":24},{\"source\":7,\"target\":23},{\"source\":7,\"target\":24},{\"source\":23,\"target\":4},{\"source\":23,\"target\":25},{\"source\":23,\"target\":26},{\"source\":23,\"target\":7},{\"source\":23,\"target\":7},{\"source\":24,\"target\":2},{\"source\":24,\"target\":27},{\"source\":24,\"target\":28},{\"source\":24,\"target\":7},{\"source\":24,\"target\":7},{\"source\":29,\"target\":5},{\"source\":29,\"target\":31},{\"source\":30,\"target\":2},{\"source\":30,\"target\":33},{\"source\":30,\"target\":34},{\"source\":35,\"target\":5},{\"source\":11,\"target\":36},{\"source\":36,\"target\":11},{\"source\":13,\"target\":38},{\"source\":38,\"target\":13},{\"source\":15,\"target\":40},{\"source\":15,\"target\":41},{\"source\":15,\"target\":40},{\"source\":15,\"target\":41},{\"source\":15,\"target\":40},{\"source\":15,\"target\":41},{\"source\":40,\"target\":43},{\"source\":40,\"target\":15},{\"source\":40,\"target\":15},{\"source\":41,\"target\":2},{\"source\":41,\"target\":44},{\"source\":41,\"target\":45},{\"source\":41,\"target\":15},{\"source\":41,\"target\":15},{\"source\":16,\"target\":46},{\"source\":46,\"target\":39},{\"source\":46,\"target\":16}],\"multigraph\":true}\n",
      "assistant\n",
      "{\"visibility\":\"PUBLIC_LITERAL\",\"qualifiedName\":\"model::Withdraw Cash\",\"name\":\"Withdraw Cash\",\"id\":8,\"isLeaf\":false,\"isAbstract\":false,\"isFinalSpecialization\":false,\"eClass\":\"UseCase\"},{\"visibility\":\"PUBLIC_LITERAL\n"
     ]
    }
   ],
   "source": [
    "outputs = model.generate(input_ids=input_ids, max_new_tokens=50, temperature=0.6)\n",
    "decoded_output = tokenizer.decode(outputs[0], skip_special_tokens=True)\n",
    "print(decoded_output)"
   ],
   "id": "85dbfb2c700766b6",
   "execution_count": null
  },
  {
   "metadata": {},
   "cell_type": "markdown",
   "source": "## Evaluate LLM",
   "id": "b8b77c6c4c20d15e"
  },
  {
   "metadata": {
    "ExecuteTime": {
     "end_time": "2024-11-29T11:51:20.047466Z",
     "start_time": "2024-11-29T11:51:17.754522Z"
    }
   },
   "cell_type": "code",
   "source": [
    "from datasets import load_dataset\n",
    "from torch.utils.data import DataLoader\n",
    "from transformers import AutoModelForCausalLM, AutoTokenizer, BitsAndBytesConfig, HfArgumentParser\n",
    "import torch\n",
    "from dataclasses import dataclass, field"
   ],
   "id": "78a121c5bd8c8485",
   "outputs": [],
   "execution_count": 1
  },
  {
   "metadata": {
    "ExecuteTime": {
     "end_time": "2024-11-29T11:51:20.061592Z",
     "start_time": "2024-11-29T11:51:20.056350Z"
    }
   },
   "cell_type": "code",
   "source": [
    "@dataclass\n",
    "class ScriptArguments:\n",
    "    \"\"\"\n",
    "    Arguments for evaluation\n",
    "    \"\"\"\n",
    "    checkpoint: str = field(\n",
    "        default= \"D:\\\\LLM\\\\thesisPractical\\\\fine_tuned_models\\\\Qwen2.5-3B-Instruct-software-model_completion\"\n",
    "    )\n",
    "    test_dataset: str = field(\n",
    "        default=\"D:\\\\LLM\\\\thesisPractical\\\\datasets_for_fine_tuning\\\\structural_removal_one\\\\test.jsonl\"\n",
    "    )\n",
    "    max_new_tokens: int = field(\n",
    "        default=100,\n",
    "        metadata={\"help\": \"Maximum number of tokens to generate\"}\n",
    "    )\n",
    "    device: str = field(\n",
    "        default=\"cuda\",\n",
    "        metadata={\"help\": \"Device to run the model on\"}\n",
    "    )\n",
    "    max_length_input: int = field(\n",
    "        default=4100\n",
    "    )\n",
    "    max_length_output: int = field(\n",
    "        default=4100\n",
    "    )\n",
    "    \n",
    "parser = HfArgumentParser(ScriptArguments)\n",
    "# Parse the arguments, ignoring unrecognized ones\n",
    "script_args, remaining_args = parser.parse_args_into_dataclasses(return_remaining_strings=True)    \n"
   ],
   "id": "6040ff02228fff7f",
   "outputs": [],
   "execution_count": 2
  },
  {
   "metadata": {
    "ExecuteTime": {
     "end_time": "2024-11-29T11:51:22.770830Z",
     "start_time": "2024-11-29T11:51:22.762142Z"
    }
   },
   "cell_type": "code",
   "source": "checkpoint = \"D:\\\\LLM\\\\thesisPractical\\\\fine_tuned_models\\\\Qwen2.5-3B-Instruct-software-model_completion\"",
   "id": "22e1b5f108b8c4fd",
   "outputs": [],
   "execution_count": 3
  },
  {
   "metadata": {
    "ExecuteTime": {
     "end_time": "2024-11-29T11:59:16.314819Z",
     "start_time": "2024-11-29T11:59:15.725513Z"
    }
   },
   "cell_type": "code",
   "source": [
    "org_path = \"D:\\\\LLM\\\\thesisPractical\\\\datasets_for_fine_tuning\\\\structural_removal_one\"\n",
    "\n",
    "test_dataset_url = org_path + \"\\\\test.jsonl\"\n",
    "\n",
    "data_files = {\n",
    "    'test': test_dataset_url\n",
    "}\n",
    "\n",
    "dataset = load_dataset('json', data_files=data_files)\n",
    "test_dataset = dataset['test']"
   ],
   "id": "c709332f1c70d33b",
   "outputs": [],
   "execution_count": 33
  },
  {
   "metadata": {
    "ExecuteTime": {
     "end_time": "2024-11-29T11:51:29.425864Z",
     "start_time": "2024-11-29T11:51:25.271567Z"
    }
   },
   "cell_type": "code",
   "source": [
    "quantization_config = BitsAndBytesConfig(\n",
    "    load_in_4bit=True,\n",
    "    bnb_4bit_quant_type=\"nf4\",\n",
    "    bnb_4bit_compute_dtype=torch.float16,\n",
    "    bnb_4bit_use_double_quant=True,\n",
    ")\n",
    "model = AutoModelForCausalLM.from_pretrained(\n",
    "    checkpoint, device_map=\"auto\", quantization_config=quantization_config\n",
    ")\n",
    "tokenizer = AutoTokenizer.from_pretrained(checkpoint)"
   ],
   "id": "dfda235631d5ba35",
   "outputs": [
    {
     "data": {
      "text/plain": [
       "Loading checkpoint shards:   0%|          | 0/2 [00:00<?, ?it/s]"
      ],
      "application/vnd.jupyter.widget-view+json": {
       "version_major": 2,
       "version_minor": 0,
       "model_id": "da2e14be7c304a75a6b43914dffe624e"
      }
     },
     "metadata": {},
     "output_type": "display_data"
    }
   ],
   "execution_count": 5
  },
  {
   "metadata": {
    "ExecuteTime": {
     "end_time": "2024-11-29T11:51:29.431442Z",
     "start_time": "2024-11-29T11:51:29.426481Z"
    }
   },
   "cell_type": "code",
   "source": [
    "instruction2 = \"You are an AI assistant that specializes in UML model completion. Given an incomplete UML model represented in JSON format, output the missing portions of the model in JSON format.\"\n",
    "\n",
    "\n",
    "def compute_length(row):\n",
    "    # Tokenize the \"output\" text\n",
    "    tokens_output = tokenizer(row['output'], truncation=False)  # En\n",
    "    \n",
    "    tokens_input= tokenizer(row['input'], truncation=False) \n",
    "    \n",
    "    # Compute the length (number of tokens)\n",
    "    return {\n",
    "        'output_length': len(tokens_output['input_ids']),\n",
    "        'input_length': len(tokens_input['input_ids'])\n",
    "    }"
   ],
   "id": "1a89549e280bba",
   "outputs": [],
   "execution_count": 6
  },
  {
   "metadata": {
    "ExecuteTime": {
     "end_time": "2024-11-29T11:51:31.225534Z",
     "start_time": "2024-11-29T11:51:31.162823Z"
    }
   },
   "cell_type": "code",
   "source": [
    "# Apply the function to the dataset\n",
    "test_dataset = test_dataset.map(compute_length)\n",
    "max_length = test_dataset['output_length']\n",
    "max_length_output = max(max_length)\n",
    "max_length = test_dataset['input_length']\n",
    "max_length_input = max(max_length)\n",
    "print(max_length_input)\n",
    "print(max_length_output)\n"
   ],
   "id": "a63aa9d3ea363d87",
   "outputs": [
    {
     "name": "stdout",
     "output_type": "stream",
     "text": [
      "3709\n",
      "183\n"
     ]
    }
   ],
   "execution_count": 7
  },
  {
   "metadata": {
    "ExecuteTime": {
     "end_time": "2024-11-29T11:17:10.778651Z",
     "start_time": "2024-11-29T11:17:10.775540Z"
    }
   },
   "cell_type": "code",
   "source": "print(tokenizer.pad_token)",
   "id": "dc67a866da5640ef",
   "outputs": [
    {
     "name": "stdout",
     "output_type": "stream",
     "text": [
      "<|endoftext|>\n"
     ]
    }
   ],
   "execution_count": 9
  },
  {
   "metadata": {
    "ExecuteTime": {
     "end_time": "2024-11-29T11:59:21.445466Z",
     "start_time": "2024-11-29T11:59:21.438143Z"
    }
   },
   "cell_type": "code",
   "source": [
    "def format_chat_template(row):\n",
    "    row_json = [\n",
    "        {\"role\": \"system\", \"content\": instruction2},\n",
    "        {\"role\": \"user\", \"content\": f'Here is the incomplete UML model:\\n{row[\"input\"]}'}\n",
    "    ]\n",
    "    tokenized_input  = tokenizer.apply_chat_template(row_json, tokenize=True, padding=True, padding_side=\"right\", add_generation_prompt=True ,max_length=4100)\n",
    "    print(len(tokenized_input))\n",
    "    tokenized_output = tokenizer(row['output'], truncation=False)\n",
    "    #print(len(tokenized_output['input_ids']))\n",
    "    \n",
    "    row['input_ids'] = tokenized_input\n",
    "    row['labels'] = tokenized_output['input_ids']\n",
    "    return row"
   ],
   "id": "cc988a0642af3605",
   "outputs": [],
   "execution_count": 35
  },
  {
   "metadata": {
    "ExecuteTime": {
     "end_time": "2024-11-29T11:59:22.842795Z",
     "start_time": "2024-11-29T11:59:22.619897Z"
    }
   },
   "cell_type": "code",
   "source": [
    "# Apply the function to the dataset\n",
    "test_dataset = test_dataset.map(format_chat_template)\n",
    "test_dataset = test_dataset.remove_columns([\"input\", \"output\"])\n",
    "test_dataset.set_format(type='torch', columns=['input_ids','labels'])\n",
    "\n",
    "print(test_dataset)"
   ],
   "id": "2bca62ee2bb79d4b",
   "outputs": [
    {
     "data": {
      "text/plain": [
       "Map:   0%|          | 0/49 [00:00<?, ? examples/s]"
      ],
      "application/vnd.jupyter.widget-view+json": {
       "version_major": 2,
       "version_minor": 0,
       "model_id": "de25ad12144f4b1492e23e9a3010843a"
      }
     },
     "metadata": {},
     "output_type": "display_data"
    },
    {
     "name": "stdout",
     "output_type": "stream",
     "text": [
      "2815\n",
      "3461\n",
      "3436\n",
      "3085\n",
      "1546\n",
      "3221\n",
      "3105\n",
      "2393\n",
      "2829\n",
      "3101\n",
      "1652\n",
      "3495\n",
      "2930\n",
      "1701\n",
      "2273\n",
      "2157\n",
      "1973\n",
      "2953\n",
      "2868\n",
      "1876\n",
      "3088\n",
      "2536\n",
      "1972\n",
      "2836\n",
      "2738\n",
      "3565\n",
      "2188\n",
      "2307\n",
      "3123\n",
      "1829\n",
      "3603\n",
      "3101\n",
      "3765\n",
      "3414\n",
      "3101\n",
      "1712\n",
      "1472\n",
      "1810\n",
      "1510\n",
      "3492\n",
      "1547\n",
      "3219\n",
      "3169\n",
      "1109\n",
      "2769\n",
      "1771\n",
      "2842\n",
      "2887\n",
      "3388\n",
      "Dataset({\n",
      "    features: ['input_ids', 'labels'],\n",
      "    num_rows: 49\n",
      "})\n"
     ]
    }
   ],
   "execution_count": 36
  },
  {
   "metadata": {
    "ExecuteTime": {
     "end_time": "2024-11-29T11:59:25.847546Z",
     "start_time": "2024-11-29T11:59:25.843111Z"
    }
   },
   "cell_type": "code",
   "source": [
    "#print(type(test_dataset['input_ids']))\n",
    "print(test_dataset)\n",
    "#for i in test_dataset['input_ids']:\n",
    "    #print(len(i))"
   ],
   "id": "c679fa4269c84fd0",
   "outputs": [
    {
     "name": "stdout",
     "output_type": "stream",
     "text": [
      "Dataset({\n",
      "    features: ['input_ids', 'labels'],\n",
      "    num_rows: 49\n",
      "})\n"
     ]
    }
   ],
   "execution_count": 37
  },
  {
   "metadata": {
    "ExecuteTime": {
     "end_time": "2024-11-29T11:59:27.119395Z",
     "start_time": "2024-11-29T11:59:27.108220Z"
    }
   },
   "cell_type": "code",
   "source": "eval_dataloader = DataLoader(test_dataset, batch_size=1)",
   "id": "eadf6f1ba2792ad4",
   "outputs": [],
   "execution_count": 38
  },
  {
   "metadata": {
    "ExecuteTime": {
     "end_time": "2024-11-29T13:21:02.266252Z",
     "start_time": "2024-11-29T13:21:02.261307Z"
    }
   },
   "cell_type": "code",
   "source": [
    "#print(encode)\n",
    "def align_predictions_labels(generated_ids, labels, pad_token_id, max_length):\n",
    "    \"\"\"\n",
    "    Aligns the lengths of predictions and labels by padding or truncating.\n",
    "\n",
    "    Args:\n",
    "        generated_ids (Tensor): Tensor of shape (batch_size, pred_seq_length)\n",
    "        labels (Tensor): Tensor of shape (batch_size, label_seq_length)\n",
    "        pad_token_id (int): The token ID used for padding.\n",
    "\n",
    "    Returns:\n",
    "        Tuple[Tensor, Tensor]: Aligned predictions and labels.\n",
    "    \"\"\"\n",
    "    global true_predictions\n",
    "    \n",
    "    generated_text = tokenizer.decode(generated_ids[0], skip_special_tokens=False)\n",
    "    predicted_text = generated_text.split(\"assistant\\n\")[1]\n",
    "    predicted_tokens = tokenizer(predicted_text, return_tensors='pt', padding=True, truncation=True, max_length=max_length)['input_ids']\n",
    "    \n",
    "    batch_size, pred_len = predicted_tokens.size()\n",
    "    _, label_len = labels.size()\n",
    "    print(\"prediction length: \")\n",
    "    print(pred_len)\n",
    "    print(\"label length: \")\n",
    "    print(label_len)\n",
    "\n",
    "    if pred_len < label_len:\n",
    "        # Pad predictions\n",
    "        padding = torch.full((batch_size, label_len - pred_len), pad_token_id, dtype=predicted_tokens.dtype).to( predicted_tokens.device)\n",
    "        true_predictions = torch.cat([predicted_tokens, padding], dim=1)\n",
    "    elif pred_len > label_len:\n",
    "        # Truncate predictions\n",
    "        true_predictions =  predicted_tokens[:, :label_len]\n",
    "    else:\n",
    "        true_predictions = predicted_tokens\n",
    "        \n",
    "    \n",
    "    batch_size, pred_len = true_predictions.size()\n",
    "    print(\"true prediction length: \")\n",
    "    print(pred_len)\n",
    "    if  pred_len!= label_len:\n",
    "        raise ValueError(\"The size of the predictions and labels should match.\")\n",
    "\n",
    "    return true_predictions, labels"
   ],
   "id": "2c42c6b5ce5cd8c0",
   "outputs": [],
   "execution_count": 108
  },
  {
   "metadata": {
    "ExecuteTime": {
     "end_time": "2024-11-29T13:30:17.381726Z",
     "start_time": "2024-11-29T13:21:19.872058Z"
    }
   },
   "cell_type": "code",
   "source": [
    "import evaluate\n",
    "device = 'cuda'\n",
    "metric = evaluate.load(\"accuracy\")\n",
    "model.eval()\n",
    "batch1 = next(iter(eval_dataloader))\n",
    "for batch in eval_dataloader:\n",
    "    input_ids = batch['input_ids'].to(device)\n",
    "    labels = batch['labels'].to(device)\n",
    "    with torch.no_grad():\n",
    "         # Generate outputs\n",
    "        generated_ids = model.generate(\n",
    "            input_ids=input_ids,\n",
    "            max_new_tokens=max_length_output,      # Ensure generation does not exceed allocated length\n",
    "            pad_token_id=tokenizer.pad_token_id,\n",
    "            do_sample=False                        # Use deterministic generation; set to True for diversity\n",
    "        ) \n",
    "    aligned_preds, aligned_labels = align_predictions_labels(generated_ids, labels, tokenizer.pad_token_id, 4100)\n",
    "    \n",
    "    # Convert tensors to lists\n",
    "    preds = aligned_preds.cpu().tolist()\n",
    "    refs = aligned_labels.cpu().tolist()\n",
    "    \n",
    "    \n",
    "    # Flatten the lists for overall token-level accuracy\n",
    "    preds_flat = [token for seq in preds for token in seq]\n",
    "    refs_flat = [token for seq in refs for token in seq]\n",
    "    \n",
    "    metric.add_batch(predictions=preds_flat, references=refs_flat)\n",
    "\n",
    "metric.compute()    "
   ],
   "id": "d8314b940e5a96c8",
   "outputs": [
    {
     "name": "stdout",
     "output_type": "stream",
     "text": [
      "prediction length: \n",
      "183\n",
      "label length: \n",
      "45\n",
      "true prediction length: \n",
      "45\n",
      "prediction length: \n",
      "183\n",
      "label length: \n",
      "47\n",
      "true prediction length: \n",
      "47\n",
      "prediction length: \n",
      "183\n",
      "label length: \n",
      "45\n",
      "true prediction length: \n",
      "45\n",
      "prediction length: \n",
      "183\n",
      "label length: \n",
      "51\n",
      "true prediction length: \n",
      "51\n",
      "prediction length: \n",
      "183\n",
      "label length: \n",
      "103\n",
      "true prediction length: \n",
      "103\n",
      "prediction length: \n",
      "183\n",
      "label length: \n",
      "45\n",
      "true prediction length: \n",
      "45\n",
      "prediction length: \n",
      "183\n",
      "label length: \n",
      "165\n",
      "true prediction length: \n",
      "165\n",
      "prediction length: \n",
      "183\n",
      "label length: \n",
      "70\n",
      "true prediction length: \n",
      "70\n",
      "prediction length: \n",
      "183\n",
      "label length: \n",
      "45\n",
      "true prediction length: \n",
      "45\n",
      "prediction length: \n",
      "183\n",
      "label length: \n",
      "165\n",
      "true prediction length: \n",
      "165\n",
      "prediction length: \n",
      "183\n",
      "label length: \n",
      "98\n",
      "true prediction length: \n",
      "98\n",
      "prediction length: \n",
      "183\n",
      "label length: \n",
      "53\n",
      "true prediction length: \n",
      "53\n",
      "prediction length: \n",
      "183\n",
      "label length: \n",
      "183\n",
      "true prediction length: \n",
      "183\n",
      "prediction length: \n",
      "183\n",
      "label length: \n",
      "101\n",
      "true prediction length: \n",
      "101\n",
      "prediction length: \n",
      "183\n",
      "label length: \n",
      "131\n",
      "true prediction length: \n",
      "131\n",
      "prediction length: \n",
      "183\n",
      "label length: \n",
      "45\n",
      "true prediction length: \n",
      "45\n",
      "prediction length: \n",
      "183\n",
      "label length: \n",
      "155\n",
      "true prediction length: \n",
      "155\n",
      "prediction length: \n",
      "183\n",
      "label length: \n",
      "93\n",
      "true prediction length: \n",
      "93\n",
      "prediction length: \n",
      "183\n",
      "label length: \n",
      "47\n",
      "true prediction length: \n",
      "47\n",
      "prediction length: \n",
      "183\n",
      "label length: \n",
      "85\n",
      "true prediction length: \n",
      "85\n",
      "prediction length: \n",
      "183\n",
      "label length: \n",
      "178\n",
      "true prediction length: \n",
      "178\n",
      "prediction length: \n",
      "183\n",
      "label length: \n",
      "44\n",
      "true prediction length: \n",
      "44\n",
      "prediction length: \n",
      "183\n",
      "label length: \n",
      "27\n",
      "true prediction length: \n",
      "27\n",
      "prediction length: \n",
      "183\n",
      "label length: \n",
      "51\n",
      "true prediction length: \n",
      "51\n",
      "prediction length: \n",
      "183\n",
      "label length: \n",
      "118\n",
      "true prediction length: \n",
      "118\n",
      "prediction length: \n",
      "183\n",
      "label length: \n",
      "76\n",
      "true prediction length: \n",
      "76\n",
      "prediction length: \n",
      "183\n",
      "label length: \n",
      "105\n",
      "true prediction length: \n",
      "105\n",
      "prediction length: \n",
      "183\n",
      "label length: \n",
      "73\n",
      "true prediction length: \n",
      "73\n",
      "prediction length: \n",
      "183\n",
      "label length: \n",
      "109\n",
      "true prediction length: \n",
      "109\n",
      "prediction length: \n",
      "183\n",
      "label length: \n",
      "60\n",
      "true prediction length: \n",
      "60\n",
      "prediction length: \n",
      "183\n",
      "label length: \n",
      "106\n",
      "true prediction length: \n",
      "106\n",
      "prediction length: \n",
      "183\n",
      "label length: \n",
      "165\n",
      "true prediction length: \n",
      "165\n",
      "prediction length: \n",
      "183\n",
      "label length: \n",
      "65\n",
      "true prediction length: \n",
      "65\n",
      "prediction length: \n",
      "183\n",
      "label length: \n",
      "102\n",
      "true prediction length: \n",
      "102\n",
      "prediction length: \n",
      "183\n",
      "label length: \n",
      "165\n",
      "true prediction length: \n",
      "165\n",
      "prediction length: \n",
      "183\n",
      "label length: \n",
      "45\n",
      "true prediction length: \n",
      "45\n",
      "prediction length: \n",
      "183\n",
      "label length: \n",
      "98\n",
      "true prediction length: \n",
      "98\n",
      "prediction length: \n",
      "183\n",
      "label length: \n",
      "72\n",
      "true prediction length: \n",
      "72\n",
      "prediction length: \n",
      "183\n",
      "label length: \n",
      "157\n",
      "true prediction length: \n",
      "157\n",
      "prediction length: \n",
      "183\n",
      "label length: \n",
      "98\n",
      "true prediction length: \n",
      "98\n",
      "prediction length: \n",
      "183\n",
      "label length: \n",
      "105\n",
      "true prediction length: \n",
      "105\n",
      "prediction length: \n",
      "183\n",
      "label length: \n",
      "47\n",
      "true prediction length: \n",
      "47\n",
      "prediction length: \n",
      "183\n",
      "label length: \n",
      "126\n",
      "true prediction length: \n",
      "126\n",
      "prediction length: \n",
      "164\n",
      "label length: \n",
      "74\n",
      "true prediction length: \n",
      "74\n",
      "prediction length: \n",
      "183\n",
      "label length: \n",
      "96\n",
      "true prediction length: \n",
      "96\n",
      "prediction length: \n",
      "183\n",
      "label length: \n",
      "98\n",
      "true prediction length: \n",
      "98\n",
      "prediction length: \n",
      "183\n",
      "label length: \n",
      "45\n",
      "true prediction length: \n",
      "45\n",
      "prediction length: \n",
      "183\n",
      "label length: \n",
      "106\n",
      "true prediction length: \n",
      "106\n",
      "prediction length: \n",
      "183\n",
      "label length: \n",
      "101\n",
      "true prediction length: \n",
      "101\n"
     ]
    },
    {
     "data": {
      "text/plain": [
       "{'accuracy': 0.16079393398751116}"
      ]
     },
     "execution_count": 109,
     "metadata": {},
     "output_type": "execute_result"
    }
   ],
   "execution_count": 109
  },
  {
   "metadata": {
    "ExecuteTime": {
     "end_time": "2024-11-29T12:42:02.562668Z",
     "start_time": "2024-11-29T12:42:02.551439Z"
    }
   },
   "cell_type": "code",
   "outputs": [
    {
     "name": "stdout",
     "output_type": "stream",
     "text": [
      "2998\n",
      "183\n",
      "tensor([[  4913,  20008,  66582,  28176,   3252,  59259,  78047,   2198,  36335,\n",
      "            675, 151643, 151643, 151643, 151643, 151643, 151643, 151643, 151643,\n",
      "         151643, 151643, 151643, 151643, 151643, 151643, 151643, 151643, 151643,\n",
      "         151643, 151643, 151643, 151643, 151643, 151643, 151643, 151643, 151643,\n",
      "         151643, 151643, 151643, 151643, 151643, 151643, 151643, 151643, 151643]])\n",
      "45\n",
      "45\n",
      "{\"nodes\":[{\"visibility\":\"PUBLIC_LITERAL\",\"qualifiedName\n"
     ]
    }
   ],
   "execution_count": 92,
   "source": [
    "batch_size, pred_len = generated_ids.size()\n",
    "print(pred_len)\n",
    "#print(generated_ids)\n",
    "text = tokenizer.decode(generated_ids[0], skip_special_tokens=False)\n",
    "out = text.split(\"assistant\\n\")[1]\n",
    "inp = text.split(\"assistant\\n\")[0]\n",
    "encode_out = tokenizer(out, return_tensors='pt', padding=True, truncation=True, max_length=4100)['input_ids']\n",
    "encode_inp = tokenizer(inp + \"assistant\\n\", return_tensors='pt', padding=True, truncation=True, max_length=4100)['input_ids']\n",
    "batch_size, pred_len = encode_out.size()\n",
    "print(pred_len)\n",
    "encode_out = encode_out[:, :10]\n",
    "batch_size, pred_len = encode_out.size()\n",
    "\n",
    "\n",
    "\n",
    "\n",
    "\n",
    "_, label_len = labels.size()\n",
    "if pred_len < label_len:\n",
    "  # Pad predictions\n",
    "  padding = torch.full((batch_size, label_len - pred_len), tokenizer.pad_token_id, dtype=encode_out.dtype).to(encode_out.device)\n",
    "  encode_out = torch.cat([encode_out, padding], dim=1)\n",
    "elif pred_len > label_len:\n",
    "  # Truncate predictions\n",
    "  encode_out = encode_out[:, :label_len]\n",
    "\n",
    "batch_size, pred_len = encode_out.size()\n",
    "print(encode_out)\n",
    "print(pred_len)\n",
    "print(label_len)\n",
    "text = tokenizer.decode(encode_out[0], skip_special_tokens=True)\n",
    "print(text)\n",
    "\n"
   ],
   "id": "2544bee898013f58"
  },
  {
   "metadata": {
    "ExecuteTime": {
     "end_time": "2024-11-29T12:28:30.335808Z",
     "start_time": "2024-11-29T12:28:30.332355Z"
    }
   },
   "cell_type": "code",
   "source": "print(text)",
   "id": "732cfc6e649916e2",
   "outputs": [
    {
     "name": "stdout",
     "output_type": "stream",
     "text": [
      "<|im_start|>system\n",
      "You are an AI assistant that specializes in UML model completion. Given an incomplete UML model represented in JSON format, output the missing portions of the model in JSON format.<|im_end|>\n",
      "<|im_start|>user\n",
      "Here is the incomplete UML model:\n",
      "{\"directed\":true,\"nodes\":[{\"viewpoint\":null,\"visibility\":\"PUBLIC_LITERAL\",\"qualifiedName\":\"model\",\"name\":\"model\",\"id\":0,\"URI\":null,\"eClass\":\"Model\"},{\"visibility\":\"PUBLIC_LITERAL\",\"id\":1,\"eClass\":\"PackageImport\"},{\"visibility\":\"PUBLIC_LITERAL\",\"qualifiedName\":\"model::Actor\",\"name\":\"Actor\",\"id\":2,\"isLeaf\":false,\"isAbstract\":false,\"isFinalSpecialization\":false,\"eClass\":\"Actor\"},{\"visibility\":\"PUBLIC_LITERAL\",\"qualifiedName\":\"model::UseCase\",\"name\":\"UseCase\",\"id\":3,\"isLeaf\":false,\"isAbstract\":false,\"isFinalSpecialization\":false,\"eClass\":\"UseCase\"},{\"visibility\":\"PUBLIC_LITERAL\",\"qualifiedName\":\"model::UseCase2\",\"name\":\"UseCase2\",\"id\":4,\"isLeaf\":false,\"isAbstract\":false,\"isFinalSpecialization\":false,\"eClass\":\"UseCase\"},{\"isDerived\":false,\"visibility\":\"PUBLIC_LITERAL\",\"qualifiedName\":\"model::Actor_UseCase\",\"name\":\"Actor_UseCase\",\"id\":5,\"isLeaf\":false,\"isAbstract\":false,\"isFinalSpecialization\":false,\"eClass\":\"Association\"},{\"isDerived\":false,\"visibility\":\"PUBLIC_LITERAL\",\"qualifiedName\":\"model::Actor_UseCase2\",\"name\":\"Actor_UseCase2\",\"id\":6,\"isLeaf\":false,\"isAbstract\":false,\"isFinalSpecialization\":false,\"eClass\":\"Association\"},{\"visibility\":\"PUBLIC_LITERAL\",\"qualifiedName\":\"model::UseCase3\",\"name\":\"UseCase3\",\"id\":7,\"isLeaf\":false,\"isAbstract\":false,\"isFinalSpecialization\":false,\"eClass\":\"UseCase\"},{\"visibility\":\"PUBLIC_LITERAL\",\"qualifiedName\":\"model::UseCase4\",\"name\":\"UseCase4\",\"id\":8,\"isLeaf\":false,\"isAbstract\":false,\"isFinalSpecialization\":false,\"eClass\":\"UseCase\"},{\"visibility\":\"PUBLIC_LITERAL\",\"qualifiedName\":\"model::UseCase5\",\"name\":\"UseCase5\",\"id\":9,\"isLeaf\":false,\"isAbstract\":false,\"isFinalSpecialization\":false,\"eClass\":\"UseCase\"},{\"visibility\":\"PUBLIC_LITERAL\",\"qualifiedName\":\"model::Interaction\",\"name\":\"Interaction\",\"id\":10,\"isActive\":false,\"isReentrant\":true,\"isLeaf\":false,\"isAbstract\":false,\"isFinalSpecialization\":false,\"eClass\":\"Interaction\"},{\"visibility\":\"PUBLIC_LITERAL\",\"qualifiedName\":\"model::Class\",\"name\":\"Class\",\"id\":11,\"isActive\":false,\"isLeaf\":false,\"isAbstract\":false,\"isFinalSpecialization\":false,\"eClass\":\"Class\"},{\"visibility\":\"PUBLIC_LITERAL\",\"qualifiedName\":\"model::UseCase6\",\"name\":\"UseCase6\",\"id\":12,\"isLeaf\":false,\"isAbstract\":false,\"isFinalSpecialization\":false,\"eClass\":\"UseCase\"},{\"visibility\":\"PUBLIC_LITERAL\",\"qualifiedName\":\"model::UseCase7\",\"name\":\"UseCase7\",\"id\":13,\"isLeaf\":false,\"isAbstract\":false,\"isFinalSpecialization\":false,\"eClass\":\"UseCase\"},{\"isDerived\":false,\"visibility\":\"PUBLIC_LITERAL\",\"qualifiedName\":\"model::Actor_UseCase6\",\"name\":\"Actor_UseCase6\",\"id\":14,\"isLeaf\":false,\"isAbstract\":false,\"isFinalSpecialization\":false,\"eClass\":\"Association\"},{\"isDerived\":false,\"visibility\":\"PUBLIC_LITERAL\",\"qualifiedName\":\"model::Actor_UseCase7\",\"name\":\"Actor_UseCase7\",\"id\":15,\"isLeaf\":false,\"isAbstract\":false,\"isFinalSpecialization\":false,\"eClass\":\"Association\"},{\"visibility\":\"PUBLIC_LITERAL\",\"qualifiedName\":null,\"name\":null,\"id\":16,\"eClass\":\"Include\"},{\"isStatic\":false,\"isDerived\":false,\"visibility\":\"PUBLIC_LITERAL\",\"qualifiedName\":\"model::Actor_UseCase::actor\",\"lower\":0,\"upper\":1,\"isUnique\":true,\"aggregation\":\"NONE_LITERAL\",\"isLeaf\":false,\"eClass\":\"Property\",\"default\":null,\"isReadOnly\":false,\"isComposite\":false,\"isID\":false,\"isDerivedUnion\":false,\"name\":\"actor\",\"id\":17,\"isOrdered\":false},{\"isStatic\":false,\"isDerived\":false,\"visibility\":\"PUBLIC_LITERAL\",\"qualifiedName\":\"model::Actor_UseCase::useCase\",\"lower\":0,\"upper\":1,\"isUnique\":true,\"aggregation\":\"NONE_LITERAL\",\"isLeaf\":false,\"eClass\":\"Property\",\"default\":null,\"isReadOnly\":false,\"isComposite\":false,\"isID\":false,\"isDerivedUnion\":false,\"name\":\"useCase\",\"id\":18,\"isOrdered\":false},{\"visibility\":\"PUBLIC_LITERAL\",\"qualifiedName\":null,\"name\":null,\"id\":19,\"value\":0,\"eClass\":\"LiteralInteger\"},{\"visibility\":\"PUBLIC_LITERAL\",\"qualifiedName\":null,\"name\":null,\"id\":20,\"value\":1,\"eClass\":\"LiteralInteger\"},{\"visibility\":\"PUBLIC_LITERAL\",\"qualifiedName\":null,\"name\":null,\"id\":21,\"value\":0,\"eClass\":\"LiteralInteger\"},{\"visibility\":\"PUBLIC_LITERAL\",\"qualifiedName\":null,\"name\":null,\"id\":22,\"value\":1,\"eClass\":\"LiteralInteger\"},{\"isStatic\":false,\"isDerived\":false,\"visibility\":\"PUBLIC_LITERAL\",\"qualifiedName\":\"model::Actor_UseCase2::actor\",\"lower\":0,\"upper\":1,\"isUnique\":true,\"aggregation\":\"NONE_LITERAL\",\"isLeaf\":false,\"eClass\":\"Property\",\"default\":null,\"isReadOnly\":false,\"isComposite\":false,\"isID\":false,\"isDerivedUnion\":false,\"name\":\"actor\",\"id\":23,\"isOrdered\":false},{\"isStatic\":false,\"isDerived\":false,\"visibility\":\"PUBLIC_LITERAL\",\"qualifiedName\":\"model::Actor_UseCase2::useCase2\",\"lower\":0,\"upper\":1,\"isUnique\":true,\"aggregation\":\"NONE_LITERAL\",\"isLeaf\":false,\"eClass\":\"Property\",\"default\":null,\"isReadOnly\":false,\"isComposite\":false,\"isID\":false,\"isDerivedUnion\":false,\"name\":\"useCase2\",\"id\":24,\"isOrdered\":false},{\"visibility\":\"PUBLIC_LITERAL\",\"qualifiedName\":null,\"name\":null,\"id\":25,\"value\":0,\"eClass\":\"LiteralInteger\"},{\"visibility\":\"PUBLIC_LITERAL\",\"qualifiedName\":null,\"name\":null,\"id\":26,\"value\":1,\"eClass\":\"LiteralInteger\"},{\"visibility\":\"PUBLIC_LITERAL\",\"qualifiedName\":null,\"name\":null,\"id\":27,\"value\":0,\"eClass\":\"LiteralInteger\"},{\"isStatic\":false,\"isDerived\":false,\"visibility\":\"PUBLIC_LITERAL\",\"qualifiedName\":\"model::Actor_UseCase6::useCase6\",\"lower\":0,\"upper\":1,\"isUnique\":true,\"aggregation\":\"NONE_LITERAL\",\"isLeaf\":false,\"eClass\":\"Property\",\"default\":null,\"isReadOnly\":false,\"isComposite\":false,\"isID\":false,\"isDerivedUnion\":false,\"name\":\"useCase6\",\"id\":29,\"isOrdered\":false},{\"isStatic\":false,\"isDerived\":false,\"visibility\":\"PUBLIC_LITERAL\",\"qualifiedName\":\"model::Actor_UseCase6::actor\",\"lower\":0,\"upper\":1,\"isUnique\":true,\"aggregation\":\"NONE_LITERAL\",\"isLeaf\":false,\"eClass\":\"Property\",\"default\":null,\"isReadOnly\":false,\"isComposite\":false,\"isID\":false,\"isDerivedUnion\":false,\"name\":\"actor\",\"id\":30,\"isOrdered\":false},{\"visibility\":\"PUBLIC_LITERAL\",\"qualifiedName\":null,\"name\":null,\"id\":31,\"value\":0,\"eClass\":\"LiteralInteger\"},{\"visibility\":\"PUBLIC_LITERAL\",\"qualifiedName\":null,\"name\":null,\"id\":32,\"value\":1,\"eClass\":\"LiteralInteger\"},{\"visibility\":\"PUBLIC_LITERAL\",\"qualifiedName\":null,\"name\":null,\"id\":33,\"value\":0,\"eClass\":\"LiteralInteger\"},{\"visibility\":\"PUBLIC_LITERAL\",\"qualifiedName\":null,\"name\":null,\"id\":34,\"value\":1,\"eClass\":\"LiteralInteger\"},{\"isStatic\":false,\"isDerived\":false,\"visibility\":\"PUBLIC_LITERAL\",\"qualifiedName\":\"model::Actor_UseCase7::useCase7\",\"lower\":0,\"upper\":1,\"isUnique\":true,\"aggregation\":\"NONE_LITERAL\",\"isLeaf\":false,\"eClass\":\"Property\",\"default\":null,\"isReadOnly\":false,\"isComposite\":false,\"isID\":false,\"isDerivedUnion\":false,\"name\":\"useCase7\",\"id\":35,\"isOrdered\":false},{\"isStatic\":false,\"isDerived\":false,\"visibility\":\"PUBLIC_LITERAL\",\"qualifiedName\":\"model::Actor_UseCase7::actor\",\"lower\":0,\"upper\":1,\"isUnique\":true,\"aggregation\":\"NONE_LITERAL\",\"isLeaf\":false,\"eClass\":\"Property\",\"default\":null,\"isReadOnly\":false,\"isComposite\":false,\"isID\":false,\"isDerivedUnion\":false,\"name\":\"actor\",\"id\":36,\"isOrdered\":false},{\"visibility\":\"PUBLIC_LITERAL\",\"qualifiedName\":null,\"name\":null,\"id\":37,\"value\":0,\"eClass\":\"LiteralInteger\"},{\"visibility\":\"PUBLIC_LITERAL\",\"qualifiedName\":null,\"name\":null,\"id\":38,\"value\":1,\"eClass\":\"LiteralInteger\"},{\"visibility\":\"PUBLIC_LITERAL\",\"qualifiedName\":null,\"name\":null,\"id\":39,\"value\":0,\"eClass\":\"LiteralInteger\"},{\"visibility\":\"PUBLIC_LITERAL\",\"qualifiedName\":null,\"name\":null,\"id\":40,\"value\":1,\"eClass\":\"LiteralInteger\"}],\"links\":[{\"source\":0,\"target\":1},{\"source\":0,\"target\":2},{\"source\":0,\"target\":3},{\"source\":0,\"target\":4},{\"source\":0,\"target\":5},{\"source\":0,\"target\":6},{\"source\":0,\"target\":7},{\"source\":0,\"target\":8},{\"source\":0,\"target\":9},{\"source\":0,\"target\":10},{\"source\":0,\"target\":11},{\"source\":0,\"target\":12},{\"source\":0,\"target\":13},{\"source\":0,\"target\":14},{\"source\":0,\"target\":15},{\"source\":1,\"target\":0},{\"source\":3,\"target\":16},{\"source\":16,\"target\":7},{\"source\":16,\"target\":3},{\"source\":5,\"target\":17},{\"source\":5,\"target\":18},{\"source\":5,\"target\":18},{\"source\":5,\"target\":17},{\"source\":5,\"target\":18},{\"source\":5,\"target\":17},{\"source\":18,\"target\":3},{\"source\":18,\"target\":19},{\"source\":18,\"target\":20},{\"source\":18,\"target\":5},{\"source\":18,\"target\":5},{\"source\":17,\"target\":2},{\"source\":17,\"target\":21},{\"source\":17,\"target\":22},{\"source\":17,\"target\":5},{\"source\":17,\"target\":5},{\"source\":6,\"target\":23},{\"source\":6,\"target\":24},{\"source\":6,\"target\":24},{\"source\":6,\"target\":23},{\"source\":6,\"target\":24},{\"source\":6,\"target\":23},{\"source\":24,\"target\":4},{\"source\":24,\"target\":25},{\"source\":24,\"target\":26},{\"source\":24,\"target\":6},{\"source\":24,\"target\":6},{\"source\":23,\"target\":2},{\"source\":23,\"target\":27},{\"source\":23,\"target\":6},{\"source\":23,\"target\":6},{\"source\":14,\"target\":29},{\"source\":14,\"target\":30},{\"source\":14,\"target\":29},{\"source\":14,\"target\":30},{\"source\":14,\"target\":29},{\"source\":14,\"target\":30},{\"source\":29,\"target\":12},{\"source\":29,\"target\":31},{\"source\":29,\"target\":32},{\"source\":29,\"target\":14},{\"source\":29,\"target\":14},{\"source\":30,\"target\":2},{\"source\":30,\"target\":33},{\"source\":30,\"target\":34},{\"source\":30,\"target\":14},{\"source\":30,\"target\":14},{\"source\":15,\"target\":35},{\"source\":15,\"target\":36},{\"source\":15,\"target\":35},{\"source\":15,\"target\":36},{\"source\":15,\"target\":35},{\"source\":15,\"target\":36},{\"source\":35,\"target\":13},{\"source\":35,\"target\":37},{\"source\":35,\"target\":38},{\"source\":35,\"target\":15},{\"source\":35,\"target\":15},{\"source\":36,\"target\":2},{\"source\":36,\"target\":39},{\"source\":36,\"target\":40},{\"source\":36,\"target\":15},{\"source\":36,\"target\":15}],\"multigraph\":true}<|im_end|>\n",
      "<|im_start|>assistant\n",
      "{\"nodes\":[{\"visibility\":\"PUBLIC_LITERAL\",\"qualifiedName\":\"model::UseCase8\",\"name\":\"UseCase8\",\"id\":15,\"isLeaf\":false,\"isAbstract\":false,\"isFinalSpecialization\":false,\"eClass\":\"UseCase\"},{\"visibility\":\"PUBLIC_LITERAL\",\"qualifiedName\":\"model::UseCase9\",\"name\":\"UseCase9\",\"id\":16,\"isLeaf\":false,\"isAbstract\":false,\"isFinalSpecialization\":false,\"eClass\":\"UseCase\"},{\"visibility\":\"PUBLIC_LITERAL\",\"qualifiedName\":\"model::UseCase10\",\"name\":\"UseCase10\",\"id\":17,\"isLeaf\":false,\"isAbstract\":false,\"isFinalSpecialization\":false,\"eClass\":\"UseCase\"},{\"visibility\":\"PUBLIC_LITERAL\",\"qualifiedName\":\"model::UseCase11\",\"name\":\"UseCase11\",\"id\":18,\"isLeaf\":false,\"isAbstract\n"
     ]
    }
   ],
   "execution_count": 79
  }
 ],
 "metadata": {
  "kernelspec": {
   "display_name": "Python 3",
   "language": "python",
   "name": "python3"
  },
  "language_info": {
   "codemirror_mode": {
    "name": "ipython",
    "version": 2
   },
   "file_extension": ".py",
   "mimetype": "text/x-python",
   "name": "python",
   "nbconvert_exporter": "python",
   "pygments_lexer": "ipython2",
   "version": "2.7.6"
  }
 },
 "nbformat": 4,
 "nbformat_minor": 5
}
