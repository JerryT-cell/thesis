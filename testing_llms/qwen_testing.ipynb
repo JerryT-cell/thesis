{
 "cells": [
  {
   "metadata": {},
   "cell_type": "markdown",
   "source": "## This script is there to go through the Qwen model and see how it works.",
   "id": "156dd67fecff98c1"
  },
  {
   "metadata": {},
   "cell_type": "markdown",
   "source": "Let's start by importing the necessary libraries.",
   "id": "d23c3afecbc43e8c"
  },
  {
   "metadata": {
    "ExecuteTime": {
     "end_time": "2024-11-21T08:03:47.381796Z",
     "start_time": "2024-11-21T08:03:45.320220Z"
    }
   },
   "cell_type": "code",
   "source": "from transformers import AutoModelForCausalLM, AutoTokenizer, Starcoder2ForCausalLM, Qwen2ForCausalLM",
   "id": "4fe09365c9cf4c29",
   "outputs": [],
   "execution_count": 2
  },
  {
   "metadata": {},
   "cell_type": "markdown",
   "source": "get the model and tokenizer from the checkpoint.",
   "id": "fc8009f7316074d0"
  },
  {
   "metadata": {
    "ExecuteTime": {
     "end_time": "2024-11-21T08:03:54.650523Z",
     "start_time": "2024-11-21T08:03:54.647784Z"
    }
   },
   "cell_type": "code",
   "source": [
    "checkpoint = \"Qwen/Qwen2.5-3B-Instruct\"\n",
    "device = \"cuda\""
   ],
   "id": "1bae35c7d52292dc",
   "outputs": [],
   "execution_count": 4
  },
  {
   "metadata": {
    "ExecuteTime": {
     "end_time": "2024-11-21T08:03:55.999979Z",
     "start_time": "2024-11-21T08:03:55.449632Z"
    }
   },
   "cell_type": "code",
   "source": [
    "tokenizer = AutoTokenizer.from_pretrained(checkpoint)\n",
    "\n",
    "model = AutoModelForCausalLM.from_pretrained(checkpoint).to(device)"
   ],
   "id": "31e755d7f9af815e",
   "outputs": [],
   "execution_count": 5
  },
  {
   "metadata": {
    "ExecuteTime": {
     "end_time": "2024-11-21T08:04:17.786614Z",
     "start_time": "2024-11-21T08:04:17.783960Z"
    }
   },
   "cell_type": "code",
   "source": [
    "# test_data = dataset[\"test\"]\n",
    "instruction =\"You are a helpful programmer instruction\"\n",
    "\n",
    "messages = [{\"role\": \"system\", \"content\": instruction},\n",
    "            {\"role\": \"user\", \"content\": \"write a function that takes a list of integers and returns the sum of all the integers in the list in java.\"},\n",
    "            {\"role\": \"assistant\", \"content\": \"write a function that takes a list of integers and returns the sum of all the integers in the list in java.\"}]"
   ],
   "id": "2fcdddc96b0b38a2",
   "outputs": [],
   "execution_count": 9
  },
  {
   "metadata": {},
   "cell_type": "markdown",
   "source": "Test the model with a simple input.",
   "id": "15094c93541ff3ed"
  },
  {
   "metadata": {
    "ExecuteTime": {
     "end_time": "2024-11-21T08:04:20.245608Z",
     "start_time": "2024-11-21T08:04:20.242971Z"
    }
   },
   "cell_type": "code",
   "source": [
    "text = tokenizer.apply_chat_template(\n",
    "    messages,\n",
    "    tokenize=False,\n",
    "    add_generation_prompt=True\n",
    ")\n",
    "print(text)\n",
    "model_inputs = tokenizer([text], return_tensors=\"pt\").to(model.device)"
   ],
   "id": "386aa4c5ef708e8d",
   "outputs": [
    {
     "name": "stdout",
     "output_type": "stream",
     "text": [
      "<|im_start|>system\n",
      "You are a helpful programmer instruction<|im_end|>\n",
      "<|im_start|>user\n",
      "write a function that takes a list of integers and returns the sum of all the integers in the list in java.<|im_end|>\n",
      "<|im_start|>assistant\n",
      "write a function that takes a list of integers and returns the sum of all the integers in the list in java.<|im_end|>\n",
      "<|im_start|>assistant\n",
      "\n"
     ]
    }
   ],
   "execution_count": 10
  },
  {
   "metadata": {
    "ExecuteTime": {
     "end_time": "2024-11-19T20:31:11.221190Z",
     "start_time": "2024-11-19T20:30:19.849355Z"
    }
   },
   "cell_type": "code",
   "source": [
    "generated_ids0 = model.generate(\n",
    "    **model_inputs,\n",
    "    max_new_tokens=300\n",
    ")\n",
    "generated_ids = [\n",
    "    output_ids[len(input_ids):] for input_ids, output_ids in zip(model_inputs.input_ids, generated_ids0)\n",
    "]\n",
    "\n",
    "response = tokenizer.batch_decode(generated_ids, skip_special_tokens=True)[0]\n",
    "print(response)\n"
   ],
   "id": "742f916c9c8e3fdf",
   "outputs": [
    {
     "name": "stdout",
     "output_type": "stream",
     "text": [
      "Certainly! Below is a simple Java function that takes a list of integers and returns the sum of all the integers in the list:\n",
      "\n",
      "```java\n",
      "import java.util.ArrayList;\n",
      "import java.util.Arrays;\n",
      "\n",
      "public class SumCalculator {\n",
      "\n",
      "    /**\n",
      "     * Calculates the sum of all elements in the given list of integers.\n",
      "     *\n",
      "     * @param numbers An ArrayList of Integer values.\n",
      "     * @return The sum of all elements in the list.\n",
      "     */\n",
      "    public static int calculateSum(ArrayList<Integer> numbers) {\n",
      "        return numbers.stream().mapToInt(Integer::intValue).sum();\n",
      "    }\n",
      "\n",
      "    public static void main(String[] args) {\n",
      "        // Example usage:\n",
      "        ArrayList<Integer> exampleList = new ArrayList<>(Arrays.asList(1, 2, 3, 4, 5));\n",
      "        System.out.println(\"The sum of the list is: \" + calculateSum(exampleList));\n",
      "        \n",
      "        // Additional test cases\n",
      "        ArrayList<Integer> emptyList = new ArrayList<>();\n",
      "        System.out.println(\"The sum of the empty list is: \" + calculateSum(emptyList));\n",
      "        \n",
      "        ArrayList<Integer> mixedList = new ArrayList<>(Arrays.asList(-1, 0, 1, -2, 3));\n",
      "        System.out.println(\"The sum of the mixed list is: \" + calculateSum(mixedList));\n",
      "    }\n",
      "}\n",
      "```\n",
      "\n",
      "### Explanation:\n",
      "- **Import Statements**: We import `ArrayList` from `java.util` to use it and `Arrays.asList` to create an example list.\n",
      "\n"
     ]
    }
   ],
   "execution_count": 10
  },
  {
   "metadata": {
    "ExecuteTime": {
     "end_time": "2024-11-19T20:29:04.365376Z",
     "start_time": "2024-11-19T20:29:04.361463Z"
    }
   },
   "cell_type": "code",
   "source": [
    "#print(generated_ids)\n",
    "output = tokenizer.decode(generated_ids[0], skip_special_tokens=True)\n",
    "print(output)"
   ],
   "id": "c0e0816358517e3f",
   "outputs": [
    {
     "name": "stdout",
     "output_type": "stream",
     "text": [
      "Certainly! Below is a simple Java function that takes a list of integers and returns the sum of all the integers in the list:\n",
      "\n",
      "```java\n",
      "import java.util.ArrayList;\n",
      "import java.util.Arrays;\n",
      "\n",
      "public class SumCalculator {\n",
      "    /**\n",
      "     * Calculates the sum of all elements in the given list.\n",
      "     * \n",
      "     * @param numbers An ArrayList of Integers.\n",
      "     * @return The sum of all elements in the list.\n",
      "     */\n",
      "    public static int calculateSum(ArrayList<Integer> numbers) {\n",
      "        return numbers.stream().mapToInt(Integer::intValue).sum();\n",
      "    }\n",
      "\n",
      "    public static void main(String[] args) {\n",
      "        // Example usage:\n",
      "        ArrayList<Integer> exampleList = new ArrayList<>(Arrays.asList(1, 2, 3, 4, 5));\n",
      "        System.out.println(\"The sum of the list is: \" + calculateSum(exampleList));\n",
      "        \n",
      "        // Additional test cases\n",
      "        ArrayList<Integer> emptyList = new ArrayList<>();\n",
      "        System.out.println(\"The sum of an empty list is: \" + calculateSum(emptyList));\n",
      "        \n",
      "        ArrayList<Integer> mixedList = new ArrayList<>(Arrays.asList(-1, -2, 3, 4, -5));\n",
      "        System.out.println(\"The sum of the mixed list is: \" + calculateSum(mixedList));\n",
      "    }\n",
      "}\n",
      "```\n",
      "\n",
      "### Explanation:\n",
      "- **`ArrayList<Integer>`**: This is used to store the integers.\n",
      "- **`calculateSum` method**: This method uses Java Streams to convert\n"
     ]
    }
   ],
   "execution_count": 9
  },
  {
   "metadata": {},
   "cell_type": "markdown",
   "source": "### LLMs for software Model Completion",
   "id": "39c2657c21e8c73f"
  },
  {
   "metadata": {},
   "cell_type": "code",
   "outputs": [],
   "execution_count": null,
   "source": [
    "from datasets import load_dataset\n",
    "import torch\n",
    "from transformers import AutoTokenizer, AutoModelForCausalLM, BitsAndBytesConfig"
   ],
   "id": "32dcb98d575125bd"
  },
  {
   "metadata": {},
   "cell_type": "code",
   "outputs": [],
   "execution_count": null,
   "source": "checkpoint = \"\"",
   "id": "f43c7bd2801eb2f4"
  },
  {
   "metadata": {},
   "cell_type": "code",
   "outputs": [],
   "execution_count": null,
   "source": [
    "instruction = \"You are an AI assistant that specializes in UML model completion. Given an incomplete UML model represented in JSON format, output the missing portions of the model in JSON format.\"\n",
    "\n",
    "def format_chat_template_to_print(input):\n",
    "    row_json = [\n",
    "        {\"role\": \"system\", \"content\": instruction},\n",
    "        {\"role\": \"user\", \"content\": f'Here is the incomplete UML model:\\n{input}'}\n",
    "    ] \n",
    "    return tokenizer.apply_chat_template(row_json, tokenize=False, add_generation_prompt=True)\n",
    "\n",
    "def format_chat_template(input):\n",
    "    row_json = [\n",
    "        {\"role\": \"system\", \"content\": instruction},\n",
    "        {\"role\": \"user\", \"content\": f'Here is the incomplete UML model:\\n{input}'}\n",
    "    ] \n",
    "    return tokenizer.apply_chat_template(row_json, tokenize=True, return_tensors=\"pt\", add_generation_prompt=True).to(\"cuda\")"
   ],
   "id": "92c14135e62af1a6"
  },
  {
   "metadata": {},
   "cell_type": "code",
   "outputs": [],
   "execution_count": null,
   "source": [
    "quantization_config = BitsAndBytesConfig(\n",
    "    load_in_4bit=True,\n",
    "    bnb_4bit_quant_type=\"nf4\",\n",
    "    bnb_4bit_compute_dtype=torch.float16,\n",
    "    bnb_4bit_use_double_quant=True,\n",
    ")\n",
    "model = AutoModelForCausalLM.from_pretrained(\n",
    "    checkpoint,\n",
    "    quantization_config=quantization_config,\n",
    "    device_map =\"auto\",\n",
    "    attn_implementation=\"eager\"\n",
    ")\n",
    "tokenizer = AutoTokenizer.from_pretrained(checkpoint)"
   ],
   "id": "4f9ea55ce0200438"
  },
  {
   "metadata": {},
   "cell_type": "code",
   "outputs": [],
   "execution_count": null,
   "source": [
    "org_path = \"D:\\LLM\\\\thesisPractical\\\\datasets\\\\structural_removal_non_contiguous\\\\processed_4000\"\n",
    "\n",
    "test_dataset_url = org_path + \"\\\\test.jsonl\"\n",
    "\n",
    "data_files = {\n",
    "    'test': test_dataset_url\n",
    "}\n",
    "\n",
    "dataset = load_dataset('json', data_files=data_files)\n",
    "test_dataset = dataset['test']"
   ],
   "id": "e2505bcbe6369143"
  },
  {
   "metadata": {},
   "cell_type": "code",
   "outputs": [],
   "execution_count": null,
   "source": [
    "data = test_dataset[0]['input']\n",
    "text_to_print = format_chat_template_to_print(data)\n",
    "print(text_to_print)\n",
    "input_ids = format_chat_template(data)"
   ],
   "id": "8b703743aa0ca8f"
  },
  {
   "metadata": {},
   "cell_type": "code",
   "outputs": [],
   "execution_count": null,
   "source": [
    "output = test_dataset[0]['output']\n",
    "print(output)"
   ],
   "id": "a8a5b777850d18a0"
  },
  {
   "metadata": {},
   "cell_type": "code",
   "outputs": [],
   "execution_count": null,
   "source": [
    "outputs = model.generate(**input_ids, max_length=3500)\n",
    "decoded_output = tokenizer.decode(outputs[0], skip_special_tokens=True)\n",
    "print(decoded_output)"
   ],
   "id": "8a0d2f1ab7c5e872"
  }
 ],
 "metadata": {
  "kernelspec": {
   "display_name": "Python 3",
   "language": "python",
   "name": "python3"
  },
  "language_info": {
   "codemirror_mode": {
    "name": "ipython",
    "version": 2
   },
   "file_extension": ".py",
   "mimetype": "text/x-python",
   "name": "python",
   "nbconvert_exporter": "python",
   "pygments_lexer": "ipython2",
   "version": "2.7.6"
  }
 },
 "nbformat": 4,
 "nbformat_minor": 5
}
