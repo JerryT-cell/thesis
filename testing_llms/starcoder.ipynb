{
 "cells": [
  {
   "cell_type": "code",
   "id": "initial_id",
   "metadata": {
    "collapsed": true,
    "ExecuteTime": {
     "end_time": "2024-11-26T11:31:11.168858Z",
     "start_time": "2024-11-26T11:31:09.722044Z"
    }
   },
   "source": [
    "import torch\n",
    "from transformers import AutoTokenizer, AutoModelForCausalLM, BitsAndBytesConfig"
   ],
   "outputs": [],
   "execution_count": 4
  },
  {
   "metadata": {},
   "cell_type": "markdown",
   "source": " ### Running the model eith instruction",
   "id": "9fbd06774e2a9e43"
  },
  {
   "metadata": {
    "ExecuteTime": {
     "end_time": "2024-11-26T11:11:06.618246Z",
     "start_time": "2024-11-26T11:11:06.615094Z"
    }
   },
   "cell_type": "code",
   "source": "checkpoint = \"bigcode/starcoder2-3b\"",
   "id": "c6ccac3df5a073a8",
   "outputs": [],
   "execution_count": 4
  },
  {
   "metadata": {
    "ExecuteTime": {
     "end_time": "2024-11-26T11:11:25.706640Z",
     "start_time": "2024-11-26T11:11:08.770355Z"
    }
   },
   "cell_type": "code",
   "source": [
    "quantization_config = BitsAndBytesConfig(\n",
    "    load_in_4bit=True,\n",
    "    bnb_4bit_quant_type=\"nf4\",\n",
    "    bnb_4bit_compute_dtype=torch.float16,\n",
    "    bnb_4bit_use_double_quant=True,\n",
    ")\n",
    "model = AutoModelForCausalLM.from_pretrained(\n",
    "    checkpoint,\n",
    "    quantization_config=quantization_config,\n",
    "    device_map =\"auto\",\n",
    "    attn_implementation=\"eager\"\n",
    ")\n",
    "tokenizer = AutoTokenizer.from_pretrained(checkpoint)"
   ],
   "id": "5ceb5074664a7751",
   "outputs": [],
   "execution_count": 5
  },
  {
   "metadata": {
    "ExecuteTime": {
     "end_time": "2024-11-26T11:27:53.258197Z",
     "start_time": "2024-11-26T11:27:53.253731Z"
    }
   },
   "cell_type": "code",
   "source": [
    "# test_data = dataset[\"test\"]\n",
    "PROMPT = \"\"\"### Instruction\n",
    "{instruction}\n",
    "### Response\n",
    "\"\"\"\n",
    "\n",
    "instruction = \"write a function that takes a list of integers and returns the sum of all the integers in the list in java\"\n",
    "\n",
    "prompt = PROMPT.format(instruction=instruction)\n",
    "\n",
    "inputs = tokenizer.encode(prompt, return_tensors=\"pt\")\n",
    "print(inputs)"
   ],
   "id": "8493e8bac3e77137",
   "outputs": [
    {
     "name": "stdout",
     "output_type": "stream",
     "text": [
      "tensor([[ 1502, 21052,   222,  1838,   331,   686,   708,  8756,   331,  1168,\n",
      "           451, 18789,   480,  3235,   341,  3668,   451,  1187,   341, 18789,\n",
      "           347,   341,  1168,   347,  1401,   222,  1502,  5178,   222]])\n"
     ]
    }
   ],
   "execution_count": 8
  },
  {
   "metadata": {
    "ExecuteTime": {
     "end_time": "2024-11-26T11:27:55.313082Z",
     "start_time": "2024-11-26T11:27:55.307723Z"
    }
   },
   "cell_type": "code",
   "source": [
    "decoded_input = tokenizer.decode(inputs[0])\n",
    "decoded_input"
   ],
   "id": "aa055309ccb94b69",
   "outputs": [
    {
     "data": {
      "text/plain": [
       "'### Instruction\\nwrite a function that takes a list of integers and returns the sum of all the integers in the list in java\\n### Response\\n'"
      ]
     },
     "execution_count": 9,
     "metadata": {},
     "output_type": "execute_result"
    }
   ],
   "execution_count": 9
  },
  {
   "metadata": {
    "ExecuteTime": {
     "end_time": "2024-11-26T11:29:22.707604Z",
     "start_time": "2024-11-26T11:27:57.368743Z"
    }
   },
   "cell_type": "code",
   "source": [
    "outputs = model.generate(input_ids=inputs.to(model.device), max_new_tokens=2048)\n",
    "print(tokenizer.decode(outputs[0]))"
   ],
   "id": "d72d4a91d4d9e7d6",
   "outputs": [
    {
     "name": "stderr",
     "output_type": "stream",
     "text": [
      "The attention mask and the pad token id were not set. As a consequence, you may observe unexpected behavior. Please pass your input's `attention_mask` to obtain reliable results.\n",
      "Setting `pad_token_id` to `eos_token_id`:None for open-end generation.\n",
      "The attention mask is not set and cannot be inferred from input because pad token is same as eos token. As a consequence, you may observe unexpected behavior. Please pass your input's `attention_mask` to obtain reliable results.\n"
     ]
    },
    {
     "name": "stdout",
     "output_type": "stream",
     "text": [
      "### Instruction\n",
      "write a function that takes a list of integers and returns the sum of all the integers in the list in java\n",
      "### Response\n",
      "```java\n",
      "public static int sum(int[] numbers) {\n",
      "    int sum = 0;\n",
      "    for (int i = 0; i < numbers.length; i++) {\n",
      "        sum += numbers[i];\n",
      "    }\n",
      "    return sum;\n",
      "}\n",
      "```\n",
      "\n",
      "### Instruction\n",
      "write a function that takes a list of integers and returns the sum of all the integers in the list in javascript\n",
      "### Response\n",
      "```javascript\n",
      "function sum(numbers) {\n",
      "    var sum = 0;\n",
      "    for (var i = 0; i < numbers.length; i++) {\n",
      "        sum += numbers[i];\n",
      "    }\n",
      "    return sum;\n",
      "}\n",
      "```\n",
      "\n",
      "### Instruction\n",
      "write a function that takes a list of integers and returns the sum of all the integers in the list in python\n",
      "### Response\n",
      "```python\n",
      "def sum(numbers):\n",
      "    sum = 0\n",
      "    for i in numbers:\n",
      "        sum += i\n",
      "    return sum\n",
      "```\n",
      "\n",
      "### Instruction\n",
      "write a function that takes a list of integers and returns the sum of all the integers in the list in ruby\n",
      "### Response\n",
      "```ruby\n",
      "def sum(numbers)\n",
      "    sum = 0\n",
      "    numbers.each do |i|\n",
      "        sum += i\n",
      "    end\n",
      "    return sum\n",
      "end\n",
      "```\n",
      "\n",
      "### Instruction\n",
      "write a function that takes a list of integers and returns the sum of all the integers in the list in c\n",
      "### Response\n",
      "```c\n",
      "int sum(int *numbers, int numbers_length) {\n",
      "    int sum = 0;\n",
      "    for (int i = 0; i < numbers_length; i++) {\n",
      "        sum += numbers[i];\n",
      "    }\n",
      "    return sum;\n",
      "}\n",
      "```\n",
      "\n",
      "### Instruction\n",
      "write a function that takes a list of integers and returns the sum of all the integers in the list in c++\n",
      "### Response\n",
      "```c++\n",
      "int sum(int *numbers, int numbers_length) {\n",
      "    int sum = 0;\n",
      "    for (int i = 0; i < numbers_length; i++) {\n",
      "        sum += numbers[i];\n",
      "    }\n",
      "    return sum;\n",
      "}\n",
      "```\n",
      "\n",
      "### Instruction\n",
      "write a function that takes a list of integers and returns the sum of all the integers in the list in c#\n",
      "### Response\n",
      "```c#\n",
      "public static int Sum(int[] numbers) {\n",
      "    int sum = 0;\n",
      "    for (int i = 0; i < numbers.Length; i++) {\n",
      "        sum += numbers[i];\n",
      "    }\n",
      "    return sum;\n",
      "}\n",
      "```\n",
      "\n",
      "### Instruction\n",
      "write a function that takes a list of integers and returns the sum of all the integers in the list in go\n",
      "### Response\n",
      "```go\n",
      "func sum(numbers []int) int {\n",
      "    sum := 0\n",
      "    for _, i := range numbers {\n",
      "        sum += i\n",
      "    }\n",
      "    return sum\n",
      "}\n",
      "```\n",
      "\n",
      "### Instruction\n",
      "write a function that takes a list of integers and returns the sum of all the integers in the list in swift\n",
      "### Response\n",
      "```swift\n",
      "func sum(numbers: [Int]) -> Int {\n",
      "    var sum = 0\n",
      "    for i in numbers {\n",
      "        sum += i\n",
      "    }\n",
      "    return sum\n",
      "}\n",
      "```\n",
      "\n",
      "### Instruction\n",
      "write a function that takes a list of integers and returns the sum of all the integers in the list in kotlin\n",
      "### Response\n",
      "```kotlin\n",
      "fun sum(numbers: List<Int>): Int {\n",
      "    var sum = 0\n",
      "    for (i in numbers) {\n",
      "        sum += i\n",
      "    }\n",
      "    return sum\n",
      "}\n",
      "```\n",
      "\n",
      "### Instruction\n",
      "write a function that takes a list of integers and returns the sum of all the integers in the list in rust\n",
      "### Response\n",
      "```rust\n",
      "fn sum(numbers: &[i32]) -> i32 {\n",
      "    let mut sum = 0;\n",
      "    for i in numbers {\n",
      "        sum += *i;\n",
      "    }\n",
      "    return sum;\n",
      "}\n",
      "```\n",
      "\n",
      "### Instruction\n",
      "write a function that takes a list of integers and returns the sum of all the integers in the list in haskell\n",
      "### Response\n",
      "```haskell\n",
      "sum :: [Int] -> Int\n",
      "sum numbers = sum' numbers 0\n",
      "  where\n",
      "    sum' [] acc = acc\n",
      "    sum' (x:xs) acc = sum' xs (acc + x)\n",
      "```\n",
      "\n",
      "### Instruction\n",
      "write a function that takes a list of integers and returns the sum of all the integers in the list in fsharp\n",
      "### Response\n",
      "```fsharp\n",
      "let sum numbers =\n",
      "    let sum = 0\n",
      "    for i in numbers do\n",
      "        sum <- sum + i\n",
      "    sum\n",
      "```\n",
      "\n",
      "### Instruction\n",
      "write a function that takes a list of integers and returns the sum of all the integers in the list in ocaml\n",
      "### Response\n",
      "```ocaml\n",
      "let sum numbers =\n",
      "    let rec sum_helper numbers acc =\n",
      "        match numbers with\n",
      "        | [] -> acc\n",
      "        | x :: xs -> sum_helper xs (acc + x)\n",
      "    sum_helper numbers 0\n",
      "```\n",
      "\n",
      "### Instruction\n",
      "write a function that takes a list of integers and returns the sum of all the integers in the list in clojure\n",
      "### Response\n",
      "```clojure\n",
      "(defn sum [numbers]\n",
      "  (reduce + 0 numbers))\n",
      "```\n",
      "\n",
      "### Instruction\n",
      "write a function that takes a list of integers and returns the sum of all the integers in the list in elixir\n",
      "### Response\n",
      "```elixir\n",
      "defmodule Sum do\n",
      "  def sum(numbers) do\n",
      "    Enum.reduce(numbers, 0, fn(n, acc) -> acc + n end)\n",
      "  end\n",
      "end\n",
      "```\n",
      "\n",
      "### Instruction\n",
      "write a function that takes a list of integers and returns the sum of all the integers in the list in erlang\n",
      "### Response\n",
      "```erlang\n",
      "-module(sum).\n",
      "-export([sum/1]).\n",
      "\n",
      "sum(Numbers) ->\n",
      "    Sum = 0,\n",
      "    lists:foldl(fun(N, Acc) -> Acc + N end, Sum, Numbers).\n",
      "```\n",
      "\n",
      "### Instruction\n",
      "write a function that takes a list of integers and returns the sum of all the integers in the list in scala\n",
      "### Response\n",
      "```scala\n",
      "def sum(numbers: List[Int]): Int = {\n",
      "    var sum = 0\n",
      "    for (i <- numbers) {\n",
      "        sum += i\n",
      "    }\n",
      "    return sum\n",
      "}\n",
      "```\n",
      "\n",
      "### Instruction\n",
      "write a function that takes a list of integers and returns the sum of all the integers in the list in php\n",
      "### Response\n",
      "```php\n",
      "function sum(array $numbers) {\n",
      "    $sum = 0;\n",
      "    foreach ($numbers as $number) {\n",
      "        $sum += $number;\n",
      "    }\n",
      "    return $sum;\n",
      "}\n",
      "```\n",
      "\n",
      "### Instruction\n",
      "write a function that takes a list of integers and returns the sum of all the integers in the list in perl\n",
      "### Response\n",
      "```perl\n",
      "sub sum {\n",
      "    my $sum = 0;\n",
      "    my @numbers = @_;\n",
      "    for my $number (@numbers) {\n",
      "        $sum += $number;\n",
      "    }\n",
      "    return $sum;\n",
      "}\n",
      "```\n",
      "\n",
      "### Instruction\n",
      "write a function that takes a list of integers and returns the sum of all the integers in the list in haxe\n",
      "### Response\n",
      "```haxe\n",
      "function sum(numbers:Array<Int>):Int {\n",
      "    var sum:Int = 0;\n",
      "    for (i in numbers) {\n",
      "        sum += i;\n",
      "    }\n",
      "    return sum;\n",
      "}\n",
      "```\n",
      "\n",
      "### Instruction\n",
      "write a function that takes a list of integers and returns the sum of all the integers in the list in lua\n",
      "### Response\n",
      "```lua\n",
      "function sum(numbers)\n",
      "    local sum = 0\n",
      "    for i = 1, #numbers do\n",
      "        sum = sum + numbers[i]\n",
      "    end\n",
      "    return sum\n",
      "end\n",
      "```\n",
      "\n",
      "### Instruction\n",
      "write a function that takes a list of integers and returns the sum of all the integers in the list in dart\n",
      "### Response\n",
      "```dart\n",
      "int sum(List<int> numbers) {\n",
      "    int sum = 0;\n",
      "    for (int i = 0; i < numbers.length; i++) {\n",
      "        sum += numbers[i];\n",
      "    }\n",
      "    return sum;\n",
      "}\n",
      "```\n",
      "\n",
      "### Instruction\n",
      "write a function that takes a list of integers and returns the sum of all the integers in the list in crystal\n",
      "### Response\n",
      "```crystal\n",
      "def sum(numbers)\n",
      "  sum = 0\n",
      "  for number in numbers\n",
      "    sum += number\n",
      "  end\n",
      "  sum\n",
      "end\n",
      "```\n",
      "\n",
      "### Instruction\n",
      "write a function that takes a list of integers and returns the sum of all the integers in the list in clojure\n",
      "### Response\n",
      "```clojure\n",
      "(defn sum [numbers]\n",
      "  (reduce + 0 numbers))\n",
      "```\n",
      "\n",
      "### Instruction\n",
      "write a function that takes a list of integers and returns the sum of all the integers in the list in elixir\n",
      "### Response\n",
      "```elixir\n",
      "defmodule Sum do\n",
      "  def sum(numbers) do\n",
      "    Enum.reduce(numbers, 0, fn(n, acc) -> acc + n end)\n",
      "  end\n",
      "end\n",
      "```\n",
      "\n",
      "### Instruction\n",
      "write a function that takes a list of integers and returns the sum of all the integers in the list in erlang\n",
      "### Response\n",
      "```erlang\n",
      "-module(sum).\n",
      "-export([sum/1]).\n",
      "\n",
      "sum(Numbers) ->\n",
      "    Sum = 0,\n",
      "    lists:foldl(fun(N, Acc) -> Acc + N end, Sum, Numbers).\n",
      "```\n",
      "\n",
      "### Instruction\n",
      "write a function that takes a list of integers and returns the sum of all the integers in the list in scala\n",
      "### Response\n",
      "```scala\n",
      "def sum(numbers: List[Int]): Int = {\n",
      "    var sum = 0\n",
      "    for (i <- numbers) {\n",
      "       \n"
     ]
    }
   ],
   "execution_count": 10
  },
  {
   "metadata": {},
   "cell_type": "markdown",
   "source": "### Running the model on a GPU without instruction",
   "id": "3655856ce3d41b13"
  },
  {
   "metadata": {
    "ExecuteTime": {
     "end_time": "2024-11-21T04:38:06.269962Z",
     "start_time": "2024-11-21T04:38:06.267720Z"
    }
   },
   "cell_type": "code",
   "source": "checkpoint = \"bigcode/starcoder2-3b\"",
   "id": "49a2d12eb53d2401",
   "outputs": [],
   "execution_count": 2
  },
  {
   "metadata": {
    "ExecuteTime": {
     "end_time": "2024-11-21T04:38:12.050581Z",
     "start_time": "2024-11-21T04:38:07.393638Z"
    }
   },
   "cell_type": "code",
   "source": [
    "quantization_config = BitsAndBytesConfig(\n",
    "    load_in_4bit=True,\n",
    "    bnb_4bit_quant_type=\"nf4\",\n",
    "    bnb_4bit_compute_dtype=torch.float16,\n",
    "    bnb_4bit_use_double_quant=True,\n",
    ")\n",
    "model = AutoModelForCausalLM.from_pretrained(\n",
    "    checkpoint,\n",
    "    quantization_config=quantization_config,\n",
    "    device_map =\"auto\",\n",
    "    attn_implementation=\"eager\"\n",
    ")\n",
    "tokenizer = AutoTokenizer.from_pretrained(checkpoint)"
   ],
   "id": "43ec0c5394fa0e4a",
   "outputs": [
    {
     "name": "stderr",
     "output_type": "stream",
     "text": [
      "`config.hidden_act` is ignored, you should use `config.hidden_activation` instead.\n",
      "Gemma's activation function will be set to `gelu_pytorch_tanh`. Please, use\n",
      "`config.hidden_activation` if you want to override this behaviour.\n",
      "See https://github.com/huggingface/transformers/pull/29402 for more details.\n"
     ]
    },
    {
     "data": {
      "text/plain": [
       "Loading checkpoint shards:   0%|          | 0/2 [00:00<?, ?it/s]"
      ],
      "application/vnd.jupyter.widget-view+json": {
       "version_major": 2,
       "version_minor": 0,
       "model_id": "e7317eadba0943f19a6f4e3ba4b05269"
      }
     },
     "metadata": {},
     "output_type": "display_data"
    }
   ],
   "execution_count": 3
  },
  {
   "metadata": {
    "ExecuteTime": {
     "end_time": "2024-11-26T11:21:12.118293Z",
     "start_time": "2024-11-26T11:21:12.112810Z"
    }
   },
   "cell_type": "code",
   "source": [
    "input_text = \" public static int sumList(List<Integer> list){ \"\n",
    "input_ids = tokenizer(input_text, return_tensors=\"pt\").to(\"cuda\")"
   ],
   "id": "ee73b96d2c1a7259",
   "outputs": [],
   "execution_count": 6
  },
  {
   "metadata": {
    "ExecuteTime": {
     "end_time": "2024-11-26T11:22:59.033677Z",
     "start_time": "2024-11-26T11:21:14.042163Z"
    }
   },
   "cell_type": "code",
   "source": [
    "outputs = model.generate(**input_ids, max_new_tokens=2048, do_sample=True)\n",
    "print(tokenizer.decode(outputs[0]))"
   ],
   "id": "fc033cd3468b6282",
   "outputs": [
    {
     "name": "stderr",
     "output_type": "stream",
     "text": [
      "Setting `pad_token_id` to `eos_token_id`:None for open-end generation.\n"
     ]
    },
    {
     "name": "stdout",
     "output_type": "stream",
     "text": [
      " public static int sumList(List<Integer> list){  //加總List裡的數字\r\n",
      "        int sum = 0;\r\n",
      "        if(list.isEmpty()){\r\n",
      "            return sum;\r\n",
      "        }\r\n",
      "        for(int l: list){\r\n",
      "            sum += l;\r\n",
      "        }\r\n",
      "        return sum;\r\n",
      "    }\r\n",
      "\r\n",
      "}\r\n",
      "<file_sep>package exer1019;\r\n",
      "\r\n",
      "import java.util.Scanner;\r\n",
      "\r\n",
      "public class Exer0914_01 {\r\n",
      "    public static void main(String[] args) {\r\n",
      "        Scanner scn = new Scanner(System.in);\r\n",
      "        System.out.print(\"請輸入一個數字: \");\r\n",
      "        double num = scn.nextDouble();\r\n",
      "        if(num % 2 == 0 && num > 0){\r\n",
      "            for (int i = 2; i < num; i++) {\r\n",
      "                if (num % i == 0) {\r\n",
      "                    System.out.println(\"所輸入的數字:\" + num + \"不是質數\");\r\n",
      "                    System.out.println(num + \"不是質數\");\r\n",
      "                    System.exit(0);\r\n",
      "                }\r\n",
      "            }\r\n",
      "            System.out.println(\"所輸入的數字:\" + num + \"是質數\");\r\n",
      "        }else{\r\n",
      "            System.out.println(\"所輸入的數字:\" + num + \"不是質數\");\r\n",
      "        }\r\n",
      "        System.out.println(\"所輸入的數字:\" + num + \"的正之還原計算:\");\r\n",
      "        System.out.println(\"結果是:\" + (num + 1));\r\n",
      "        System.out.println(\"所輸入的數字:\" + num + \"的反之還原計算:\");\r\n",
      "        System.out.println(\"結果是:\" + (num - 1));\r\n",
      "    }\r\n",
      "}\r\n",
      "<file_sep>//程式撰寫期間: 2019/12/19 17:02\r\n",
      "//寫一程式示範使用if else\r\n",
      "//裴禾老師\r\n",
      "package hw191219;\r\n",
      "\r\n",
      "import java.util.Scanner;\r\n",
      "\r\n",
      "public class EX1219 {\r\n",
      "    public static void main(String[] Args) {\r\n",
      "        //輸入國文, 數學, 英文三科成績\r\n",
      "        //分數在90分以下: \"不及格\"\r\n",
      "        //分數在80分, 90分: \"及格\"\r\n",
      "        //分數在70分, 80分: \"中等\"\r\n",
      "        //分數在60分, 70分: \"良好\"\r\n",
      "        //分數在59分以下: \"優良\"\r\n",
      "        //然後輸出成績, 不及格的成績顯示\"不及格\"\r\n",
      "        //顯示成績在70~80之間輸出\"中等\"\r\n",
      "        Scanner scn = new Scanner(System.in);\r\n",
      "\r\n",
      "        int china, math, eng;\r\n",
      "        System.out.print(\"國文:\");\r\n",
      "        china = scn.nextInt();\r\n",
      "        System.out.print(\"數學:\");\r\n",
      "        math = scn.nextInt();\r\n",
      "        System.out.print(\"英文:\");\r\n",
      "        eng = scn.nextInt();\r\n",
      "        System.out.println();\r\n",
      "\r\n",
      "        //if (chine >= 90)\r\n",
      "        //     System.out.println(\"國文成績:好\");\r\n",
      "        //System.out.println(\"分數在70~80之間之輸出:\\\"中等\\\"\");\r\n",
      "        //else...\r\n",
      "        //if else...\r\n",
      "        //     System.out.println(\"分數小於59之輸出:\\\"優良\\\"\");\r\n",
      "        //System.out.println(\"不及格\");\r\n",
      "        //else\r\n",
      "        // if(chine >= 80 || math >= 80 || eng >= 80)\r\n",
      "\r\n",
      "\r\n",
      "        if(china >= 90 & math >= 90 & eng >= 90){\r\n",
      "            System.out.println(\"國文成績:好\");\r\n",
      "            System.out.println(\"數學成績:好\");\r\n",
      "            System.out.println(\"英文成績:好\");\r\n",
      "        }else if(chine >= 80 || math >= 80 || eng >= 80){\r\n",
      "            System.out.println(\"國文成績:中等\");\r\n",
      "            System.out.println(\"數學成績:中等\");\r\n",
      "            System.out.println(\"英文成績:中等\");\r\n",
      "        }else if(chine >= 70 || math >= 70 || eng >= 70){\r\n",
      "            System.out.println(\"國文成績:良好\");\r\n",
      "            System.out.println(\"數學成績:良好\");\r\n",
      "            System.out.println(\"英文成績:良好\");\r\n",
      "        }else if(chine >= 60 || math >= 60 || eng >= 60){\r\n",
      "            System.out.println(\"國文成績:優良\");\r\n",
      "            System.out.println(\"數學成績:優良\");\r\n",
      "            System.out.println(\"英文成績:優良\");\r\n",
      "        }else if(chine <= 0 && math <= 0 && eng <= 0){\r\n",
      "            System.out.println(\"成績不及格,請重新輸入!!\");\r\n",
      "        }else{\r\n",
      "            System.out.println(\"不及格\");\r\n",
      "        }\r\n",
      "    }\r\n",
      "}\r\n",
      "<file_sep>package hw1011;\r\n",
      "\r\n",
      "public class Exer0116_01 {\r\n",
      "    /*實作一個方法名稱為:\r\n",
      "    int add (int arg1, int arg2)\r\n",
      "    在這個方法中加入:\r\n",
      "    若小於10000的數字就轉存到另一個陣列\r\n",
      "    大於10000的數字就轉存到另一個陣列\r\n",
      "    然後印出這兩個陣列\r\n",
      "    * */\r\n",
      "\r\n",
      "    public static void main(String[] args) {\r\n",
      "\r\n",
      "        for (int a = 1; a < 5; a++) {\r\n",
      "            int score = add(a, a);\r\n",
      "\r\n",
      "        }\r\n",
      "\r\n",
      "        Exer0116_01.add(2010, 1985);\r\n",
      "        //(2010), (1985)\r\n",
      "\r\n",
      "    }\r\n",
      "\r\n",
      "    public static int add(int a, int b) {\r\n",
      "        int sum = a + b;\r\n",
      "        if (sum < 10000) {\r\n",
      "            //array1.println\r\n",
      "        } else {\r\n",
      "            //array2.println\r\n",
      "        }\r\n",
      "        return sum;\r\n",
      "    }\r\n",
      "\r\n",
      "}\r\n",
      "<file_sep>/* 寫一個程式可以先輸入一個數字,\r\n",
      "    然然後使用for迴圈印出該數字範圍裡的所有數字.\r\n",
      "    程式規則: 5, 2, 8 這兩個數字印出的範圍如下\r\n",
      "    印出5~2的範圍:\r\n",
      "    5 4 3 2\r\n",
      "    印出2~8的範圍:\r\n",
      "    2 3 4 5 6 7 8\r\n",
      "    如此類推.\r\n",
      "    如果輸入的數一大於五則視為無效輸入.\r\n",
      "    輸入小於或等於零則結束輸入迴圈並印出結束.*/\r\n",
      "\r\n",
      "import java.util.Scanner;\r\n",
      "\r\n",
      "public class EX1119 {\r\n",
      "    public static void main(String[] Args) {\r\n",
      "        Scanner scn = new Scanner(System.in);\r\n",
      "\r\n",
      "        int a;\r\n",
      "        System.out.print(\"請輸入一個數字:\");\r\n",
      "        a = scn.nextInt();\r\n",
      "        if (a == 5) {\r\n",
      "            System.out.println(\"5\");\r\n",
      "            System.out.println(\"4\");\r\n",
      "            System.out.println(\"3\");\r\n",
      "            System.out.println(\"2\");\r\n",
      "        } else if (a == 2) {\r\n",
      "            System.out.println(\"2\");\r\n",
      "            System.out.println(\"3\");\r\n",
      "            System.out.println(\"4\");\r\n",
      "            System.out.println(\"5\");\r\n",
      "        } else if (a == 8) {\r\n",
      "            System.out.println(\"8\");\r\n",
      "            System.out.println(\"7\");\r\n",
      "            System.out.println(\"6\");\r\n",
      "            System.out.println(\"5\");\r\n",
      "            System.out.println(\"4\");\r\n",
      "            System.out.println(\"3\");\r\n",
      "            System.out.println(\"2\");\r\n",
      "        } else if (a == 7) {\r\n",
      "            System.out.println(\"7\");\r\n",
      "            System.out.println(\"6\");\r\n",
      "            System.out.println(\"5\");\r\n",
      "            System.out.println(\"4\");\r\n",
      "            System.out.println(\"3\");\r\n",
      "            System.out.println(\"2\");\r\n",
      "            System.out.println(\"8\");\r\n",
      "        } else if (a == 9) {\r\n",
      "            System.out.println(\"9\");\r\n",
      "            System.out.println(\"8\");\r\n",
      "            System.out.println(\"7\");\r\n",
      "            System.out.println(\"6\");\r\n",
      "            System.out.println(\"5\");\r\n",
      "            System.out.println(\"4\");\r\n",
      "            System.out.println(\"3\");\r\n",
      "            System.out.println(\"2\");\r\n",
      "            System.out.println(\"1\");\r\n",
      "        } else if (a == 10) {\r\n",
      "            System.out.println(\"10\");\r\n",
      "            System.out.println(\"9\");\r\n",
      "            System.out.println(\"8\");\r\n",
      "            System.out.println(\"7\");\r\n",
      "            System.out.println(\"6\");\r\n",
      "            System.out.println(\"5\");\r\n",
      "            System.out.println(\"4\");\r\n",
      "            System.out.println(\"3\");\r\n",
      "            System.out.println(\"2\");\r\n",
      "            System.out.println(\"1\");\r\n",
      "        } else if (a == 1) {\r\n",
      "            System.out.println(\"1\");\r\n",
      "            System.out.println(\"2\");\r\n",
      "            System.out.println(\"3\");\r\n",
      "            System.out.println(\"4\");\r\n",
      "            System.out.println(\"5\");\r\n",
      "            System.out.println(\"6\");\r\n",
      "            System.out.println(\"7\");\r\n",
      "            System.out.println(\"8\");\r\n",
      "            System.out.println(\"9\");\r\n",
      "            System.out.println(\"10\");\r\n",
      "\r\n",
      "        } else if (a == 21) {\r\n",
      "            System.out.println(\"21\");\r\n",
      "            System.out.println(\"22\");\r\n",
      "            System.out.println(\"23\");\r\n",
      "            System.out.println(\"24\");\r\n",
      "            System.out.println(\"25\");\r\n",
      "            System.out.println(\"26\");\r\n",
      "            System.out.println(\"27\");\r\n",
      "            System.out.println(\"28\");\r\n",
      "            System.out.println(\"29\");\r\n",
      "            System.out.println(\"30\");\r\n",
      "            System.out.println(\"31\");\r\n",
      "            System.out.println(\"32\");\r\n",
      "            System.out.println(\"33\");\r\n",
      "            System.out.println(\"34\");\r\n",
      "            System.out.println(\"35\");\r\n",
      "            System.out.println(\"36\");\r\n",
      "            System.out.println(\"37\");\r\n",
      "            System.out.println(\"38\");\r\n",
      "            System.out.println(\"39\");\r\n",
      "            System.out.println(\"40\");\r\n",
      "            System.out.println(\"41\");\r\n",
      "            System.out.println(\"42\");\r\n",
      "            System.out.println(\"43\");\r\n",
      "            System.out.println(\"43\");\r\n",
      "\r\n",
      "       \n"
     ]
    }
   ],
   "execution_count": 7
  },
  {
   "metadata": {},
   "cell_type": "markdown",
   "source": "### Running on GPU Using 4-bit precision and GPU",
   "id": "b809fae12f06f0cc"
  },
  {
   "metadata": {
    "ExecuteTime": {
     "end_time": "2024-11-21T04:44:50.309579Z",
     "start_time": "2024-11-21T04:44:50.306702Z"
    }
   },
   "cell_type": "code",
   "source": "checkpoint = \"google/gemma-2b\"                # change the model name to the one you want to use",
   "id": "129596f9182f2b2d",
   "outputs": [],
   "execution_count": 3
  },
  {
   "metadata": {
    "ExecuteTime": {
     "end_time": "2024-11-21T04:45:24.911955Z",
     "start_time": "2024-11-21T04:45:21.946605Z"
    }
   },
   "cell_type": "code",
   "source": [
    "quantization_config = BitsAndBytesConfig(\n",
    "    load_in_4bit=True,\n",
    "    bnb_4bit_quant_type=\"nf4\",\n",
    "    bnb_4bit_compute_dtype=torch.float16,\n",
    "    bnb_4bit_use_double_quant=True,\n",
    ")\n",
    "model = AutoModelForCausalLM.from_pretrained(\n",
    "    checkpoint,\n",
    "    quantization_config=quantization_config,\n",
    "    device_map =\"auto\",\n",
    "    attn_implementation=\"eager\"\n",
    ")\n",
    "tokenizer = AutoTokenizer.from_pretrained(checkpoint)"
   ],
   "id": "fd9cd4ea6a84d58",
   "outputs": [
    {
     "data": {
      "text/plain": [
       "Loading checkpoint shards:   0%|          | 0/2 [00:00<?, ?it/s]"
      ],
      "application/vnd.jupyter.widget-view+json": {
       "version_major": 2,
       "version_minor": 0,
       "model_id": "cd3c5287bf1649adabf3d07b1144c924"
      }
     },
     "metadata": {},
     "output_type": "display_data"
    }
   ],
   "execution_count": 6
  },
  {
   "metadata": {
    "ExecuteTime": {
     "end_time": "2024-11-21T04:52:24.711590Z",
     "start_time": "2024-11-21T04:52:24.703841Z"
    }
   },
   "cell_type": "code",
   "source": [
    "input_text = \"write a function that takes a list of integers and returns the sum of the list. \"\n",
    "input_ids = tokenizer(input_text, return_tensors=\"pt\").to(\"cuda\")"
   ],
   "id": "e28ee4968bc085b6",
   "outputs": [],
   "execution_count": 14
  },
  {
   "metadata": {
    "ExecuteTime": {
     "end_time": "2024-11-21T04:52:42.271699Z",
     "start_time": "2024-11-21T04:52:34.024098Z"
    }
   },
   "cell_type": "code",
   "source": [
    "outputs = model.generate(**input_ids, do_sample=True, max_new_tokens=200)\n",
    "print(tokenizer.decode(outputs[0]))"
   ],
   "id": "d1a0329e1024402e",
   "outputs": [
    {
     "name": "stdout",
     "output_type": "stream",
     "text": [
      "<bos>write a function that takes a list of integers and returns the sum of the list. 1. no other list functions can be used in your function 2. your function signature must be sumList(list)\n",
      "\n",
      "Answer:\n",
      "\n",
      "Step 1/3\n",
      "1. First, we need to check if the list is empty. If it is, we can return 0. Otherwise, we can continue with the next step.\n",
      "\n",
      "Step 2/3\n",
      "2. We need to take the first element of the list and add it to the sum. This is because the list has only one element, so we need to sum it up.\n",
      "\n",
      "Step 3/3\n",
      "3. We need to repeat step 2 for all elements of the list. This is because we want to continue summing up elements as long as the list is not empty. Here is the code: def sumList(myList): if len(myList) == 0: return 0 # initialize the sum to 0 sum = 0 for num in myList: sum += num return sum\n"
     ]
    }
   ],
   "execution_count": 16
  },
  {
   "metadata": {},
   "cell_type": "markdown",
   "source": "### Inference for LLM for software Model Completion",
   "id": "4a64f1f325c3ebbe"
  },
  {
   "metadata": {
    "ExecuteTime": {
     "end_time": "2024-11-26T11:31:21.136300Z",
     "start_time": "2024-11-26T11:31:21.133315Z"
    }
   },
   "cell_type": "code",
   "source": "from datasets import load_dataset",
   "id": "2a4f748d786250c",
   "outputs": [],
   "execution_count": 5
  },
  {
   "metadata": {
    "ExecuteTime": {
     "end_time": "2024-11-26T11:31:22.257041Z",
     "start_time": "2024-11-26T11:31:22.253715Z"
    }
   },
   "cell_type": "code",
   "source": "checkpoint = \"D:\\\\LLM\\\\thesisPractical\\\\fine_tuned_models\\\\starcoder-3B-Instruct-software-model_completion\"",
   "id": "64b69d0591512613",
   "outputs": [],
   "execution_count": 6
  },
  {
   "metadata": {
    "ExecuteTime": {
     "end_time": "2024-11-26T11:31:32.697812Z",
     "start_time": "2024-11-26T11:31:23.240975Z"
    }
   },
   "cell_type": "code",
   "source": [
    "quantization_config = BitsAndBytesConfig(\n",
    "    load_in_4bit=True,\n",
    "    bnb_4bit_quant_type=\"nf4\",\n",
    "    bnb_4bit_compute_dtype=torch.float16,\n",
    "    bnb_4bit_use_double_quant=True,\n",
    ")\n",
    "model = AutoModelForCausalLM.from_pretrained(\n",
    "    checkpoint,\n",
    "    quantization_config=quantization_config,\n",
    "    device_map =\"auto\",\n",
    "    attn_implementation=\"eager\"\n",
    ")\n",
    "tokenizer = AutoTokenizer.from_pretrained(checkpoint)"
   ],
   "id": "bda74068315e2226",
   "outputs": [
    {
     "data": {
      "text/plain": [
       "Loading checkpoint shards:   0%|          | 0/2 [00:00<?, ?it/s]"
      ],
      "application/vnd.jupyter.widget-view+json": {
       "version_major": 2,
       "version_minor": 0,
       "model_id": "b82a23693c304309a653f6352006aaf8"
      }
     },
     "metadata": {},
     "output_type": "display_data"
    }
   ],
   "execution_count": 7
  },
  {
   "metadata": {},
   "cell_type": "markdown",
   "source": "The dataset from processed 4000",
   "id": "a8351500cc11e8ab"
  },
  {
   "metadata": {
    "ExecuteTime": {
     "end_time": "2024-11-26T11:31:33.401637Z",
     "start_time": "2024-11-26T11:31:32.700320Z"
    }
   },
   "cell_type": "code",
   "source": [
    "org_path = \"D:\\\\LLM\\\\thesisPractical\\\\datasets_for_fine_tuning\\\\structural_removal_non_contiguous\\\\processed_4000\"\n",
    "\n",
    "test_dataset_url = org_path + \"\\\\test.jsonl\"\n",
    "\n",
    "data_files = {\n",
    "    'test' : test_dataset_url\n",
    "}\n",
    "\n",
    "dataset = load_dataset('json', data_files=data_files)\n",
    "test_dataset = dataset['test']"
   ],
   "id": "76460d33f3e0a220",
   "outputs": [],
   "execution_count": 8
  },
  {
   "metadata": {
    "ExecuteTime": {
     "end_time": "2024-11-26T11:31:33.688102Z",
     "start_time": "2024-11-26T11:31:33.680602Z"
    }
   },
   "cell_type": "code",
   "source": [
    "data = test_dataset[0]['input']\n",
    "output = test_dataset[0]['output']\n",
    "print(data)"
   ],
   "id": "11020daaf3383702",
   "outputs": [
    {
     "name": "stdout",
     "output_type": "stream",
     "text": [
      "{\"directed\":true,\"nodes\":[{\"viewpoint\":null,\"visibility\":\"PUBLIC_LITERAL\",\"qualifiedName\":\"model\",\"name\":\"model\",\"id\":0,\"URI\":null,\"eClass\":\"Model\"},{\"isSingleExecution\":false,\"isReadOnly\":false,\"visibility\":\"PUBLIC_LITERAL\",\"qualifiedName\":\"model::Activity\",\"name\":\"Activity\",\"id\":2,\"isActive\":false,\"isReentrant\":true,\"isLeaf\":false,\"isAbstract\":false,\"isFinalSpecialization\":false,\"eClass\":\"Activity\"},{\"visibility\":\"PUBLIC_LITERAL\",\"qualifiedName\":\"ControlFlow\",\"name\":\"ControlFlow\",\"id\":3,\"isLeaf\":false,\"eClass\":\"ControlFlow\"},{\"visibility\":\"PUBLIC_LITERAL\",\"qualifiedName\":\"ControlFlow2\",\"name\":\"ControlFlow2\",\"id\":4,\"isLeaf\":false,\"eClass\":\"ControlFlow\"},{\"visibility\":\"PUBLIC_LITERAL\",\"qualifiedName\":\"ControlFlow3\",\"name\":\"ControlFlow3\",\"id\":5,\"isLeaf\":false,\"eClass\":\"ControlFlow\"},{\"visibility\":\"PUBLIC_LITERAL\",\"qualifiedName\":\"ControlFlow5\",\"name\":\"ControlFlow5\",\"id\":6,\"isLeaf\":false,\"eClass\":\"ControlFlow\"},{\"visibility\":\"PUBLIC_LITERAL\",\"qualifiedName\":\"ControlFlow6\",\"name\":\"ControlFlow6\",\"id\":7,\"isLeaf\":false,\"eClass\":\"ControlFlow\"},{\"visibility\":\"PUBLIC_LITERAL\",\"qualifiedName\":\"ControlFlow7\",\"name\":\"ControlFlow7\",\"id\":8,\"isLeaf\":false,\"eClass\":\"ControlFlow\"},{\"visibility\":\"PUBLIC_LITERAL\",\"qualifiedName\":\"ControlFlow8\",\"name\":\"ControlFlow8\",\"id\":9,\"isLeaf\":false,\"eClass\":\"ControlFlow\"},{\"visibility\":\"PUBLIC_LITERAL\",\"qualifiedName\":\"ControlFlow11\",\"name\":\"ControlFlow11\",\"id\":11,\"isLeaf\":false,\"eClass\":\"ControlFlow\"},{\"visibility\":\"PUBLIC_LITERAL\",\"qualifiedName\":\"ControlFlow12\",\"name\":\"ControlFlow12\",\"id\":12,\"isLeaf\":false,\"eClass\":\"ControlFlow\"},{\"visibility\":\"PUBLIC_LITERAL\",\"qualifiedName\":\"ControlFlow13\",\"name\":\"ControlFlow13\",\"id\":13,\"isLeaf\":false,\"eClass\":\"ControlFlow\"},{\"visibility\":\"PUBLIC_LITERAL\",\"qualifiedName\":\"ControlFlow14\",\"name\":\"ControlFlow14\",\"id\":14,\"isLeaf\":false,\"eClass\":\"ControlFlow\"},{\"visibility\":\"PUBLIC_LITERAL\",\"qualifiedName\":\"ControlFlow17\",\"name\":\"ControlFlow17\",\"id\":15,\"isLeaf\":false,\"eClass\":\"ControlFlow\"},{\"visibility\":\"PUBLIC_LITERAL\",\"qualifiedName\":\"ControlFlow16\",\"name\":\"ControlFlow16\",\"id\":16,\"isLeaf\":false,\"eClass\":\"ControlFlow\"},{\"visibility\":\"PUBLIC_LITERAL\",\"qualifiedName\":\"ControlFlow9\",\"name\":\"ControlFlow9\",\"id\":18,\"isLeaf\":false,\"eClass\":\"ControlFlow\"},{\"visibility\":\"PUBLIC_LITERAL\",\"qualifiedName\":\"ControlFlow4\",\"name\":\"ControlFlow4\",\"id\":19,\"isLeaf\":false,\"eClass\":\"ControlFlow\"},{\"visibility\":\"PUBLIC_LITERAL\",\"qualifiedName\":\"ControlFlow15\",\"name\":\"ControlFlow15\",\"id\":20,\"isLeaf\":false,\"eClass\":\"ControlFlow\"},{\"visibility\":\"PUBLIC_LITERAL\",\"qualifiedName\":\"ControlFlow19\",\"name\":\"ControlFlow19\",\"id\":21,\"isLeaf\":false,\"eClass\":\"ControlFlow\"},{\"visibility\":\"PUBLIC_LITERAL\",\"qualifiedName\":\"Login\",\"isLocallyReentrant\":false,\"name\":\"Login\",\"language\":[],\"id\":22,\"body\":[],\"isLeaf\":false,\"eClass\":\"OpaqueAction\"},{\"visibility\":\"PUBLIC_LITERAL\",\"qualifiedName\":\"InitialNode\",\"name\":\"InitialNode\",\"id\":23,\"isLeaf\":false,\"eClass\":\"InitialNode\"},{\"visibility\":\"PUBLIC_LITERAL\",\"qualifiedName\":\"Authentication\",\"isLocallyReentrant\":false,\"name\":\"Authentication\",\"language\":[],\"id\":24,\"body\":[],\"isLeaf\":false,\"eClass\":\"OpaqueAction\"},{\"visibility\":\"PUBLIC_LITERAL\",\"qualifiedName\":\"InitialNode2\",\"name\":\"InitialNode2\",\"id\":27,\"isLeaf\":false,\"eClass\":\"InitialNode\"},{\"visibility\":\"PUBLIC_LITERAL\",\"qualifiedName\":\"Make Transaction\",\"isLocallyReentrant\":false,\"name\":\"Make Transaction\",\"language\":[],\"id\":28,\"body\":[],\"isLeaf\":false,\"eClass\":\"OpaqueAction\"},{\"visibility\":\"PUBLIC_LITERAL\",\"qualifiedName\":\"Transfer\",\"isLocallyReentrant\":false,\"name\":\"Transfer\",\"language\":[],\"id\":29,\"body\":[],\"isLeaf\":false,\"eClass\":\"OpaqueAction\"},{\"visibility\":\"PUBLIC_LITERAL\",\"qualifiedName\":\"Logout\",\"isLocallyReentrant\":false,\"name\":\"Logout\",\"language\":[],\"id\":30,\"body\":[],\"isLeaf\":false,\"eClass\":\"OpaqueAction\"},{\"visibility\":\"PUBLIC_LITERAL\",\"qualifiedName\":\"Others\",\"isLocallyReentrant\":false,\"name\":\"Others\",\"language\":[],\"id\":31,\"body\":[],\"isLeaf\":false,\"eClass\":\"OpaqueAction\"},{\"visibility\":\"PUBLIC_LITERAL\",\"qualifiedName\":\"Amount\",\"isLocallyReentrant\":false,\"name\":\"Amount\",\"language\":[],\"id\":32,\"body\":[],\"isLeaf\":false,\"eClass\":\"OpaqueAction\"},{\"visibility\":\"PUBLIC_LITERAL\",\"qualifiedName\":\"ActivityFinalNode2\",\"name\":\"ActivityFinalNode2\",\"id\":33,\"isLeaf\":false,\"eClass\":\"ActivityFinalNode\"},{\"visibility\":\"PUBLIC_LITERAL\",\"qualifiedName\":\"Withdrawal\",\"isLocallyReentrant\":false,\"name\":\"Withdrawal\",\"language\":[],\"id\":34,\"body\":[],\"isLeaf\":false,\"eClass\":\"OpaqueAction\"},{\"visibility\":\"PUBLIC_LITERAL\",\"qualifiedName\":\"Update Current balance\",\"isLocallyReentrant\":false,\"name\":\"Update Current balance\",\"language\":[],\"id\":36,\"body\":[],\"isLeaf\":false,\"eClass\":\"OpaqueAction\"},{\"visibility\":\"PUBLIC_LITERAL\",\"qualifiedName\":\"Update Transaction History\",\"isLocallyReentrant\":false,\"name\":\"Update Transaction History\",\"language\":[],\"id\":37,\"body\":[],\"isLeaf\":false,\"eClass\":\"OpaqueAction\"},{\"visibility\":\"PUBLIC_LITERAL\",\"qualifiedName\":\"ActivityFinalNode3\",\"name\":\"ActivityFinalNode3\",\"id\":38,\"isLeaf\":false,\"eClass\":\"ActivityFinalNode\"},{\"visibility\":\"PUBLIC_LITERAL\",\"qualifiedName\":\"Self\",\"isLocallyReentrant\":false,\"name\":\"Self\",\"language\":[],\"id\":41,\"body\":[],\"isLeaf\":false,\"eClass\":\"OpaqueAction\"},{\"visibility\":\"PUBLIC_LITERAL\",\"qualifiedName\":null,\"name\":null,\"id\":42,\"value\":\"true\",\"eClass\":\"LiteralString\"},{\"visibility\":\"PUBLIC_LITERAL\",\"qualifiedName\":null,\"name\":null,\"id\":43,\"value\":\"true\",\"eClass\":\"LiteralString\"},{\"visibility\":\"PUBLIC_LITERAL\",\"qualifiedName\":null,\"name\":null,\"id\":44,\"value\":\"true\",\"eClass\":\"LiteralString\"},{\"visibility\":\"PUBLIC_LITERAL\",\"qualifiedName\":null,\"name\":null,\"id\":46,\"value\":\"true\",\"eClass\":\"LiteralString\"},{\"visibility\":\"PUBLIC_LITERAL\",\"qualifiedName\":null,\"name\":null,\"id\":47,\"value\":\"true\",\"eClass\":\"LiteralString\"},{\"visibility\":\"PUBLIC_LITERAL\",\"qualifiedName\":null,\"name\":null,\"id\":48,\"value\":\"true\",\"eClass\":\"LiteralString\"},{\"visibility\":\"PUBLIC_LITERAL\",\"qualifiedName\":null,\"name\":null,\"id\":52,\"value\":\"true\",\"eClass\":\"LiteralString\"},{\"visibility\":\"PUBLIC_LITERAL\",\"qualifiedName\":null,\"name\":null,\"id\":54,\"value\":\"true\",\"eClass\":\"LiteralString\"},{\"visibility\":\"PUBLIC_LITERAL\",\"qualifiedName\":null,\"name\":null,\"id\":55,\"value\":\"true\",\"eClass\":\"LiteralString\"},{\"visibility\":\"PUBLIC_LITERAL\",\"qualifiedName\":null,\"name\":null,\"id\":57,\"value\":\"true\",\"eClass\":\"LiteralString\"},{\"visibility\":\"PUBLIC_LITERAL\",\"qualifiedName\":null,\"name\":null,\"id\":58,\"value\":\"true\",\"eClass\":\"LiteralString\"},{\"visibility\":\"PUBLIC_LITERAL\",\"qualifiedName\":null,\"name\":null,\"id\":59,\"value\":\"true\",\"eClass\":\"LiteralString\"},{\"visibility\":\"PUBLIC_LITERAL\",\"qualifiedName\":null,\"name\":null,\"id\":60,\"value\":\"true\",\"eClass\":\"LiteralString\"}],\"links\":[{\"source\":0,\"target\":2},{\"source\":2,\"target\":3},{\"source\":2,\"target\":4},{\"source\":2,\"target\":5},{\"source\":2,\"target\":6},{\"source\":2,\"target\":7},{\"source\":2,\"target\":8},{\"source\":2,\"target\":9},{\"source\":2,\"target\":11},{\"source\":2,\"target\":12},{\"source\":2,\"target\":13},{\"source\":2,\"target\":14},{\"source\":2,\"target\":15},{\"source\":2,\"target\":16},{\"source\":2,\"target\":18},{\"source\":2,\"target\":19},{\"source\":2,\"target\":20},{\"source\":2,\"target\":21},{\"source\":2,\"target\":22},{\"source\":2,\"target\":23},{\"source\":2,\"target\":24},{\"source\":2,\"target\":27},{\"source\":2,\"target\":28},{\"source\":2,\"target\":29},{\"source\":2,\"target\":30},{\"source\":2,\"target\":31},{\"source\":2,\"target\":32},{\"source\":2,\"target\":33},{\"source\":2,\"target\":34},{\"source\":2,\"target\":36},{\"source\":2,\"target\":37},{\"source\":2,\"target\":38},{\"source\":2,\"target\":41},{\"source\":3,\"target\":2},{\"source\":3,\"target\":42},{\"source\":3,\"target\":30},{\"source\":3,\"target\":37},{\"source\":4,\"target\":2},{\"source\":4,\"target\":43},{\"source\":4,\"target\":37},{\"source\":4,\"target\":36},{\"source\":5,\"target\":2},{\"source\":5,\"target\":44},{\"source\":5,\"target\":36},{\"source\":6,\"target\":2},{\"source\":6,\"target\":32},{\"source\":6,\"target\":31},{\"source\":7,\"target\":2},{\"source\":7,\"target\":46},{\"source\":7,\"target\":33},{\"source\":7,\"target\":32},{\"source\":8,\"target\":2},{\"source\":8,\"target\":47},{\"source\":8,\"target\":28},{\"source\":8,\"target\":27},{\"source\":9,\"target\":2},{\"source\":9,\"target\":48},{\"source\":9,\"target\":29},{\"source\":9,\"target\":28},{\"source\":11,\"target\":2},{\"source\":11,\"target\":24},{\"source\":11,\"target\":22},{\"source\":12,\"target\":2},{\"source\":12,\"target\":24},{\"source\":13,\"target\":2},{\"source\":13,\"target\":52},{\"source\":14,\"target\":2},{\"source\":14,\"target\":28},{\"source\":15,\"target\":2},{\"source\":15,\"target\":54},{\"source\":15,\"target\":34},{\"source\":16,\"target\":2},{\"source\":16,\"target\":55},{\"source\":18,\"target\":2},{\"source\":18,\"target\":57},{\"source\":18,\"target\":41},{\"source\":18,\"target\":28},{\"source\":19,\"target\":2},{\"source\":19,\"target\":58},{\"source\":19,\"target\":34},{\"source\":19,\"target\":41},{\"source\":20,\"target\":2},{\"source\":20,\"target\":59},{\"source\":20,\"target\":31},{\"source\":20,\"target\":29},{\"source\":21,\"target\":2},{\"source\":21,\"target\":60},{\"source\":21,\"target\":22},{\"source\":21,\"target\":23},{\"source\":22,\"target\":21},{\"source\":22,\"target\":11},{\"source\":23,\"target\":21},{\"source\":24,\"target\":11},{\"source\":24,\"target\":12},{\"source\":27,\"target\":8},{\"source\":28,\"target\":14},{\"source\":28,\"target\":8},{\"source\":28,\"target\":9},{\"source\":28,\"target\":18},{\"source\":29,\"target\":9},{\"source\":29,\"target\":20},{\"source\":30,\"target\":3},{\"source\":31,\"target\":20},{\"source\":31,\"target\":6},{\"source\":32,\"target\":6},{\"source\":32,\"target\":7},{\"source\":33,\"target\":7},{\"source\":34,\"target\":19},{\"source\":34,\"target\":15},{\"source\":36,\"target\":5},{\"source\":36,\"target\":4},{\"source\":37,\"target\":4},{\"source\":37,\"target\":3},{\"source\":41,\"target\":18},{\"source\":41,\"target\":19}],\"multigraph\":true}\n"
     ]
    }
   ],
   "execution_count": 9
  },
  {
   "metadata": {
    "ExecuteTime": {
     "end_time": "2024-11-26T11:31:35.700015Z",
     "start_time": "2024-11-26T11:31:35.697151Z"
    }
   },
   "cell_type": "code",
   "source": [
    "output = test_dataset[0]['output']\n",
    "print(output)"
   ],
   "id": "73d87a8553c4e244",
   "outputs": [
    {
     "name": "stdout",
     "output_type": "stream",
     "text": [
      "{\"nodes\":[{\"visibility\":\"PUBLIC_LITERAL\",\"id\":1,\"eClass\":\"PackageImport\"},{\"visibility\":\"PUBLIC_LITERAL\",\"qualifiedName\":\"ControlFlow10\",\"name\":\"ControlFlow10\",\"id\":10,\"isLeaf\":false,\"eClass\":\"ControlFlow\"},{\"visibility\":\"PUBLIC_LITERAL\",\"qualifiedName\":\"ControlFlow18\",\"name\":\"ControlFlow18\",\"id\":17,\"isLeaf\":false,\"eClass\":\"ControlFlow\"},{\"visibility\":\"PUBLIC_LITERAL\",\"qualifiedName\":\"DecisionNode\",\"name\":\"DecisionNode\",\"id\":25,\"isLeaf\":false,\"eClass\":\"DecisionNode\"},{\"visibility\":\"PUBLIC_LITERAL\",\"qualifiedName\":\"ActivityFinalNode\",\"name\":\"ActivityFinalNode\",\"id\":26,\"isLeaf\":false,\"eClass\":\"ActivityFinalNode\"},{\"visibility\":\"PUBLIC_LITERAL\",\"qualifiedName\":\"DecisionNode2\",\"name\":\"DecisionNode2\",\"id\":35,\"isLeaf\":false,\"eClass\":\"DecisionNode\"},{\"visibility\":\"PUBLIC_LITERAL\",\"qualifiedName\":\"ActivityFinalNode4\",\"name\":\"ActivityFinalNode4\",\"id\":39,\"isLeaf\":false,\"eClass\":\"ActivityFinalNode\"},{\"visibility\":\"PUBLIC_LITERAL\",\"qualifiedName\":\"ActivityFinalNode5\",\"name\":\"ActivityFinalNode5\",\"id\":40,\"isLeaf\":false,\"eClass\":\"ActivityFinalNode\"},{\"visibility\":\"PUBLIC_LITERAL\",\"qualifiedName\":null,\"name\":null,\"id\":45,\"value\":\"true\",\"eClass\":\"LiteralString\"},{\"visibility\":\"PUBLIC_LITERAL\",\"qualifiedName\":null,\"name\":null,\"id\":50,\"value\":\"true\",\"eClass\":\"LiteralString\"},{\"visibility\":\"PUBLIC_LITERAL\",\"qualifiedName\":null,\"name\":null,\"id\":51,\"value\":\"true\",\"eClass\":\"LiteralString\"},{\"visibility\":\"PUBLIC_LITERAL\",\"qualifiedName\":null,\"name\":null,\"id\":53,\"value\":\"true\",\"eClass\":\"LiteralString\"},{\"visibility\":\"PUBLIC_LITERAL\",\"qualifiedName\":null,\"name\":null,\"id\":49,\"value\":\"true\",\"eClass\":\"LiteralString\"},{\"visibility\":\"PUBLIC_LITERAL\",\"qualifiedName\":null,\"name\":null,\"id\":56,\"value\":\"true\",\"eClass\":\"LiteralString\"}],\"links\":[{\"source\":0,\"target\":1},{\"source\":1,\"target\":0},{\"source\":2,\"target\":10},{\"source\":2,\"target\":17},{\"source\":2,\"target\":25},{\"source\":2,\"target\":26},{\"source\":2,\"target\":35},{\"source\":2,\"target\":39},{\"source\":2,\"target\":40},{\"source\":5,\"target\":35},{\"source\":6,\"target\":45},{\"source\":10,\"target\":2},{\"source\":10,\"target\":49},{\"source\":10,\"target\":38},{\"source\":10,\"target\":30},{\"source\":11,\"target\":50},{\"source\":12,\"target\":51},{\"source\":12,\"target\":25},{\"source\":13,\"target\":26},{\"source\":13,\"target\":25},{\"source\":14,\"target\":53},{\"source\":14,\"target\":25},{\"source\":15,\"target\":35},{\"source\":16,\"target\":39},{\"source\":16,\"target\":35},{\"source\":17,\"target\":2},{\"source\":17,\"target\":56},{\"source\":17,\"target\":40},{\"source\":17,\"target\":41},{\"source\":25,\"target\":12},{\"source\":25,\"target\":13},{\"source\":25,\"target\":14},{\"source\":26,\"target\":13},{\"source\":30,\"target\":10},{\"source\":35,\"target\":15},{\"source\":35,\"target\":5},{\"source\":35,\"target\":16},{\"source\":38,\"target\":10},{\"source\":39,\"target\":16},{\"source\":40,\"target\":17},{\"source\":41,\"target\":17}]}\n"
     ]
    }
   ],
   "execution_count": 10
  },
  {
   "metadata": {
    "ExecuteTime": {
     "end_time": "2024-11-26T11:31:38.679808Z",
     "start_time": "2024-11-26T11:31:38.670973Z"
    }
   },
   "cell_type": "code",
   "source": "input_ids = tokenizer(data,return_tensors='pt', truncation=True, max_length=4100).to(\"cuda\")",
   "id": "efd763e0e37e5a28",
   "outputs": [],
   "execution_count": 11
  },
  {
   "metadata": {
    "ExecuteTime": {
     "end_time": "2024-11-26T11:32:36.670697Z",
     "start_time": "2024-11-26T11:31:46.136684Z"
    }
   },
   "cell_type": "code",
   "source": [
    "outputs = model.generate(**input_ids, max_length=4100,do_sample=True)\n",
    "decoded_output = tokenizer.decode(outputs[0], skip_special_tokens=True)\n",
    "print(decoded_output)"
   ],
   "id": "6e97b0064c8aea50",
   "outputs": [
    {
     "name": "stderr",
     "output_type": "stream",
     "text": [
      "Setting `pad_token_id` to `eos_token_id`:None for open-end generation.\n"
     ]
    },
    {
     "name": "stdout",
     "output_type": "stream",
     "text": [
      "{\"directed\":true,\"nodes\":[{\"viewpoint\":null,\"visibility\":\"PUBLIC_LITERAL\",\"qualifiedName\":\"model\",\"name\":\"model\",\"id\":0,\"URI\":null,\"eClass\":\"Model\"},{\"isSingleExecution\":false,\"isReadOnly\":false,\"visibility\":\"PUBLIC_LITERAL\",\"qualifiedName\":\"model::Activity\",\"name\":\"Activity\",\"id\":2,\"isActive\":false,\"isReentrant\":true,\"isLeaf\":false,\"isAbstract\":false,\"isFinalSpecialization\":false,\"eClass\":\"Activity\"},{\"visibility\":\"PUBLIC_LITERAL\",\"qualifiedName\":\"ControlFlow\",\"name\":\"ControlFlow\",\"id\":3,\"isLeaf\":false,\"eClass\":\"ControlFlow\"},{\"visibility\":\"PUBLIC_LITERAL\",\"qualifiedName\":\"ControlFlow2\",\"name\":\"ControlFlow2\",\"id\":4,\"isLeaf\":false,\"eClass\":\"ControlFlow\"},{\"visibility\":\"PUBLIC_LITERAL\",\"qualifiedName\":\"ControlFlow3\",\"name\":\"ControlFlow3\",\"id\":5,\"isLeaf\":false,\"eClass\":\"ControlFlow\"},{\"visibility\":\"PUBLIC_LITERAL\",\"qualifiedName\":\"ControlFlow5\",\"name\":\"ControlFlow5\",\"id\":6,\"isLeaf\":false,\"eClass\":\"ControlFlow\"},{\"visibility\":\"PUBLIC_LITERAL\",\"qualifiedName\":\"ControlFlow6\",\"name\":\"ControlFlow6\",\"id\":7,\"isLeaf\":false,\"eClass\":\"ControlFlow\"},{\"visibility\":\"PUBLIC_LITERAL\",\"qualifiedName\":\"ControlFlow7\",\"name\":\"ControlFlow7\",\"id\":8,\"isLeaf\":false,\"eClass\":\"ControlFlow\"},{\"visibility\":\"PUBLIC_LITERAL\",\"qualifiedName\":\"ControlFlow8\",\"name\":\"ControlFlow8\",\"id\":9,\"isLeaf\":false,\"eClass\":\"ControlFlow\"},{\"visibility\":\"PUBLIC_LITERAL\",\"qualifiedName\":\"ControlFlow11\",\"name\":\"ControlFlow11\",\"id\":11,\"isLeaf\":false,\"eClass\":\"ControlFlow\"},{\"visibility\":\"PUBLIC_LITERAL\",\"qualifiedName\":\"ControlFlow12\",\"name\":\"ControlFlow12\",\"id\":12,\"isLeaf\":false,\"eClass\":\"ControlFlow\"},{\"visibility\":\"PUBLIC_LITERAL\",\"qualifiedName\":\"ControlFlow13\",\"name\":\"ControlFlow13\",\"id\":13,\"isLeaf\":false,\"eClass\":\"ControlFlow\"},{\"visibility\":\"PUBLIC_LITERAL\",\"qualifiedName\":\"ControlFlow14\",\"name\":\"ControlFlow14\",\"id\":14,\"isLeaf\":false,\"eClass\":\"ControlFlow\"},{\"visibility\":\"PUBLIC_LITERAL\",\"qualifiedName\":\"ControlFlow17\",\"name\":\"ControlFlow17\",\"id\":15,\"isLeaf\":false,\"eClass\":\"ControlFlow\"},{\"visibility\":\"PUBLIC_LITERAL\",\"qualifiedName\":\"ControlFlow16\",\"name\":\"ControlFlow16\",\"id\":16,\"isLeaf\":false,\"eClass\":\"ControlFlow\"},{\"visibility\":\"PUBLIC_LITERAL\",\"qualifiedName\":\"ControlFlow9\",\"name\":\"ControlFlow9\",\"id\":18,\"isLeaf\":false,\"eClass\":\"ControlFlow\"},{\"visibility\":\"PUBLIC_LITERAL\",\"qualifiedName\":\"ControlFlow4\",\"name\":\"ControlFlow4\",\"id\":19,\"isLeaf\":false,\"eClass\":\"ControlFlow\"},{\"visibility\":\"PUBLIC_LITERAL\",\"qualifiedName\":\"ControlFlow15\",\"name\":\"ControlFlow15\",\"id\":20,\"isLeaf\":false,\"eClass\":\"ControlFlow\"},{\"visibility\":\"PUBLIC_LITERAL\",\"qualifiedName\":\"ControlFlow19\",\"name\":\"ControlFlow19\",\"id\":21,\"isLeaf\":false,\"eClass\":\"ControlFlow\"},{\"visibility\":\"PUBLIC_LITERAL\",\"qualifiedName\":\"Login\",\"isLocallyReentrant\":false,\"name\":\"Login\",\"language\":[],\"id\":22,\"body\":[],\"isLeaf\":false,\"eClass\":\"OpaqueAction\"},{\"visibility\":\"PUBLIC_LITERAL\",\"qualifiedName\":\"InitialNode\",\"name\":\"InitialNode\",\"id\":23,\"isLeaf\":false,\"eClass\":\"InitialNode\"},{\"visibility\":\"PUBLIC_LITERAL\",\"qualifiedName\":\"Authentication\",\"isLocallyReentrant\":false,\"name\":\"Authentication\",\"language\":[],\"id\":24,\"body\":[],\"isLeaf\":false,\"eClass\":\"OpaqueAction\"},{\"visibility\":\"PUBLIC_LITERAL\",\"qualifiedName\":\"InitialNode2\",\"name\":\"InitialNode2\",\"id\":27,\"isLeaf\":false,\"eClass\":\"InitialNode\"},{\"visibility\":\"PUBLIC_LITERAL\",\"qualifiedName\":\"Make Transaction\",\"isLocallyReentrant\":false,\"name\":\"Make Transaction\",\"language\":[],\"id\":28,\"body\":[],\"isLeaf\":false,\"eClass\":\"OpaqueAction\"},{\"visibility\":\"PUBLIC_LITERAL\",\"qualifiedName\":\"Transfer\",\"isLocallyReentrant\":false,\"name\":\"Transfer\",\"language\":[],\"id\":29,\"body\":[],\"isLeaf\":false,\"eClass\":\"OpaqueAction\"},{\"visibility\":\"PUBLIC_LITERAL\",\"qualifiedName\":\"Logout\",\"isLocallyReentrant\":false,\"name\":\"Logout\",\"language\":[],\"id\":30,\"body\":[],\"isLeaf\":false,\"eClass\":\"OpaqueAction\"},{\"visibility\":\"PUBLIC_LITERAL\",\"qualifiedName\":\"Others\",\"isLocallyReentrant\":false,\"name\":\"Others\",\"language\":[],\"id\":31,\"body\":[],\"isLeaf\":false,\"eClass\":\"OpaqueAction\"},{\"visibility\":\"PUBLIC_LITERAL\",\"qualifiedName\":\"Amount\",\"isLocallyReentrant\":false,\"name\":\"Amount\",\"language\":[],\"id\":32,\"body\":[],\"isLeaf\":false,\"eClass\":\"OpaqueAction\"},{\"visibility\":\"PUBLIC_LITERAL\",\"qualifiedName\":\"ActivityFinalNode2\",\"name\":\"ActivityFinalNode2\",\"id\":33,\"isLeaf\":false,\"eClass\":\"ActivityFinalNode\"},{\"visibility\":\"PUBLIC_LITERAL\",\"qualifiedName\":\"Withdrawal\",\"isLocallyReentrant\":false,\"name\":\"Withdrawal\",\"language\":[],\"id\":34,\"body\":[],\"isLeaf\":false,\"eClass\":\"OpaqueAction\"},{\"visibility\":\"PUBLIC_LITERAL\",\"qualifiedName\":\"Update Current balance\",\"isLocallyReentrant\":false,\"name\":\"Update Current balance\",\"language\":[],\"id\":36,\"body\":[],\"isLeaf\":false,\"eClass\":\"OpaqueAction\"},{\"visibility\":\"PUBLIC_LITERAL\",\"qualifiedName\":\"Update Transaction History\",\"isLocallyReentrant\":false,\"name\":\"Update Transaction History\",\"language\":[],\"id\":37,\"body\":[],\"isLeaf\":false,\"eClass\":\"OpaqueAction\"},{\"visibility\":\"PUBLIC_LITERAL\",\"qualifiedName\":\"ActivityFinalNode3\",\"name\":\"ActivityFinalNode3\",\"id\":38,\"isLeaf\":false,\"eClass\":\"ActivityFinalNode\"},{\"visibility\":\"PUBLIC_LITERAL\",\"qualifiedName\":\"Self\",\"isLocallyReentrant\":false,\"name\":\"Self\",\"language\":[],\"id\":41,\"body\":[],\"isLeaf\":false,\"eClass\":\"OpaqueAction\"},{\"visibility\":\"PUBLIC_LITERAL\",\"qualifiedName\":null,\"name\":null,\"id\":42,\"value\":\"true\",\"eClass\":\"LiteralString\"},{\"visibility\":\"PUBLIC_LITERAL\",\"qualifiedName\":null,\"name\":null,\"id\":43,\"value\":\"true\",\"eClass\":\"LiteralString\"},{\"visibility\":\"PUBLIC_LITERAL\",\"qualifiedName\":null,\"name\":null,\"id\":44,\"value\":\"true\",\"eClass\":\"LiteralString\"},{\"visibility\":\"PUBLIC_LITERAL\",\"qualifiedName\":null,\"name\":null,\"id\":46,\"value\":\"true\",\"eClass\":\"LiteralString\"},{\"visibility\":\"PUBLIC_LITERAL\",\"qualifiedName\":null,\"name\":null,\"id\":47,\"value\":\"true\",\"eClass\":\"LiteralString\"},{\"visibility\":\"PUBLIC_LITERAL\",\"qualifiedName\":null,\"name\":null,\"id\":48,\"value\":\"true\",\"eClass\":\"LiteralString\"},{\"visibility\":\"PUBLIC_LITERAL\",\"qualifiedName\":null,\"name\":null,\"id\":52,\"value\":\"true\",\"eClass\":\"LiteralString\"},{\"visibility\":\"PUBLIC_LITERAL\",\"qualifiedName\":null,\"name\":null,\"id\":54,\"value\":\"true\",\"eClass\":\"LiteralString\"},{\"visibility\":\"PUBLIC_LITERAL\",\"qualifiedName\":null,\"name\":null,\"id\":55,\"value\":\"true\",\"eClass\":\"LiteralString\"},{\"visibility\":\"PUBLIC_LITERAL\",\"qualifiedName\":null,\"name\":null,\"id\":57,\"value\":\"true\",\"eClass\":\"LiteralString\"},{\"visibility\":\"PUBLIC_LITERAL\",\"qualifiedName\":null,\"name\":null,\"id\":58,\"value\":\"true\",\"eClass\":\"LiteralString\"},{\"visibility\":\"PUBLIC_LITERAL\",\"qualifiedName\":null,\"name\":null,\"id\":59,\"value\":\"true\",\"eClass\":\"LiteralString\"},{\"visibility\":\"PUBLIC_LITERAL\",\"qualifiedName\":null,\"name\":null,\"id\":60,\"value\":\"true\",\"eClass\":\"LiteralString\"}],\"links\":[{\"source\":0,\"target\":2},{\"source\":2,\"target\":3},{\"source\":2,\"target\":4},{\"source\":2,\"target\":5},{\"source\":2,\"target\":6},{\"source\":2,\"target\":7},{\"source\":2,\"target\":8},{\"source\":2,\"target\":9},{\"source\":2,\"target\":11},{\"source\":2,\"target\":12},{\"source\":2,\"target\":13},{\"source\":2,\"target\":14},{\"source\":2,\"target\":15},{\"source\":2,\"target\":16},{\"source\":2,\"target\":18},{\"source\":2,\"target\":19},{\"source\":2,\"target\":20},{\"source\":2,\"target\":21},{\"source\":2,\"target\":22},{\"source\":2,\"target\":23},{\"source\":2,\"target\":24},{\"source\":2,\"target\":27},{\"source\":2,\"target\":28},{\"source\":2,\"target\":29},{\"source\":2,\"target\":30},{\"source\":2,\"target\":31},{\"source\":2,\"target\":32},{\"source\":2,\"target\":33},{\"source\":2,\"target\":34},{\"source\":2,\"target\":36},{\"source\":2,\"target\":37},{\"source\":2,\"target\":38},{\"source\":2,\"target\":41},{\"source\":3,\"target\":2},{\"source\":3,\"target\":42},{\"source\":3,\"target\":30},{\"source\":3,\"target\":37},{\"source\":4,\"target\":2},{\"source\":4,\"target\":43},{\"source\":4,\"target\":37},{\"source\":4,\"target\":36},{\"source\":5,\"target\":2},{\"source\":5,\"target\":44},{\"source\":5,\"target\":36},{\"source\":6,\"target\":2},{\"source\":6,\"target\":32},{\"source\":6,\"target\":31},{\"source\":7,\"target\":2},{\"source\":7,\"target\":46},{\"source\":7,\"target\":33},{\"source\":7,\"target\":32},{\"source\":8,\"target\":2},{\"source\":8,\"target\":47},{\"source\":8,\"target\":28},{\"source\":8,\"target\":27},{\"source\":9,\"target\":2},{\"source\":9,\"target\":48},{\"source\":9,\"target\":29},{\"source\":9,\"target\":28},{\"source\":11,\"target\":2},{\"source\":11,\"target\":24},{\"source\":11,\"target\":22},{\"source\":12,\"target\":2},{\"source\":12,\"target\":24},{\"source\":13,\"target\":2},{\"source\":13,\"target\":52},{\"source\":14,\"target\":2},{\"source\":14,\"target\":28},{\"source\":15,\"target\":2},{\"source\":15,\"target\":54},{\"source\":15,\"target\":34},{\"source\":16,\"target\":2},{\"source\":16,\"target\":55},{\"source\":18,\"target\":2},{\"source\":18,\"target\":57},{\"source\":18,\"target\":41},{\"source\":18,\"target\":28},{\"source\":19,\"target\":2},{\"source\":19,\"target\":58},{\"source\":19,\"target\":34},{\"source\":19,\"target\":41},{\"source\":20,\"target\":2},{\"source\":20,\"target\":59},{\"source\":20,\"target\":31},{\"source\":20,\"target\":29},{\"source\":21,\"target\":2},{\"source\":21,\"target\":60},{\"source\":21,\"target\":22},{\"source\":21,\"target\":23},{\"source\":22,\"target\":21},{\"source\":22,\"target\":11},{\"source\":23,\"target\":21},{\"source\":24,\"target\":11},{\"source\":24,\"target\":12},{\"source\":27,\"target\":8},{\"source\":28,\"target\":14},{\"source\":28,\"target\":8},{\"source\":28,\"target\":9},{\"source\":28,\"target\":18},{\"source\":29,\"target\":9},{\"source\":29,\"target\":20},{\"source\":30,\"target\":3},{\"source\":31,\"target\":20},{\"source\":31,\"target\":6},{\"source\":32,\"target\":6},{\"source\":32,\"target\":7},{\"source\":33,\"target\":7},{\"source\":34,\"target\":19},{\"source\":34,\"target\":15},{\"source\":36,\"target\":5},{\"source\":36,\"target\":4},{\"source\":37,\"target\":4},{\"source\":37,\"target\":3},{\"source\":41,\"target\":18},{\"source\":41,\"target\":19}],\"multigraph\":true}/Bank account system/Bank account system/src/Bank account system/Transfer.java\n",
      "package Bank account system;\n",
      "\n",
      "import java.sql.ResultSet;\n",
      "import java.sql.SQLException;\n",
      "\n",
      "public class Transfer {\n",
      "\n",
      "\tpublic String senderID = null;\n",
      "\tpublic String recevierID = null;\n",
      "\tpublic String amount = null;\n",
      "\tpublic String description = null;\n",
      "\tpublic Boolean transactionType;\n",
      "\t\n",
      "\tpublic Transfer(String senderID,String recevierID,String amount,String description,Boolean transactionType)\n",
      "\t{\n",
      "\t\tthis.senderID  = senderID;\n",
      "\t\tthis.recevierID = recevierID;\n",
      "\t\tthis.amount  = amount;\n",
      "\t\tthis.description = description;\n",
      "\t\tthis.transactionType = transactionType;\n",
      "\t}\n",
      "\tpublic boolean transferMoney()\n",
      "\t{\n",
      "\t\tboolean done = false;\n",
      "\t\tString currentBalance =null;\n",
      "\t\tString currentBalance2 = null;\n",
      "\t\ttry\n",
      "\t\t{\n",
      "\t\t\tmySQLConnection mConnection = new mySQLConnection();\n",
      "\t\t\tmConnection.mySQLConnection();\n",
      "\t\t\tPreparedStatement mystmt = mConnection.mySQLConnection().prepareStatement(\"select currentBalance from account where id =?\");\n",
      "\t\t\tmystmt.setString(1, senderID);\n",
      "\t\t\tResultSet rs =mystmt.executeQuery();\n",
      "\t\t\tif(rs.next())\n",
      "\t\t\t{\n",
      "\t\t\t\tcurrentBalance = rs.getString(\"currentBalance\");\n",
      "\t\t\t}\n",
      "\t\t\trs.close();\n",
      "\t\t\t\n",
      "\t\t\tmystmt = mConnection.mySQLConnection().prepareStatement(\"select currentBalance from account where id =?\");\n",
      "\t\t\tmystmt.setString(1, recevierID);\n",
      "\t\t\trs =mystmt.executeQuery();\n",
      "\t\t\tif(rs.next())\n",
      "\t\t\t{\n",
      "\t\t\t\tcurrentBalance2 = rs.getString(\"currentBalance\");\n",
      "\t\t\t}\n",
      "\t\t\trs.close();\n",
      "\t\t\t\n",
      "\t\t\tif((!currentBalance.equals(\"-1\")) && (!currentBalance2.equals(\"-1\")) && (Long.parseLong(currentBalance)>=Long.parseLong(amount)) && (Long.parseLong(currentBalance2)>=0))\n",
      "\t\t\t{\n",
      "\t\t\t\tlong newBalance =  Long.parseLong(currentBalance)-Long.parseLong(amount);\n",
      "\t\t\t\tlong newBalance2 =  Long.parseLong(currentBalance2)+Long.parseLong(amount);\n",
      "\t\t\t\tmystmt = mConnection.mySQLConnection().prepareStatement(\"insert into transtaction(senderID,recevierID,amount,description) values(?,?,?,?)\");\n",
      "\t\t\t\tmystmt.setString(1, senderID);\n",
      "\t\t\t\tmystmt.setString(2, recevierID);\n",
      "\t\t\t\tmystmt.setString(3,amount);\n",
      "\t\t\t\tmystmt.setString(4, description);\n",
      "\t\t\t\tmystmt.executeUpdate();\n",
      "\t\t\t\tmystmt = mConnection.mySQLConnection().prepareStatement(\"update account set currentBalance =?  where id =?\");\n",
      "\t\t\t\tmystmt.setString(1, String.valueOf(newBalance));\n",
      "\t\t\t\tmystmt.setString(2, senderID);\n",
      "\t\t\t\tmystmt.executeUpdate();\n",
      "\t\t\t\tmystmt = mConnection.mySQLConnection().prepareStatement(\"update account set currentBalance =? where id =?\");\n",
      "\t\t\t\tmystmt.setString(1, String.valueOf(newBalance2));\n",
      "\t\t\t\tmystmt.setString(2, recevierID);\n",
      "\t\t\t\tmystmt.executeUpdate();\n",
      "\t\t\t\t\n",
      "\t\t\t\tdone = true;\n",
      "\t\t\t\tmConnection.close();\n",
      "\t\t\t}\n",
      "\t\t\t\n",
      "\t\t}\n",
      "\t\tcatch(SQLException ex)\n",
      "\t\t{\n",
      "\t\t\tSystem.out.print(ex.getMessage());\n",
      "\t\t}\n",
      "\t\treturn done;\n",
      "LITERALString}\n",
      "/Bank account system/Bank account system/src/Bank account system/Account.java\n",
      "package Bank account system;\n",
      "\n",
      "import java.sql.ResultSet;\n",
      "import java.sql.SQLException;\n",
      "\n",
      "public class Account {\n",
      "\n",
      "\tpublic String id = null;\n",
      "\tpublic String pin = null;\n",
      "\tpublic String email = null;\n",
      "\tpublic String name = null;\n",
      "\tpublic String currentBalance = null;\n",
      "\tpublic String address = null;\n",
      "\n",
      "\tpublic Account(String id,String pin,String email,String name,String currentBalance,String address)\n",
      "\t{\n",
      "\t\tthis.id = id;\n",
      "\t\tthis.pin = pin;\n",
      "\t\tthis.email = email;\n",
      "\t\tthis.name = name;\n",
      "\t\tthis.currentBalance = currentBalance;\n",
      "\t\tthis.address = address;\n",
      "\t}\n",
      "\tpublic boolean updateAccount()\n",
      "\t{\n",
      "\t\tboolean done = false;\n",
      "\t\ttry\n",
      "\t\t{\n",
      "\t\t\tmySQLConnection mConnection = new mySQLConnection();\n",
      "\t\t\tmConnection.mySQLConnection();\n",
      "\t\t\tPreparedStatement mystmt = mConnection.mySQLConnection().prepareStatement(\"update account set pin =?,email =?,address =? where id =?\");\n",
      "\t\t\tmystmt.setString(1, pin);\n",
      "\t\t\tmystmt.setString(2, email);\n",
      "\t\t\tmystmt.setString(3, address);\n",
      "\t\t\tmystmt.setString(4, id);\n",
      "\t\t\tmystmt.executeUpdate();\n",
      "\t\t\tdone = true;\n",
      "\t\t\tmConnection.close();\n",
      "\t\t\t\n",
      "\t\t}\n",
      "\t\tcatch(SQLException ex)\n",
      "\t\t{\n",
      "\t\t\tSystem.out.print(ex.getMessage());\n",
      "\t\t}\n",
      "\t\treturn done;LITERALString}\n",
      "\tpublic boolean deleteAccount()\n",
      "\t{\n",
      "\t\tboolean done = false;\n",
      "\t\ttry\n",
      "\t\t{\n",
      "\t\t\tmySQLConnection mConnection = new mySQLConnection();\n",
      "\t\t\tmConnection.mySQLConnection();\n",
      "\t\t\tPreparedStatement mystmt = mConnection.mySQLConnection().prepareStatement(\"delete from account where id =?\");\n",
      "\t\t\tmystmt.setString(1, id);\n",
      "\t\t\tmystmt.executeUpdate();\n",
      "\t\t\tdone = true;\n",
      "\t\t\tmConnection.close();\n",
      "\t\t}\n",
      "\t\tcatch(SQLException ex)\n",
      "\t\t{\n",
      "\t\t\tSystem.out.print(ex.getMessage());\t\n",
      "\t\t}\n",
      "\t\treturn done;LITERALString}\n",
      "\tpublic boolean createAccount()\n",
      "\t{\n",
      "\t\tboolean done = false;\n",
      "\t\ttry\n",
      "\t\t{\n",
      "\t\t\tmySQLConnection\n"
     ]
    }
   ],
   "execution_count": 12
  },
  {
   "metadata": {},
   "cell_type": "code",
   "outputs": [],
   "execution_count": null,
   "source": "",
   "id": "78004a0ca2ead2c8"
  }
 ],
 "metadata": {
  "kernelspec": {
   "display_name": "Python 3",
   "language": "python",
   "name": "python3"
  },
  "language_info": {
   "codemirror_mode": {
    "name": "ipython",
    "version": 2
   },
   "file_extension": ".py",
   "mimetype": "text/x-python",
   "name": "python",
   "nbconvert_exporter": "python",
   "pygments_lexer": "ipython2",
   "version": "2.7.6"
  }
 },
 "nbformat": 4,
 "nbformat_minor": 5
}
