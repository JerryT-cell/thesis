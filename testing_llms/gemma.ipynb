{
 "cells": [
  {
   "cell_type": "code",
   "id": "initial_id",
   "metadata": {
    "collapsed": true,
    "ExecuteTime": {
     "end_time": "2024-11-21T04:44:46.128830Z",
     "start_time": "2024-11-21T04:44:46.125824Z"
    }
   },
   "source": [
    "import torch\n",
    "from transformers import AutoTokenizer, AutoModelForCausalLM, BitsAndBytesConfig"
   ],
   "outputs": [],
   "execution_count": 2
  },
  {
   "metadata": {},
   "cell_type": "markdown",
   "source": " ### Running the model on a CPU",
   "id": "9fbd06774e2a9e43"
  },
  {
   "metadata": {},
   "cell_type": "code",
   "outputs": [],
   "execution_count": null,
   "source": "checkpoint = \"google/gemma-2b\"",
   "id": "c6ccac3df5a073a8"
  },
  {
   "metadata": {},
   "cell_type": "code",
   "outputs": [],
   "execution_count": null,
   "source": [
    "tokenizer = AutoTokenizer.from_pretrained(checkpoint)\n",
    "model = AutoModelForCausalLM.from_pretrained(checkpoint)"
   ],
   "id": "5ceb5074664a7751"
  },
  {
   "metadata": {},
   "cell_type": "code",
   "outputs": [],
   "execution_count": null,
   "source": [
    "input_text = \"Write a function to sort a list \"\n",
    "input_ids = tokenizer(input_text, return_tensors=\"pt\")\n",
    "print(input_ids)"
   ],
   "id": "8493e8bac3e77137"
  },
  {
   "metadata": {},
   "cell_type": "code",
   "outputs": [],
   "execution_count": null,
   "source": [
    "outputs = model.generate(**input_ids)\n",
    "print(tokenizer.decode(outputs[0]))"
   ],
   "id": "60eb28789fc4cc42"
  },
  {
   "metadata": {},
   "cell_type": "markdown",
   "source": " ### Running the model on a GPU",
   "id": "3655856ce3d41b13"
  },
  {
   "metadata": {
    "ExecuteTime": {
     "end_time": "2024-11-21T04:38:06.269962Z",
     "start_time": "2024-11-21T04:38:06.267720Z"
    }
   },
   "cell_type": "code",
   "source": "checkpoint = \"google/gemma-2b\"",
   "id": "49a2d12eb53d2401",
   "outputs": [],
   "execution_count": 2
  },
  {
   "metadata": {
    "ExecuteTime": {
     "end_time": "2024-11-21T04:38:12.050581Z",
     "start_time": "2024-11-21T04:38:07.393638Z"
    }
   },
   "cell_type": "code",
   "source": [
    "tokenizer = AutoTokenizer.from_pretrained(checkpoint)\n",
    "model = AutoModelForCausalLM.from_pretrained(checkpoint, device_map=\"auto\")"
   ],
   "id": "43ec0c5394fa0e4a",
   "outputs": [
    {
     "name": "stderr",
     "output_type": "stream",
     "text": [
      "`config.hidden_act` is ignored, you should use `config.hidden_activation` instead.\n",
      "Gemma's activation function will be set to `gelu_pytorch_tanh`. Please, use\n",
      "`config.hidden_activation` if you want to override this behaviour.\n",
      "See https://github.com/huggingface/transformers/pull/29402 for more details.\n"
     ]
    },
    {
     "data": {
      "text/plain": [
       "Loading checkpoint shards:   0%|          | 0/2 [00:00<?, ?it/s]"
      ],
      "application/vnd.jupyter.widget-view+json": {
       "version_major": 2,
       "version_minor": 0,
       "model_id": "e7317eadba0943f19a6f4e3ba4b05269"
      }
     },
     "metadata": {},
     "output_type": "display_data"
    }
   ],
   "execution_count": 3
  },
  {
   "metadata": {
    "ExecuteTime": {
     "end_time": "2024-11-21T04:42:47.820929Z",
     "start_time": "2024-11-21T04:42:47.816231Z"
    }
   },
   "cell_type": "code",
   "source": [
    "input_text = \"def print_hello_world(): \"\n",
    "input_ids = tokenizer(input_text, return_tensors=\"pt\").to(\"cuda\")"
   ],
   "id": "ee73b96d2c1a7259",
   "outputs": [],
   "execution_count": 13
  },
  {
   "metadata": {
    "ExecuteTime": {
     "end_time": "2024-11-21T04:42:52.365772Z",
     "start_time": "2024-11-21T04:42:48.728436Z"
    }
   },
   "cell_type": "code",
   "source": [
    "outputs = model.generate(**input_ids, max_new_tokens=200, do_sample=True)\n",
    "print(tokenizer.decode(outputs[0]))"
   ],
   "id": "fc033cd3468b6282",
   "outputs": [
    {
     "name": "stdout",
     "output_type": "stream",
     "text": [
      "<bos>def print_hello_world(): \n",
      "   print(\"Hello, World!\") \n",
      "\n",
      "def get_name(): \n",
      "   name = input(\"What is your name? \") \n",
      "   return name \n",
      "\n",
      "\n",
      "if __name__==\"__main__\": \n",
      "   print_hello_world() \n",
      "   my_name = get_name() \n",
      "   print(f\"Hello {my_name}\")\n",
      "<eos>\n"
     ]
    }
   ],
   "execution_count": 14
  },
  {
   "metadata": {},
   "cell_type": "markdown",
   "source": "### Running on GPU Using 4-bit precision and GPU",
   "id": "b809fae12f06f0cc"
  },
  {
   "metadata": {
    "ExecuteTime": {
     "end_time": "2024-11-21T04:44:50.309579Z",
     "start_time": "2024-11-21T04:44:50.306702Z"
    }
   },
   "cell_type": "code",
   "source": "checkpoint = \"google/gemma-2b\"                # change the model name to the one you want to use",
   "id": "129596f9182f2b2d",
   "outputs": [],
   "execution_count": 3
  },
  {
   "metadata": {
    "ExecuteTime": {
     "end_time": "2024-11-21T04:45:24.911955Z",
     "start_time": "2024-11-21T04:45:21.946605Z"
    }
   },
   "cell_type": "code",
   "source": [
    "quantization_config = BitsAndBytesConfig(\n",
    "    load_in_4bit=True,\n",
    "    bnb_4bit_quant_type=\"nf4\",\n",
    "    bnb_4bit_compute_dtype=torch.float16,\n",
    "    bnb_4bit_use_double_quant=True,\n",
    ")\n",
    "model = AutoModelForCausalLM.from_pretrained(\n",
    "    checkpoint,\n",
    "    quantization_config=quantization_config,\n",
    "    device_map =\"auto\",\n",
    "    attn_implementation=\"eager\"\n",
    ")\n",
    "tokenizer = AutoTokenizer.from_pretrained(checkpoint)"
   ],
   "id": "fd9cd4ea6a84d58",
   "outputs": [
    {
     "data": {
      "text/plain": [
       "Loading checkpoint shards:   0%|          | 0/2 [00:00<?, ?it/s]"
      ],
      "application/vnd.jupyter.widget-view+json": {
       "version_major": 2,
       "version_minor": 0,
       "model_id": "cd3c5287bf1649adabf3d07b1144c924"
      }
     },
     "metadata": {},
     "output_type": "display_data"
    }
   ],
   "execution_count": 6
  },
  {
   "metadata": {
    "ExecuteTime": {
     "end_time": "2024-11-21T04:46:18.594135Z",
     "start_time": "2024-11-21T04:46:18.591037Z"
    }
   },
   "cell_type": "code",
   "source": [
    "input_text = \"def print_hello_world(): \"\n",
    "input_ids = tokenizer(input_text, return_tensors=\"pt\").to(\"cuda\")"
   ],
   "id": "e28ee4968bc085b6",
   "outputs": [],
   "execution_count": 12
  },
  {
   "metadata": {
    "ExecuteTime": {
     "end_time": "2024-11-21T04:46:22.573173Z",
     "start_time": "2024-11-21T04:46:19.574375Z"
    }
   },
   "cell_type": "code",
   "source": [
    "outputs = model.generate(**input_ids, do_sample=True, max_new_tokens=200)\n",
    "print(tokenizer.decode(outputs[0]))"
   ],
   "id": "d1a0329e1024402e",
   "outputs": [
    {
     "name": "stdout",
     "output_type": "stream",
     "text": [
      "<bos>def print_hello_world(): \n",
      "\tprint \"Hello, World!\"\n",
      "\n",
      "def print_hello_you():\n",
      "\tprint \"Hello, You!\"\n",
      "\n",
      "def print_hello_programmer():\n",
      "\tprint \"Hello, Programmer\"\n",
      "\n",
      "def main():\n",
      "\treturn\n",
      "\n",
      "if __name__ == \"__main__\":\n",
      "\ttry:\n",
      "\t\tmain()\n",
      "\texcept (KeyboardInterrupt, SystemExit):\n",
      "\t\tprint \"Good-bye!\"\n",
      "<eos>\n"
     ]
    }
   ],
   "execution_count": 13
  }
 ],
 "metadata": {
  "kernelspec": {
   "display_name": "Python 3",
   "language": "python",
   "name": "python3"
  },
  "language_info": {
   "codemirror_mode": {
    "name": "ipython",
    "version": 2
   },
   "file_extension": ".py",
   "mimetype": "text/x-python",
   "name": "python",
   "nbconvert_exporter": "python",
   "pygments_lexer": "ipython2",
   "version": "2.7.6"
  }
 },
 "nbformat": 4,
 "nbformat_minor": 5
}
