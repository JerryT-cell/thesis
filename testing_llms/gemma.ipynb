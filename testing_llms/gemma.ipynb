{
 "cells": [
  {
   "cell_type": "code",
   "id": "initial_id",
   "metadata": {
    "collapsed": true,
    "ExecuteTime": {
     "end_time": "2024-11-25T07:56:20.717111Z",
     "start_time": "2024-11-25T07:56:18.960275Z"
    }
   },
   "source": [
    "import torch\n",
    "from transformers import AutoTokenizer, AutoModelForCausalLM, BitsAndBytesConfig"
   ],
   "outputs": [],
   "execution_count": 1
  },
  {
   "metadata": {},
   "cell_type": "markdown",
   "source": " ### Running the model on a CPU",
   "id": "9fbd06774e2a9e43"
  },
  {
   "metadata": {},
   "cell_type": "code",
   "outputs": [],
   "execution_count": null,
   "source": "checkpoint = \"google/gemma-2b\"",
   "id": "c6ccac3df5a073a8"
  },
  {
   "metadata": {},
   "cell_type": "code",
   "outputs": [],
   "execution_count": null,
   "source": [
    "tokenizer = AutoTokenizer.from_pretrained(checkpoint)\n",
    "model = AutoModelForCausalLM.from_pretrained(checkpoint)"
   ],
   "id": "5ceb5074664a7751"
  },
  {
   "metadata": {},
   "cell_type": "code",
   "outputs": [],
   "execution_count": null,
   "source": [
    "input_text = \"Write a function to sort a list \"\n",
    "input_ids = tokenizer(input_text, return_tensors=\"pt\")\n",
    "print(input_ids)"
   ],
   "id": "8493e8bac3e77137"
  },
  {
   "metadata": {},
   "cell_type": "code",
   "outputs": [],
   "execution_count": null,
   "source": [
    "outputs = model.generate(**input_ids)\n",
    "print(tokenizer.decode(outputs[0]))"
   ],
   "id": "60eb28789fc4cc42"
  },
  {
   "metadata": {},
   "cell_type": "markdown",
   "source": " ### Running the model on a GPU",
   "id": "3655856ce3d41b13"
  },
  {
   "metadata": {
    "ExecuteTime": {
     "end_time": "2024-11-21T04:38:06.269962Z",
     "start_time": "2024-11-21T04:38:06.267720Z"
    }
   },
   "cell_type": "code",
   "source": "checkpoint = \"google/gemma-2b\"",
   "id": "49a2d12eb53d2401",
   "outputs": [],
   "execution_count": 2
  },
  {
   "metadata": {
    "ExecuteTime": {
     "end_time": "2024-11-21T04:38:12.050581Z",
     "start_time": "2024-11-21T04:38:07.393638Z"
    }
   },
   "cell_type": "code",
   "source": [
    "tokenizer = AutoTokenizer.from_pretrained(checkpoint)\n",
    "model = AutoModelForCausalLM.from_pretrained(checkpoint, device_map=\"auto\")"
   ],
   "id": "43ec0c5394fa0e4a",
   "outputs": [
    {
     "name": "stderr",
     "output_type": "stream",
     "text": [
      "`config.hidden_act` is ignored, you should use `config.hidden_activation` instead.\n",
      "Gemma's activation function will be set to `gelu_pytorch_tanh`. Please, use\n",
      "`config.hidden_activation` if you want to override this behaviour.\n",
      "See https://github.com/huggingface/transformers/pull/29402 for more details.\n"
     ]
    },
    {
     "data": {
      "text/plain": [
       "Loading checkpoint shards:   0%|          | 0/2 [00:00<?, ?it/s]"
      ],
      "application/vnd.jupyter.widget-view+json": {
       "version_major": 2,
       "version_minor": 0,
       "model_id": "e7317eadba0943f19a6f4e3ba4b05269"
      }
     },
     "metadata": {},
     "output_type": "display_data"
    }
   ],
   "execution_count": 3
  },
  {
   "metadata": {
    "ExecuteTime": {
     "end_time": "2024-11-21T04:42:47.820929Z",
     "start_time": "2024-11-21T04:42:47.816231Z"
    }
   },
   "cell_type": "code",
   "source": [
    "input_text = \"def print_hello_world(): \"\n",
    "input_ids = tokenizer(input_text, return_tensors=\"pt\").to(\"cuda\")"
   ],
   "id": "ee73b96d2c1a7259",
   "outputs": [],
   "execution_count": 13
  },
  {
   "metadata": {
    "ExecuteTime": {
     "end_time": "2024-11-21T04:42:52.365772Z",
     "start_time": "2024-11-21T04:42:48.728436Z"
    }
   },
   "cell_type": "code",
   "source": [
    "outputs = model.generate(**input_ids, max_new_tokens=200, do_sample=True)\n",
    "print(tokenizer.decode(outputs[0]))"
   ],
   "id": "fc033cd3468b6282",
   "outputs": [
    {
     "name": "stdout",
     "output_type": "stream",
     "text": [
      "<bos>def print_hello_world(): \n",
      "   print(\"Hello, World!\") \n",
      "\n",
      "def get_name(): \n",
      "   name = input(\"What is your name? \") \n",
      "   return name \n",
      "\n",
      "\n",
      "if __name__==\"__main__\": \n",
      "   print_hello_world() \n",
      "   my_name = get_name() \n",
      "   print(f\"Hello {my_name}\")\n",
      "<eos>\n"
     ]
    }
   ],
   "execution_count": 14
  },
  {
   "metadata": {},
   "cell_type": "markdown",
   "source": "### Running on GPU Using 4-bit precision and GPU",
   "id": "b809fae12f06f0cc"
  },
  {
   "metadata": {
    "ExecuteTime": {
     "end_time": "2024-11-21T04:44:50.309579Z",
     "start_time": "2024-11-21T04:44:50.306702Z"
    }
   },
   "cell_type": "code",
   "source": "checkpoint = \"google/gemma-2b\"                # change the model name to the one you want to use",
   "id": "129596f9182f2b2d",
   "outputs": [],
   "execution_count": 3
  },
  {
   "metadata": {
    "ExecuteTime": {
     "end_time": "2024-11-21T04:45:24.911955Z",
     "start_time": "2024-11-21T04:45:21.946605Z"
    }
   },
   "cell_type": "code",
   "source": [
    "quantization_config = BitsAndBytesConfig(\n",
    "    load_in_4bit=True,\n",
    "    bnb_4bit_quant_type=\"nf4\",\n",
    "    bnb_4bit_compute_dtype=torch.float16,\n",
    "    bnb_4bit_use_double_quant=True,\n",
    ")\n",
    "model = AutoModelForCausalLM.from_pretrained(\n",
    "    checkpoint,\n",
    "    quantization_config=quantization_config,\n",
    "    device_map =\"auto\",\n",
    "    attn_implementation=\"eager\"\n",
    ")\n",
    "tokenizer = AutoTokenizer.from_pretrained(checkpoint)"
   ],
   "id": "fd9cd4ea6a84d58",
   "outputs": [
    {
     "data": {
      "text/plain": [
       "Loading checkpoint shards:   0%|          | 0/2 [00:00<?, ?it/s]"
      ],
      "application/vnd.jupyter.widget-view+json": {
       "version_major": 2,
       "version_minor": 0,
       "model_id": "cd3c5287bf1649adabf3d07b1144c924"
      }
     },
     "metadata": {},
     "output_type": "display_data"
    }
   ],
   "execution_count": 6
  },
  {
   "metadata": {
    "ExecuteTime": {
     "end_time": "2024-11-21T04:52:24.711590Z",
     "start_time": "2024-11-21T04:52:24.703841Z"
    }
   },
   "cell_type": "code",
   "source": [
    "input_text = \"write a function that takes a list of integers and returns the sum of the list. \"\n",
    "input_ids = tokenizer(input_text, return_tensors=\"pt\").to(\"cuda\")"
   ],
   "id": "e28ee4968bc085b6",
   "outputs": [],
   "execution_count": 14
  },
  {
   "metadata": {
    "ExecuteTime": {
     "end_time": "2024-11-21T04:52:42.271699Z",
     "start_time": "2024-11-21T04:52:34.024098Z"
    }
   },
   "cell_type": "code",
   "source": [
    "outputs = model.generate(**input_ids, do_sample=True, max_new_tokens=200)\n",
    "print(tokenizer.decode(outputs[0]))"
   ],
   "id": "d1a0329e1024402e",
   "outputs": [
    {
     "name": "stdout",
     "output_type": "stream",
     "text": [
      "<bos>write a function that takes a list of integers and returns the sum of the list. 1. no other list functions can be used in your function 2. your function signature must be sumList(list)\n",
      "\n",
      "Answer:\n",
      "\n",
      "Step 1/3\n",
      "1. First, we need to check if the list is empty. If it is, we can return 0. Otherwise, we can continue with the next step.\n",
      "\n",
      "Step 2/3\n",
      "2. We need to take the first element of the list and add it to the sum. This is because the list has only one element, so we need to sum it up.\n",
      "\n",
      "Step 3/3\n",
      "3. We need to repeat step 2 for all elements of the list. This is because we want to continue summing up elements as long as the list is not empty. Here is the code: def sumList(myList): if len(myList) == 0: return 0 # initialize the sum to 0 sum = 0 for num in myList: sum += num return sum\n"
     ]
    }
   ],
   "execution_count": 16
  },
  {
   "metadata": {},
   "cell_type": "markdown",
   "source": "### Inference for LLM for software Model Completion",
   "id": "4a64f1f325c3ebbe"
  },
  {
   "metadata": {
    "ExecuteTime": {
     "end_time": "2024-11-25T07:56:25.914763Z",
     "start_time": "2024-11-25T07:56:25.347265Z"
    }
   },
   "cell_type": "code",
   "source": "from datasets import load_dataset",
   "id": "2a4f748d786250c",
   "outputs": [],
   "execution_count": 2
  },
  {
   "metadata": {
    "ExecuteTime": {
     "end_time": "2024-11-25T07:56:26.531907Z",
     "start_time": "2024-11-25T07:56:26.523790Z"
    }
   },
   "cell_type": "code",
   "source": "checkpoint = \"D:\\\\LLM\\\\thesisPractical\\\\fine_tuned_models\\\\gemma-2-2b-software-model_completion\"",
   "id": "64b69d0591512613",
   "outputs": [],
   "execution_count": 3
  },
  {
   "metadata": {
    "ExecuteTime": {
     "end_time": "2024-11-25T07:56:35.578603Z",
     "start_time": "2024-11-25T07:56:27.953436Z"
    }
   },
   "cell_type": "code",
   "source": [
    "quantization_config = BitsAndBytesConfig(\n",
    "    load_in_4bit=True,\n",
    "    bnb_4bit_quant_type=\"nf4\",\n",
    "    bnb_4bit_compute_dtype=torch.float16,\n",
    "    bnb_4bit_use_double_quant=True,\n",
    ")\n",
    "model = AutoModelForCausalLM.from_pretrained(\n",
    "    checkpoint,\n",
    "    quantization_config=quantization_config,\n",
    "    device_map =\"auto\",\n",
    "    attn_implementation=\"eager\"\n",
    ")\n",
    "tokenizer = AutoTokenizer.from_pretrained(checkpoint)"
   ],
   "id": "bda74068315e2226",
   "outputs": [
    {
     "data": {
      "text/plain": [
       "Loading checkpoint shards:   0%|          | 0/2 [00:00<?, ?it/s]"
      ],
      "application/vnd.jupyter.widget-view+json": {
       "version_major": 2,
       "version_minor": 0,
       "model_id": "5da40d696a0746588832243d6bfbb9bc"
      }
     },
     "metadata": {},
     "output_type": "display_data"
    }
   ],
   "execution_count": 4
  },
  {
   "metadata": {},
   "cell_type": "markdown",
   "source": "The dataset from processed 4000",
   "id": "a8351500cc11e8ab"
  },
  {
   "metadata": {
    "ExecuteTime": {
     "end_time": "2024-11-25T07:56:40.220456Z",
     "start_time": "2024-11-25T07:56:39.549703Z"
    }
   },
   "cell_type": "code",
   "source": [
    "org_path = \"D:\\\\LLM\\\\thesisPractical\\\\datasets_for_fine_tuning\\\\structural_removal_non_contiguous\\\\processed_4000\"\n",
    "\n",
    "test_dataset_url = org_path + \"\\\\test.jsonl\"\n",
    "\n",
    "data_files = {\n",
    "    'test' : test_dataset_url\n",
    "}\n",
    "\n",
    "dataset = load_dataset('json', data_files=data_files)\n",
    "test_dataset = dataset['test']"
   ],
   "id": "76460d33f3e0a220",
   "outputs": [],
   "execution_count": 5
  },
  {
   "metadata": {
    "ExecuteTime": {
     "end_time": "2024-11-25T07:56:41.886105Z",
     "start_time": "2024-11-25T07:56:41.878201Z"
    }
   },
   "cell_type": "code",
   "source": [
    "data = test_dataset[0]['input']\n",
    "output = test_dataset[0]['output']\n",
    "print(data)"
   ],
   "id": "11020daaf3383702",
   "outputs": [
    {
     "name": "stdout",
     "output_type": "stream",
     "text": [
      "{\"directed\":true,\"nodes\":[{\"viewpoint\":null,\"visibility\":\"PUBLIC_LITERAL\",\"qualifiedName\":\"model\",\"name\":\"model\",\"id\":0,\"URI\":null,\"eClass\":\"Model\"},{\"isSingleExecution\":false,\"isReadOnly\":false,\"visibility\":\"PUBLIC_LITERAL\",\"qualifiedName\":\"model::Activity\",\"name\":\"Activity\",\"id\":2,\"isActive\":false,\"isReentrant\":true,\"isLeaf\":false,\"isAbstract\":false,\"isFinalSpecialization\":false,\"eClass\":\"Activity\"},{\"visibility\":\"PUBLIC_LITERAL\",\"qualifiedName\":\"ControlFlow\",\"name\":\"ControlFlow\",\"id\":3,\"isLeaf\":false,\"eClass\":\"ControlFlow\"},{\"visibility\":\"PUBLIC_LITERAL\",\"qualifiedName\":\"ControlFlow2\",\"name\":\"ControlFlow2\",\"id\":4,\"isLeaf\":false,\"eClass\":\"ControlFlow\"},{\"visibility\":\"PUBLIC_LITERAL\",\"qualifiedName\":\"ControlFlow3\",\"name\":\"ControlFlow3\",\"id\":5,\"isLeaf\":false,\"eClass\":\"ControlFlow\"},{\"visibility\":\"PUBLIC_LITERAL\",\"qualifiedName\":\"ControlFlow5\",\"name\":\"ControlFlow5\",\"id\":6,\"isLeaf\":false,\"eClass\":\"ControlFlow\"},{\"visibility\":\"PUBLIC_LITERAL\",\"qualifiedName\":\"ControlFlow6\",\"name\":\"ControlFlow6\",\"id\":7,\"isLeaf\":false,\"eClass\":\"ControlFlow\"},{\"visibility\":\"PUBLIC_LITERAL\",\"qualifiedName\":\"ControlFlow7\",\"name\":\"ControlFlow7\",\"id\":8,\"isLeaf\":false,\"eClass\":\"ControlFlow\"},{\"visibility\":\"PUBLIC_LITERAL\",\"qualifiedName\":\"ControlFlow8\",\"name\":\"ControlFlow8\",\"id\":9,\"isLeaf\":false,\"eClass\":\"ControlFlow\"},{\"visibility\":\"PUBLIC_LITERAL\",\"qualifiedName\":\"ControlFlow11\",\"name\":\"ControlFlow11\",\"id\":11,\"isLeaf\":false,\"eClass\":\"ControlFlow\"},{\"visibility\":\"PUBLIC_LITERAL\",\"qualifiedName\":\"ControlFlow12\",\"name\":\"ControlFlow12\",\"id\":12,\"isLeaf\":false,\"eClass\":\"ControlFlow\"},{\"visibility\":\"PUBLIC_LITERAL\",\"qualifiedName\":\"ControlFlow13\",\"name\":\"ControlFlow13\",\"id\":13,\"isLeaf\":false,\"eClass\":\"ControlFlow\"},{\"visibility\":\"PUBLIC_LITERAL\",\"qualifiedName\":\"ControlFlow14\",\"name\":\"ControlFlow14\",\"id\":14,\"isLeaf\":false,\"eClass\":\"ControlFlow\"},{\"visibility\":\"PUBLIC_LITERAL\",\"qualifiedName\":\"ControlFlow17\",\"name\":\"ControlFlow17\",\"id\":15,\"isLeaf\":false,\"eClass\":\"ControlFlow\"},{\"visibility\":\"PUBLIC_LITERAL\",\"qualifiedName\":\"ControlFlow16\",\"name\":\"ControlFlow16\",\"id\":16,\"isLeaf\":false,\"eClass\":\"ControlFlow\"},{\"visibility\":\"PUBLIC_LITERAL\",\"qualifiedName\":\"ControlFlow9\",\"name\":\"ControlFlow9\",\"id\":18,\"isLeaf\":false,\"eClass\":\"ControlFlow\"},{\"visibility\":\"PUBLIC_LITERAL\",\"qualifiedName\":\"ControlFlow4\",\"name\":\"ControlFlow4\",\"id\":19,\"isLeaf\":false,\"eClass\":\"ControlFlow\"},{\"visibility\":\"PUBLIC_LITERAL\",\"qualifiedName\":\"ControlFlow15\",\"name\":\"ControlFlow15\",\"id\":20,\"isLeaf\":false,\"eClass\":\"ControlFlow\"},{\"visibility\":\"PUBLIC_LITERAL\",\"qualifiedName\":\"ControlFlow19\",\"name\":\"ControlFlow19\",\"id\":21,\"isLeaf\":false,\"eClass\":\"ControlFlow\"},{\"visibility\":\"PUBLIC_LITERAL\",\"qualifiedName\":\"Login\",\"isLocallyReentrant\":false,\"name\":\"Login\",\"language\":[],\"id\":22,\"body\":[],\"isLeaf\":false,\"eClass\":\"OpaqueAction\"},{\"visibility\":\"PUBLIC_LITERAL\",\"qualifiedName\":\"InitialNode\",\"name\":\"InitialNode\",\"id\":23,\"isLeaf\":false,\"eClass\":\"InitialNode\"},{\"visibility\":\"PUBLIC_LITERAL\",\"qualifiedName\":\"Authentication\",\"isLocallyReentrant\":false,\"name\":\"Authentication\",\"language\":[],\"id\":24,\"body\":[],\"isLeaf\":false,\"eClass\":\"OpaqueAction\"},{\"visibility\":\"PUBLIC_LITERAL\",\"qualifiedName\":\"InitialNode2\",\"name\":\"InitialNode2\",\"id\":27,\"isLeaf\":false,\"eClass\":\"InitialNode\"},{\"visibility\":\"PUBLIC_LITERAL\",\"qualifiedName\":\"Make Transaction\",\"isLocallyReentrant\":false,\"name\":\"Make Transaction\",\"language\":[],\"id\":28,\"body\":[],\"isLeaf\":false,\"eClass\":\"OpaqueAction\"},{\"visibility\":\"PUBLIC_LITERAL\",\"qualifiedName\":\"Transfer\",\"isLocallyReentrant\":false,\"name\":\"Transfer\",\"language\":[],\"id\":29,\"body\":[],\"isLeaf\":false,\"eClass\":\"OpaqueAction\"},{\"visibility\":\"PUBLIC_LITERAL\",\"qualifiedName\":\"Logout\",\"isLocallyReentrant\":false,\"name\":\"Logout\",\"language\":[],\"id\":30,\"body\":[],\"isLeaf\":false,\"eClass\":\"OpaqueAction\"},{\"visibility\":\"PUBLIC_LITERAL\",\"qualifiedName\":\"Others\",\"isLocallyReentrant\":false,\"name\":\"Others\",\"language\":[],\"id\":31,\"body\":[],\"isLeaf\":false,\"eClass\":\"OpaqueAction\"},{\"visibility\":\"PUBLIC_LITERAL\",\"qualifiedName\":\"Amount\",\"isLocallyReentrant\":false,\"name\":\"Amount\",\"language\":[],\"id\":32,\"body\":[],\"isLeaf\":false,\"eClass\":\"OpaqueAction\"},{\"visibility\":\"PUBLIC_LITERAL\",\"qualifiedName\":\"ActivityFinalNode2\",\"name\":\"ActivityFinalNode2\",\"id\":33,\"isLeaf\":false,\"eClass\":\"ActivityFinalNode\"},{\"visibility\":\"PUBLIC_LITERAL\",\"qualifiedName\":\"Withdrawal\",\"isLocallyReentrant\":false,\"name\":\"Withdrawal\",\"language\":[],\"id\":34,\"body\":[],\"isLeaf\":false,\"eClass\":\"OpaqueAction\"},{\"visibility\":\"PUBLIC_LITERAL\",\"qualifiedName\":\"Update Current balance\",\"isLocallyReentrant\":false,\"name\":\"Update Current balance\",\"language\":[],\"id\":36,\"body\":[],\"isLeaf\":false,\"eClass\":\"OpaqueAction\"},{\"visibility\":\"PUBLIC_LITERAL\",\"qualifiedName\":\"Update Transaction History\",\"isLocallyReentrant\":false,\"name\":\"Update Transaction History\",\"language\":[],\"id\":37,\"body\":[],\"isLeaf\":false,\"eClass\":\"OpaqueAction\"},{\"visibility\":\"PUBLIC_LITERAL\",\"qualifiedName\":\"ActivityFinalNode3\",\"name\":\"ActivityFinalNode3\",\"id\":38,\"isLeaf\":false,\"eClass\":\"ActivityFinalNode\"},{\"visibility\":\"PUBLIC_LITERAL\",\"qualifiedName\":\"Self\",\"isLocallyReentrant\":false,\"name\":\"Self\",\"language\":[],\"id\":41,\"body\":[],\"isLeaf\":false,\"eClass\":\"OpaqueAction\"},{\"visibility\":\"PUBLIC_LITERAL\",\"qualifiedName\":null,\"name\":null,\"id\":42,\"value\":\"true\",\"eClass\":\"LiteralString\"},{\"visibility\":\"PUBLIC_LITERAL\",\"qualifiedName\":null,\"name\":null,\"id\":43,\"value\":\"true\",\"eClass\":\"LiteralString\"},{\"visibility\":\"PUBLIC_LITERAL\",\"qualifiedName\":null,\"name\":null,\"id\":44,\"value\":\"true\",\"eClass\":\"LiteralString\"},{\"visibility\":\"PUBLIC_LITERAL\",\"qualifiedName\":null,\"name\":null,\"id\":46,\"value\":\"true\",\"eClass\":\"LiteralString\"},{\"visibility\":\"PUBLIC_LITERAL\",\"qualifiedName\":null,\"name\":null,\"id\":47,\"value\":\"true\",\"eClass\":\"LiteralString\"},{\"visibility\":\"PUBLIC_LITERAL\",\"qualifiedName\":null,\"name\":null,\"id\":48,\"value\":\"true\",\"eClass\":\"LiteralString\"},{\"visibility\":\"PUBLIC_LITERAL\",\"qualifiedName\":null,\"name\":null,\"id\":52,\"value\":\"true\",\"eClass\":\"LiteralString\"},{\"visibility\":\"PUBLIC_LITERAL\",\"qualifiedName\":null,\"name\":null,\"id\":54,\"value\":\"true\",\"eClass\":\"LiteralString\"},{\"visibility\":\"PUBLIC_LITERAL\",\"qualifiedName\":null,\"name\":null,\"id\":55,\"value\":\"true\",\"eClass\":\"LiteralString\"},{\"visibility\":\"PUBLIC_LITERAL\",\"qualifiedName\":null,\"name\":null,\"id\":57,\"value\":\"true\",\"eClass\":\"LiteralString\"},{\"visibility\":\"PUBLIC_LITERAL\",\"qualifiedName\":null,\"name\":null,\"id\":58,\"value\":\"true\",\"eClass\":\"LiteralString\"},{\"visibility\":\"PUBLIC_LITERAL\",\"qualifiedName\":null,\"name\":null,\"id\":59,\"value\":\"true\",\"eClass\":\"LiteralString\"},{\"visibility\":\"PUBLIC_LITERAL\",\"qualifiedName\":null,\"name\":null,\"id\":60,\"value\":\"true\",\"eClass\":\"LiteralString\"}],\"links\":[{\"source\":0,\"target\":2},{\"source\":2,\"target\":3},{\"source\":2,\"target\":4},{\"source\":2,\"target\":5},{\"source\":2,\"target\":6},{\"source\":2,\"target\":7},{\"source\":2,\"target\":8},{\"source\":2,\"target\":9},{\"source\":2,\"target\":11},{\"source\":2,\"target\":12},{\"source\":2,\"target\":13},{\"source\":2,\"target\":14},{\"source\":2,\"target\":15},{\"source\":2,\"target\":16},{\"source\":2,\"target\":18},{\"source\":2,\"target\":19},{\"source\":2,\"target\":20},{\"source\":2,\"target\":21},{\"source\":2,\"target\":22},{\"source\":2,\"target\":23},{\"source\":2,\"target\":24},{\"source\":2,\"target\":27},{\"source\":2,\"target\":28},{\"source\":2,\"target\":29},{\"source\":2,\"target\":30},{\"source\":2,\"target\":31},{\"source\":2,\"target\":32},{\"source\":2,\"target\":33},{\"source\":2,\"target\":34},{\"source\":2,\"target\":36},{\"source\":2,\"target\":37},{\"source\":2,\"target\":38},{\"source\":2,\"target\":41},{\"source\":3,\"target\":2},{\"source\":3,\"target\":42},{\"source\":3,\"target\":30},{\"source\":3,\"target\":37},{\"source\":4,\"target\":2},{\"source\":4,\"target\":43},{\"source\":4,\"target\":37},{\"source\":4,\"target\":36},{\"source\":5,\"target\":2},{\"source\":5,\"target\":44},{\"source\":5,\"target\":36},{\"source\":6,\"target\":2},{\"source\":6,\"target\":32},{\"source\":6,\"target\":31},{\"source\":7,\"target\":2},{\"source\":7,\"target\":46},{\"source\":7,\"target\":33},{\"source\":7,\"target\":32},{\"source\":8,\"target\":2},{\"source\":8,\"target\":47},{\"source\":8,\"target\":28},{\"source\":8,\"target\":27},{\"source\":9,\"target\":2},{\"source\":9,\"target\":48},{\"source\":9,\"target\":29},{\"source\":9,\"target\":28},{\"source\":11,\"target\":2},{\"source\":11,\"target\":24},{\"source\":11,\"target\":22},{\"source\":12,\"target\":2},{\"source\":12,\"target\":24},{\"source\":13,\"target\":2},{\"source\":13,\"target\":52},{\"source\":14,\"target\":2},{\"source\":14,\"target\":28},{\"source\":15,\"target\":2},{\"source\":15,\"target\":54},{\"source\":15,\"target\":34},{\"source\":16,\"target\":2},{\"source\":16,\"target\":55},{\"source\":18,\"target\":2},{\"source\":18,\"target\":57},{\"source\":18,\"target\":41},{\"source\":18,\"target\":28},{\"source\":19,\"target\":2},{\"source\":19,\"target\":58},{\"source\":19,\"target\":34},{\"source\":19,\"target\":41},{\"source\":20,\"target\":2},{\"source\":20,\"target\":59},{\"source\":20,\"target\":31},{\"source\":20,\"target\":29},{\"source\":21,\"target\":2},{\"source\":21,\"target\":60},{\"source\":21,\"target\":22},{\"source\":21,\"target\":23},{\"source\":22,\"target\":21},{\"source\":22,\"target\":11},{\"source\":23,\"target\":21},{\"source\":24,\"target\":11},{\"source\":24,\"target\":12},{\"source\":27,\"target\":8},{\"source\":28,\"target\":14},{\"source\":28,\"target\":8},{\"source\":28,\"target\":9},{\"source\":28,\"target\":18},{\"source\":29,\"target\":9},{\"source\":29,\"target\":20},{\"source\":30,\"target\":3},{\"source\":31,\"target\":20},{\"source\":31,\"target\":6},{\"source\":32,\"target\":6},{\"source\":32,\"target\":7},{\"source\":33,\"target\":7},{\"source\":34,\"target\":19},{\"source\":34,\"target\":15},{\"source\":36,\"target\":5},{\"source\":36,\"target\":4},{\"source\":37,\"target\":4},{\"source\":37,\"target\":3},{\"source\":41,\"target\":18},{\"source\":41,\"target\":19}],\"multigraph\":true}\n"
     ]
    }
   ],
   "execution_count": 6
  },
  {
   "metadata": {
    "ExecuteTime": {
     "end_time": "2024-11-25T07:57:07.014407Z",
     "start_time": "2024-11-25T07:57:07.010257Z"
    }
   },
   "cell_type": "code",
   "source": [
    "output = test_dataset[0]['output']\n",
    "print(output)"
   ],
   "id": "73d87a8553c4e244",
   "outputs": [
    {
     "name": "stdout",
     "output_type": "stream",
     "text": [
      "{\"nodes\":[{\"visibility\":\"PUBLIC_LITERAL\",\"id\":1,\"eClass\":\"PackageImport\"},{\"visibility\":\"PUBLIC_LITERAL\",\"qualifiedName\":\"ControlFlow10\",\"name\":\"ControlFlow10\",\"id\":10,\"isLeaf\":false,\"eClass\":\"ControlFlow\"},{\"visibility\":\"PUBLIC_LITERAL\",\"qualifiedName\":\"ControlFlow18\",\"name\":\"ControlFlow18\",\"id\":17,\"isLeaf\":false,\"eClass\":\"ControlFlow\"},{\"visibility\":\"PUBLIC_LITERAL\",\"qualifiedName\":\"DecisionNode\",\"name\":\"DecisionNode\",\"id\":25,\"isLeaf\":false,\"eClass\":\"DecisionNode\"},{\"visibility\":\"PUBLIC_LITERAL\",\"qualifiedName\":\"ActivityFinalNode\",\"name\":\"ActivityFinalNode\",\"id\":26,\"isLeaf\":false,\"eClass\":\"ActivityFinalNode\"},{\"visibility\":\"PUBLIC_LITERAL\",\"qualifiedName\":\"DecisionNode2\",\"name\":\"DecisionNode2\",\"id\":35,\"isLeaf\":false,\"eClass\":\"DecisionNode\"},{\"visibility\":\"PUBLIC_LITERAL\",\"qualifiedName\":\"ActivityFinalNode4\",\"name\":\"ActivityFinalNode4\",\"id\":39,\"isLeaf\":false,\"eClass\":\"ActivityFinalNode\"},{\"visibility\":\"PUBLIC_LITERAL\",\"qualifiedName\":\"ActivityFinalNode5\",\"name\":\"ActivityFinalNode5\",\"id\":40,\"isLeaf\":false,\"eClass\":\"ActivityFinalNode\"},{\"visibility\":\"PUBLIC_LITERAL\",\"qualifiedName\":null,\"name\":null,\"id\":45,\"value\":\"true\",\"eClass\":\"LiteralString\"},{\"visibility\":\"PUBLIC_LITERAL\",\"qualifiedName\":null,\"name\":null,\"id\":50,\"value\":\"true\",\"eClass\":\"LiteralString\"},{\"visibility\":\"PUBLIC_LITERAL\",\"qualifiedName\":null,\"name\":null,\"id\":51,\"value\":\"true\",\"eClass\":\"LiteralString\"},{\"visibility\":\"PUBLIC_LITERAL\",\"qualifiedName\":null,\"name\":null,\"id\":53,\"value\":\"true\",\"eClass\":\"LiteralString\"},{\"visibility\":\"PUBLIC_LITERAL\",\"qualifiedName\":null,\"name\":null,\"id\":49,\"value\":\"true\",\"eClass\":\"LiteralString\"},{\"visibility\":\"PUBLIC_LITERAL\",\"qualifiedName\":null,\"name\":null,\"id\":56,\"value\":\"true\",\"eClass\":\"LiteralString\"}],\"links\":[{\"source\":0,\"target\":1},{\"source\":1,\"target\":0},{\"source\":2,\"target\":10},{\"source\":2,\"target\":17},{\"source\":2,\"target\":25},{\"source\":2,\"target\":26},{\"source\":2,\"target\":35},{\"source\":2,\"target\":39},{\"source\":2,\"target\":40},{\"source\":5,\"target\":35},{\"source\":6,\"target\":45},{\"source\":10,\"target\":2},{\"source\":10,\"target\":49},{\"source\":10,\"target\":38},{\"source\":10,\"target\":30},{\"source\":11,\"target\":50},{\"source\":12,\"target\":51},{\"source\":12,\"target\":25},{\"source\":13,\"target\":26},{\"source\":13,\"target\":25},{\"source\":14,\"target\":53},{\"source\":14,\"target\":25},{\"source\":15,\"target\":35},{\"source\":16,\"target\":39},{\"source\":16,\"target\":35},{\"source\":17,\"target\":2},{\"source\":17,\"target\":56},{\"source\":17,\"target\":40},{\"source\":17,\"target\":41},{\"source\":25,\"target\":12},{\"source\":25,\"target\":13},{\"source\":25,\"target\":14},{\"source\":26,\"target\":13},{\"source\":30,\"target\":10},{\"source\":35,\"target\":15},{\"source\":35,\"target\":5},{\"source\":35,\"target\":16},{\"source\":38,\"target\":10},{\"source\":39,\"target\":16},{\"source\":40,\"target\":17},{\"source\":41,\"target\":17}]}\n"
     ]
    }
   ],
   "execution_count": 7
  },
  {
   "metadata": {
    "ExecuteTime": {
     "end_time": "2024-11-25T07:57:24.444910Z",
     "start_time": "2024-11-25T07:57:24.435288Z"
    }
   },
   "cell_type": "code",
   "source": "input_ids = tokenizer(data, padding=True,return_tensors='pt', truncation=True, max_length=4100).to(\"cuda\")",
   "id": "efd763e0e37e5a28",
   "outputs": [],
   "execution_count": 8
  },
  {
   "metadata": {
    "ExecuteTime": {
     "end_time": "2024-11-25T08:08:44.660270Z",
     "start_time": "2024-11-25T08:08:43.693337Z"
    }
   },
   "cell_type": "code",
   "source": [
    "outputs = model.generate(**input_ids, max_new_tokens=400,do_sample=True)\n",
    "decoded_output = tokenizer.decode(outputs[0], skip_special_tokens=True)\n",
    "print(decoded_output)"
   ],
   "id": "6e97b0064c8aea50",
   "outputs": [
    {
     "name": "stdout",
     "output_type": "stream",
     "text": [
      "{\"directed\":true,\"nodes\":[{\"viewpoint\":null,\"visibility\":\"PUBLIC_LITERAL\",\"qualifiedName\":\"model\",\"name\":\"model\",\"id\":0,\"URI\":null,\"eClass\":\"Model\"},{\"isSingleExecution\":false,\"isReadOnly\":false,\"visibility\":\"PUBLIC_LITERAL\",\"qualifiedName\":\"model::Activity\",\"name\":\"Activity\",\"id\":2,\"isActive\":false,\"isReentrant\":true,\"isLeaf\":false,\"isAbstract\":false,\"isFinalSpecialization\":false,\"eClass\":\"Activity\"},{\"visibility\":\"PUBLIC_LITERAL\",\"qualifiedName\":\"ControlFlow\",\"name\":\"ControlFlow\",\"id\":3,\"isLeaf\":false,\"eClass\":\"ControlFlow\"},{\"visibility\":\"PUBLIC_LITERAL\",\"qualifiedName\":\"ControlFlow2\",\"name\":\"ControlFlow2\",\"id\":4,\"isLeaf\":false,\"eClass\":\"ControlFlow\"},{\"visibility\":\"PUBLIC_LITERAL\",\"qualifiedName\":\"ControlFlow3\",\"name\":\"ControlFlow3\",\"id\":5,\"isLeaf\":false,\"eClass\":\"ControlFlow\"},{\"visibility\":\"PUBLIC_LITERAL\",\"qualifiedName\":\"ControlFlow5\",\"name\":\"ControlFlow5\",\"id\":6,\"isLeaf\":false,\"eClass\":\"ControlFlow\"},{\"visibility\":\"PUBLIC_LITERAL\",\"qualifiedName\":\"ControlFlow6\",\"name\":\"ControlFlow6\",\"id\":7,\"isLeaf\":false,\"eClass\":\"ControlFlow\"},{\"visibility\":\"PUBLIC_LITERAL\",\"qualifiedName\":\"ControlFlow7\",\"name\":\"ControlFlow7\",\"id\":8,\"isLeaf\":false,\"eClass\":\"ControlFlow\"},{\"visibility\":\"PUBLIC_LITERAL\",\"qualifiedName\":\"ControlFlow8\",\"name\":\"ControlFlow8\",\"id\":9,\"isLeaf\":false,\"eClass\":\"ControlFlow\"},{\"visibility\":\"PUBLIC_LITERAL\",\"qualifiedName\":\"ControlFlow11\",\"name\":\"ControlFlow11\",\"id\":11,\"isLeaf\":false,\"eClass\":\"ControlFlow\"},{\"visibility\":\"PUBLIC_LITERAL\",\"qualifiedName\":\"ControlFlow12\",\"name\":\"ControlFlow12\",\"id\":12,\"isLeaf\":false,\"eClass\":\"ControlFlow\"},{\"visibility\":\"PUBLIC_LITERAL\",\"qualifiedName\":\"ControlFlow13\",\"name\":\"ControlFlow13\",\"id\":13,\"isLeaf\":false,\"eClass\":\"ControlFlow\"},{\"visibility\":\"PUBLIC_LITERAL\",\"qualifiedName\":\"ControlFlow14\",\"name\":\"ControlFlow14\",\"id\":14,\"isLeaf\":false,\"eClass\":\"ControlFlow\"},{\"visibility\":\"PUBLIC_LITERAL\",\"qualifiedName\":\"ControlFlow17\",\"name\":\"ControlFlow17\",\"id\":15,\"isLeaf\":false,\"eClass\":\"ControlFlow\"},{\"visibility\":\"PUBLIC_LITERAL\",\"qualifiedName\":\"ControlFlow16\",\"name\":\"ControlFlow16\",\"id\":16,\"isLeaf\":false,\"eClass\":\"ControlFlow\"},{\"visibility\":\"PUBLIC_LITERAL\",\"qualifiedName\":\"ControlFlow9\",\"name\":\"ControlFlow9\",\"id\":18,\"isLeaf\":false,\"eClass\":\"ControlFlow\"},{\"visibility\":\"PUBLIC_LITERAL\",\"qualifiedName\":\"ControlFlow4\",\"name\":\"ControlFlow4\",\"id\":19,\"isLeaf\":false,\"eClass\":\"ControlFlow\"},{\"visibility\":\"PUBLIC_LITERAL\",\"qualifiedName\":\"ControlFlow15\",\"name\":\"ControlFlow15\",\"id\":20,\"isLeaf\":false,\"eClass\":\"ControlFlow\"},{\"visibility\":\"PUBLIC_LITERAL\",\"qualifiedName\":\"ControlFlow19\",\"name\":\"ControlFlow19\",\"id\":21,\"isLeaf\":false,\"eClass\":\"ControlFlow\"},{\"visibility\":\"PUBLIC_LITERAL\",\"qualifiedName\":\"Login\",\"isLocallyReentrant\":false,\"name\":\"Login\",\"language\":[],\"id\":22,\"body\":[],\"isLeaf\":false,\"eClass\":\"OpaqueAction\"},{\"visibility\":\"PUBLIC_LITERAL\",\"qualifiedName\":\"InitialNode\",\"name\":\"InitialNode\",\"id\":23,\"isLeaf\":false,\"eClass\":\"InitialNode\"},{\"visibility\":\"PUBLIC_LITERAL\",\"qualifiedName\":\"Authentication\",\"isLocallyReentrant\":false,\"name\":\"Authentication\",\"language\":[],\"id\":24,\"body\":[],\"isLeaf\":false,\"eClass\":\"OpaqueAction\"},{\"visibility\":\"PUBLIC_LITERAL\",\"qualifiedName\":\"InitialNode2\",\"name\":\"InitialNode2\",\"id\":27,\"isLeaf\":false,\"eClass\":\"InitialNode\"},{\"visibility\":\"PUBLIC_LITERAL\",\"qualifiedName\":\"Make Transaction\",\"isLocallyReentrant\":false,\"name\":\"Make Transaction\",\"language\":[],\"id\":28,\"body\":[],\"isLeaf\":false,\"eClass\":\"OpaqueAction\"},{\"visibility\":\"PUBLIC_LITERAL\",\"qualifiedName\":\"Transfer\",\"isLocallyReentrant\":false,\"name\":\"Transfer\",\"language\":[],\"id\":29,\"body\":[],\"isLeaf\":false,\"eClass\":\"OpaqueAction\"},{\"visibility\":\"PUBLIC_LITERAL\",\"qualifiedName\":\"Logout\",\"isLocallyReentrant\":false,\"name\":\"Logout\",\"language\":[],\"id\":30,\"body\":[],\"isLeaf\":false,\"eClass\":\"OpaqueAction\"},{\"visibility\":\"PUBLIC_LITERAL\",\"qualifiedName\":\"Others\",\"isLocallyReentrant\":false,\"name\":\"Others\",\"language\":[],\"id\":31,\"body\":[],\"isLeaf\":false,\"eClass\":\"OpaqueAction\"},{\"visibility\":\"PUBLIC_LITERAL\",\"qualifiedName\":\"Amount\",\"isLocallyReentrant\":false,\"name\":\"Amount\",\"language\":[],\"id\":32,\"body\":[],\"isLeaf\":false,\"eClass\":\"OpaqueAction\"},{\"visibility\":\"PUBLIC_LITERAL\",\"qualifiedName\":\"ActivityFinalNode2\",\"name\":\"ActivityFinalNode2\",\"id\":33,\"isLeaf\":false,\"eClass\":\"ActivityFinalNode\"},{\"visibility\":\"PUBLIC_LITERAL\",\"qualifiedName\":\"Withdrawal\",\"isLocallyReentrant\":false,\"name\":\"Withdrawal\",\"language\":[],\"id\":34,\"body\":[],\"isLeaf\":false,\"eClass\":\"OpaqueAction\"},{\"visibility\":\"PUBLIC_LITERAL\",\"qualifiedName\":\"Update Current balance\",\"isLocallyReentrant\":false,\"name\":\"Update Current balance\",\"language\":[],\"id\":36,\"body\":[],\"isLeaf\":false,\"eClass\":\"OpaqueAction\"},{\"visibility\":\"PUBLIC_LITERAL\",\"qualifiedName\":\"Update Transaction History\",\"isLocallyReentrant\":false,\"name\":\"Update Transaction History\",\"language\":[],\"id\":37,\"body\":[],\"isLeaf\":false,\"eClass\":\"OpaqueAction\"},{\"visibility\":\"PUBLIC_LITERAL\",\"qualifiedName\":\"ActivityFinalNode3\",\"name\":\"ActivityFinalNode3\",\"id\":38,\"isLeaf\":false,\"eClass\":\"ActivityFinalNode\"},{\"visibility\":\"PUBLIC_LITERAL\",\"qualifiedName\":\"Self\",\"isLocallyReentrant\":false,\"name\":\"Self\",\"language\":[],\"id\":41,\"body\":[],\"isLeaf\":false,\"eClass\":\"OpaqueAction\"},{\"visibility\":\"PUBLIC_LITERAL\",\"qualifiedName\":null,\"name\":null,\"id\":42,\"value\":\"true\",\"eClass\":\"LiteralString\"},{\"visibility\":\"PUBLIC_LITERAL\",\"qualifiedName\":null,\"name\":null,\"id\":43,\"value\":\"true\",\"eClass\":\"LiteralString\"},{\"visibility\":\"PUBLIC_LITERAL\",\"qualifiedName\":null,\"name\":null,\"id\":44,\"value\":\"true\",\"eClass\":\"LiteralString\"},{\"visibility\":\"PUBLIC_LITERAL\",\"qualifiedName\":null,\"name\":null,\"id\":46,\"value\":\"true\",\"eClass\":\"LiteralString\"},{\"visibility\":\"PUBLIC_LITERAL\",\"qualifiedName\":null,\"name\":null,\"id\":47,\"value\":\"true\",\"eClass\":\"LiteralString\"},{\"visibility\":\"PUBLIC_LITERAL\",\"qualifiedName\":null,\"name\":null,\"id\":48,\"value\":\"true\",\"eClass\":\"LiteralString\"},{\"visibility\":\"PUBLIC_LITERAL\",\"qualifiedName\":null,\"name\":null,\"id\":52,\"value\":\"true\",\"eClass\":\"LiteralString\"},{\"visibility\":\"PUBLIC_LITERAL\",\"qualifiedName\":null,\"name\":null,\"id\":54,\"value\":\"true\",\"eClass\":\"LiteralString\"},{\"visibility\":\"PUBLIC_LITERAL\",\"qualifiedName\":null,\"name\":null,\"id\":55,\"value\":\"true\",\"eClass\":\"LiteralString\"},{\"visibility\":\"PUBLIC_LITERAL\",\"qualifiedName\":null,\"name\":null,\"id\":57,\"value\":\"true\",\"eClass\":\"LiteralString\"},{\"visibility\":\"PUBLIC_LITERAL\",\"qualifiedName\":null,\"name\":null,\"id\":58,\"value\":\"true\",\"eClass\":\"LiteralString\"},{\"visibility\":\"PUBLIC_LITERAL\",\"qualifiedName\":null,\"name\":null,\"id\":59,\"value\":\"true\",\"eClass\":\"LiteralString\"},{\"visibility\":\"PUBLIC_LITERAL\",\"qualifiedName\":null,\"name\":null,\"id\":60,\"value\":\"true\",\"eClass\":\"LiteralString\"}],\"links\":[{\"source\":0,\"target\":2},{\"source\":2,\"target\":3},{\"source\":2,\"target\":4},{\"source\":2,\"target\":5},{\"source\":2,\"target\":6},{\"source\":2,\"target\":7},{\"source\":2,\"target\":8},{\"source\":2,\"target\":9},{\"source\":2,\"target\":11},{\"source\":2,\"target\":12},{\"source\":2,\"target\":13},{\"source\":2,\"target\":14},{\"source\":2,\"target\":15},{\"source\":2,\"target\":16},{\"source\":2,\"target\":18},{\"source\":2,\"target\":19},{\"source\":2,\"target\":20},{\"source\":2,\"target\":21},{\"source\":2,\"target\":22},{\"source\":2,\"target\":23},{\"source\":2,\"target\":24},{\"source\":2,\"target\":27},{\"source\":2,\"target\":28},{\"source\":2,\"target\":29},{\"source\":2,\"target\":30},{\"source\":2,\"target\":31},{\"source\":2,\"target\":32},{\"source\":2,\"target\":33},{\"source\":2,\"target\":34},{\"source\":2,\"target\":36},{\"source\":2,\"target\":37},{\"source\":2,\"target\":38},{\"source\":2,\"target\":41},{\"source\":3,\"target\":2},{\"source\":3,\"target\":42},{\"source\":3,\"target\":30},{\"source\":3,\"target\":37},{\"source\":4,\"target\":2},{\"source\":4,\"target\":43},{\"source\":4,\"target\":37},{\"source\":4,\"target\":36},{\"source\":5,\"target\":2},{\"source\":5,\"target\":44},{\"source\":5,\"target\":36},{\"source\":6,\"target\":2},{\"source\":6,\"target\":32},{\"source\":6,\"target\":31},{\"source\":7,\"target\":2},{\"source\":7,\"target\":46},{\"source\":7,\"target\":33},{\"source\":7,\"target\":32},{\"source\":8,\"target\":2},{\"source\":8,\"target\":47},{\"source\":8,\"target\":28},{\"source\":8,\"target\":27},{\"source\":9,\"target\":2},{\"source\":9,\"target\":48},{\"source\":9,\"target\":29},{\"source\":9,\"target\":28},{\"source\":11,\"target\":2},{\"source\":11,\"target\":24},{\"source\":11,\"target\":22},{\"source\":12,\"target\":2},{\"source\":12,\"target\":24},{\"source\":13,\"target\":2},{\"source\":13,\"target\":52},{\"source\":14,\"target\":2},{\"source\":14,\"target\":28},{\"source\":15,\"target\":2},{\"source\":15,\"target\":54},{\"source\":15,\"target\":34},{\"source\":16,\"target\":2},{\"source\":16,\"target\":55},{\"source\":18,\"target\":2},{\"source\":18,\"target\":57},{\"source\":18,\"target\":41},{\"source\":18,\"target\":28},{\"source\":19,\"target\":2},{\"source\":19,\"target\":58},{\"source\":19,\"target\":34},{\"source\":19,\"target\":41},{\"source\":20,\"target\":2},{\"source\":20,\"target\":59},{\"source\":20,\"target\":31},{\"source\":20,\"target\":29},{\"source\":21,\"target\":2},{\"source\":21,\"target\":60},{\"source\":21,\"target\":22},{\"source\":21,\"target\":23},{\"source\":22,\"target\":21},{\"source\":22,\"target\":11},{\"source\":23,\"target\":21},{\"source\":24,\"target\":11},{\"source\":24,\"target\":12},{\"source\":27,\"target\":8},{\"source\":28,\"target\":14},{\"source\":28,\"target\":8},{\"source\":28,\"target\":9},{\"source\":28,\"target\":18},{\"source\":29,\"target\":9},{\"source\":29,\"target\":20},{\"source\":30,\"target\":3},{\"source\":31,\"target\":20},{\"source\":31,\"target\":6},{\"source\":32,\"target\":6},{\"source\":32,\"target\":7},{\"source\":33,\"target\":7},{\"source\":34,\"target\":19},{\"source\":34,\"target\":15},{\"source\":36,\"target\":5},{\"source\":36,\"target\":4},{\"source\":37,\"target\":4},{\"source\":37,\"target\":3},{\"source\":41,\"target\":18},{\"source\":41,\"target\":19}],\"multigraph\":true}\n"
     ]
    }
   ],
   "execution_count": 13
  },
  {
   "metadata": {},
   "cell_type": "code",
   "outputs": [],
   "execution_count": null,
   "source": "",
   "id": "78004a0ca2ead2c8"
  }
 ],
 "metadata": {
  "kernelspec": {
   "display_name": "Python 3",
   "language": "python",
   "name": "python3"
  },
  "language_info": {
   "codemirror_mode": {
    "name": "ipython",
    "version": 2
   },
   "file_extension": ".py",
   "mimetype": "text/x-python",
   "name": "python",
   "nbconvert_exporter": "python",
   "pygments_lexer": "ipython2",
   "version": "2.7.6"
  }
 },
 "nbformat": 4,
 "nbformat_minor": 5
}
