{
 "cells": [
  {
   "metadata": {},
   "cell_type": "markdown",
   "source": "## This script is there to go through the Qwen model and see how it works.",
   "id": "156dd67fecff98c1"
  },
  {
   "metadata": {},
   "cell_type": "markdown",
   "source": "Let's start by importing the necessary libraries.",
   "id": "d23c3afecbc43e8c"
  },
  {
   "metadata": {
    "ExecuteTime": {
     "end_time": "2024-12-19T00:04:03.042666Z",
     "start_time": "2024-12-19T00:04:01.268643Z"
    }
   },
   "cell_type": "code",
   "source": "from transformers import AutoModelForCausalLM, AutoTokenizer",
   "id": "4fe09365c9cf4c29",
   "outputs": [],
   "execution_count": 1
  },
  {
   "metadata": {},
   "cell_type": "markdown",
   "source": "get the model and tokenizer from the checkpoint.",
   "id": "fc8009f7316074d0"
  },
  {
   "metadata": {
    "ExecuteTime": {
     "end_time": "2024-11-21T08:03:54.650523Z",
     "start_time": "2024-11-21T08:03:54.647784Z"
    }
   },
   "cell_type": "code",
   "source": [
    "checkpoint = \"Qwen/Qwen2.5-3B-Instruct\"\n",
    "device = \"cuda\""
   ],
   "id": "1bae35c7d52292dc",
   "outputs": [],
   "execution_count": 4
  },
  {
   "metadata": {
    "ExecuteTime": {
     "end_time": "2024-11-21T08:03:55.999979Z",
     "start_time": "2024-11-21T08:03:55.449632Z"
    }
   },
   "cell_type": "code",
   "source": [
    "tokenizer = AutoTokenizer.from_pretrained(checkpoint)\n",
    "\n",
    "model = AutoModelForCausalLM.from_pretraned(checkpoint).to(device)"
   ],
   "id": "31e755d7f9af815e",
   "outputs": [],
   "execution_count": 5
  },
  {
   "metadata": {
    "ExecuteTime": {
     "end_time": "2024-11-21T08:04:17.786614Z",
     "start_time": "2024-11-21T08:04:17.783960Z"
    }
   },
   "cell_type": "code",
   "source": [
    "# test_data = dataset[\"test\"]\n",
    "instruction =\"You are a helpful programmer instruction\"\n",
    "\n",
    "messages = [{\"role\": \"system\", \"content\": instruction},\n",
    "            {\"role\": \"user\", \"content\": \"write a function that takes a list of integers and returns the sum of all the integers in the list in java.\"},\n",
    "            {\"role\": \"assistant\", \"content\": \"write a function that takes a list of integers and returns the sum of all the integers in the list in java.\"}]"
   ],
   "id": "2fcdddc96b0b38a2",
   "outputs": [],
   "execution_count": 9
  },
  {
   "metadata": {},
   "cell_type": "markdown",
   "source": "Test the model with a simple input.",
   "id": "15094c93541ff3ed"
  },
  {
   "metadata": {
    "ExecuteTime": {
     "end_time": "2024-11-21T08:04:20.245608Z",
     "start_time": "2024-11-21T08:04:20.242971Z"
    }
   },
   "cell_type": "code",
   "source": [
    "text = tokenizer.apply_chat_template(\n",
    "    messages,\n",
    "    tokenize=False,\n",
    "    add_generation_prompt=True\n",
    ")\n",
    "print(text)\n",
    "model_inputs = tokenizer([text], return_tensors=\"pt\").to(model.device)"
   ],
   "id": "386aa4c5ef708e8d",
   "outputs": [
    {
     "name": "stdout",
     "output_type": "stream",
     "text": [
      "<|im_start|>system\n",
      "You are a helpful programmer instruction<|im_end|>\n",
      "<|im_start|>user\n",
      "write a function that takes a list of integers and returns the sum of all the integers in the list in java.<|im_end|>\n",
      "<|im_start|>assistant\n",
      "write a function that takes a list of integers and returns the sum of all the integers in the list in java.<|im_end|>\n",
      "<|im_start|>assistant\n",
      "\n"
     ]
    }
   ],
   "execution_count": 10
  },
  {
   "metadata": {
    "ExecuteTime": {
     "end_time": "2024-11-19T20:31:11.221190Z",
     "start_time": "2024-11-19T20:30:19.849355Z"
    }
   },
   "cell_type": "code",
   "source": [
    "generated_ids0 = model.generate(\n",
    "    **model_inputs,\n",
    "    max_new_tokens=300\n",
    ")\n",
    "generated_ids = [\n",
    "    output_ids[len(input_ids):] for input_ids, output_ids in zip(model_inputs.input_ids, generated_ids0)\n",
    "]\n",
    "\n",
    "response = tokenizer.batch_decode(generated_ids, skip_special_tokens=True)[0]\n",
    "print(response)\n"
   ],
   "id": "742f916c9c8e3fdf",
   "outputs": [
    {
     "name": "stdout",
     "output_type": "stream",
     "text": [
      "Certainly! Below is a simple Java function that takes a list of integers and returns the sum of all the integers in the list:\n",
      "\n",
      "```java\n",
      "import java.util.ArrayList;\n",
      "import java.util.Arrays;\n",
      "\n",
      "public class SumCalculator {\n",
      "\n",
      "    /**\n",
      "     * Calculates the sum of all elements in the given list of integers.\n",
      "     *\n",
      "     * @param numbers An ArrayList of Integer values.\n",
      "     * @return The sum of all elements in the list.\n",
      "     */\n",
      "    public static int calculateSum(ArrayList<Integer> numbers) {\n",
      "        return numbers.stream().mapToInt(Integer::intValue).sum();\n",
      "    }\n",
      "\n",
      "    public static void main(String[] args) {\n",
      "        // Example usage:\n",
      "        ArrayList<Integer> exampleList = new ArrayList<>(Arrays.asList(1, 2, 3, 4, 5));\n",
      "        System.out.println(\"The sum of the list is: \" + calculateSum(exampleList));\n",
      "        \n",
      "        // Additional test cases\n",
      "        ArrayList<Integer> emptyList = new ArrayList<>();\n",
      "        System.out.println(\"The sum of the empty list is: \" + calculateSum(emptyList));\n",
      "        \n",
      "        ArrayList<Integer> mixedList = new ArrayList<>(Arrays.asList(-1, 0, 1, -2, 3));\n",
      "        System.out.println(\"The sum of the mixed list is: \" + calculateSum(mixedList));\n",
      "    }\n",
      "}\n",
      "```\n",
      "\n",
      "### Explanation:\n",
      "- **Import Statements**: We import `ArrayList` from `java.util` to use it and `Arrays.asList` to create an example list.\n",
      "\n"
     ]
    }
   ],
   "execution_count": 10
  },
  {
   "metadata": {
    "ExecuteTime": {
     "end_time": "2024-11-19T20:29:04.365376Z",
     "start_time": "2024-11-19T20:29:04.361463Z"
    }
   },
   "cell_type": "code",
   "source": [
    "#print(generated_ids)\n",
    "output = tokenizer.decode(generated_ids[0], skip_special_tokens=True)\n",
    "print(output)"
   ],
   "id": "c0e0816358517e3f",
   "outputs": [
    {
     "name": "stdout",
     "output_type": "stream",
     "text": [
      "Certainly! Below is a simple Java function that takes a list of integers and returns the sum of all the integers in the list:\n",
      "\n",
      "```java\n",
      "import java.util.ArrayList;\n",
      "import java.util.Arrays;\n",
      "\n",
      "public class SumCalculator {\n",
      "    /**\n",
      "     * Calculates the sum of all elements in the given list.\n",
      "     * \n",
      "     * @param numbers An ArrayList of Integers.\n",
      "     * @return The sum of all elements in the list.\n",
      "     */\n",
      "    public static int calculateSum(ArrayList<Integer> numbers) {\n",
      "        return numbers.stream().mapToInt(Integer::intValue).sum();\n",
      "    }\n",
      "\n",
      "    public static void main(String[] args) {\n",
      "        // Example usage:\n",
      "        ArrayList<Integer> exampleList = new ArrayList<>(Arrays.asList(1, 2, 3, 4, 5));\n",
      "        System.out.println(\"The sum of the list is: \" + calculateSum(exampleList));\n",
      "        \n",
      "        // Additional test cases\n",
      "        ArrayList<Integer> emptyList = new ArrayList<>();\n",
      "        System.out.println(\"The sum of an empty list is: \" + calculateSum(emptyList));\n",
      "        \n",
      "        ArrayList<Integer> mixedList = new ArrayList<>(Arrays.asList(-1, -2, 3, 4, -5));\n",
      "        System.out.println(\"The sum of the mixed list is: \" + calculateSum(mixedList));\n",
      "    }\n",
      "}\n",
      "```\n",
      "\n",
      "### Explanation:\n",
      "- **`ArrayList<Integer>`**: This is used to store the integers.\n",
      "- **`calculateSum` method**: This method uses Java Streams to convert\n"
     ]
    }
   ],
   "execution_count": 9
  },
  {
   "metadata": {},
   "cell_type": "markdown",
   "source": "### LLMs for software Model Completion",
   "id": "39c2657c21e8c73f"
  },
  {
   "metadata": {
    "ExecuteTime": {
     "end_time": "2024-12-19T15:22:31.171253Z",
     "start_time": "2024-12-19T15:22:28.623703Z"
    }
   },
   "cell_type": "code",
   "source": [
    "from datasets import load_dataset\n",
    "import torch\n",
    "from transformers import AutoTokenizer, AutoModelForCausalLM, BitsAndBytesConfig"
   ],
   "id": "32dcb98d575125bd",
   "outputs": [],
   "execution_count": 1
  },
  {
   "metadata": {
    "ExecuteTime": {
     "end_time": "2024-12-19T15:22:31.177403Z",
     "start_time": "2024-12-19T15:22:31.174257Z"
    }
   },
   "cell_type": "code",
   "source": "checkpoint = \"D:\\\\LLM\\\\thesisPractical\\\\fine_tuned_models\\\\Qwen2.5-3B-Instruct-software-model_completion\"",
   "id": "f43c7bd2801eb2f4",
   "outputs": [],
   "execution_count": 2
  },
  {
   "metadata": {
    "ExecuteTime": {
     "end_time": "2024-12-19T00:19:11.435779Z",
     "start_time": "2024-12-19T00:19:11.431692Z"
    }
   },
   "cell_type": "code",
   "source": [
    "instruction = \"You are an AI assistant that specializes in UML model completion. Given an incomplete UML model represented in JSON format, output the missing portions of the model in JSON format.\"\n",
    "\n",
    "def format_chat_template_to_print(input):\n",
    "    row_json = [\n",
    "        {\"role\": \"system\", \"content\": instruction},\n",
    "        {\"role\": \"user\", \"content\": f'Here is the incomplete UML model:\\n{input}'}\n",
    "    ] \n",
    "    return tokenizer.apply_chat_template(row_json, tokenize=False, add_generation_prompt=True)\n",
    "\n",
    "def format_chat_template(input):\n",
    "    row_json = [\n",
    "        {\"role\": \"system\", \"content\": instruction},\n",
    "        {\"role\": \"user\", \"content\": f'Here is the incomplete UML model:\\n{input}'}\n",
    "    ] \n",
    "    return tokenizer.apply_chat_template(row_json, tokenize=True, return_tensors=\"pt\", add_generation_prompt=True).to(\"cuda\")"
   ],
   "id": "92c14135e62af1a6",
   "outputs": [],
   "execution_count": 4
  },
  {
   "metadata": {
    "ExecuteTime": {
     "end_time": "2024-12-19T15:22:38.252943Z",
     "start_time": "2024-12-19T15:22:33.499988Z"
    }
   },
   "cell_type": "code",
   "source": [
    "quantization_config = BitsAndBytesConfig(\n",
    "    load_in_4bit=True,\n",
    "    bnb_4bit_quant_type=\"nf4\",\n",
    "    bnb_4bit_compute_dtype=torch.float16,\n",
    "    bnb_4bit_use_double_quant=True,\n",
    ")\n",
    "model = AutoModelForCausalLM.from_pretrained(\n",
    "    checkpoint, device_map=\"auto\", quantization_config=quantization_config\n",
    ")\n",
    "tokenizer = AutoTokenizer.from_pretrained(checkpoint)"
   ],
   "id": "4f9ea55ce0200438",
   "outputs": [
    {
     "data": {
      "text/plain": [
       "Loading checkpoint shards:   0%|          | 0/2 [00:00<?, ?it/s]"
      ],
      "application/vnd.jupyter.widget-view+json": {
       "version_major": 2,
       "version_minor": 0,
       "model_id": "e80a4e0f606f4951ba60e724b9eecfda"
      }
     },
     "metadata": {},
     "output_type": "display_data"
    }
   ],
   "execution_count": 3
  },
  {
   "metadata": {
    "ExecuteTime": {
     "end_time": "2024-12-19T15:22:38.848860Z",
     "start_time": "2024-12-19T15:22:38.255491Z"
    }
   },
   "cell_type": "code",
   "source": [
    "org_path = \"D:\\\\LLM\\\\thesisPractical\\\\datasets_for_fine_tuning\\\\structural_removal_non_contiguous\\\\processed_4000\"\n",
    "\n",
    "test_dataset_url = org_path + \"\\\\test.jsonl\"\n",
    "\n",
    "data_files = {\n",
    "    'test': test_dataset_url\n",
    "}\n",
    "\n",
    "dataset = load_dataset('json', data_files=data_files)\n",
    "test_dataset = dataset['test']"
   ],
   "id": "e2505bcbe6369143",
   "outputs": [],
   "execution_count": 4
  },
  {
   "metadata": {
    "ExecuteTime": {
     "end_time": "2024-12-19T00:19:17.667382Z",
     "start_time": "2024-12-19T00:19:17.650411Z"
    }
   },
   "cell_type": "code",
   "source": [
    "data = test_dataset[2]['input']\n",
    "text_to_print = format_chat_template_to_print(data)\n",
    "print(text_to_print)\n",
    "input_ids = format_chat_template(data)"
   ],
   "id": "8b703743aa0ca8f",
   "outputs": [
    {
     "name": "stdout",
     "output_type": "stream",
     "text": [
      "<|im_start|>system\n",
      "You are an AI assistant that specializes in UML model completion. Given an incomplete UML model represented in JSON format, output the missing portions of the model in JSON format.<|im_end|>\n",
      "<|im_start|>user\n",
      "Here is the incomplete UML model:\n",
      "{\"directed\":true,\"nodes\":[{\"viewpoint\":null,\"visibility\":\"PUBLIC_LITERAL\",\"qualifiedName\":\"model\",\"name\":\"model\",\"id\":0,\"URI\":null,\"eClass\":\"Model\"},{\"visibility\":\"PUBLIC_LITERAL\",\"qualifiedName\":\"model::Bank Customer\",\"name\":\"Bank Customer\",\"id\":2,\"isLeaf\":false,\"isAbstract\":false,\"isFinalSpecialization\":false,\"eClass\":\"Actor\"},{\"visibility\":\"PUBLIC_LITERAL\",\"qualifiedName\":\"model::Insert Card\",\"name\":\"Insert Card\",\"id\":3,\"isLeaf\":false,\"isAbstract\":false,\"isFinalSpecialization\":false,\"eClass\":\"UseCase\"},{\"visibility\":\"PUBLIC_LITERAL\",\"qualifiedName\":\"model::Insert Pin\",\"name\":\"Insert Pin\",\"id\":4,\"isLeaf\":false,\"isAbstract\":false,\"isFinalSpecialization\":false,\"eClass\":\"UseCase\"},{\"visibility\":\"PUBLIC_LITERAL\",\"qualifiedName\":\"model::Display Menu\",\"name\":\"Display Menu\",\"id\":5,\"isLeaf\":false,\"isAbstract\":false,\"isFinalSpecialization\":false,\"eClass\":\"UseCase\"},{\"isDerived\":false,\"visibility\":\"PUBLIC_LITERAL\",\"qualifiedName\":\"model::Bank Customer_Insert Card\",\"name\":\"Bank Customer_Insert Card\",\"id\":6,\"isLeaf\":false,\"isAbstract\":false,\"isFinalSpecialization\":false,\"eClass\":\"Association\"},{\"isDerived\":false,\"visibility\":\"PUBLIC_LITERAL\",\"qualifiedName\":\"model::Bank Customer_Insert Pin\",\"name\":\"Bank Customer_Insert Pin\",\"id\":7,\"isLeaf\":false,\"isAbstract\":false,\"isFinalSpecialization\":false,\"eClass\":\"Association\"},{\"visibility\":\"PUBLIC_LITERAL\",\"qualifiedName\":\"model::ask for account number for deposit\",\"name\":\"ask for account number for deposit\",\"id\":11,\"isLeaf\":false,\"isAbstract\":false,\"isFinalSpecialization\":false,\"eClass\":\"UseCase\"},{\"visibility\":\"PUBLIC_LITERAL\",\"qualifiedName\":\"model::chk for valid account number\",\"name\":\"chk for valid account number\",\"id\":12,\"isLeaf\":false,\"isAbstract\":false,\"isFinalSpecialization\":false,\"eClass\":\"UseCase\"},{\"visibility\":\"PUBLIC_LITERAL\",\"qualifiedName\":\"model::Ask for amount to be deposited\",\"name\":\"Ask for amount to be deposited\",\"id\":13,\"isLeaf\":false,\"isAbstract\":false,\"isFinalSpecialization\":false,\"eClass\":\"UseCase\"},{\"isDerived\":false,\"visibility\":\"PUBLIC_LITERAL\",\"qualifiedName\":\"model::Bank Customer_deposits cash/cheque for deposit\",\"name\":\"Bank Customer_deposits cash/cheque for deposit\",\"id\":15,\"isLeaf\":false,\"isAbstract\":false,\"isFinalSpecialization\":false,\"eClass\":\"Association\"},{\"visibility\":\"PUBLIC_LITERAL\",\"qualifiedName\":\"model::send email/text confirming and notifying about the deposit\",\"name\":\"send email/text confirming and notifying about the deposit\",\"id\":16,\"isLeaf\":false,\"isAbstract\":false,\"isFinalSpecialization\":false,\"eClass\":\"UseCase\"},{\"isStatic\":false,\"isDerived\":false,\"visibility\":\"PUBLIC_LITERAL\",\"qualifiedName\":\"model::Bank Customer_Insert Card::insert Card\",\"lower\":0,\"upper\":1,\"isUnique\":true,\"aggregation\":\"NONE_LITERAL\",\"isLeaf\":false,\"eClass\":\"Property\",\"default\":null,\"isReadOnly\":false,\"isComposite\":false,\"isID\":false,\"isDerivedUnion\":false,\"name\":\"insert Card\",\"id\":17,\"isOrdered\":false},{\"isStatic\":false,\"isDerived\":false,\"visibility\":\"PUBLIC_LITERAL\",\"qualifiedName\":\"model::Bank Customer_Insert Card::bank Customer\",\"lower\":0,\"upper\":1,\"isUnique\":true,\"aggregation\":\"NONE_LITERAL\",\"isLeaf\":false,\"eClass\":\"Property\",\"default\":null,\"isReadOnly\":false,\"isComposite\":false,\"isID\":false,\"isDerivedUnion\":false,\"name\":\"bank Customer\",\"id\":18,\"isOrdered\":false},{\"visibility\":\"PUBLIC_LITERAL\",\"qualifiedName\":null,\"name\":null,\"id\":19,\"value\":0,\"eClass\":\"LiteralInteger\"},{\"visibility\":\"PUBLIC_LITERAL\",\"qualifiedName\":null,\"name\":null,\"id\":20,\"value\":1,\"eClass\":\"LiteralInteger\"},{\"visibility\":\"PUBLIC_LITERAL\",\"qualifiedName\":null,\"name\":null,\"id\":21,\"value\":0,\"eClass\":\"LiteralInteger\"},{\"isStatic\":false,\"isDerived\":false,\"visibility\":\"PUBLIC_LITERAL\",\"qualifiedName\":\"model::Bank Customer_Insert Pin::insert Pin\",\"lower\":0,\"upper\":1,\"isUnique\":true,\"aggregation\":\"NONE_LITERAL\",\"isLeaf\":false,\"eClass\":\"Property\",\"default\":null,\"isReadOnly\":false,\"isComposite\":false,\"isID\":false,\"isDerivedUnion\":false,\"name\":\"insert Pin\",\"id\":23,\"isOrdered\":false},{\"isStatic\":false,\"isDerived\":false,\"visibility\":\"PUBLIC_LITERAL\",\"qualifiedName\":\"model::Bank Customer_Insert Pin::bank Customer\",\"lower\":0,\"upper\":1,\"isUnique\":true,\"aggregation\":\"NONE_LITERAL\",\"isLeaf\":false,\"eClass\":\"Property\",\"default\":null,\"isReadOnly\":false,\"isComposite\":false,\"isID\":false,\"isDerivedUnion\":false,\"name\":\"bank Customer\",\"id\":24,\"isOrdered\":false},{\"visibility\":\"PUBLIC_LITERAL\",\"qualifiedName\":null,\"name\":null,\"id\":25,\"value\":0,\"eClass\":\"LiteralInteger\"},{\"visibility\":\"PUBLIC_LITERAL\",\"qualifiedName\":null,\"name\":null,\"id\":26,\"value\":1,\"eClass\":\"LiteralInteger\"},{\"visibility\":\"PUBLIC_LITERAL\",\"qualifiedName\":null,\"name\":null,\"id\":27,\"value\":0,\"eClass\":\"LiteralInteger\"},{\"visibility\":\"PUBLIC_LITERAL\",\"qualifiedName\":null,\"name\":null,\"id\":28,\"value\":1,\"eClass\":\"LiteralInteger\"},{\"isStatic\":false,\"isDerived\":false,\"visibility\":\"PUBLIC_LITERAL\",\"qualifiedName\":\"model::Bank Customer_Display Menu::display Menu\",\"lower\":0,\"upper\":1,\"isUnique\":true,\"aggregation\":\"NONE_LITERAL\",\"isLeaf\":false,\"eClass\":\"Property\",\"default\":null,\"isReadOnly\":false,\"isComposite\":false,\"isID\":false,\"isDerivedUnion\":false,\"name\":\"display Menu\",\"id\":29,\"isOrdered\":false},{\"isStatic\":false,\"isDerived\":false,\"visibility\":\"PUBLIC_LITERAL\",\"qualifiedName\":\"model::Bank Customer_Display Menu::bank Customer\",\"lower\":0,\"upper\":1,\"isUnique\":true,\"aggregation\":\"NONE_LITERAL\",\"isLeaf\":false,\"eClass\":\"Property\",\"default\":null,\"isReadOnly\":false,\"isComposite\":false,\"isID\":false,\"isDerivedUnion\":false,\"name\":\"bank Customer\",\"id\":30,\"isOrdered\":false},{\"visibility\":\"PUBLIC_LITERAL\",\"qualifiedName\":null,\"name\":null,\"id\":31,\"value\":0,\"eClass\":\"LiteralInteger\"},{\"visibility\":\"PUBLIC_LITERAL\",\"qualifiedName\":null,\"name\":null,\"id\":33,\"value\":0,\"eClass\":\"LiteralInteger\"},{\"visibility\":\"PUBLIC_LITERAL\",\"qualifiedName\":null,\"name\":null,\"id\":34,\"value\":1,\"eClass\":\"LiteralInteger\"},{\"isSubstitutable\":true,\"id\":35,\"eClass\":\"Generalization\"},{\"isSubstitutable\":true,\"id\":36,\"eClass\":\"Generalization\"},{\"isSubstitutable\":true,\"id\":38,\"eClass\":\"Generalization\"},{\"visibility\":\"PUBLIC_LITERAL\",\"qualifiedName\":\"model::deposits cash/cheque ::ExtPoint\",\"name\":\"ExtPoint\",\"id\":39,\"isLeaf\":false,\"eClass\":\"ExtensionPoint\"},{\"isStatic\":false,\"isDerived\":false,\"visibility\":\"PUBLIC_LITERAL\",\"qualifiedName\":\"model::Bank Customer_deposits cash/cheque for deposit::deposits cash/cheque for deposit\",\"lower\":0,\"upper\":1,\"isUnique\":true,\"aggregation\":\"NONE_LITERAL\",\"isLeaf\":false,\"eClass\":\"Property\",\"default\":null,\"isReadOnly\":false,\"isComposite\":false,\"isID\":false,\"isDerivedUnion\":false,\"name\":\"deposits cash/cheque for deposit\",\"id\":40,\"isOrdered\":false},{\"isStatic\":false,\"isDerived\":false,\"visibility\":\"PUBLIC_LITERAL\",\"qualifiedName\":\"model::Bank Customer_deposits cash/cheque for deposit::bank Customer\",\"lower\":0,\"upper\":1,\"isUnique\":true,\"aggregation\":\"NONE_LITERAL\",\"isLeaf\":false,\"eClass\":\"Property\",\"default\":null,\"isReadOnly\":false,\"isComposite\":false,\"isID\":false,\"isDerivedUnion\":false,\"name\":\"bank Customer\",\"id\":41,\"isOrdered\":false},{\"visibility\":\"PUBLIC_LITERAL\",\"qualifiedName\":null,\"name\":null,\"id\":43,\"value\":1,\"eClass\":\"LiteralInteger\"},{\"visibility\":\"PUBLIC_LITERAL\",\"qualifiedName\":null,\"name\":null,\"id\":44,\"value\":0,\"eClass\":\"LiteralInteger\"},{\"visibility\":\"PUBLIC_LITERAL\",\"qualifiedName\":null,\"name\":null,\"id\":45,\"value\":1,\"eClass\":\"LiteralInteger\"},{\"visibility\":\"PUBLIC_LITERAL\",\"qualifiedName\":null,\"name\":null,\"id\":46,\"eClass\":\"Extend\"}],\"links\":[{\"source\":0,\"target\":2},{\"source\":0,\"target\":3},{\"source\":0,\"target\":4},{\"source\":0,\"target\":5},{\"source\":0,\"target\":6},{\"source\":0,\"target\":7},{\"source\":0,\"target\":11},{\"source\":0,\"target\":12},{\"source\":0,\"target\":13},{\"source\":0,\"target\":15},{\"source\":0,\"target\":16},{\"source\":6,\"target\":17},{\"source\":6,\"target\":18},{\"source\":6,\"target\":17},{\"source\":6,\"target\":18},{\"source\":6,\"target\":17},{\"source\":6,\"target\":18},{\"source\":17,\"target\":3},{\"source\":17,\"target\":19},{\"source\":17,\"target\":20},{\"source\":17,\"target\":6},{\"source\":17,\"target\":6},{\"source\":18,\"target\":2},{\"source\":18,\"target\":21},{\"source\":18,\"target\":6},{\"source\":18,\"target\":6},{\"source\":7,\"target\":23},{\"source\":7,\"target\":24},{\"source\":7,\"target\":23},{\"source\":7,\"target\":24},{\"source\":7,\"target\":23},{\"source\":7,\"target\":24},{\"source\":23,\"target\":4},{\"source\":23,\"target\":25},{\"source\":23,\"target\":26},{\"source\":23,\"target\":7},{\"source\":23,\"target\":7},{\"source\":24,\"target\":2},{\"source\":24,\"target\":27},{\"source\":24,\"target\":28},{\"source\":24,\"target\":7},{\"source\":24,\"target\":7},{\"source\":29,\"target\":5},{\"source\":29,\"target\":31},{\"source\":30,\"target\":2},{\"source\":30,\"target\":33},{\"source\":30,\"target\":34},{\"source\":35,\"target\":5},{\"source\":11,\"target\":36},{\"source\":36,\"target\":11},{\"source\":13,\"target\":38},{\"source\":38,\"target\":13},{\"source\":15,\"target\":40},{\"source\":15,\"target\":41},{\"source\":15,\"target\":40},{\"source\":15,\"target\":41},{\"source\":15,\"target\":40},{\"source\":15,\"target\":41},{\"source\":40,\"target\":43},{\"source\":40,\"target\":15},{\"source\":40,\"target\":15},{\"source\":41,\"target\":2},{\"source\":41,\"target\":44},{\"source\":41,\"target\":45},{\"source\":41,\"target\":15},{\"source\":41,\"target\":15},{\"source\":16,\"target\":46},{\"source\":46,\"target\":39},{\"source\":46,\"target\":16}],\"multigraph\":true}<|im_end|>\n",
      "<|im_start|>assistant\n",
      "\n"
     ]
    }
   ],
   "execution_count": 7
  },
  {
   "metadata": {
    "ExecuteTime": {
     "end_time": "2024-12-19T00:19:19.367841Z",
     "start_time": "2024-12-19T00:19:19.363120Z"
    }
   },
   "cell_type": "code",
   "source": [
    "output = test_dataset[2]['output']\n",
    "predicted_tokens = tokenizer(output)['input_ids']\n",
    "print(len(predicted_tokens))\n",
    "print(output)"
   ],
   "id": "a8a5b777850d18a0",
   "outputs": [
    {
     "name": "stdout",
     "output_type": "stream",
     "text": [
      "618\n",
      "{\"nodes\":[{\"visibility\":\"PUBLIC_LITERAL\",\"id\":1,\"eClass\":\"PackageImport\"},{\"isDerived\":false,\"visibility\":\"PUBLIC_LITERAL\",\"qualifiedName\":\"model::Bank Customer_Display Menu\",\"name\":\"Bank Customer_Display Menu\",\"id\":8,\"isLeaf\":false,\"isAbstract\":false,\"isFinalSpecialization\":false,\"eClass\":\"Association\"},{\"visibility\":\"PUBLIC_LITERAL\",\"qualifiedName\":\"model::Deposit Cheque/Cash\",\"name\":\"Deposit Cheque/Cash\",\"id\":9,\"isLeaf\":false,\"isAbstract\":false,\"isFinalSpecialization\":false,\"eClass\":\"UseCase\"},{\"visibility\":\"PUBLIC_LITERAL\",\"qualifiedName\":\"model::ATM Bank Server\",\"name\":\"ATM Bank Server\",\"id\":10,\"isLeaf\":false,\"isAbstract\":false,\"isFinalSpecialization\":false,\"eClass\":\"Actor\"},{\"visibility\":\"PUBLIC_LITERAL\",\"qualifiedName\":\"model::deposits cash/cheque \",\"name\":\"deposits cash/cheque \",\"id\":14,\"isLeaf\":false,\"isAbstract\":false,\"isFinalSpecialization\":false,\"eClass\":\"UseCase\"},{\"visibility\":\"PUBLIC_LITERAL\",\"qualifiedName\":null,\"name\":null,\"id\":22,\"value\":1,\"eClass\":\"LiteralInteger\"},{\"visibility\":\"PUBLIC_LITERAL\",\"qualifiedName\":null,\"name\":null,\"id\":32,\"value\":1,\"eClass\":\"LiteralInteger\"},{\"visibility\":\"PUBLIC_LITERAL\",\"qualifiedName\":null,\"name\":null,\"id\":37,\"eClass\":\"Include\"},{\"visibility\":\"PUBLIC_LITERAL\",\"qualifiedName\":null,\"name\":null,\"id\":42,\"value\":0,\"eClass\":\"LiteralInteger\"}],\"links\":[{\"source\":0,\"target\":1},{\"source\":0,\"target\":8},{\"source\":0,\"target\":9},{\"source\":0,\"target\":10},{\"source\":0,\"target\":14},{\"source\":1,\"target\":0},{\"source\":18,\"target\":22},{\"source\":8,\"target\":29},{\"source\":8,\"target\":30},{\"source\":8,\"target\":29},{\"source\":8,\"target\":30},{\"source\":8,\"target\":29},{\"source\":8,\"target\":30},{\"source\":29,\"target\":32},{\"source\":29,\"target\":8},{\"source\":29,\"target\":8},{\"source\":30,\"target\":8},{\"source\":30,\"target\":8},{\"source\":9,\"target\":35},{\"source\":35,\"target\":9},{\"source\":36,\"target\":9},{\"source\":12,\"target\":37},{\"source\":37,\"target\":11},{\"source\":37,\"target\":12},{\"source\":38,\"target\":9},{\"source\":14,\"target\":39},{\"source\":39,\"target\":14},{\"source\":40,\"target\":14},{\"source\":40,\"target\":42},{\"source\":46,\"target\":14}]}\n"
     ]
    }
   ],
   "execution_count": 8
  },
  {
   "metadata": {
    "ExecuteTime": {
     "end_time": "2024-12-19T00:19:51.246474Z",
     "start_time": "2024-12-19T00:19:20.773397Z"
    }
   },
   "cell_type": "code",
   "source": [
    "outputs = model.generate(input_ids=input_ids, max_new_tokens=668)\n",
    "decoded_output = tokenizer.decode(outputs[0], skip_special_tokens=True,  do_sample=False)\n",
    "predicted_text = decoded_output.split(\"assistant\\n\")[1]\n",
    "print(predicted_text)"
   ],
   "id": "8a0d2f1ab7c5e872",
   "outputs": [
    {
     "name": "stderr",
     "output_type": "stream",
     "text": [
      "The attention mask is not set and cannot be inferred from input because pad token is same as eos token. As a consequence, you may observe unexpected behavior. Please pass your input's `attention_mask` to obtain reliable results.\n",
      "C:\\Users\\Admin\\anaconda3\\envs\\LLM\\Lib\\site-packages\\transformers\\models\\qwen2\\modeling_qwen2.py:544: UserWarning: 1Torch was not compiled with flash attention. (Triggered internally at C:\\cb\\pytorch_1000000000000\\work\\aten\\src\\ATen\\native\\transformers\\cuda\\sdp_utils.cpp:455.)\n",
      "  attn_output = torch.nn.functional.scaled_dot_product_attention(\n"
     ]
    },
    {
     "name": "stdout",
     "output_type": "stream",
     "text": [
      "{\"nodes\":[{\"visibility\":\"PUBLIC_LITERAL\",\"id\":1,\"eClass\":\"PackageImport\"},{\"visibility\":\"PUBLIC_LITERAL\",\"qualifiedName\":\"model::Enter pin\",\"name\":\"Enter pin\",\"id\":8,\"isLeaf\":false,\"isAbstract\":false,\"isFinalSpecialization\":false,\"eClass\":\"UseCase\"},{\"visibility\":\"PUBLIC_LITERAL\",\"qualifiedName\":\"model::Withdraw cash\",\"name\":\"Withdraw cash\",\"id\":9,\"isLeaf\":false,\"isAbstract\":false,\"isFinalSpecialization\":false,\"eClass\":\"UseCase\"},{\"visibility\":\"PUBLIC_LITERAL\",\"qualifiedName\":\"model::Transfer funds\",\"name\":\"Transfer funds\",\"id\":10,\"isLeaf\":false,\"isAbstract\":false,\"isFinalSpecialization\":false,\"eClass\":\"UseCase\"},{\"visibility\":\"PUBLIC_LITERAL\",\"qualifiedName\":\"model::Ask for amount to be withdrawn\",\"name\":\"Ask for amount to be withdrawn\",\"id\":14,\"isLeaf\":false,\"isAbstract\":false,\"isFinalSpecialization\":false,\"eClass\":\"UseCase\"},{\"visibility\":\"PUBLIC_LITERAL\",\"qualifiedName\":null,\"name\":null,\"id\":22,\"value\":1,\"eClass\":\"LiteralInteger\"},{\"visibility\":\"PUBLIC_LITERAL\",\"qualifiedName\":null,\"name\":null,\"id\":32,\"value\":1,\"eClass\":\"LiteralInteger\"},{\"visibility\":\"PUBLIC_LITERAL\",\"qualifiedName\":\"model::deposit cash/cheque ::ExtPoint\",\"name\":\"ExtPoint\",\"id\":37,\"isLeaf\":false,\"eClass\":\"ExtensionPoint\"},{\"visibility\":\"PUBLIC_LITERAL\",\"qualifiedName\":null,\"name\":null,\"id\":42,\"value\":0,\"eClass\":\"LiteralInteger\"},{\"visibility\":\"PUBLIC_LITERAL\",\"qualifiedName\":null,\"name\":null,\"id\":39,\"eClass\":\"Extend\"}],\"links\":[{\"source\":0,\"target\":1},{\"source\":1,\"target\":0},{\"source\":6,\"target\":22},{\"source\":17,\"target\":2},{\"source\":18,\"target\":22},{\"source\":22,\"target\":2},{\"source\":22,\"target\":18},{\"source\":22,\"target\":18},{\"source\":7,\"target\":30},{\"source\":7,\"target\":30},{\"source\":23,\"target\":8},{\"source\":24,\"target\":9},{\"source\":29,\"target\":32},{\"source\":35,\"target\":8},{\"source\":12,\"target\":37},{\"source\":37,\"target\":12},{\"source\":13,\"target\":39},{\"source\":39,\"target\":9},{\"source\":39,\"target\":13},{\"source\":14,\"target\":40},{\"source\":14,\"target\":40},{\"source\":40,\"target\":14},{\"source\":40,\"target\":14},{\"source\":46,\"target\":14},{\"source\":40,\"target\":42}]}\n"
     ]
    }
   ],
   "execution_count": 9
  },
  {
   "metadata": {},
   "cell_type": "markdown",
   "source": "### Testing the accuracy metric",
   "id": "472e47051f35428b"
  },
  {
   "metadata": {
    "ExecuteTime": {
     "end_time": "2024-12-19T15:23:07.188462Z",
     "start_time": "2024-12-19T15:23:07.175550Z"
    }
   },
   "cell_type": "code",
   "source": [
    "predicted_tokens = tokenizer(predicted_text,add_special_tokens=False)['input_ids']\n",
    "print(len(predicted_tokens))"
   ],
   "id": "1e05c32904d37842",
   "outputs": [
    {
     "ename": "NameError",
     "evalue": "name 'predicted_text' is not defined",
     "output_type": "error",
     "traceback": [
      "\u001B[1;31m---------------------------------------------------------------------------\u001B[0m",
      "\u001B[1;31mNameError\u001B[0m                                 Traceback (most recent call last)",
      "Cell \u001B[1;32mIn[6], line 1\u001B[0m\n\u001B[1;32m----> 1\u001B[0m predicted_tokens \u001B[38;5;241m=\u001B[39m tokenizer(predicted_text,add_special_tokens\u001B[38;5;241m=\u001B[39m\u001B[38;5;28;01mFalse\u001B[39;00m)[\u001B[38;5;124m'\u001B[39m\u001B[38;5;124minput_ids\u001B[39m\u001B[38;5;124m'\u001B[39m]\n\u001B[0;32m      2\u001B[0m \u001B[38;5;28mprint\u001B[39m(\u001B[38;5;28mlen\u001B[39m(predicted_tokens))\n",
      "\u001B[1;31mNameError\u001B[0m: name 'predicted_text' is not defined"
     ]
    }
   ],
   "execution_count": 6
  },
  {
   "metadata": {
    "ExecuteTime": {
     "end_time": "2024-12-19T15:23:04.449434Z",
     "start_time": "2024-12-19T15:23:04.210541Z"
    }
   },
   "cell_type": "code",
   "source": [
    "from util_folder.utils import fix_and_validate_json\n",
    "\n",
    "json_data_pred = fix_and_validate_json(predicted_text)\n",
    "json_data_true = fix_and_validate_json(output)"
   ],
   "id": "6e2ddbaa7b3c1414",
   "outputs": [
    {
     "ename": "NameError",
     "evalue": "name 'predicted_text' is not defined",
     "output_type": "error",
     "traceback": [
      "\u001B[1;31m---------------------------------------------------------------------------\u001B[0m",
      "\u001B[1;31mNameError\u001B[0m                                 Traceback (most recent call last)",
      "Cell \u001B[1;32mIn[5], line 3\u001B[0m\n\u001B[0;32m      1\u001B[0m \u001B[38;5;28;01mfrom\u001B[39;00m \u001B[38;5;21;01mutil_folder\u001B[39;00m\u001B[38;5;21;01m.\u001B[39;00m\u001B[38;5;21;01mutils\u001B[39;00m \u001B[38;5;28;01mimport\u001B[39;00m fix_and_validate_json\n\u001B[1;32m----> 3\u001B[0m json_data_pred \u001B[38;5;241m=\u001B[39m fix_and_validate_json(predicted_text)\n\u001B[0;32m      4\u001B[0m json_data_true \u001B[38;5;241m=\u001B[39m fix_and_validate_json(output)\n",
      "\u001B[1;31mNameError\u001B[0m: name 'predicted_text' is not defined"
     ]
    }
   ],
   "execution_count": 5
  },
  {
   "metadata": {
    "ExecuteTime": {
     "end_time": "2024-12-19T00:20:04.842941Z",
     "start_time": "2024-12-19T00:20:04.837900Z"
    }
   },
   "cell_type": "code",
   "source": "json_data_pred",
   "id": "cd8482149c2f99aa",
   "outputs": [
    {
     "data": {
      "text/plain": [
       "{'nodes': [{'visibility': 'PUBLIC_LITERAL',\n",
       "   'id': 1,\n",
       "   'eClass': 'PackageImport'},\n",
       "  {'visibility': 'PUBLIC_LITERAL',\n",
       "   'qualifiedName': 'model::Enter pin',\n",
       "   'name': 'Enter pin',\n",
       "   'id': 8,\n",
       "   'isLeaf': False,\n",
       "   'isAbstract': False,\n",
       "   'isFinalSpecialization': False,\n",
       "   'eClass': 'UseCase'},\n",
       "  {'visibility': 'PUBLIC_LITERAL',\n",
       "   'qualifiedName': 'model::Withdraw cash',\n",
       "   'name': 'Withdraw cash',\n",
       "   'id': 9,\n",
       "   'isLeaf': False,\n",
       "   'isAbstract': False,\n",
       "   'isFinalSpecialization': False,\n",
       "   'eClass': 'UseCase'},\n",
       "  {'visibility': 'PUBLIC_LITERAL',\n",
       "   'qualifiedName': 'model::Transfer funds',\n",
       "   'name': 'Transfer funds',\n",
       "   'id': 10,\n",
       "   'isLeaf': False,\n",
       "   'isAbstract': False,\n",
       "   'isFinalSpecialization': False,\n",
       "   'eClass': 'UseCase'},\n",
       "  {'visibility': 'PUBLIC_LITERAL',\n",
       "   'qualifiedName': 'model::Ask for amount to be withdrawn',\n",
       "   'name': 'Ask for amount to be withdrawn',\n",
       "   'id': 14,\n",
       "   'isLeaf': False,\n",
       "   'isAbstract': False,\n",
       "   'isFinalSpecialization': False,\n",
       "   'eClass': 'UseCase'},\n",
       "  {'visibility': 'PUBLIC_LITERAL',\n",
       "   'qualifiedName': None,\n",
       "   'name': None,\n",
       "   'id': 22,\n",
       "   'value': 1,\n",
       "   'eClass': 'LiteralInteger'},\n",
       "  {'visibility': 'PUBLIC_LITERAL',\n",
       "   'qualifiedName': None,\n",
       "   'name': None,\n",
       "   'id': 32,\n",
       "   'value': 1,\n",
       "   'eClass': 'LiteralInteger'},\n",
       "  {'visibility': 'PUBLIC_LITERAL',\n",
       "   'qualifiedName': 'model::deposit cash/cheque ::ExtPoint',\n",
       "   'name': 'ExtPoint',\n",
       "   'id': 37,\n",
       "   'isLeaf': False,\n",
       "   'eClass': 'ExtensionPoint'},\n",
       "  {'visibility': 'PUBLIC_LITERAL',\n",
       "   'qualifiedName': None,\n",
       "   'name': None,\n",
       "   'id': 42,\n",
       "   'value': 0,\n",
       "   'eClass': 'LiteralInteger'},\n",
       "  {'visibility': 'PUBLIC_LITERAL',\n",
       "   'qualifiedName': None,\n",
       "   'name': None,\n",
       "   'id': 39,\n",
       "   'eClass': 'Extend'}],\n",
       " 'links': [{'source': 0, 'target': 1},\n",
       "  {'source': 1, 'target': 0},\n",
       "  {'source': 6, 'target': 22},\n",
       "  {'source': 17, 'target': 2},\n",
       "  {'source': 18, 'target': 22},\n",
       "  {'source': 22, 'target': 2},\n",
       "  {'source': 22, 'target': 18},\n",
       "  {'source': 22, 'target': 18},\n",
       "  {'source': 7, 'target': 30},\n",
       "  {'source': 7, 'target': 30},\n",
       "  {'source': 23, 'target': 8},\n",
       "  {'source': 24, 'target': 9},\n",
       "  {'source': 29, 'target': 32},\n",
       "  {'source': 35, 'target': 8},\n",
       "  {'source': 12, 'target': 37},\n",
       "  {'source': 37, 'target': 12},\n",
       "  {'source': 13, 'target': 39},\n",
       "  {'source': 39, 'target': 9},\n",
       "  {'source': 39, 'target': 13},\n",
       "  {'source': 14, 'target': 40},\n",
       "  {'source': 14, 'target': 40},\n",
       "  {'source': 40, 'target': 14},\n",
       "  {'source': 40, 'target': 14},\n",
       "  {'source': 46, 'target': 14},\n",
       "  {'source': 40, 'target': 42}]}"
      ]
     },
     "execution_count": 12,
     "metadata": {},
     "output_type": "execute_result"
    }
   ],
   "execution_count": 12
  },
  {
   "metadata": {
    "ExecuteTime": {
     "end_time": "2024-12-19T00:20:06.793263Z",
     "start_time": "2024-12-19T00:20:06.788453Z"
    }
   },
   "cell_type": "code",
   "source": "json_data_true",
   "id": "51e17d2727d30e02",
   "outputs": [
    {
     "data": {
      "text/plain": [
       "{'nodes': [{'visibility': 'PUBLIC_LITERAL',\n",
       "   'id': 1,\n",
       "   'eClass': 'PackageImport'},\n",
       "  {'isDerived': False,\n",
       "   'visibility': 'PUBLIC_LITERAL',\n",
       "   'qualifiedName': 'model::Bank Customer_Display Menu',\n",
       "   'name': 'Bank Customer_Display Menu',\n",
       "   'id': 8,\n",
       "   'isLeaf': False,\n",
       "   'isAbstract': False,\n",
       "   'isFinalSpecialization': False,\n",
       "   'eClass': 'Association'},\n",
       "  {'visibility': 'PUBLIC_LITERAL',\n",
       "   'qualifiedName': 'model::Deposit Cheque/Cash',\n",
       "   'name': 'Deposit Cheque/Cash',\n",
       "   'id': 9,\n",
       "   'isLeaf': False,\n",
       "   'isAbstract': False,\n",
       "   'isFinalSpecialization': False,\n",
       "   'eClass': 'UseCase'},\n",
       "  {'visibility': 'PUBLIC_LITERAL',\n",
       "   'qualifiedName': 'model::ATM Bank Server',\n",
       "   'name': 'ATM Bank Server',\n",
       "   'id': 10,\n",
       "   'isLeaf': False,\n",
       "   'isAbstract': False,\n",
       "   'isFinalSpecialization': False,\n",
       "   'eClass': 'Actor'},\n",
       "  {'visibility': 'PUBLIC_LITERAL',\n",
       "   'qualifiedName': 'model::deposits cash/cheque ',\n",
       "   'name': 'deposits cash/cheque ',\n",
       "   'id': 14,\n",
       "   'isLeaf': False,\n",
       "   'isAbstract': False,\n",
       "   'isFinalSpecialization': False,\n",
       "   'eClass': 'UseCase'},\n",
       "  {'visibility': 'PUBLIC_LITERAL',\n",
       "   'qualifiedName': None,\n",
       "   'name': None,\n",
       "   'id': 22,\n",
       "   'value': 1,\n",
       "   'eClass': 'LiteralInteger'},\n",
       "  {'visibility': 'PUBLIC_LITERAL',\n",
       "   'qualifiedName': None,\n",
       "   'name': None,\n",
       "   'id': 32,\n",
       "   'value': 1,\n",
       "   'eClass': 'LiteralInteger'},\n",
       "  {'visibility': 'PUBLIC_LITERAL',\n",
       "   'qualifiedName': None,\n",
       "   'name': None,\n",
       "   'id': 37,\n",
       "   'eClass': 'Include'},\n",
       "  {'visibility': 'PUBLIC_LITERAL',\n",
       "   'qualifiedName': None,\n",
       "   'name': None,\n",
       "   'id': 42,\n",
       "   'value': 0,\n",
       "   'eClass': 'LiteralInteger'}],\n",
       " 'links': [{'source': 0, 'target': 1},\n",
       "  {'source': 0, 'target': 8},\n",
       "  {'source': 0, 'target': 9},\n",
       "  {'source': 0, 'target': 10},\n",
       "  {'source': 0, 'target': 14},\n",
       "  {'source': 1, 'target': 0},\n",
       "  {'source': 18, 'target': 22},\n",
       "  {'source': 8, 'target': 29},\n",
       "  {'source': 8, 'target': 30},\n",
       "  {'source': 8, 'target': 29},\n",
       "  {'source': 8, 'target': 30},\n",
       "  {'source': 8, 'target': 29},\n",
       "  {'source': 8, 'target': 30},\n",
       "  {'source': 29, 'target': 32},\n",
       "  {'source': 29, 'target': 8},\n",
       "  {'source': 29, 'target': 8},\n",
       "  {'source': 30, 'target': 8},\n",
       "  {'source': 30, 'target': 8},\n",
       "  {'source': 9, 'target': 35},\n",
       "  {'source': 35, 'target': 9},\n",
       "  {'source': 36, 'target': 9},\n",
       "  {'source': 12, 'target': 37},\n",
       "  {'source': 37, 'target': 11},\n",
       "  {'source': 37, 'target': 12},\n",
       "  {'source': 38, 'target': 9},\n",
       "  {'source': 14, 'target': 39},\n",
       "  {'source': 39, 'target': 14},\n",
       "  {'source': 40, 'target': 14},\n",
       "  {'source': 40, 'target': 42},\n",
       "  {'source': 46, 'target': 14}]}"
      ]
     },
     "execution_count": 13,
     "metadata": {},
     "output_type": "execute_result"
    }
   ],
   "execution_count": 13
  },
  {
   "metadata": {
    "ExecuteTime": {
     "end_time": "2024-12-19T15:23:23.184415Z",
     "start_time": "2024-12-19T15:23:23.181141Z"
    }
   },
   "cell_type": "code",
   "source": [
    "# evaluation cell:\n",
    "# do average accuracy,\n",
    "\n",
    "# do average accuracy\n",
    "def calculate_ave_accuracies(node_accuracies, link_accuracies):\n",
    "    ave_node_accuracy = sum(node_accuracies)/len(node_accuracies)\n",
    "    ave_link_accuracy = sum(link_accuracies)/len(link_accuracies)\n",
    "    return ave_node_accuracy, ave_link_accuracy\n",
    "\n",
    "\n",
    "\n"
   ],
   "id": "1207ceb17b2b6bb7",
   "outputs": [],
   "execution_count": 7
  },
  {
   "metadata": {
    "ExecuteTime": {
     "end_time": "2024-12-19T00:20:08.551411Z",
     "start_time": "2024-12-19T00:20:08.546747Z"
    }
   },
   "cell_type": "code",
   "source": [
    "from util_folder.accuracy_without_embedding.accuracy_less_strict import simple_accuracy_less_strict\n",
    "accuracy_met = simple_accuracy_less_strict(json_data_true,json_data_pred, printing=True)"
   ],
   "id": "44374bb02691222c",
   "outputs": [
    {
     "name": "stdout",
     "output_type": "stream",
     "text": [
      "match between {'visibility': 'public_literal', 'id': 1, 'eClass': 'packageimport'} and {'visibility': 'public_literal', 'id': 1, 'eClass': 'packageimport'}\n",
      "match between {'visibility': 'public_literal', 'qualifiedName': None, 'name': None, 'id': 22, 'value': 1, 'eClass': 'literalinteger'} and {'visibility': 'public_literal', 'qualifiedName': None, 'name': None, 'id': 22, 'value': 1, 'eClass': 'literalinteger'}\n",
      "match between {'visibility': 'public_literal', 'qualifiedName': None, 'name': None, 'id': 32, 'value': 1, 'eClass': 'literalinteger'} and {'visibility': 'public_literal', 'qualifiedName': None, 'name': None, 'id': 32, 'value': 1, 'eClass': 'literalinteger'}\n",
      "match between {'visibility': 'public_literal', 'qualifiedName': None, 'name': None, 'id': 42, 'value': 0, 'eClass': 'literalinteger'} and {'visibility': 'public_literal', 'qualifiedName': None, 'name': None, 'id': 42, 'value': 0, 'eClass': 'literalinteger'}\n"
     ]
    }
   ],
   "execution_count": 14
  },
  {
   "metadata": {
    "ExecuteTime": {
     "end_time": "2024-12-19T00:20:14.908699Z",
     "start_time": "2024-12-19T00:20:14.904855Z"
    }
   },
   "cell_type": "code",
   "source": "accuracy_met",
   "id": "ca08acf402368652",
   "outputs": [
    {
     "data": {
      "text/plain": [
       "{'node accuracy': 0.4444444444444444, 'link accuracy': 0.5555555555555556}"
      ]
     },
     "execution_count": 15,
     "metadata": {},
     "output_type": "execute_result"
    }
   ],
   "execution_count": 15
  },
  {
   "metadata": {
    "ExecuteTime": {
     "end_time": "2024-12-19T00:20:18.726108Z",
     "start_time": "2024-12-19T00:20:18.721692Z"
    }
   },
   "cell_type": "code",
   "source": [
    "from util_folder.accuracy_without_embedding.accuracy_strict import accuracy_strict\n",
    "accuracy_met_strict = accuracy_strict(json_data_true,json_data_pred)\n",
    "accuracy_met_strict"
   ],
   "id": "3e506c1b7ab5df65",
   "outputs": [
    {
     "data": {
      "text/plain": [
       "{'node accuracy': 0.4444444444444444, 'link accuracy': 0.5555555555555556}"
      ]
     },
     "execution_count": 16,
     "metadata": {},
     "output_type": "execute_result"
    }
   ],
   "execution_count": 16
  },
  {
   "metadata": {},
   "cell_type": "markdown",
   "source": "### Evaluating begins",
   "id": "21b3dadb42440f71"
  },
  {
   "metadata": {
    "ExecuteTime": {
     "end_time": "2024-12-19T15:23:30.702067Z",
     "start_time": "2024-12-19T15:23:30.698267Z"
    }
   },
   "cell_type": "code",
   "source": [
    "instruction = \"You are an AI assistant that specializes in UML model completion. Given an incomplete UML model represented in JSON format, output the missing portions of the model in JSON format.\"\n",
    "\n",
    "def tokenize(row):\n",
    "    row_json = [\n",
    "        {\"role\": \"system\", \"content\": instruction},\n",
    "        {\"role\": \"user\", \"content\": f'Here is the incomplete UML model:\\n{input}'}\n",
    "    ] \n",
    "    tokenized_input = tokenizer.apply_chat_template(row_json, tokenize=True, add_generation_prompt=True, padding_side=\"right\", padding=True)\n",
    "    # Compute the length (number of tokens)\n",
    "    tokens_output = tokenizer(row['output'],truncation=False)\n",
    "    row['input_ids'] = tokenized_input\n",
    "    row['labels'] = tokens_output['input_ids']   \n",
    "    return row       "
   ],
   "id": "ebb8c653013b848a",
   "outputs": [],
   "execution_count": 8
  },
  {
   "metadata": {
    "ExecuteTime": {
     "end_time": "2024-12-19T15:23:33.720306Z",
     "start_time": "2024-12-19T15:23:33.621948Z"
    }
   },
   "cell_type": "code",
   "source": [
    "dataset_for_eval = test_dataset.map(tokenize)\n",
    "dataset_for_eval.set_format(type='torch', columns=['input_ids','labels'])"
   ],
   "id": "3023ad0f2cae781e",
   "outputs": [
    {
     "name": "stderr",
     "output_type": "stream",
     "text": [
      "Parameter 'function'=<function tokenize at 0x000001FE12A458A0> of the transform datasets.arrow_dataset.Dataset._map_single couldn't be hashed properly, a random hash was used instead. Make sure your transforms and parameters are serializable with pickle or dill for the dataset fingerprinting and caching to work. If you reuse this transform, the caching mechanism will consider it to be different from the previous calls and recompute everything. This warning is only showed once. Subsequent hashing failures won't be showed.\n"
     ]
    },
    {
     "data": {
      "text/plain": [
       "Map:   0%|          | 0/49 [00:00<?, ? examples/s]"
      ],
      "application/vnd.jupyter.widget-view+json": {
       "version_major": 2,
       "version_minor": 0,
       "model_id": "a66f2271bb9f4a8c9c5855d770019c97"
      }
     },
     "metadata": {},
     "output_type": "display_data"
    }
   ],
   "execution_count": 9
  },
  {
   "metadata": {
    "ExecuteTime": {
     "end_time": "2024-12-19T15:24:08.446545Z",
     "start_time": "2024-12-19T15:24:08.438309Z"
    }
   },
   "cell_type": "code",
   "source": "dataset_for_eval[0]",
   "id": "df2ce6a1529ce460",
   "outputs": [
    {
     "data": {
      "text/plain": [
       "{'input_ids': tensor([151644,   8948,    198,   2610,    525,    458,  15235,  17847,    429,\n",
       "          45572,    304,    547,   2668,   1614,   9755,     13,  16246,    458,\n",
       "          32143,    547,   2668,   1614,  15251,    304,   4718,   3561,     11,\n",
       "           2550,    279,   7402,  19325,    315,    279,   1614,    304,   4718,\n",
       "           3561,     13, 151645,    198, 151644,    872,    198,   8420,    374,\n",
       "            279,  32143,    547,   2668,   1614,    510,     27,  10891,   1714,\n",
       "          36603,  18152,   5898,    315,    366,  22947,  23248,  23171,  23248,\n",
       "           2447,  30280,  26343,   1633,    518,    220,     15,     87,     15,\n",
       "             15,     15,     15,     15,     16,     37,   1150,   6754,     19,\n",
       "             36,     23,     24,     15,   2452, 151645,    198, 151644,  77091,\n",
       "            198]),\n",
       " 'labels': tensor([ 4913, 20008, 66582, 28176,  3252, 59259, 78047,  2198,   307,   788,\n",
       "            16,  1335,    68,  1957,  3252, 13100, 11511, 36509, 28176,  3252,\n",
       "         59259, 78047,  2198, 36335,   675,  3252,  3273, 18878,    16,    15,\n",
       "          2198,   606,  3252,  3273, 18878,    16,    15,  2198,   307,   788,\n",
       "            16,    15,  1335,   285, 31461,   788,  3849,  1335,    68,  1957,\n",
       "          3252,  3273, 18878, 36509, 28176,  3252, 59259, 78047,  2198, 36335,\n",
       "           675,  3252,  3273, 18878,    16,    23,  2198,   606,  3252,  3273,\n",
       "         18878,    16,    23,  2198,   307,   788,    16,    22,  1335,   285,\n",
       "         31461,   788,  3849,  1335,    68,  1957,  3252,  3273, 18878, 36509,\n",
       "         28176,  3252, 59259, 78047,  2198, 36335,   675,  3252, 74846,  1955,\n",
       "          2198,   606,  3252, 74846,  1955,  2198,   307,   788,    17,    20,\n",
       "          1335,   285, 31461,   788,  3849,  1335,    68,  1957,  3252, 74846,\n",
       "          1955, 36509, 28176,  3252, 59259, 78047,  2198, 36335,   675,  3252,\n",
       "          4052, 19357,  1955,  2198,   606,  3252,  4052, 19357,  1955,  2198,\n",
       "           307,   788,    17,    21,  1335,   285, 31461,   788,  3849,  1335,\n",
       "            68,  1957,  3252,  4052, 19357,  1955, 36509, 28176,  3252, 59259,\n",
       "         78047,  2198, 36335,   675,  3252, 74846,  1955,    17,  2198,   606,\n",
       "          3252, 74846,  1955,    17,  2198,   307,   788,    18,    20,  1335,\n",
       "           285, 31461,   788,  3849,  1335,    68,  1957,  3252, 74846,  1955,\n",
       "         36509, 28176,  3252, 59259, 78047,  2198, 36335,   675,  3252,  4052,\n",
       "         19357,  1955,    19,  2198,   606,  3252,  4052, 19357,  1955,    19,\n",
       "          2198,   307,   788,    18,    24,  1335,   285, 31461,   788,  3849,\n",
       "          1335,    68,  1957,  3252,  4052, 19357,  1955, 36509, 28176,  3252,\n",
       "         59259, 78047,  2198, 36335,   675,  3252,  4052, 19357,  1955,    20,\n",
       "          2198,   606,  3252,  4052, 19357,  1955,    20,  2198,   307,   788,\n",
       "            19,    15,  1335,   285, 31461,   788,  3849,  1335,    68,  1957,\n",
       "          3252,  4052, 19357,  1955, 36509, 28176,  3252, 59259, 78047,  2198,\n",
       "         36335,   675,   788,  2921,  1335,   606,   788,  2921,  1335,   307,\n",
       "           788,    19,    20,  1335,   957,  3252,  1866,  2198,    68,  1957,\n",
       "          3252, 17350,   703, 36509, 28176,  3252, 59259, 78047,  2198, 36335,\n",
       "           675,   788,  2921,  1335,   606,   788,  2921,  1335,   307,   788,\n",
       "            20,    15,  1335,   957,  3252,  1866,  2198,    68,  1957,  3252,\n",
       "         17350,   703, 36509, 28176,  3252, 59259, 78047,  2198, 36335,   675,\n",
       "           788,  2921,  1335,   606,   788,  2921,  1335,   307,   788,    20,\n",
       "            16,  1335,   957,  3252,  1866,  2198,    68,  1957,  3252, 17350,\n",
       "           703, 36509, 28176,  3252, 59259, 78047,  2198, 36335,   675,   788,\n",
       "          2921,  1335,   606,   788,  2921,  1335,   307,   788,    20,    18,\n",
       "          1335,   957,  3252,  1866,  2198,    68,  1957,  3252, 17350,   703,\n",
       "         36509, 28176,  3252, 59259, 78047,  2198, 36335,   675,   788,  2921,\n",
       "          1335,   606,   788,  2921,  1335,   307,   788,    19,    24,  1335,\n",
       "           957,  3252,  1866,  2198,    68,  1957,  3252, 17350,   703, 36509,\n",
       "         28176,  3252, 59259, 78047,  2198, 36335,   675,   788,  2921,  1335,\n",
       "           606,   788,  2921,  1335,   307,   788,    20,    21,  1335,   957,\n",
       "          3252,  1866,  2198,    68,  1957,  3252, 17350,   703,  9207, 28503,\n",
       "         15880, 66582,  2427,   788,    15,  1335,  5657,   788,    16, 36828,\n",
       "          2427,   788,    16,  1335,  5657,   788,    15, 36828,  2427,   788,\n",
       "            17,  1335,  5657,   788,    16,    15, 36828,  2427,   788,    17,\n",
       "          1335,  5657,   788,    16,    22, 36828,  2427,   788,    17,  1335,\n",
       "          5657,   788,    17,    20, 36828,  2427,   788,    17,  1335,  5657,\n",
       "           788,    17,    21, 36828,  2427,   788,    17,  1335,  5657,   788,\n",
       "            18,    20, 36828,  2427,   788,    17,  1335,  5657,   788,    18,\n",
       "            24, 36828,  2427,   788,    17,  1335,  5657,   788,    19,    15,\n",
       "         36828,  2427,   788,    20,  1335,  5657,   788,    18,    20, 36828,\n",
       "          2427,   788,    21,  1335,  5657,   788,    19,    20, 36828,  2427,\n",
       "           788,    16,    15,  1335,  5657,   788,    17, 36828,  2427,   788,\n",
       "            16,    15,  1335,  5657,   788,    19,    24, 36828,  2427,   788,\n",
       "            16,    15,  1335,  5657,   788,    18,    23, 36828,  2427,   788,\n",
       "            16,    15,  1335,  5657,   788,    18,    15, 36828,  2427,   788,\n",
       "            16,    16,  1335,  5657,   788,    20,    15, 36828,  2427,   788,\n",
       "            16,    17,  1335,  5657,   788,    20,    16, 36828,  2427,   788,\n",
       "            16,    17,  1335,  5657,   788,    17,    20, 36828,  2427,   788,\n",
       "            16,    18,  1335,  5657,   788,    17,    21, 36828,  2427,   788,\n",
       "            16,    18,  1335,  5657,   788,    17,    20, 36828,  2427,   788,\n",
       "            16,    19,  1335,  5657,   788,    20,    18, 36828,  2427,   788,\n",
       "            16,    19,  1335,  5657,   788,    17,    20, 36828,  2427,   788,\n",
       "            16,    20,  1335,  5657,   788,    18,    20, 36828,  2427,   788,\n",
       "            16,    21,  1335,  5657,   788,    18,    24, 36828,  2427,   788,\n",
       "            16,    21,  1335,  5657,   788,    18,    20, 36828,  2427,   788,\n",
       "            16,    22,  1335,  5657,   788,    17, 36828,  2427,   788,    16,\n",
       "            22,  1335,  5657,   788,    20,    21, 36828,  2427,   788,    16,\n",
       "            22,  1335,  5657,   788,    19,    15, 36828,  2427,   788,    16,\n",
       "            22,  1335,  5657,   788,    19,    16, 36828,  2427,   788,    17,\n",
       "            20,  1335,  5657,   788,    16,    17, 36828,  2427,   788,    17,\n",
       "            20,  1335,  5657,   788,    16,    18, 36828,  2427,   788,    17,\n",
       "            20,  1335,  5657,   788,    16,    19, 36828,  2427,   788,    17,\n",
       "            21,  1335,  5657,   788,    16,    18, 36828,  2427,   788,    18,\n",
       "            15,  1335,  5657,   788,    16,    15, 36828,  2427,   788,    18,\n",
       "            20,  1335,  5657,   788,    16,    20, 36828,  2427,   788,    18,\n",
       "            20,  1335,  5657,   788,    20, 36828,  2427,   788,    18,    20,\n",
       "          1335,  5657,   788,    16,    21, 36828,  2427,   788,    18,    23,\n",
       "          1335,  5657,   788,    16,    15, 36828,  2427,   788,    18,    24,\n",
       "          1335,  5657,   788,    16,    21, 36828,  2427,   788,    19,    15,\n",
       "          1335,  5657,   788,    16,    22, 36828,  2427,   788,    19,    16,\n",
       "          1335,  5657,   788,    16,    22,    92, 13989])}"
      ]
     },
     "execution_count": 10,
     "metadata": {},
     "output_type": "execute_result"
    }
   ],
   "execution_count": 10
  },
  {
   "metadata": {
    "ExecuteTime": {
     "end_time": "2024-12-19T15:44:02.851076Z",
     "start_time": "2024-12-19T15:44:02.847195Z"
    }
   },
   "cell_type": "code",
   "source": [
    "from util_folder.utils import fix_and_validate_json\n",
    "\n",
    "\n",
    "def prepare_for_accuracy(index_file,generated_ids, labels):\n",
    "    \n",
    "   decoded_predicted_full_text = tokenizer.decode(generated_ids[0], skip_special_tokens=True)\n",
    "   predicted_response = decoded_predicted_full_text.split(\"assistant\\n\")[1]\n",
    "   \n",
    "   decoded_labels = tokenizer.decode(labels[0], skip_special_tokens=True)\n",
    "   json_data_pred = fix_and_validate_json(predicted_response)\n",
    "   json_data_true = fix_and_validate_json(decoded_labels)\n",
    "   \n",
    "\n",
    "   \n",
    "   return json_data_true, json_data_pred\n",
    "    "
   ],
   "id": "1f0082bfbef232c8",
   "outputs": [],
   "execution_count": 18
  },
  {
   "metadata": {
    "ExecuteTime": {
     "end_time": "2024-12-19T15:44:04.596859Z",
     "start_time": "2024-12-19T15:44:04.593906Z"
    }
   },
   "cell_type": "code",
   "source": [
    "from torch.utils.data import DataLoader\n",
    "import evaluate\n",
    "\n",
    "eval_dataloader = DataLoader(dataset_for_eval, batch_size=1)"
   ],
   "id": "7e4da5b4ab0eb8c5",
   "outputs": [],
   "execution_count": 19
  },
  {
   "metadata": {
    "ExecuteTime": {
     "end_time": "2024-12-19T16:19:22.008850Z",
     "start_time": "2024-12-19T15:44:06.170197Z"
    }
   },
   "cell_type": "code",
   "source": [
    "from util_folder.accuracy_without_embedding.accuracy_less_strict import simple_accuracy_less_strict as accuracy_less_strict\n",
    "from util_folder.accuracy_without_embedding.accuracy_strict import accuracy_strict\n",
    "\n",
    "device = 'cuda'\n",
    "metric = evaluate.load(\"accuracy\")\n",
    "model.eval()\n",
    "node_accuracies_strict = []\n",
    "link_accuracies_strict = []\n",
    "node_accuracies_less_strict = []\n",
    "link_accuracies_less_strict = []\n",
    "index = 0\n",
    "for batch in eval_dataloader:\n",
    "    input_ids = batch['input_ids'].to(device)\n",
    "    labels = batch['labels']\n",
    "    _, label_len = labels.size()\n",
    "    with torch.no_grad():\n",
    "                 # Generate outputs\n",
    "        generated_ids = model.generate(\n",
    "            input_ids=input_ids,\n",
    "            max_new_tokens=label_len + 50,      # Ensure generation does not exceed allocated length\n",
    "            pad_token_id=tokenizer.pad_token_id,\n",
    "            do_sample=False                        # Use deterministic generation; set to True for diversity\n",
    "        ) \n",
    "    \n",
    "    json_data_true, json_data_pred = prepare_for_accuracy(index,generated_ids, labels)\n",
    "    \n",
    "    nodes_link_ls = accuracy_less_strict(json_data_true, json_data_pred, printing=True, truncate = False)\n",
    "    nodes_link_s = accuracy_strict(json_data_true, json_data_pred, printing=True, truncate= False)    \n",
    "    node_acc_ls, link_acc_ls = nodes_link_ls[\"node accuracy\"], nodes_link_ls[\"link accuracy\"]\n",
    "    node_acc_s, link_acc_s = nodes_link_s[\"node accuracy\"], nodes_link_s[\"link accuracy\"]\n",
    "    path = \"D:\\\\LLM\\\\thesisPractical\\\\testing_llms\\\\evaluation_files\\\\evaluation_qwen_20\" +\"\\\\\"+ str(index) + \".txt\"\n",
    "   \n",
    "    with open(path, 'w') as file:\n",
    "      file.write(f\"File number: {index}\\n\")\n",
    "      file.write(f\"True data: {json_data_true}\\n\")\n",
    "      file.write(f\"Predicted data: {json_data_pred}\\n\")\n",
    "      file.write(f\"Node accuracy less strict: {node_acc_ls}\\n\")\n",
    "      file.write(f\"Link accuracy less strict: {link_acc_ls}\\n\")\n",
    "      file.write(f\"Node accuracy strict: {node_acc_s}\\n\")\n",
    "      file.write(f\"Link accuracy strict: {link_acc_s}\\n\")\n",
    "      file.write(\"--------------Done----------------\\n\\n\")\n",
    "    \n",
    "    print(\"index: \", index)\n",
    "    node_accuracies_less_strict.append(node_acc_ls)\n",
    "    link_accuracies_less_strict.append(link_acc_ls)\n",
    "    node_accuracies_strict.append(node_acc_s)\n",
    "    link_accuracies_strict.append(link_acc_s)\n",
    "    index = index + 1\n",
    "\n",
    "ave_node_accuracy_ls, ave_link_accuracy_ls = calculate_ave_accuracies(node_accuracies_less_strict, link_accuracies_less_strict)\n",
    "ave_node_accuracy_s, ave_link_accuracy_s = calculate_ave_accuracies(node_accuracies_strict, link_accuracies_strict)\n",
    "print(f\"Average node accuracy less strict: {ave_node_accuracy_ls}, Average link accuracy less strict: {ave_link_accuracy_ls}\")\n",
    "print(f\"Average node accuracy strict: {ave_node_accuracy_s}, Average link accuracy strict: {ave_link_accuracy_s}\")"
   ],
   "id": "337f36c45e5e95c3",
   "outputs": [
    {
     "name": "stdout",
     "output_type": "stream",
     "text": [
      "match between {'visibility': 'public_literal', 'id': 1, 'eClass': 'packageimport'} and {'visibility': 'public_literal', 'id': 1, 'eClass': 'packageimport'}\n",
      "Node accuracy_less_strict:  0.0625\n",
      "Link accuracy_less_strict:  0.0\n",
      "match between {'visibility': 'public_literal', 'id': 1, 'eClass': 'packageimport'} and {'visibility': 'public_literal', 'id': 1, 'eClass': 'packageimport'}\n",
      "Node accuracy_strict:  0.0625\n",
      "Link accuracy_strict:  0.0\n",
      "index:  0\n",
      "match between {'viewpoint': None, 'visibility': 'public_literal', 'qualifiedName': 'model', 'name': 'model', 'id': 0, 'URI': None, 'eClass': 'model'} and {'viewpoint': None, 'visibility': 'public_literal', 'qualifiedName': 'model', 'name': 'model', 'id': 0, 'URI': None, 'eClass': 'model'}\n",
      "match between {'visibility': 'public_literal', 'qualifiedName': 'model::c2', 'name': 'c2', 'id': 11, 'isActive': False, 'isLeaf': False, 'isAbstract': False, 'isFinalSpecialization': False, 'eClass': 'class'} and {'visibility': 'public_literal', 'qualifiedName': 'model::c2', 'name': 'c2', 'id': 8, 'isActive': False, 'isLeaf': False, 'isAbstract': False, 'isFinalSpecialization': False, 'eClass': 'class'}\n",
      "match between {'isStatic': False, 'isDerived': False, 'visibility': 'public_literal', 'qualifiedName': 'model::a::atta', 'lower': 1, 'upper': 1, 'isUnique': True, 'aggregation': 'none_literal', 'isLeaf': False, 'eClass': 'property', 'default': None, 'isReadOnly': False, 'isComposite': False, 'isID': False, 'isDerivedUnion': False, 'name': 'atta', 'id': 18, 'isOrdered': False} and {'isStatic': False, 'isDerived': False, 'visibility': 'public_literal', 'qualifiedName': 'model::a::atta', 'lower': 1, 'upper': 1, 'isUnique': True, 'aggregation': 'none_literal', 'isLeaf': False, 'eClass': 'property', 'default': None, 'isReadOnly': False, 'isComposite': False, 'isID': False, 'isDerivedUnion': False, 'name': 'atta', 'id': 13, 'isOrdered': False}\n",
      "match between {'isStatic': False, 'isDerived': False, 'visibility': 'public_literal', 'qualifiedName': 'model::b_c::c', 'lower': 0, 'upper': -1, 'isUnique': True, 'aggregation': 'none_literal', 'isLeaf': False, 'eClass': 'property', 'default': None, 'isReadOnly': False, 'isComposite': False, 'isID': False, 'isDerivedUnion': False, 'name': 'c', 'id': 28, 'isOrdered': False} and {'isStatic': False, 'isDerived': False, 'visibility': 'public_literal', 'qualifiedName': 'model::b_c::c', 'lower': 0, 'upper': -1, 'isUnique': True, 'aggregation': 'none_literal', 'isLeaf': False, 'eClass': 'property', 'default': None, 'isReadOnly': False, 'isComposite': False, 'isID': False, 'isDerivedUnion': False, 'name': 'c', 'id': 25, 'isOrdered': False}\n",
      "match between {'isStatic': False, 'isDerived': False, 'visibility': 'public_literal', 'qualifiedName': 'model::b_c::b', 'lower': 0, 'upper': 1, 'isUnique': True, 'aggregation': 'none_literal', 'isLeaf': False, 'eClass': 'property', 'default': None, 'isReadOnly': False, 'isComposite': False, 'isID': False, 'isDerivedUnion': False, 'name': 'b', 'id': 29, 'isOrdered': False} and {'isStatic': False, 'isDerived': False, 'visibility': 'public_literal', 'qualifiedName': 'model::b_c::b', 'lower': 0, 'upper': 1, 'isUnique': True, 'aggregation': 'none_literal', 'isLeaf': False, 'eClass': 'property', 'default': None, 'isReadOnly': False, 'isComposite': False, 'isID': False, 'isDerivedUnion': False, 'name': 'b', 'id': 26, 'isOrdered': False}\n",
      "match between {'visibility': 'public_literal', 'qualifiedName': None, 'name': None, 'id': 30, 'value': 0, 'eClass': 'literalinteger'} and {'visibility': 'public_literal', 'qualifiedName': None, 'name': None, 'id': 27, 'value': 0, 'eClass': 'literalinteger'}\n",
      "match between {'visibility': 'public_literal', 'qualifiedName': None, 'name': None, 'id': 32, 'value': 0, 'eClass': 'literalinteger'} and {'visibility': 'public_literal', 'qualifiedName': None, 'name': None, 'id': 29, 'value': 0, 'eClass': 'literalinteger'}\n",
      "match between {'isSubstitutable': True, 'id': 43, 'eClass': 'generalization'} and {'isSubstitutable': True, 'id': 12, 'eClass': 'generalization'}\n",
      "match between {'visibility': 'public_literal', 'id': 1, 'eClass': 'packageimport'} and {'visibility': 'public_literal', 'id': 1, 'eClass': 'packageimport'}\n",
      "match between {'isDerived': False, 'visibility': 'public_literal', 'qualifiedName': 'model::b_c', 'name': 'b_c', 'id': 6, 'isLeaf': False, 'isAbstract': False, 'isFinalSpecialization': False, 'eClass': 'association'} and {'isDerived': False, 'visibility': 'public_literal', 'qualifiedName': 'model::b_c', 'name': 'b_c', 'id': 10, 'isLeaf': False, 'isAbstract': False, 'isFinalSpecialization': False, 'eClass': 'association'}\n",
      "match between {'visibility': 'public_literal', 'qualifiedName': None, 'name': None, 'id': 31, 'value': -1, 'eClass': 'literalunlimitednatural'} and {'visibility': 'public_literal', 'qualifiedName': None, 'name': None, 'id': 24, 'value': -1, 'eClass': 'literalunlimitednatural'}\n",
      "match between {'visibility': 'public_literal', 'qualifiedName': None, 'name': None, 'id': 38, 'value': -1, 'eClass': 'literalunlimitednatural'} and {'visibility': 'public_literal', 'qualifiedName': None, 'name': None, 'id': 28, 'value': -1, 'eClass': 'literalunlimitednatural'}\n",
      "Node accuracy_less_strict:  0.41379310344827586\n",
      "Link accuracy_less_strict:  0.0\n",
      "match between {'viewpoint': None, 'visibility': 'public_literal', 'qualifiedName': 'model', 'name': 'model', 'id': 0, 'URI': None, 'eClass': 'model'} and {'viewpoint': None, 'visibility': 'public_literal', 'qualifiedName': 'model', 'name': 'model', 'id': 0, 'URI': None, 'eClass': 'model'}\n",
      "match between {'visibility': 'public_literal', 'id': 1, 'eClass': 'packageimport'} and {'visibility': 'public_literal', 'id': 1, 'eClass': 'packageimport'}\n",
      "Node accuracy_strict:  0.06896551724137931\n",
      "Link accuracy_strict:  0.0\n",
      "index:  1\n",
      "match between {'visibility': 'public_literal', 'id': 1, 'eClass': 'packageimport'} and {'visibility': 'public_literal', 'id': 1, 'eClass': 'packageimport'}\n",
      "Node accuracy_less_strict:  0.07142857142857142\n",
      "Link accuracy_less_strict:  0.0\n",
      "match between {'visibility': 'public_literal', 'id': 1, 'eClass': 'packageimport'} and {'visibility': 'public_literal', 'id': 1, 'eClass': 'packageimport'}\n",
      "Node accuracy_strict:  0.07142857142857142\n",
      "Link accuracy_strict:  0.0\n",
      "index:  2\n",
      "Node accuracy_less_strict:  0.0\n",
      "Link accuracy_less_strict:  0.0\n",
      "Node accuracy_strict:  0.0\n",
      "Link accuracy_strict:  0.0\n",
      "index:  3\n",
      "Node accuracy_less_strict:  0.0\n",
      "Link accuracy_less_strict:  0.0\n",
      "Node accuracy_strict:  0.0\n",
      "Link accuracy_strict:  0.0\n",
      "index:  4\n",
      "match between {'visibility': 'public_literal', 'id': 2, 'eClass': 'packageimport'} and {'visibility': 'public_literal', 'id': 1, 'eClass': 'packageimport'}\n",
      "Node accuracy_less_strict:  0.0625\n",
      "Link accuracy_less_strict:  0.0\n",
      "Node accuracy_strict:  0.0\n",
      "Link accuracy_strict:  0.0\n",
      "index:  5\n",
      "Node accuracy_less_strict:  0.0\n",
      "Link accuracy_less_strict:  0.0\n",
      "Node accuracy_strict:  0.0\n",
      "Link accuracy_strict:  0.0\n",
      "index:  6\n",
      "Node accuracy_less_strict:  0.0\n",
      "Link accuracy_less_strict:  0.0\n",
      "Node accuracy_strict:  0.0\n",
      "Link accuracy_strict:  0.0\n",
      "index:  7\n",
      "Node accuracy_less_strict:  0.0\n",
      "Link accuracy_less_strict:  0.0\n",
      "Node accuracy_strict:  0.0\n",
      "Link accuracy_strict:  0.0\n",
      "index:  8\n",
      "Node accuracy_less_strict:  0.0\n",
      "Link accuracy_less_strict:  0.0\n",
      "Node accuracy_strict:  0.0\n",
      "Link accuracy_strict:  0.0\n",
      "index:  9\n",
      "match between {'viewpoint': None, 'visibility': 'public_literal', 'qualifiedName': 'model', 'name': 'model', 'id': 0, 'URI': None, 'eClass': 'model'} and {'viewpoint': None, 'visibility': 'public_literal', 'qualifiedName': 'model', 'name': 'model', 'id': 0, 'URI': None, 'eClass': 'model'}\n",
      "match between {'visibility': 'public_literal', 'id': 1, 'eClass': 'packageimport'} and {'visibility': 'public_literal', 'id': 1, 'eClass': 'packageimport'}\n",
      "Node accuracy_less_strict:  0.125\n",
      "Link accuracy_less_strict:  0.0\n",
      "match between {'viewpoint': None, 'visibility': 'public_literal', 'qualifiedName': 'model', 'name': 'model', 'id': 0, 'URI': None, 'eClass': 'model'} and {'viewpoint': None, 'visibility': 'public_literal', 'qualifiedName': 'model', 'name': 'model', 'id': 0, 'URI': None, 'eClass': 'model'}\n",
      "match between {'visibility': 'public_literal', 'id': 1, 'eClass': 'packageimport'} and {'visibility': 'public_literal', 'id': 1, 'eClass': 'packageimport'}\n",
      "Node accuracy_strict:  0.125\n",
      "Link accuracy_strict:  0.0\n",
      "index:  10\n",
      "match between {'visibility': 'public_literal', 'id': 2, 'eClass': 'packageimport'} and {'visibility': 'public_literal', 'id': 1, 'eClass': 'packageimport'}\n",
      "Node accuracy_less_strict:  0.06666666666666667\n",
      "Link accuracy_less_strict:  0.0\n",
      "Node accuracy_strict:  0.0\n",
      "Link accuracy_strict:  0.0\n",
      "index:  11\n",
      "match between {'visibility': 'public_literal', 'id': 1, 'eClass': 'packageimport'} and {'visibility': 'public_literal', 'id': 1, 'eClass': 'packageimport'}\n",
      "Node accuracy_less_strict:  0.1111111111111111\n",
      "Link accuracy_less_strict:  0.0\n",
      "match between {'visibility': 'public_literal', 'id': 1, 'eClass': 'packageimport'} and {'visibility': 'public_literal', 'id': 1, 'eClass': 'packageimport'}\n",
      "Node accuracy_strict:  0.1111111111111111\n",
      "Link accuracy_strict:  0.0\n",
      "index:  12\n",
      "Node accuracy_less_strict:  0.0\n",
      "Link accuracy_less_strict:  0.0\n",
      "Node accuracy_strict:  0.0\n",
      "Link accuracy_strict:  0.0\n",
      "index:  13\n",
      "match between {'viewpoint': None, 'visibility': 'public_literal', 'qualifiedName': 'model', 'name': 'model', 'id': 0, 'URI': None, 'eClass': 'model'} and {'viewpoint': None, 'visibility': 'public_literal', 'qualifiedName': 'model', 'name': 'model', 'id': 0, 'URI': None, 'eClass': 'model'}\n",
      "match between {'visibility': 'public_literal', 'id': 1, 'eClass': 'packageimport'} and {'visibility': 'public_literal', 'id': 1, 'eClass': 'packageimport'}\n",
      "Node accuracy_less_strict:  0.18181818181818182\n",
      "Link accuracy_less_strict:  0.0\n",
      "match between {'viewpoint': None, 'visibility': 'public_literal', 'qualifiedName': 'model', 'name': 'model', 'id': 0, 'URI': None, 'eClass': 'model'} and {'viewpoint': None, 'visibility': 'public_literal', 'qualifiedName': 'model', 'name': 'model', 'id': 0, 'URI': None, 'eClass': 'model'}\n",
      "match between {'visibility': 'public_literal', 'id': 1, 'eClass': 'packageimport'} and {'visibility': 'public_literal', 'id': 1, 'eClass': 'packageimport'}\n",
      "Node accuracy_strict:  0.18181818181818182\n",
      "Link accuracy_strict:  0.0\n",
      "index:  14\n",
      "Node accuracy_less_strict:  0.0\n",
      "Link accuracy_less_strict:  0.0\n",
      "Node accuracy_strict:  0.0\n",
      "Link accuracy_strict:  0.0\n",
      "index:  15\n",
      "match between {'visibility': 'public_literal', 'id': 2, 'eClass': 'packageimport'} and {'visibility': 'public_literal', 'id': 1, 'eClass': 'packageimport'}\n",
      "Node accuracy_less_strict:  0.0625\n",
      "Link accuracy_less_strict:  0.0\n",
      "Node accuracy_strict:  0.0\n",
      "Link accuracy_strict:  0.0\n",
      "index:  16\n",
      "match between {'visibility': 'public_literal', 'id': 1, 'eClass': 'packageimport'} and {'visibility': 'public_literal', 'id': 1, 'eClass': 'packageimport'}\n",
      "Node accuracy_less_strict:  0.06666666666666667\n",
      "Link accuracy_less_strict:  0.0\n",
      "match between {'visibility': 'public_literal', 'id': 1, 'eClass': 'packageimport'} and {'visibility': 'public_literal', 'id': 1, 'eClass': 'packageimport'}\n",
      "Node accuracy_strict:  0.06666666666666667\n",
      "Link accuracy_strict:  0.0\n",
      "index:  17\n",
      "Node accuracy_less_strict:  0.0\n",
      "Link accuracy_less_strict:  0.0\n",
      "Node accuracy_strict:  0.0\n",
      "Link accuracy_strict:  0.0\n",
      "index:  18\n",
      "match between {'viewpoint': None, 'visibility': 'public_literal', 'qualifiedName': 'model', 'name': 'model', 'id': 0, 'URI': None, 'eClass': 'model'} and {'viewpoint': None, 'visibility': 'public_literal', 'qualifiedName': 'model', 'name': 'model', 'id': 0, 'URI': None, 'eClass': 'model'}\n",
      "match between {'visibility': 'public_literal', 'id': 1, 'eClass': 'packageimport'} and {'visibility': 'public_literal', 'id': 1, 'eClass': 'packageimport'}\n",
      "Node accuracy_less_strict:  0.14285714285714285\n",
      "Link accuracy_less_strict:  0.0\n",
      "match between {'viewpoint': None, 'visibility': 'public_literal', 'qualifiedName': 'model', 'name': 'model', 'id': 0, 'URI': None, 'eClass': 'model'} and {'viewpoint': None, 'visibility': 'public_literal', 'qualifiedName': 'model', 'name': 'model', 'id': 0, 'URI': None, 'eClass': 'model'}\n",
      "match between {'visibility': 'public_literal', 'id': 1, 'eClass': 'packageimport'} and {'visibility': 'public_literal', 'id': 1, 'eClass': 'packageimport'}\n",
      "Node accuracy_strict:  0.14285714285714285\n",
      "Link accuracy_strict:  0.0\n",
      "index:  19\n",
      "Node accuracy_less_strict:  0.0\n",
      "Link accuracy_less_strict:  0.0\n",
      "Node accuracy_strict:  0.0\n",
      "Link accuracy_strict:  0.0\n",
      "index:  20\n",
      "Node accuracy_less_strict:  0.0\n",
      "Link accuracy_less_strict:  0.0\n",
      "Node accuracy_strict:  0.0\n",
      "Link accuracy_strict:  0.0\n",
      "index:  21\n",
      "Node accuracy_less_strict:  0.0\n",
      "Link accuracy_less_strict:  0.0\n",
      "Node accuracy_strict:  0.0\n",
      "Link accuracy_strict:  0.0\n",
      "index:  22\n",
      "Node accuracy_less_strict:  0.0\n",
      "Link accuracy_less_strict:  0.0\n",
      "Node accuracy_strict:  0.0\n",
      "Link accuracy_strict:  0.0\n",
      "index:  23\n",
      "Node accuracy_less_strict:  0.0\n",
      "Link accuracy_less_strict:  0.0\n",
      "Node accuracy_strict:  0.0\n",
      "Link accuracy_strict:  0.0\n",
      "index:  24\n",
      "Node accuracy_less_strict:  0.0\n",
      "Link accuracy_less_strict:  0.0\n",
      "Node accuracy_strict:  0.0\n",
      "Link accuracy_strict:  0.0\n",
      "index:  25\n",
      "Node accuracy_less_strict:  0.0\n",
      "Link accuracy_less_strict:  0.0\n",
      "Node accuracy_strict:  0.0\n",
      "Link accuracy_strict:  0.0\n",
      "index:  26\n",
      "match between {'viewpoint': None, 'visibility': 'public_literal', 'qualifiedName': 'model', 'name': 'model', 'id': 0, 'URI': None, 'eClass': 'model'} and {'viewpoint': None, 'visibility': 'public_literal', 'qualifiedName': 'model', 'name': 'model', 'id': 0, 'URI': None, 'eClass': 'model'}\n",
      "match between {'visibility': 'public_literal', 'id': 1, 'eClass': 'packageimport'} and {'visibility': 'public_literal', 'id': 1, 'eClass': 'packageimport'}\n",
      "Node accuracy_less_strict:  0.15384615384615385\n",
      "Link accuracy_less_strict:  0.0\n",
      "match between {'viewpoint': None, 'visibility': 'public_literal', 'qualifiedName': 'model', 'name': 'model', 'id': 0, 'URI': None, 'eClass': 'model'} and {'viewpoint': None, 'visibility': 'public_literal', 'qualifiedName': 'model', 'name': 'model', 'id': 0, 'URI': None, 'eClass': 'model'}\n",
      "match between {'visibility': 'public_literal', 'id': 1, 'eClass': 'packageimport'} and {'visibility': 'public_literal', 'id': 1, 'eClass': 'packageimport'}\n",
      "Node accuracy_strict:  0.15384615384615385\n",
      "Link accuracy_strict:  0.0\n",
      "index:  27\n",
      "Node accuracy_less_strict:  0.0\n",
      "Link accuracy_less_strict:  0.0\n",
      "Node accuracy_strict:  0.0\n",
      "Link accuracy_strict:  0.0\n",
      "index:  28\n",
      "match between {'isSubstitutable': True, 'id': 27, 'eClass': 'generalization'} and {'isSubstitutable': True, 'id': 12, 'eClass': 'generalization'}\n",
      "Node accuracy_less_strict:  0.045454545454545456\n",
      "Link accuracy_less_strict:  0.0\n",
      "Node accuracy_strict:  0.0\n",
      "Link accuracy_strict:  0.0\n",
      "index:  29\n",
      "match between {'visibility': 'public_literal', 'id': 1, 'eClass': 'packageimport'} and {'visibility': 'public_literal', 'id': 1, 'eClass': 'packageimport'}\n",
      "Node accuracy_less_strict:  0.0625\n",
      "Link accuracy_less_strict:  0.0\n",
      "match between {'visibility': 'public_literal', 'id': 1, 'eClass': 'packageimport'} and {'visibility': 'public_literal', 'id': 1, 'eClass': 'packageimport'}\n",
      "Node accuracy_strict:  0.0625\n",
      "Link accuracy_strict:  0.0\n",
      "index:  30\n",
      "Node accuracy_less_strict:  0.0\n",
      "Link accuracy_less_strict:  0.0\n",
      "Node accuracy_strict:  0.0\n",
      "Link accuracy_strict:  0.0\n",
      "index:  31\n",
      "Node accuracy_less_strict:  0.0\n",
      "Link accuracy_less_strict:  0.0\n",
      "Node accuracy_strict:  0.0\n",
      "Link accuracy_strict:  0.0\n",
      "index:  32\n",
      "match between {'isSubstitutable': True, 'id': 27, 'eClass': 'generalization'} and {'isSubstitutable': True, 'id': 12, 'eClass': 'generalization'}\n",
      "Node accuracy_less_strict:  0.041666666666666664\n",
      "Link accuracy_less_strict:  0.0\n",
      "Node accuracy_strict:  0.0\n",
      "Link accuracy_strict:  0.0\n",
      "index:  33\n",
      "match between {'visibility': 'public_literal', 'id': 1, 'eClass': 'packageimport'} and {'visibility': 'public_literal', 'id': 1, 'eClass': 'packageimport'}\n",
      "Node accuracy_less_strict:  0.047619047619047616\n",
      "Link accuracy_less_strict:  0.0\n",
      "match between {'visibility': 'public_literal', 'id': 1, 'eClass': 'packageimport'} and {'visibility': 'public_literal', 'id': 1, 'eClass': 'packageimport'}\n",
      "Node accuracy_strict:  0.047619047619047616\n",
      "Link accuracy_strict:  0.0\n",
      "index:  34\n",
      "match between {'isSubstitutable': True, 'id': 29, 'eClass': 'generalization'} and {'isSubstitutable': True, 'id': 12, 'eClass': 'generalization'}\n",
      "Node accuracy_less_strict:  0.07142857142857142\n",
      "Link accuracy_less_strict:  0.0\n",
      "Node accuracy_strict:  0.0\n",
      "Link accuracy_strict:  0.0\n",
      "index:  35\n",
      "match between {'viewpoint': None, 'visibility': 'public_literal', 'qualifiedName': 'model', 'name': 'model', 'id': 0, 'URI': None, 'eClass': 'model'} and {'viewpoint': None, 'visibility': 'public_literal', 'qualifiedName': 'model', 'name': 'model', 'id': 0, 'URI': None, 'eClass': 'model'}\n",
      "match between {'visibility': 'public_literal', 'qualifiedName': 'model::y', 'name': 'y', 'id': 2, 'isActive': False, 'isLeaf': False, 'isAbstract': False, 'isFinalSpecialization': False, 'eClass': 'class'} and {'visibility': 'public_literal', 'qualifiedName': 'model::y', 'name': 'y', 'id': 5, 'isActive': False, 'isLeaf': False, 'isAbstract': False, 'isFinalSpecialization': False, 'eClass': 'class'}\n",
      "match between {'visibility': 'public_literal', 'qualifiedName': 'model::r', 'name': 'r', 'id': 3, 'isActive': False, 'isLeaf': False, 'isAbstract': False, 'isFinalSpecialization': False, 'eClass': 'class'} and {'visibility': 'public_literal', 'qualifiedName': 'model::r', 'name': 'r', 'id': 6, 'isActive': False, 'isLeaf': False, 'isAbstract': False, 'isFinalSpecialization': False, 'eClass': 'class'}\n",
      "match between {'visibility': 'public_literal', 'qualifiedName': 'model::c2', 'name': 'c2', 'id': 8, 'isActive': False, 'isLeaf': False, 'isAbstract': False, 'isFinalSpecialization': False, 'eClass': 'class'} and {'visibility': 'public_literal', 'qualifiedName': 'model::c2', 'name': 'c2', 'id': 8, 'isActive': False, 'isLeaf': False, 'isAbstract': False, 'isFinalSpecialization': False, 'eClass': 'class'}\n",
      "match between {'isStatic': False, 'isDerived': False, 'visibility': 'public_literal', 'qualifiedName': 'model::a::atta', 'lower': 1, 'upper': 1, 'isUnique': True, 'aggregation': 'none_literal', 'isLeaf': False, 'eClass': 'property', 'default': None, 'isReadOnly': False, 'isComposite': False, 'isID': False, 'isDerivedUnion': False, 'name': 'atta', 'id': 20, 'isOrdered': False} and {'isStatic': False, 'isDerived': False, 'visibility': 'public_literal', 'qualifiedName': 'model::a::atta', 'lower': 1, 'upper': 1, 'isUnique': True, 'aggregation': 'none_literal', 'isLeaf': False, 'eClass': 'property', 'default': None, 'isReadOnly': False, 'isComposite': False, 'isID': False, 'isDerivedUnion': False, 'name': 'atta', 'id': 13, 'isOrdered': False}\n",
      "match between {'isStatic': False, 'isDerived': False, 'visibility': 'public_literal', 'qualifiedName': 'model::c::attc2', 'lower': 1, 'upper': 1, 'isUnique': True, 'aggregation': 'none_literal', 'isLeaf': False, 'eClass': 'property', 'default': None, 'isReadOnly': False, 'isComposite': False, 'isID': False, 'isDerivedUnion': False, 'name': 'attc2', 'id': 24, 'isOrdered': False} and {'isStatic': False, 'isDerived': False, 'visibility': 'public_literal', 'qualifiedName': 'model::c::attc2', 'lower': 1, 'upper': 1, 'isUnique': True, 'aggregation': 'none_literal', 'isLeaf': False, 'eClass': 'property', 'default': None, 'isReadOnly': False, 'isComposite': False, 'isID': False, 'isDerivedUnion': False, 'name': 'attc2', 'id': 16, 'isOrdered': False}\n",
      "match between {'visibility': 'public_literal', 'id': 1, 'eClass': 'packageimport'} and {'visibility': 'public_literal', 'id': 1, 'eClass': 'packageimport'}\n",
      "Node accuracy_less_strict:  0.28\n",
      "Link accuracy_less_strict:  0.0\n",
      "match between {'viewpoint': None, 'visibility': 'public_literal', 'qualifiedName': 'model', 'name': 'model', 'id': 0, 'URI': None, 'eClass': 'model'} and {'viewpoint': None, 'visibility': 'public_literal', 'qualifiedName': 'model', 'name': 'model', 'id': 0, 'URI': None, 'eClass': 'model'}\n",
      "match between {'visibility': 'public_literal', 'qualifiedName': 'model::c2', 'name': 'c2', 'id': 8, 'isActive': False, 'isLeaf': False, 'isAbstract': False, 'isFinalSpecialization': False, 'eClass': 'class'} and {'visibility': 'public_literal', 'qualifiedName': 'model::c2', 'name': 'c2', 'id': 8, 'isActive': False, 'isLeaf': False, 'isAbstract': False, 'isFinalSpecialization': False, 'eClass': 'class'}\n",
      "match between {'visibility': 'public_literal', 'id': 1, 'eClass': 'packageimport'} and {'visibility': 'public_literal', 'id': 1, 'eClass': 'packageimport'}\n",
      "Node accuracy_strict:  0.12\n",
      "Link accuracy_strict:  0.0\n",
      "index:  36\n",
      "match between {'visibility': 'public_literal', 'id': 1, 'eClass': 'packageimport'} and {'visibility': 'public_literal', 'id': 1, 'eClass': 'packageimport'}\n",
      "Node accuracy_less_strict:  0.07692307692307693\n",
      "Link accuracy_less_strict:  0.0\n",
      "match between {'visibility': 'public_literal', 'id': 1, 'eClass': 'packageimport'} and {'visibility': 'public_literal', 'id': 1, 'eClass': 'packageimport'}\n",
      "Node accuracy_strict:  0.07692307692307693\n",
      "Link accuracy_strict:  0.0\n",
      "index:  37\n",
      "match between {'viewpoint': None, 'visibility': 'public_literal', 'qualifiedName': 'model', 'name': 'model', 'id': 0, 'URI': None, 'eClass': 'model'} and {'viewpoint': None, 'visibility': 'public_literal', 'qualifiedName': 'model', 'name': 'model', 'id': 0, 'URI': None, 'eClass': 'model'}\n",
      "match between {'visibility': 'public_literal', 'id': 2, 'eClass': 'packageimport'} and {'visibility': 'public_literal', 'id': 1, 'eClass': 'packageimport'}\n",
      "Node accuracy_less_strict:  0.08\n",
      "Link accuracy_less_strict:  0.0\n",
      "match between {'viewpoint': None, 'visibility': 'public_literal', 'qualifiedName': 'model', 'name': 'model', 'id': 0, 'URI': None, 'eClass': 'model'} and {'viewpoint': None, 'visibility': 'public_literal', 'qualifiedName': 'model', 'name': 'model', 'id': 0, 'URI': None, 'eClass': 'model'}\n",
      "match between {'visibility': 'public_literal', 'id': 1, 'eClass': 'packageimport'} and {'visibility': 'public_literal', 'id': 1, 'eClass': 'packageimport'}\n",
      "Node accuracy_strict:  0.08\n",
      "Link accuracy_strict:  0.0\n",
      "index:  38\n",
      "Node accuracy_less_strict:  0.0\n",
      "Link accuracy_less_strict:  0.0\n",
      "Node accuracy_strict:  0.0\n",
      "Link accuracy_strict:  0.0\n",
      "index:  39\n",
      "Node accuracy_less_strict:  0.0\n",
      "Link accuracy_less_strict:  0.0\n",
      "Node accuracy_strict:  0.0\n",
      "Link accuracy_strict:  0.0\n",
      "index:  40\n",
      "Node accuracy_less_strict:  0.0\n",
      "Link accuracy_less_strict:  0.0\n",
      "Node accuracy_strict:  0.0\n",
      "Link accuracy_strict:  0.0\n",
      "index:  41\n",
      "match between {'viewpoint': None, 'visibility': 'public_literal', 'qualifiedName': 'model', 'name': 'model', 'id': 0, 'URI': None, 'eClass': 'model'} and {'viewpoint': None, 'visibility': 'public_literal', 'qualifiedName': 'model', 'name': 'model', 'id': 0, 'URI': None, 'eClass': 'model'}\n",
      "match between {'isSubstitutable': True, 'id': 15, 'eClass': 'generalization'} and {'isSubstitutable': True, 'id': 12, 'eClass': 'generalization'}\n",
      "match between {'isSubstitutable': True, 'id': 16, 'eClass': 'generalization'} and {'isSubstitutable': True, 'id': 17, 'eClass': 'generalization'}\n",
      "match between {'visibility': 'public_literal', 'id': 1, 'eClass': 'packageimport'} and {'visibility': 'public_literal', 'id': 1, 'eClass': 'packageimport'}\n",
      "Node accuracy_less_strict:  0.18181818181818182\n",
      "Link accuracy_less_strict:  0.0\n",
      "match between {'viewpoint': None, 'visibility': 'public_literal', 'qualifiedName': 'model', 'name': 'model', 'id': 0, 'URI': None, 'eClass': 'model'} and {'viewpoint': None, 'visibility': 'public_literal', 'qualifiedName': 'model', 'name': 'model', 'id': 0, 'URI': None, 'eClass': 'model'}\n",
      "match between {'visibility': 'public_literal', 'id': 1, 'eClass': 'packageimport'} and {'visibility': 'public_literal', 'id': 1, 'eClass': 'packageimport'}\n",
      "Node accuracy_strict:  0.09090909090909091\n",
      "Link accuracy_strict:  0.0\n",
      "index:  42\n",
      "match between {'viewpoint': None, 'visibility': 'public_literal', 'qualifiedName': 'model', 'name': 'model', 'id': 0, 'URI': None, 'eClass': 'model'} and {'viewpoint': None, 'visibility': 'public_literal', 'qualifiedName': 'model', 'name': 'model', 'id': 0, 'URI': None, 'eClass': 'model'}\n",
      "match between {'isStatic': False, 'isDerived': False, 'visibility': 'public_literal', 'qualifiedName': 'model::a::atta', 'lower': 1, 'upper': 1, 'isUnique': True, 'aggregation': 'none_literal', 'isLeaf': False, 'eClass': 'property', 'default': None, 'isReadOnly': False, 'isComposite': False, 'isID': False, 'isDerivedUnion': False, 'name': 'atta', 'id': 14, 'isOrdered': False} and {'isStatic': False, 'isDerived': False, 'visibility': 'public_literal', 'qualifiedName': 'model::a::atta', 'lower': 1, 'upper': 1, 'isUnique': True, 'aggregation': 'none_literal', 'isLeaf': False, 'eClass': 'property', 'default': None, 'isReadOnly': False, 'isComposite': False, 'isID': False, 'isDerivedUnion': False, 'name': 'atta', 'id': 13, 'isOrdered': False}\n",
      "match between {'isSubstitutable': True, 'id': 36, 'eClass': 'generalization'} and {'isSubstitutable': True, 'id': 12, 'eClass': 'generalization'}\n",
      "match between {'visibility': 'public_literal', 'id': 1, 'eClass': 'packageimport'} and {'visibility': 'public_literal', 'id': 1, 'eClass': 'packageimport'}\n",
      "Node accuracy_less_strict:  0.2222222222222222\n",
      "Link accuracy_less_strict:  0.0\n",
      "match between {'viewpoint': None, 'visibility': 'public_literal', 'qualifiedName': 'model', 'name': 'model', 'id': 0, 'URI': None, 'eClass': 'model'} and {'viewpoint': None, 'visibility': 'public_literal', 'qualifiedName': 'model', 'name': 'model', 'id': 0, 'URI': None, 'eClass': 'model'}\n",
      "match between {'visibility': 'public_literal', 'id': 1, 'eClass': 'packageimport'} and {'visibility': 'public_literal', 'id': 1, 'eClass': 'packageimport'}\n",
      "Node accuracy_strict:  0.1111111111111111\n",
      "Link accuracy_strict:  0.0\n",
      "index:  43\n",
      "Node accuracy_less_strict:  0.0\n",
      "Link accuracy_less_strict:  0.0\n",
      "Node accuracy_strict:  0.0\n",
      "Link accuracy_strict:  0.0\n",
      "index:  44\n",
      "match between {'visibility': 'public_literal', 'id': 1, 'eClass': 'packageimport'} and {'visibility': 'public_literal', 'id': 1, 'eClass': 'packageimport'}\n",
      "Node accuracy_less_strict:  0.1\n",
      "Link accuracy_less_strict:  0.0\n",
      "match between {'visibility': 'public_literal', 'id': 1, 'eClass': 'packageimport'} and {'visibility': 'public_literal', 'id': 1, 'eClass': 'packageimport'}\n",
      "Node accuracy_strict:  0.1\n",
      "Link accuracy_strict:  0.0\n",
      "index:  45\n",
      "match between {'viewpoint': None, 'visibility': 'public_literal', 'qualifiedName': 'model', 'name': 'model', 'id': 0, 'URI': None, 'eClass': 'model'} and {'viewpoint': None, 'visibility': 'public_literal', 'qualifiedName': 'model', 'name': 'model', 'id': 0, 'URI': None, 'eClass': 'model'}\n",
      "match between {'visibility': 'public_literal', 'id': 1, 'eClass': 'packageimport'} and {'visibility': 'public_literal', 'id': 1, 'eClass': 'packageimport'}\n",
      "Node accuracy_less_strict:  0.1111111111111111\n",
      "Link accuracy_less_strict:  0.0\n",
      "match between {'viewpoint': None, 'visibility': 'public_literal', 'qualifiedName': 'model', 'name': 'model', 'id': 0, 'URI': None, 'eClass': 'model'} and {'viewpoint': None, 'visibility': 'public_literal', 'qualifiedName': 'model', 'name': 'model', 'id': 0, 'URI': None, 'eClass': 'model'}\n",
      "match between {'visibility': 'public_literal', 'id': 1, 'eClass': 'packageimport'} and {'visibility': 'public_literal', 'id': 1, 'eClass': 'packageimport'}\n",
      "Node accuracy_strict:  0.1111111111111111\n",
      "Link accuracy_strict:  0.0\n",
      "index:  46\n",
      "match between {'visibility': 'public_literal', 'qualifiedName': 'model::a', 'name': 'a', 'id': 5, 'isActive': False, 'isLeaf': False, 'isAbstract': False, 'isFinalSpecialization': False, 'eClass': 'class'} and {'visibility': 'public_literal', 'qualifiedName': 'model::a', 'name': 'a', 'id': 2, 'isActive': False, 'isLeaf': False, 'isAbstract': False, 'isFinalSpecialization': False, 'eClass': 'class'}\n",
      "match between {'visibility': 'public_literal', 'qualifiedName': 'model::c2', 'name': 'c2', 'id': 9, 'isActive': False, 'isLeaf': False, 'isAbstract': False, 'isFinalSpecialization': False, 'eClass': 'class'} and {'visibility': 'public_literal', 'qualifiedName': 'model::c2', 'name': 'c2', 'id': 8, 'isActive': False, 'isLeaf': False, 'isAbstract': False, 'isFinalSpecialization': False, 'eClass': 'class'}\n",
      "match between {'isDerived': False, 'visibility': 'public_literal', 'qualifiedName': 'model::a_b', 'name': 'a_b', 'id': 11, 'isLeaf': False, 'isAbstract': False, 'isFinalSpecialization': False, 'eClass': 'association'} and {'isDerived': False, 'visibility': 'public_literal', 'qualifiedName': 'model::a_b', 'name': 'a_b', 'id': 9, 'isLeaf': False, 'isAbstract': False, 'isFinalSpecialization': False, 'eClass': 'association'}\n",
      "match between {'isSubstitutable': True, 'id': 14, 'eClass': 'generalization'} and {'isSubstitutable': True, 'id': 12, 'eClass': 'generalization'}\n",
      "match between {'isStatic': False, 'isDerived': False, 'visibility': 'public_literal', 'qualifiedName': 'model::a::atta', 'lower': 1, 'upper': 1, 'isUnique': True, 'aggregation': 'none_literal', 'isLeaf': False, 'eClass': 'property', 'default': None, 'isReadOnly': False, 'isComposite': False, 'isID': False, 'isDerivedUnion': False, 'name': 'atta', 'id': 16, 'isOrdered': False} and {'isStatic': False, 'isDerived': False, 'visibility': 'public_literal', 'qualifiedName': 'model::a::atta', 'lower': 1, 'upper': 1, 'isUnique': True, 'aggregation': 'none_literal', 'isLeaf': False, 'eClass': 'property', 'default': None, 'isReadOnly': False, 'isComposite': False, 'isID': False, 'isDerivedUnion': False, 'name': 'atta', 'id': 13, 'isOrdered': False}\n",
      "Node accuracy_less_strict:  0.23809523809523808\n",
      "Link accuracy_less_strict:  0.0\n",
      "Node accuracy_strict:  0.0\n",
      "Link accuracy_strict:  0.0\n",
      "index:  47\n",
      "Node accuracy_less_strict:  0.0\n",
      "Link accuracy_less_strict:  0.0\n",
      "Node accuracy_strict:  0.0\n",
      "Link accuracy_strict:  0.0\n",
      "index:  48\n",
      "Average node accuracy less strict: 0.06284747467717208, Average link accuracy less strict: 0.0\n",
      "Average node accuracy strict: 0.03641564862536009, Average link accuracy strict: 0.0\n"
     ]
    }
   ],
   "execution_count": 20
  },
  {
   "metadata": {},
   "cell_type": "code",
   "outputs": [],
   "execution_count": null,
   "source": "",
   "id": "a3b61d6bb3d006d0"
  }
 ],
 "metadata": {
  "kernelspec": {
   "display_name": "Python 3",
   "language": "python",
   "name": "python3"
  },
  "language_info": {
   "codemirror_mode": {
    "name": "ipython",
    "version": 2
   },
   "file_extension": ".py",
   "mimetype": "text/x-python",
   "name": "python",
   "nbconvert_exporter": "python",
   "pygments_lexer": "ipython2",
   "version": "2.7.6"
  }
 },
 "nbformat": 4,
 "nbformat_minor": 5
}
