{
 "cells": [
  {
   "cell_type": "code",
   "id": "initial_id",
   "metadata": {
    "collapsed": true,
    "ExecuteTime": {
     "end_time": "2024-11-26T12:37:24.054738Z",
     "start_time": "2024-11-26T12:37:22.383937Z"
    }
   },
   "source": [
    "import torch\n",
    "from prompt_toolkit.contrib.regular_languages.regex_parser import tokenize_regex\n",
    "from transformers import AutoTokenizer, AutoModelForCausalLM, BitsAndBytesConfig"
   ],
   "outputs": [],
   "execution_count": 6
  },
  {
   "metadata": {},
   "cell_type": "markdown",
   "source": " ### Running the model on a GPU",
   "id": "b1e2d643017d2be7"
  },
  {
   "metadata": {
    "ExecuteTime": {
     "end_time": "2024-11-26T10:56:46.213679Z",
     "start_time": "2024-11-26T10:56:46.210236Z"
    }
   },
   "cell_type": "code",
   "source": "checkpoint = \"TechxGenus/starcoder2-3b-instruct\"  ",
   "id": "8998b14db01c4f24",
   "outputs": [],
   "execution_count": 2
  },
  {
   "metadata": {
    "ExecuteTime": {
     "end_time": "2024-11-26T11:05:44.030932Z",
     "start_time": "2024-11-26T10:56:46.216684Z"
    }
   },
   "cell_type": "code",
   "source": [
    "quantization_config = BitsAndBytesConfig(\n",
    "    load_in_4bit=True,\n",
    "    bnb_4bit_quant_type=\"nf4\",\n",
    "    bnb_4bit_compute_dtype=torch.float16,\n",
    "    bnb_4bit_use_double_quant=True,\n",
    ")\n",
    "model = AutoModelForCausalLM.from_pretrained(\n",
    "    checkpoint,\n",
    "    quantization_config=quantization_config,\n",
    "    device_map =\"auto\",\n",
    "    attn_implementation=\"eager\"\n",
    ")\n",
    "tokenizer = AutoTokenizer.from_pretrained(checkpoint)"
   ],
   "id": "9032fe5f50d1192c",
   "outputs": [
    {
     "data": {
      "text/plain": [
       "config.json:   0%|          | 0.00/779 [00:00<?, ?B/s]"
      ],
      "application/vnd.jupyter.widget-view+json": {
       "version_major": 2,
       "version_minor": 0,
       "model_id": "81675f099fa248ca93d40265dea66def"
      }
     },
     "metadata": {},
     "output_type": "display_data"
    },
    {
     "name": "stderr",
     "output_type": "stream",
     "text": [
      "C:\\Users\\Admin\\anaconda3\\envs\\LLM\\Lib\\site-packages\\huggingface_hub\\file_download.py:157: UserWarning: `huggingface_hub` cache-system uses symlinks by default to efficiently store duplicated files but your machine does not support them in C:\\Users\\Admin\\.cache\\huggingface\\hub\\models--TechxGenus--starcoder2-3b-instruct. Caching files will still work but in a degraded version that might require more space on your disk. This warning can be disabled by setting the `HF_HUB_DISABLE_SYMLINKS_WARNING` environment variable. For more details, see https://huggingface.co/docs/huggingface_hub/how-to-cache#limitations.\n",
      "To support symlinks on Windows, you either need to activate Developer Mode or to run Python as an administrator. In order to see activate developer mode, see this article: https://docs.microsoft.com/en-us/windows/apps/get-started/enable-your-device-for-development\n",
      "  warnings.warn(message)\n"
     ]
    },
    {
     "data": {
      "text/plain": [
       "model.safetensors.index.json:   0%|          | 0.00/39.0k [00:00<?, ?B/s]"
      ],
      "application/vnd.jupyter.widget-view+json": {
       "version_major": 2,
       "version_minor": 0,
       "model_id": "f07aa72c82814b32a194f7a1e236fa76"
      }
     },
     "metadata": {},
     "output_type": "display_data"
    },
    {
     "data": {
      "text/plain": [
       "Downloading shards:   0%|          | 0/2 [00:00<?, ?it/s]"
      ],
      "application/vnd.jupyter.widget-view+json": {
       "version_major": 2,
       "version_minor": 0,
       "model_id": "35672e20f9ad49bc9ff2985712e75c25"
      }
     },
     "metadata": {},
     "output_type": "display_data"
    },
    {
     "data": {
      "text/plain": [
       "model-00001-of-00002.safetensors:   0%|          | 0.00/4.95G [00:00<?, ?B/s]"
      ],
      "application/vnd.jupyter.widget-view+json": {
       "version_major": 2,
       "version_minor": 0,
       "model_id": "59687b921f3642cf884bcaf0a2378fab"
      }
     },
     "metadata": {},
     "output_type": "display_data"
    },
    {
     "data": {
      "text/plain": [
       "model-00002-of-00002.safetensors:   0%|          | 0.00/1.11G [00:00<?, ?B/s]"
      ],
      "application/vnd.jupyter.widget-view+json": {
       "version_major": 2,
       "version_minor": 0,
       "model_id": "e3554bf485694ce2a3cc4c50fae30292"
      }
     },
     "metadata": {},
     "output_type": "display_data"
    },
    {
     "data": {
      "text/plain": [
       "Loading checkpoint shards:   0%|          | 0/2 [00:00<?, ?it/s]"
      ],
      "application/vnd.jupyter.widget-view+json": {
       "version_major": 2,
       "version_minor": 0,
       "model_id": "5d7b6c59b3744a2da9b53152fdb1981c"
      }
     },
     "metadata": {},
     "output_type": "display_data"
    },
    {
     "data": {
      "text/plain": [
       "generation_config.json:   0%|          | 0.00/116 [00:00<?, ?B/s]"
      ],
      "application/vnd.jupyter.widget-view+json": {
       "version_major": 2,
       "version_minor": 0,
       "model_id": "1a4ad69b21a248248a27d6eab7cd863b"
      }
     },
     "metadata": {},
     "output_type": "display_data"
    },
    {
     "data": {
      "text/plain": [
       "tokenizer_config.json:   0%|          | 0.00/7.88k [00:00<?, ?B/s]"
      ],
      "application/vnd.jupyter.widget-view+json": {
       "version_major": 2,
       "version_minor": 0,
       "model_id": "f19d4def33d8442d819f183f4f01cfe5"
      }
     },
     "metadata": {},
     "output_type": "display_data"
    },
    {
     "data": {
      "text/plain": [
       "vocab.json:   0%|          | 0.00/777k [00:00<?, ?B/s]"
      ],
      "application/vnd.jupyter.widget-view+json": {
       "version_major": 2,
       "version_minor": 0,
       "model_id": "92486f8c32df423e8041e4bcd6d076d2"
      }
     },
     "metadata": {},
     "output_type": "display_data"
    },
    {
     "data": {
      "text/plain": [
       "merges.txt:   0%|          | 0.00/442k [00:00<?, ?B/s]"
      ],
      "application/vnd.jupyter.widget-view+json": {
       "version_major": 2,
       "version_minor": 0,
       "model_id": "f603f16f141849e39f87c6a8a836ebf1"
      }
     },
     "metadata": {},
     "output_type": "display_data"
    },
    {
     "data": {
      "text/plain": [
       "tokenizer.json:   0%|          | 0.00/2.06M [00:00<?, ?B/s]"
      ],
      "application/vnd.jupyter.widget-view+json": {
       "version_major": 2,
       "version_minor": 0,
       "model_id": "ce198768f97f411da35d643abc5a20df"
      }
     },
     "metadata": {},
     "output_type": "display_data"
    },
    {
     "data": {
      "text/plain": [
       "special_tokens_map.json:   0%|          | 0.00/1.33k [00:00<?, ?B/s]"
      ],
      "application/vnd.jupyter.widget-view+json": {
       "version_major": 2,
       "version_minor": 0,
       "model_id": "c98fd89cceeb4d02891dcf5835b34882"
      }
     },
     "metadata": {},
     "output_type": "display_data"
    }
   ],
   "execution_count": 3
  },
  {
   "metadata": {},
   "cell_type": "markdown",
   "source": "Applying chat template",
   "id": "7a1cda242ab739f2"
  },
  {
   "metadata": {
    "ExecuteTime": {
     "end_time": "2024-11-26T11:06:51.592521Z",
     "start_time": "2024-11-26T11:06:51.579333Z"
    }
   },
   "cell_type": "code",
   "source": [
    "# test_data = dataset[\"test\"]\n",
    "PROMPT = \"\"\"### Instruction\n",
    "{instruction}\n",
    "### Response\n",
    "\"\"\"\n",
    "\n",
    "instruction = \"write a function that takes a list of integers and returns the sum of all the integers in the list in java\"\n",
    "\n",
    "prompt = PROMPT.format(instruction=instruction)\n",
    "\n",
    "inputs = tokenizer.encode(prompt, return_tensors=\"pt\")\n",
    "print(inputs)"
   ],
   "id": "2de07b950bda9410",
   "outputs": [
    {
     "name": "stdout",
     "output_type": "stream",
     "text": [
      "tensor([[ 1502, 21052,   222,  1838,   331,   686,   708,  8756,   331,  1168,\n",
      "           451, 18789,   480,  3235,   341,  3668,   451,  1187,   341, 18789,\n",
      "           347,   341,  1168,   347,  1401,   222,  1502,  5178,   222]])\n"
     ]
    }
   ],
   "execution_count": 4
  },
  {
   "metadata": {
    "ExecuteTime": {
     "end_time": "2024-11-26T11:07:01.426208Z",
     "start_time": "2024-11-26T11:07:01.422358Z"
    }
   },
   "cell_type": "code",
   "source": [
    "decoded_input = tokenizer.decode(inputs[0])\n",
    "decoded_input"
   ],
   "id": "7eb7d752786ca950",
   "outputs": [
    {
     "data": {
      "text/plain": [
       "'### Instruction\\nwrite a function that takes a list of integers and returns the sum of all the integers in the list in java\\n### Response\\n'"
      ]
     },
     "execution_count": 6,
     "metadata": {},
     "output_type": "execute_result"
    }
   ],
   "execution_count": 6
  },
  {
   "metadata": {
    "ExecuteTime": {
     "end_time": "2024-11-26T11:07:36.407266Z",
     "start_time": "2024-11-26T11:07:26.433470Z"
    }
   },
   "cell_type": "code",
   "source": [
    "outputs = model.generate(input_ids=inputs.to(model.device), max_new_tokens=2048)\n",
    "print(tokenizer.decode(outputs[0]))"
   ],
   "id": "96d2d3804f05b630",
   "outputs": [
    {
     "name": "stderr",
     "output_type": "stream",
     "text": [
      "The attention mask and the pad token id were not set. As a consequence, you may observe unexpected behavior. Please pass your input's `attention_mask` to obtain reliable results.\n",
      "Setting `pad_token_id` to `eos_token_id`:None for open-end generation.\n",
      "The attention mask is not set and cannot be inferred from input because pad token is same as eos token. As a consequence, you may observe unexpected behavior. Please pass your input's `attention_mask` to obtain reliable results.\n"
     ]
    },
    {
     "name": "stdout",
     "output_type": "stream",
     "text": [
      "### Instruction\n",
      "write a function that takes a list of integers and returns the sum of all the integers in the list in java\n",
      "### Response\n",
      "Here is a simple Java function that takes a list of integers and returns the sum of all the integers in the list:\n",
      "\n",
      "```java\n",
      "import java.util.List;\n",
      "\n",
      "public class Main {\n",
      "    public static void main(String[] args) {\n",
      "        List<Integer> list = Arrays.asList(1, 2, 3, 4, 5);\n",
      "        System.out.println(sumList(list));\n",
      "    }\n",
      "\n",
      "    public static int sumList(List<Integer> list) {\n",
      "        int sum = 0;\n",
      "        for (Integer number : list) {\n",
      "            sum += number;\n",
      "        }\n",
      "        return sum;\n",
      "    }\n",
      "}\n",
      "```\n",
      "\n",
      "In this code, we first define a list of integers. Then we call the `sumList` function and print the result. The `sumList` function takes a list of integers as input and returns the sum of all the integers in the list. It does this by initializing a variable `sum` to 0, then iterating over each number in the list, adding it to `sum`, and finally returning `sum`.<|endoftext|>\n"
     ]
    }
   ],
   "execution_count": 7
  },
  {
   "metadata": {},
   "cell_type": "markdown",
   "source": "Without chat prompt",
   "id": "4032c123dd0d7ac7"
  },
  {
   "metadata": {
    "ExecuteTime": {
     "end_time": "2024-11-21T07:12:16.857412Z",
     "start_time": "2024-11-21T07:12:16.851193Z"
    }
   },
   "cell_type": "code",
   "source": [
    "input = \"Instruction : write a function that takes a list of integers and returns the sum of all the integers in the list in java. \\n Response:\"\n",
    "input_ids = tokenizer(input, return_tensors=\"pt\").to(\"cuda\")\n",
    "input_ids"
   ],
   "id": "7eb678022dce9e98",
   "outputs": [
    {
     "data": {
      "text/plain": [
       "{'input_ids': tensor([[     2,  37854,    865,   5598,    476,   1411,    674,   5548,    476,\n",
       "           1889,    576,  45047,    578,   8753,    573,   2707,    576,    832,\n",
       "            573,  45047,    575,    573,   1889,    575,   1821, 235265, 235248,\n",
       "            108,  10567, 235292]], device='cuda:0'), 'attention_mask': tensor([[1, 1, 1, 1, 1, 1, 1, 1, 1, 1, 1, 1, 1, 1, 1, 1, 1, 1, 1, 1, 1, 1, 1, 1,\n",
       "         1, 1, 1, 1, 1, 1]], device='cuda:0')}"
      ]
     },
     "execution_count": 45,
     "metadata": {},
     "output_type": "execute_result"
    }
   ],
   "execution_count": 45
  },
  {
   "metadata": {
    "ExecuteTime": {
     "end_time": "2024-11-21T07:12:30.685944Z",
     "start_time": "2024-11-21T07:12:18.024726Z"
    }
   },
   "cell_type": "code",
   "source": [
    "outputs = model.generate(input_ids=input_ids['input_ids'], do_sample=True, max_new_tokens=200)\n",
    "print(tokenizer.decode(outputs[0]))"
   ],
   "id": "901a87f658b83632",
   "outputs": [
    {
     "name": "stdout",
     "output_type": "stream",
     "text": [
      "<bos>Instruction : write a function that takes a list of integers and returns the sum of all the integers in the list in java. \n",
      " Response: \n",
      " \n",
      " ```java\n",
      "public class Main {\n",
      "  public static int sumOfList(int[] list) {\n",
      "    int totalSum = 0;\n",
      "    for (int i = 0; i < list.length; i++) {\n",
      "      totalSum += list[i];\n",
      "    }\n",
      "    return totalSum;\n",
      "  }\n",
      "  \n",
      "  public static void main(String[] args) {\n",
      "    int[] numbers = {1, 2, 3, 4, 5};\n",
      "    System.out.println(sumOfList(numbers));\n",
      "  }\n",
      "}\n",
      "```\n",
      "  \n",
      " **The function `sumOfList` does the following:**\n",
      "\n",
      "1.  **Takes an integer array (list) as input using `int[] list`.**\n",
      "2.  **Initializes a variable `totalSum` to 0.** This variable will store the cumulative sum. \n",
      "3.  **Loops through the\n"
     ]
    }
   ],
   "execution_count": 46
  },
  {
   "metadata": {},
   "cell_type": "markdown",
   "source": "### Inference for LLM for software Model Completion",
   "id": "7626e761723ec7d0"
  },
  {
   "metadata": {
    "ExecuteTime": {
     "end_time": "2024-11-26T12:36:37.742203Z",
     "start_time": "2024-11-26T12:36:36.663456Z"
    }
   },
   "cell_type": "code",
   "source": "from datasets import load_dataset",
   "id": "7526b2b2afb80921",
   "outputs": [],
   "execution_count": 1
  },
  {
   "metadata": {},
   "cell_type": "markdown",
   "source": "##### Here is the model we use : ",
   "id": "5cfed663815b805c"
  },
  {
   "metadata": {
    "ExecuteTime": {
     "end_time": "2024-11-26T12:36:38.536Z",
     "start_time": "2024-11-26T12:36:38.533380Z"
    }
   },
   "cell_type": "code",
   "source": "checkpoint = \"D:\\\\LLM\\\\thesisPractical\\\\fine_tuned_models\\\\starcoder2-3b-instruct_complete\"",
   "id": "245023f3d3a6ba49",
   "outputs": [],
   "execution_count": 2
  },
  {
   "metadata": {},
   "cell_type": "markdown",
   "source": "##### The following functions formats the input data to be used in the model",
   "id": "374b1fdf85b95057"
  },
  {
   "metadata": {
    "ExecuteTime": {
     "end_time": "2024-11-26T12:37:14.146919Z",
     "start_time": "2024-11-26T12:37:14.143316Z"
    }
   },
   "cell_type": "code",
   "source": [
    "PROMPT = \"\"\"### Instruction\n",
    "{input}\n",
    "### Response\n",
    "\"\"\"\n",
    "\n",
    "instruction = \"write a function that takes a list of integers and returns the sum of all the integers in the list in java\"\n",
    "\n",
    "def format_chat_template_to_print(input):\n",
    "    return tokenizer(\n",
    "        PROMPT.format(input=input),\n",
    "        return_tensors=\"pt\"\n",
    "    )"
   ],
   "id": "65ab0a99a40fa829",
   "outputs": [],
   "execution_count": 4
  },
  {
   "metadata": {},
   "cell_type": "markdown",
   "source": "##### Load the model and tokenizer",
   "id": "d313ce60d8bf5f7"
  },
  {
   "metadata": {
    "ExecuteTime": {
     "end_time": "2024-11-26T12:37:33.628108Z",
     "start_time": "2024-11-26T12:37:28.793639Z"
    }
   },
   "cell_type": "code",
   "source": [
    "quantization_config = BitsAndBytesConfig(\n",
    "    load_in_4bit=True,\n",
    "    bnb_4bit_quant_type=\"nf4\",\n",
    "    bnb_4bit_compute_dtype=torch.float16,\n",
    "    bnb_4bit_use_double_quant=True,\n",
    ")\n",
    "model = AutoModelForCausalLM.from_pretrained(\n",
    "    checkpoint,\n",
    "    quantization_config=quantization_config,\n",
    "    device_map =\"auto\",\n",
    "    attn_implementation=\"eager\"\n",
    ")\n",
    "tokenizer = AutoTokenizer.from_pretrained(checkpoint)"
   ],
   "id": "188046dd5b916e7d",
   "outputs": [
    {
     "data": {
      "text/plain": [
       "Loading checkpoint shards:   0%|          | 0/2 [00:00<?, ?it/s]"
      ],
      "application/vnd.jupyter.widget-view+json": {
       "version_major": 2,
       "version_minor": 0,
       "model_id": "5f84d2436aab4e43b5f7c38652950cd6"
      }
     },
     "metadata": {},
     "output_type": "display_data"
    }
   ],
   "execution_count": 7
  },
  {
   "metadata": {},
   "cell_type": "markdown",
   "source": "##### Load the dataset to test the model",
   "id": "431086da7ff9bd0c"
  },
  {
   "metadata": {
    "ExecuteTime": {
     "end_time": "2024-11-26T12:37:35.903266Z",
     "start_time": "2024-11-26T12:37:35.144031Z"
    }
   },
   "cell_type": "code",
   "source": [
    "org_path = \"D:\\\\LLM\\\\thesisPractical\\\\datasets_for_fine_tuning\\\\structural_removal_non_contiguous\\\\processed_4000\"\n",
    "\n",
    "test_dataset_url = org_path + \"\\\\test.jsonl\"\n",
    "\n",
    "data_files = {\n",
    "    'test' : test_dataset_url\n",
    "}\n",
    "\n",
    "dataset = load_dataset('json', data_files=data_files)\n",
    "test_dataset = dataset['test']"
   ],
   "id": "6f4c0e00849a3371",
   "outputs": [],
   "execution_count": 8
  },
  {
   "metadata": {},
   "cell_type": "markdown",
   "source": "Apply the chat template to the input data",
   "id": "d6520f90634b16de"
  },
  {
   "metadata": {
    "ExecuteTime": {
     "end_time": "2024-11-26T12:37:44.867435Z",
     "start_time": "2024-11-26T12:37:44.822234Z"
    }
   },
   "cell_type": "code",
   "source": [
    "data = test_dataset[0]['input']\n",
    "text_to_print = format_chat_template_to_print(data)\n",
    "print(text_to_print)\n"
   ],
   "id": "29a90bf61f1edcba",
   "outputs": [
    {
     "name": "stderr",
     "output_type": "stream",
     "text": [
      "Token indices sequence length is longer than the specified maximum sequence length for this model (2817 > 2048). Running this sequence through the model will result in indexing errors\n"
     ]
    },
    {
     "name": "stdout",
     "output_type": "stream",
     "text": [
      "{'input_ids': tensor([[ 1502, 21052,   222,  ...,  1502,  5178,   222]]), 'attention_mask': tensor([[1, 1, 1,  ..., 1, 1, 1]])}\n"
     ]
    }
   ],
   "execution_count": 9
  },
  {
   "metadata": {
    "ExecuteTime": {
     "end_time": "2024-11-26T12:38:02.396079Z",
     "start_time": "2024-11-26T12:38:02.393106Z"
    }
   },
   "cell_type": "code",
   "source": [
    "output = test_dataset[0]['output']\n",
    "print(output)"
   ],
   "id": "bfb5f0ed39bb1ee7",
   "outputs": [
    {
     "name": "stdout",
     "output_type": "stream",
     "text": [
      "{\"nodes\":[{\"visibility\":\"PUBLIC_LITERAL\",\"id\":1,\"eClass\":\"PackageImport\"},{\"visibility\":\"PUBLIC_LITERAL\",\"qualifiedName\":\"ControlFlow10\",\"name\":\"ControlFlow10\",\"id\":10,\"isLeaf\":false,\"eClass\":\"ControlFlow\"},{\"visibility\":\"PUBLIC_LITERAL\",\"qualifiedName\":\"ControlFlow18\",\"name\":\"ControlFlow18\",\"id\":17,\"isLeaf\":false,\"eClass\":\"ControlFlow\"},{\"visibility\":\"PUBLIC_LITERAL\",\"qualifiedName\":\"DecisionNode\",\"name\":\"DecisionNode\",\"id\":25,\"isLeaf\":false,\"eClass\":\"DecisionNode\"},{\"visibility\":\"PUBLIC_LITERAL\",\"qualifiedName\":\"ActivityFinalNode\",\"name\":\"ActivityFinalNode\",\"id\":26,\"isLeaf\":false,\"eClass\":\"ActivityFinalNode\"},{\"visibility\":\"PUBLIC_LITERAL\",\"qualifiedName\":\"DecisionNode2\",\"name\":\"DecisionNode2\",\"id\":35,\"isLeaf\":false,\"eClass\":\"DecisionNode\"},{\"visibility\":\"PUBLIC_LITERAL\",\"qualifiedName\":\"ActivityFinalNode4\",\"name\":\"ActivityFinalNode4\",\"id\":39,\"isLeaf\":false,\"eClass\":\"ActivityFinalNode\"},{\"visibility\":\"PUBLIC_LITERAL\",\"qualifiedName\":\"ActivityFinalNode5\",\"name\":\"ActivityFinalNode5\",\"id\":40,\"isLeaf\":false,\"eClass\":\"ActivityFinalNode\"},{\"visibility\":\"PUBLIC_LITERAL\",\"qualifiedName\":null,\"name\":null,\"id\":45,\"value\":\"true\",\"eClass\":\"LiteralString\"},{\"visibility\":\"PUBLIC_LITERAL\",\"qualifiedName\":null,\"name\":null,\"id\":50,\"value\":\"true\",\"eClass\":\"LiteralString\"},{\"visibility\":\"PUBLIC_LITERAL\",\"qualifiedName\":null,\"name\":null,\"id\":51,\"value\":\"true\",\"eClass\":\"LiteralString\"},{\"visibility\":\"PUBLIC_LITERAL\",\"qualifiedName\":null,\"name\":null,\"id\":53,\"value\":\"true\",\"eClass\":\"LiteralString\"},{\"visibility\":\"PUBLIC_LITERAL\",\"qualifiedName\":null,\"name\":null,\"id\":49,\"value\":\"true\",\"eClass\":\"LiteralString\"},{\"visibility\":\"PUBLIC_LITERAL\",\"qualifiedName\":null,\"name\":null,\"id\":56,\"value\":\"true\",\"eClass\":\"LiteralString\"}],\"links\":[{\"source\":0,\"target\":1},{\"source\":1,\"target\":0},{\"source\":2,\"target\":10},{\"source\":2,\"target\":17},{\"source\":2,\"target\":25},{\"source\":2,\"target\":26},{\"source\":2,\"target\":35},{\"source\":2,\"target\":39},{\"source\":2,\"target\":40},{\"source\":5,\"target\":35},{\"source\":6,\"target\":45},{\"source\":10,\"target\":2},{\"source\":10,\"target\":49},{\"source\":10,\"target\":38},{\"source\":10,\"target\":30},{\"source\":11,\"target\":50},{\"source\":12,\"target\":51},{\"source\":12,\"target\":25},{\"source\":13,\"target\":26},{\"source\":13,\"target\":25},{\"source\":14,\"target\":53},{\"source\":14,\"target\":25},{\"source\":15,\"target\":35},{\"source\":16,\"target\":39},{\"source\":16,\"target\":35},{\"source\":17,\"target\":2},{\"source\":17,\"target\":56},{\"source\":17,\"target\":40},{\"source\":17,\"target\":41},{\"source\":25,\"target\":12},{\"source\":25,\"target\":13},{\"source\":25,\"target\":14},{\"source\":26,\"target\":13},{\"source\":30,\"target\":10},{\"source\":35,\"target\":15},{\"source\":35,\"target\":5},{\"source\":35,\"target\":16},{\"source\":38,\"target\":10},{\"source\":39,\"target\":16},{\"source\":40,\"target\":17},{\"source\":41,\"target\":17}]}\n"
     ]
    }
   ],
   "execution_count": 10
  },
  {
   "metadata": {},
   "cell_type": "markdown",
   "source": "Generate the output from the model",
   "id": "e36864a821b7dbb2"
  },
  {
   "metadata": {
    "ExecuteTime": {
     "end_time": "2024-11-26T12:43:17.216729Z",
     "start_time": "2024-11-26T12:41:54.744540Z"
    }
   },
   "cell_type": "code",
   "source": [
    "outputs = model.generate(input_ids=text_to_print['input_ids'], max_length=4400, do_sample=True)\n",
    "decoded_output = tokenizer.decode(outputs[0], skip_special_tokens=True)\n",
    "print(decoded_output)"
   ],
   "id": "a8fa58b6ebf033de",
   "outputs": [
    {
     "name": "stderr",
     "output_type": "stream",
     "text": [
      "The attention mask and the pad token id were not set. As a consequence, you may observe unexpected behavior. Please pass your input's `attention_mask` to obtain reliable results.\n",
      "Setting `pad_token_id` to `eos_token_id`:None for open-end generation.\n"
     ]
    },
    {
     "name": "stdout",
     "output_type": "stream",
     "text": [
      "### Instruction\n",
      "{\"directed\":true,\"nodes\":[{\"viewpoint\":null,\"visibility\":\"PUBLIC_LITERAL\",\"qualifiedName\":\"model\",\"name\":\"model\",\"id\":0,\"URI\":null,\"eClass\":\"Model\"},{\"isSingleExecution\":false,\"isReadOnly\":false,\"visibility\":\"PUBLIC_LITERAL\",\"qualifiedName\":\"model::Activity\",\"name\":\"Activity\",\"id\":2,\"isActive\":false,\"isReentrant\":true,\"isLeaf\":false,\"isAbstract\":false,\"isFinalSpecialization\":false,\"eClass\":\"Activity\"},{\"visibility\":\"PUBLIC_LITERAL\",\"qualifiedName\":\"ControlFlow\",\"name\":\"ControlFlow\",\"id\":3,\"isLeaf\":false,\"eClass\":\"ControlFlow\"},{\"visibility\":\"PUBLIC_LITERAL\",\"qualifiedName\":\"ControlFlow2\",\"name\":\"ControlFlow2\",\"id\":4,\"isLeaf\":false,\"eClass\":\"ControlFlow\"},{\"visibility\":\"PUBLIC_LITERAL\",\"qualifiedName\":\"ControlFlow3\",\"name\":\"ControlFlow3\",\"id\":5,\"isLeaf\":false,\"eClass\":\"ControlFlow\"},{\"visibility\":\"PUBLIC_LITERAL\",\"qualifiedName\":\"ControlFlow5\",\"name\":\"ControlFlow5\",\"id\":6,\"isLeaf\":false,\"eClass\":\"ControlFlow\"},{\"visibility\":\"PUBLIC_LITERAL\",\"qualifiedName\":\"ControlFlow6\",\"name\":\"ControlFlow6\",\"id\":7,\"isLeaf\":false,\"eClass\":\"ControlFlow\"},{\"visibility\":\"PUBLIC_LITERAL\",\"qualifiedName\":\"ControlFlow7\",\"name\":\"ControlFlow7\",\"id\":8,\"isLeaf\":false,\"eClass\":\"ControlFlow\"},{\"visibility\":\"PUBLIC_LITERAL\",\"qualifiedName\":\"ControlFlow8\",\"name\":\"ControlFlow8\",\"id\":9,\"isLeaf\":false,\"eClass\":\"ControlFlow\"},{\"visibility\":\"PUBLIC_LITERAL\",\"qualifiedName\":\"ControlFlow11\",\"name\":\"ControlFlow11\",\"id\":11,\"isLeaf\":false,\"eClass\":\"ControlFlow\"},{\"visibility\":\"PUBLIC_LITERAL\",\"qualifiedName\":\"ControlFlow12\",\"name\":\"ControlFlow12\",\"id\":12,\"isLeaf\":false,\"eClass\":\"ControlFlow\"},{\"visibility\":\"PUBLIC_LITERAL\",\"qualifiedName\":\"ControlFlow13\",\"name\":\"ControlFlow13\",\"id\":13,\"isLeaf\":false,\"eClass\":\"ControlFlow\"},{\"visibility\":\"PUBLIC_LITERAL\",\"qualifiedName\":\"ControlFlow14\",\"name\":\"ControlFlow14\",\"id\":14,\"isLeaf\":false,\"eClass\":\"ControlFlow\"},{\"visibility\":\"PUBLIC_LITERAL\",\"qualifiedName\":\"ControlFlow17\",\"name\":\"ControlFlow17\",\"id\":15,\"isLeaf\":false,\"eClass\":\"ControlFlow\"},{\"visibility\":\"PUBLIC_LITERAL\",\"qualifiedName\":\"ControlFlow16\",\"name\":\"ControlFlow16\",\"id\":16,\"isLeaf\":false,\"eClass\":\"ControlFlow\"},{\"visibility\":\"PUBLIC_LITERAL\",\"qualifiedName\":\"ControlFlow9\",\"name\":\"ControlFlow9\",\"id\":18,\"isLeaf\":false,\"eClass\":\"ControlFlow\"},{\"visibility\":\"PUBLIC_LITERAL\",\"qualifiedName\":\"ControlFlow4\",\"name\":\"ControlFlow4\",\"id\":19,\"isLeaf\":false,\"eClass\":\"ControlFlow\"},{\"visibility\":\"PUBLIC_LITERAL\",\"qualifiedName\":\"ControlFlow15\",\"name\":\"ControlFlow15\",\"id\":20,\"isLeaf\":false,\"eClass\":\"ControlFlow\"},{\"visibility\":\"PUBLIC_LITERAL\",\"qualifiedName\":\"ControlFlow19\",\"name\":\"ControlFlow19\",\"id\":21,\"isLeaf\":false,\"eClass\":\"ControlFlow\"},{\"visibility\":\"PUBLIC_LITERAL\",\"qualifiedName\":\"Login\",\"isLocallyReentrant\":false,\"name\":\"Login\",\"language\":[],\"id\":22,\"body\":[],\"isLeaf\":false,\"eClass\":\"OpaqueAction\"},{\"visibility\":\"PUBLIC_LITERAL\",\"qualifiedName\":\"InitialNode\",\"name\":\"InitialNode\",\"id\":23,\"isLeaf\":false,\"eClass\":\"InitialNode\"},{\"visibility\":\"PUBLIC_LITERAL\",\"qualifiedName\":\"Authentication\",\"isLocallyReentrant\":false,\"name\":\"Authentication\",\"language\":[],\"id\":24,\"body\":[],\"isLeaf\":false,\"eClass\":\"OpaqueAction\"},{\"visibility\":\"PUBLIC_LITERAL\",\"qualifiedName\":\"InitialNode2\",\"name\":\"InitialNode2\",\"id\":27,\"isLeaf\":false,\"eClass\":\"InitialNode\"},{\"visibility\":\"PUBLIC_LITERAL\",\"qualifiedName\":\"Make Transaction\",\"isLocallyReentrant\":false,\"name\":\"Make Transaction\",\"language\":[],\"id\":28,\"body\":[],\"isLeaf\":false,\"eClass\":\"OpaqueAction\"},{\"visibility\":\"PUBLIC_LITERAL\",\"qualifiedName\":\"Transfer\",\"isLocallyReentrant\":false,\"name\":\"Transfer\",\"language\":[],\"id\":29,\"body\":[],\"isLeaf\":false,\"eClass\":\"OpaqueAction\"},{\"visibility\":\"PUBLIC_LITERAL\",\"qualifiedName\":\"Logout\",\"isLocallyReentrant\":false,\"name\":\"Logout\",\"language\":[],\"id\":30,\"body\":[],\"isLeaf\":false,\"eClass\":\"OpaqueAction\"},{\"visibility\":\"PUBLIC_LITERAL\",\"qualifiedName\":\"Others\",\"isLocallyReentrant\":false,\"name\":\"Others\",\"language\":[],\"id\":31,\"body\":[],\"isLeaf\":false,\"eClass\":\"OpaqueAction\"},{\"visibility\":\"PUBLIC_LITERAL\",\"qualifiedName\":\"Amount\",\"isLocallyReentrant\":false,\"name\":\"Amount\",\"language\":[],\"id\":32,\"body\":[],\"isLeaf\":false,\"eClass\":\"OpaqueAction\"},{\"visibility\":\"PUBLIC_LITERAL\",\"qualifiedName\":\"ActivityFinalNode2\",\"name\":\"ActivityFinalNode2\",\"id\":33,\"isLeaf\":false,\"eClass\":\"ActivityFinalNode\"},{\"visibility\":\"PUBLIC_LITERAL\",\"qualifiedName\":\"Withdrawal\",\"isLocallyReentrant\":false,\"name\":\"Withdrawal\",\"language\":[],\"id\":34,\"body\":[],\"isLeaf\":false,\"eClass\":\"OpaqueAction\"},{\"visibility\":\"PUBLIC_LITERAL\",\"qualifiedName\":\"Update Current balance\",\"isLocallyReentrant\":false,\"name\":\"Update Current balance\",\"language\":[],\"id\":36,\"body\":[],\"isLeaf\":false,\"eClass\":\"OpaqueAction\"},{\"visibility\":\"PUBLIC_LITERAL\",\"qualifiedName\":\"Update Transaction History\",\"isLocallyReentrant\":false,\"name\":\"Update Transaction History\",\"language\":[],\"id\":37,\"body\":[],\"isLeaf\":false,\"eClass\":\"OpaqueAction\"},{\"visibility\":\"PUBLIC_LITERAL\",\"qualifiedName\":\"ActivityFinalNode3\",\"name\":\"ActivityFinalNode3\",\"id\":38,\"isLeaf\":false,\"eClass\":\"ActivityFinalNode\"},{\"visibility\":\"PUBLIC_LITERAL\",\"qualifiedName\":\"Self\",\"isLocallyReentrant\":false,\"name\":\"Self\",\"language\":[],\"id\":41,\"body\":[],\"isLeaf\":false,\"eClass\":\"OpaqueAction\"},{\"visibility\":\"PUBLIC_LITERAL\",\"qualifiedName\":null,\"name\":null,\"id\":42,\"value\":\"true\",\"eClass\":\"LiteralString\"},{\"visibility\":\"PUBLIC_LITERAL\",\"qualifiedName\":null,\"name\":null,\"id\":43,\"value\":\"true\",\"eClass\":\"LiteralString\"},{\"visibility\":\"PUBLIC_LITERAL\",\"qualifiedName\":null,\"name\":null,\"id\":44,\"value\":\"true\",\"eClass\":\"LiteralString\"},{\"visibility\":\"PUBLIC_LITERAL\",\"qualifiedName\":null,\"name\":null,\"id\":46,\"value\":\"true\",\"eClass\":\"LiteralString\"},{\"visibility\":\"PUBLIC_LITERAL\",\"qualifiedName\":null,\"name\":null,\"id\":47,\"value\":\"true\",\"eClass\":\"LiteralString\"},{\"visibility\":\"PUBLIC_LITERAL\",\"qualifiedName\":null,\"name\":null,\"id\":48,\"value\":\"true\",\"eClass\":\"LiteralString\"},{\"visibility\":\"PUBLIC_LITERAL\",\"qualifiedName\":null,\"name\":null,\"id\":52,\"value\":\"true\",\"eClass\":\"LiteralString\"},{\"visibility\":\"PUBLIC_LITERAL\",\"qualifiedName\":null,\"name\":null,\"id\":54,\"value\":\"true\",\"eClass\":\"LiteralString\"},{\"visibility\":\"PUBLIC_LITERAL\",\"qualifiedName\":null,\"name\":null,\"id\":55,\"value\":\"true\",\"eClass\":\"LiteralString\"},{\"visibility\":\"PUBLIC_LITERAL\",\"qualifiedName\":null,\"name\":null,\"id\":57,\"value\":\"true\",\"eClass\":\"LiteralString\"},{\"visibility\":\"PUBLIC_LITERAL\",\"qualifiedName\":null,\"name\":null,\"id\":58,\"value\":\"true\",\"eClass\":\"LiteralString\"},{\"visibility\":\"PUBLIC_LITERAL\",\"qualifiedName\":null,\"name\":null,\"id\":59,\"value\":\"true\",\"eClass\":\"LiteralString\"},{\"visibility\":\"PUBLIC_LITERAL\",\"qualifiedName\":null,\"name\":null,\"id\":60,\"value\":\"true\",\"eClass\":\"LiteralString\"}],\"links\":[{\"source\":0,\"target\":2},{\"source\":2,\"target\":3},{\"source\":2,\"target\":4},{\"source\":2,\"target\":5},{\"source\":2,\"target\":6},{\"source\":2,\"target\":7},{\"source\":2,\"target\":8},{\"source\":2,\"target\":9},{\"source\":2,\"target\":11},{\"source\":2,\"target\":12},{\"source\":2,\"target\":13},{\"source\":2,\"target\":14},{\"source\":2,\"target\":15},{\"source\":2,\"target\":16},{\"source\":2,\"target\":18},{\"source\":2,\"target\":19},{\"source\":2,\"target\":20},{\"source\":2,\"target\":21},{\"source\":2,\"target\":22},{\"source\":2,\"target\":23},{\"source\":2,\"target\":24},{\"source\":2,\"target\":27},{\"source\":2,\"target\":28},{\"source\":2,\"target\":29},{\"source\":2,\"target\":30},{\"source\":2,\"target\":31},{\"source\":2,\"target\":32},{\"source\":2,\"target\":33},{\"source\":2,\"target\":34},{\"source\":2,\"target\":36},{\"source\":2,\"target\":37},{\"source\":2,\"target\":38},{\"source\":2,\"target\":41},{\"source\":3,\"target\":2},{\"source\":3,\"target\":42},{\"source\":3,\"target\":30},{\"source\":3,\"target\":37},{\"source\":4,\"target\":2},{\"source\":4,\"target\":43},{\"source\":4,\"target\":37},{\"source\":4,\"target\":36},{\"source\":5,\"target\":2},{\"source\":5,\"target\":44},{\"source\":5,\"target\":36},{\"source\":6,\"target\":2},{\"source\":6,\"target\":32},{\"source\":6,\"target\":31},{\"source\":7,\"target\":2},{\"source\":7,\"target\":46},{\"source\":7,\"target\":33},{\"source\":7,\"target\":32},{\"source\":8,\"target\":2},{\"source\":8,\"target\":47},{\"source\":8,\"target\":28},{\"source\":8,\"target\":27},{\"source\":9,\"target\":2},{\"source\":9,\"target\":48},{\"source\":9,\"target\":29},{\"source\":9,\"target\":28},{\"source\":11,\"target\":2},{\"source\":11,\"target\":24},{\"source\":11,\"target\":22},{\"source\":12,\"target\":2},{\"source\":12,\"target\":24},{\"source\":13,\"target\":2},{\"source\":13,\"target\":52},{\"source\":14,\"target\":2},{\"source\":14,\"target\":28},{\"source\":15,\"target\":2},{\"source\":15,\"target\":54},{\"source\":15,\"target\":34},{\"source\":16,\"target\":2},{\"source\":16,\"target\":55},{\"source\":18,\"target\":2},{\"source\":18,\"target\":57},{\"source\":18,\"target\":41},{\"source\":18,\"target\":28},{\"source\":19,\"target\":2},{\"source\":19,\"target\":58},{\"source\":19,\"target\":34},{\"source\":19,\"target\":41},{\"source\":20,\"target\":2},{\"source\":20,\"target\":59},{\"source\":20,\"target\":31},{\"source\":20,\"target\":29},{\"source\":21,\"target\":2},{\"source\":21,\"target\":60},{\"source\":21,\"target\":22},{\"source\":21,\"target\":23},{\"source\":22,\"target\":21},{\"source\":22,\"target\":11},{\"source\":23,\"target\":21},{\"source\":24,\"target\":11},{\"source\":24,\"target\":12},{\"source\":27,\"target\":8},{\"source\":28,\"target\":14},{\"source\":28,\"target\":8},{\"source\":28,\"target\":9},{\"source\":28,\"target\":18},{\"source\":29,\"target\":9},{\"source\":29,\"target\":20},{\"source\":30,\"target\":3},{\"source\":31,\"target\":20},{\"source\":31,\"target\":6},{\"source\":32,\"target\":6},{\"source\":32,\"target\":7},{\"source\":33,\"target\":7},{\"source\":34,\"target\":19},{\"source\":34,\"target\":15},{\"source\":36,\"target\":5},{\"source\":36,\"target\":4},{\"source\":37,\"target\":4},{\"source\":37,\"target\":3},{\"source\":41,\"target\":18},{\"source\":41,\"target\":19}],\"multigraph\":true}\n",
      "### Response\n",
      "{\"nodes\":[{\"visibility\":\"PUBLIC_LITERAL\",\"id\":1,\"eClass\":\"PackageImport\"},{\"visibility\":\"PUBLIC_LITERAL\",\"qualifiedName\":null,\"name\":null,\"id\":10,\"value\":\"true\",\"eClass\":\"LiteralString\"},{\"visibility\":\"PUBLIC_LITERAL\",\"qualifiedName\":null,\"name\":null,\"id\":17,\"value\":\"true\",\"eClass\":\"LiteralString\"},{\"visibility\":\"PUBLIC_LITERAL\",\"qualifiedName\":null,\"name\":null,\"id\":25,\"value\":\"true\",\"eClass\":\"LiteralString\"},{\"visibility\":\"PUBLIC_LITERAL\",\"qualifiedName\":null,\"name\":null,\"id\":45,\"value\":\"true\",\"eClass\":\"LiteralString\"},{\"visibility\":\"PUBLIC_LITERAL\",\"qualifiedName\":null,\"name\":null,\"id\":40,\"value\":null,\"eClass\":\"UnlimitedNatural\"},{\"visibility\":\"PUBLIC_LITERAL\",\"qualifiedName\":null,\"name\":null,\"id\":49,\"value\":\"true\",\"eClass\":\"LiteralString\"},{\"visibility\":\"PUBLIC_LITERAL\",\"qualifiedName\":null,\"name\":null,\"id\":35,\"value\":\"true\",\"eClass\":\"LiteralString\"},{\"visibility\":\"PUBLIC_LITERAL\",\"qualifiedName\":null,\"name\":null,\"id\":39,\"value\":null,\"eClass\":\"UnlimitedNatural\"},{\"visibility\":\"PUBLIC_LITERAL\",\"qualifiedName\":null,\"name\":null,\"id\":50,\"value\":\"true\",\"eClass\":\"LiteralString\"},{\"visibility\":\"PUBLIC_LITERAL\",\"qualifiedName\":null,\"name\":null,\"id\":51,\"value\":\"true\",\"eClass\":\"LiteralString\"},{\"visibility\":\"PUBLIC_LITERAL\",\"qualifiedName\":null,\"name\":null,\"id\":53,\"value\":\"true\",\"eClass\":\"LiteralString\"}],\"links\":[{\"source\":0,\"target\":1},{\"source\":1,\"target\":0},{\"source\":2,\"target\":10},{\"source\":2,\"target\":17},{\"source\":2,\"target\":25},{\"source\":5,\"target\":35},{\"source\":6,\"target\":39},{\"source\":6,\"target\":25},{\"source\":10,\"target\":27},{\"source\":10,\"target\":22},{\"source\":11,\"target\":40},{\"source\":12,\"target\":45},{\"source\":13,\"target\":25},{\"source\":13,\"target\":40},{\"source\":14,\"target\":45},{\"source\":15,\"target\":45},{\"source\":16,\"target\":50},{\"source\":16,\"target\":51},{\"source\":17,\"target\":38},{\"source\":17,\"target\":31},{\"source\":22,\"target\":10},{\"source\":25,\"target\":13},{\"source\":25,\"target\":6},{\"source\":25,\"target\":11},{\"source\":39,\"target\":6},{\"source\":50,\"target\":16},{\"source\":51,\"target\":16},{\"source\":53,\"target\":18},{\"source\":54,\"target\":15},{\"source\":55,\"target\":10},{\"source\":57,\"target\":20},{\"source\":58,\"target\":20},{\"source\":59,\"target\":20},{\"source\":60,\"target\":21}]}\n",
      "### Response\n",
      "{\"nodes\":[{\"visibility\":\"PUBLIC_LITERAL\",\"qualifiedName\":\"ControlFlow10\",\"name\":\"ControlFlow10\",\"id\":12,\"isLeaf\":false,\"eClass\":\"ControlFlow\"},{\"isSubstitutable\":true,\"id\":13,\"eClass\":\"Generalization\"},{\"isStatic\":false,\"isDerived\":false,\"visibility\":\"PUBLIC_LITERAL\",\"qualifiedName\":\"model::Customer ID\",\"lower\":1,\"upper\":1,\"isUnique\":true,\"aggregation\":\"NONE_LITERAL\",\"isLeaf\":false,\"eClass\":\"Property\",\"default\":null,\"isReadOnly\":false,\"isComposite\":false,\"isID\":false,\"isDerivedUnion\":false,\"name\":\"Customer ID\",\"id\":26,\"isOrdered\":false},{\"visibility\":\"PUBLIC_LITERAL\",\"qualifiedName\":null,\"name\":null,\"id\":35,\"value\":1,\"eClass\":\"LiteralInteger\"},{\"visibility\":\"PUBLIC_LITERAL\",\"qualifiedName\":null,\"name\":null,\"id\":44,\"value\":\"true\",\"eClass\":\"LiteralString\"},{\"visibility\":\"PUBLIC_LITERAL\",\"qualifiedName\":null,\"name\":null,\"id\":46,\"value\":\"true\",\"eClass\":\"LiteralString\"},{\"visibility\":\"PUBLIC_LITERAL\",\"qualifiedName\":null,\"name\":null,\"id\":50,\"value\":\"true\",\"eClass\":\"LiteralString\"}],\"links\":[{\"source\":2,\"target\":12},{\"source\":4,\"target\":13},{\"source\":5,\"target\":13},{\"source\":6,\"target\":13},{\"source\":10,\"target\":12},{\"source\":10,\"target\":11},{\"source\":11,\"target\":5},{\"source\":12,\"target\":10},{\"source\":12,\"target\":4},{\"source\":12,\"target\":35},{\"source\":12,\"target\":4},{\"source\":13,\"target\":4},{\"source\":13,\"target\":6},{\"source\":14,\"target\":35},{\"source\":14,\"target\":4},{\"source\":15,\"target\":4},{\"source\":16,\"target\":4},{\"source\":17,\"target\":4},{\"source\":18,\"target\":44},{\"source\":18,\"target\":30},{\"source\":19,\"target\":30},{\"source\":20,\"target\":30},{\"source\":22,\"target\":13},{\"source\":23,\"target\":10},{\"source\":25,\"target\":14},{\"source\":26,\"target\":0},{\"source\":27,\"target\":10},{\"source\":29,\"target\":19},{\"source\":30,\"target\":18},{\"source\":30,\"target\":19},{\"source\":30,\"target\":20},{\"source\":41,\"target\":29},{\"source\":4,\"target\":35},{\"source\":13,\"target\":5},{\"source\":10,\"target\":4},{\"source\":40,\"target\":12}]}\n",
      "### Response\n",
      "{\"nodes\":[{\"id\":4,\"eClass\":\"Comment\"},{\"visibility\":\"PUBLIC_LITERAL\",\"qualifiedName\":null,\"name\":null,\"id\":5,\"value\":1,\"eClass\":\"LiteralInteger\"},{\"isSubstitutable\":true,\"id\":14,\"eClass\":\"Generalization\"},{\"visibility\":\"PUBLIC_LITERAL\",\"qualifiedName\":null,\"name\":null,\"id\":20,\"eClass\":\"ElementImport\"},{\"isStatic\":false,\"isDerived\":false,\"visibility\":\"PUBLIC_LITERAL\",\"qualifiedName\":\"model::Customer Type\",\"lower\":1,\"upper\":1,\"isUnique\":true,\"aggregation\":\"NONE_LITERAL\",\"isLeaf\":false,\"eClass\":\"Property\",\"default\":null,\"isReadOnly\":false,\"isComposite\":false,\"isID\":false,\"isDerivedUnion\":false,\"name\":\"Customer Type\",\"id\":42,\"isOrdered\":false},{\"isSubstitutable\":true,\"id\":25,\"eClass\":\"Generalization\"},{\"visibility\":\"PUBLIC_LITERAL\",\"qualifiedName\":null,\"name\":null,\"id\":43,\"value\":\"true\",\"eClass\":\"LiteralString\"},{\"visibility\":\"PUBLIC_LITERAL\",\"qualifiedName\":null,\"name\":null,\"id\":48,\"value\":1,\"eClass\":\"LiteralInteger\"},{\"visibility\":\"PUBLIC_LITERAL\",\"qualifiedName\":null,\"name\":null,\"id\":5\n"
     ]
    }
   ],
   "execution_count": 14
  }
 ],
 "metadata": {
  "kernelspec": {
   "display_name": "Python 3",
   "language": "python",
   "name": "python3"
  },
  "language_info": {
   "codemirror_mode": {
    "name": "ipython",
    "version": 2
   },
   "file_extension": ".py",
   "mimetype": "text/x-python",
   "name": "python",
   "nbconvert_exporter": "python",
   "pygments_lexer": "ipython2",
   "version": "2.7.6"
  }
 },
 "nbformat": 4,
 "nbformat_minor": 5
}
