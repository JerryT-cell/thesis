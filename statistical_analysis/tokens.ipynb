{
 "cells": [
  {
   "cell_type": "code",
   "id": "initial_id",
   "metadata": {
    "collapsed": true,
    "ExecuteTime": {
     "end_time": "2024-08-19T08:04:30.243172Z",
     "start_time": "2024-08-19T08:04:30.238872Z"
    }
   },
   "source": [
    "from transformers import AutoTokenizer\n",
    "import torch"
   ],
   "outputs": [],
   "execution_count": 6
  },
  {
   "metadata": {
    "ExecuteTime": {
     "end_time": "2024-08-19T07:57:09.551630Z",
     "start_time": "2024-08-19T07:57:06.280731Z"
    }
   },
   "cell_type": "code",
   "source": [
    "model_id = \"google/gemma-2b\"\n",
    "\n",
    "# Load tokenizer\n",
    "tokenizer = AutoTokenizer.from_pretrained(model_id)\n",
    "tokenizer.pad_token_id = tokenizer.eos_token_id"
   ],
   "id": "f3820930df47764f",
   "outputs": [
    {
     "data": {
      "text/plain": [
       "tokenizer_config.json:   0%|          | 0.00/33.6k [00:00<?, ?B/s]"
      ],
      "application/vnd.jupyter.widget-view+json": {
       "version_major": 2,
       "version_minor": 0,
       "model_id": "1eb151ce7a1246538bf3849f9fd25dd1"
      }
     },
     "metadata": {},
     "output_type": "display_data"
    },
    {
     "data": {
      "text/plain": [
       "tokenizer.model:   0%|          | 0.00/4.24M [00:00<?, ?B/s]"
      ],
      "application/vnd.jupyter.widget-view+json": {
       "version_major": 2,
       "version_minor": 0,
       "model_id": "9419870188e046f3be7f9f20d0dc7a27"
      }
     },
     "metadata": {},
     "output_type": "display_data"
    },
    {
     "data": {
      "text/plain": [
       "tokenizer.json:   0%|          | 0.00/17.5M [00:00<?, ?B/s]"
      ],
      "application/vnd.jupyter.widget-view+json": {
       "version_major": 2,
       "version_minor": 0,
       "model_id": "026e73b9b29645719492fe84da175e31"
      }
     },
     "metadata": {},
     "output_type": "display_data"
    },
    {
     "data": {
      "text/plain": [
       "special_tokens_map.json:   0%|          | 0.00/636 [00:00<?, ?B/s]"
      ],
      "application/vnd.jupyter.widget-view+json": {
       "version_major": 2,
       "version_minor": 0,
       "model_id": "838d725427694af8a3bd9987269570cd"
      }
     },
     "metadata": {},
     "output_type": "display_data"
    }
   ],
   "execution_count": 2
  },
  {
   "metadata": {
    "ExecuteTime": {
     "end_time": "2024-08-19T07:57:11.384857Z",
     "start_time": "2024-08-19T07:57:11.366566Z"
    }
   },
   "cell_type": "code",
   "source": [
    "test = tokenizer(\"Hello, my dog is cute\", return_tensors=\"pt\")\n",
    "print(test)"
   ],
   "id": "40c0fe14e5cdcebf",
   "outputs": [
    {
     "name": "stdout",
     "output_type": "stream",
     "text": [
      "{'input_ids': tensor([[     2,   4521, 235269,    970,   5929,    603,   9786]]), 'attention_mask': tensor([[1, 1, 1, 1, 1, 1, 1]])}\n"
     ]
    }
   ],
   "execution_count": 3
  },
  {
   "metadata": {
    "ExecuteTime": {
     "end_time": "2024-08-19T07:58:28.697969Z",
     "start_time": "2024-08-19T07:58:28.694553Z"
    }
   },
   "cell_type": "code",
   "source": [
    "test = tokenizer(\"Hello, Jerry is a student of the university of Saarland. He studies Computer science.\", return_tensors=\"pt\")\n",
    "print(test)\n"
   ],
   "id": "5ec767e8754bae71",
   "outputs": [
    {
     "name": "stdout",
     "output_type": "stream",
     "text": [
      "{'input_ids': tensor([[     2,   4521, 235269,  31656,    603,    476,   5913,    576,    573,\n",
      "          13435,    576,  96808,   1445, 235265,   1315,   6438,  15963,   8042,\n",
      "         235265]]), 'attention_mask': tensor([[1, 1, 1, 1, 1, 1, 1, 1, 1, 1, 1, 1, 1, 1, 1, 1, 1, 1, 1]])}\n"
     ]
    }
   ],
   "execution_count": 4
  },
  {
   "metadata": {
    "ExecuteTime": {
     "end_time": "2024-08-19T08:12:16.633519Z",
     "start_time": "2024-08-19T08:04:40.586238Z"
    }
   },
   "cell_type": "code",
   "source": [
    "# getting the embeddings\n",
    "from transformers import AutoModel\n",
    "model = AutoModel.from_pretrained(model_id)\n",
    "with torch.no_grad():  # Disable gradient calculations to save memory\n",
    "    outputs = model(**test)\n",
    "\n"
   ],
   "id": "301e1bd6784d2382",
   "outputs": [
    {
     "data": {
      "text/plain": [
       "config.json:   0%|          | 0.00/627 [00:00<?, ?B/s]"
      ],
      "application/vnd.jupyter.widget-view+json": {
       "version_major": 2,
       "version_minor": 0,
       "model_id": "c23cfaba7f7c42ff96aabd2d4f11e127"
      }
     },
     "metadata": {},
     "output_type": "display_data"
    },
    {
     "data": {
      "text/plain": [
       "model.safetensors.index.json:   0%|          | 0.00/13.5k [00:00<?, ?B/s]"
      ],
      "application/vnd.jupyter.widget-view+json": {
       "version_major": 2,
       "version_minor": 0,
       "model_id": "a324db5b5fbb44cfaf11c9af67f12a27"
      }
     },
     "metadata": {},
     "output_type": "display_data"
    },
    {
     "data": {
      "text/plain": [
       "Downloading shards:   0%|          | 0/2 [00:00<?, ?it/s]"
      ],
      "application/vnd.jupyter.widget-view+json": {
       "version_major": 2,
       "version_minor": 0,
       "model_id": "15b9eb32c8504e0c86249dd7ccabf590"
      }
     },
     "metadata": {},
     "output_type": "display_data"
    },
    {
     "data": {
      "text/plain": [
       "model-00001-of-00002.safetensors:   0%|          | 0.00/4.95G [00:00<?, ?B/s]"
      ],
      "application/vnd.jupyter.widget-view+json": {
       "version_major": 2,
       "version_minor": 0,
       "model_id": "162af671b72f4958b7173e09e14224b0"
      }
     },
     "metadata": {},
     "output_type": "display_data"
    },
    {
     "data": {
      "text/plain": [
       "model-00002-of-00002.safetensors:   0%|          | 0.00/67.1M [00:00<?, ?B/s]"
      ],
      "application/vnd.jupyter.widget-view+json": {
       "version_major": 2,
       "version_minor": 0,
       "model_id": "ede9c0970ae54d1eb5d4148fa93b0f20"
      }
     },
     "metadata": {},
     "output_type": "display_data"
    },
    {
     "name": "stderr",
     "output_type": "stream",
     "text": [
      "`config.hidden_act` is ignored, you should use `config.hidden_activation` instead.\n",
      "Gemma's activation function will be set to `gelu_pytorch_tanh`. Please, use\n",
      "`config.hidden_activation` if you want to override this behaviour.\n",
      "See https://github.com/huggingface/transformers/pull/29402 for more details.\n"
     ]
    },
    {
     "data": {
      "text/plain": [
       "Loading checkpoint shards:   0%|          | 0/2 [00:00<?, ?it/s]"
      ],
      "application/vnd.jupyter.widget-view+json": {
       "version_major": 2,
       "version_minor": 0,
       "model_id": "2102082f740248128c2f47ef23772fd2"
      }
     },
     "metadata": {},
     "output_type": "display_data"
    }
   ],
   "execution_count": 7
  },
  {
   "metadata": {
    "ExecuteTime": {
     "end_time": "2024-08-19T08:43:02.045474Z",
     "start_time": "2024-08-19T08:43:02.040959Z"
    }
   },
   "cell_type": "code",
   "source": [
    "# outputs.last_hidden_state contains the embeddings for each token\n",
    "embeddings = outputs.last_hidden_state\n",
    "embeddings[0]"
   ],
   "id": "575ed9468d503a8",
   "outputs": [
    {
     "data": {
      "text/plain": [
       "tensor([[ 0.3116, -0.6693,  0.1596,  ..., -0.1884,  0.2425,  0.1245],\n",
       "        [-0.5034,  0.0232, -0.7929,  ...,  0.0115,  0.9474, -0.2379],\n",
       "        [-0.2977,  0.4621,  0.2103,  ...,  0.5183,  1.1501,  0.0036],\n",
       "        ...,\n",
       "        [ 0.6380,  0.2522, -0.1038,  ..., -0.4299,  1.2579,  0.3517],\n",
       "        [-0.3215, -0.1665,  0.0510,  ..., -0.1017,  0.9959,  0.8404],\n",
       "        [-0.1254,  0.4106,  0.3781,  ...,  0.7781,  0.8971,  0.7292]])"
      ]
     },
     "execution_count": 10,
     "metadata": {},
     "output_type": "execute_result"
    }
   ],
   "execution_count": 10
  },
  {
   "metadata": {},
   "cell_type": "code",
   "outputs": [],
   "execution_count": null,
   "source": "",
   "id": "f22029df59213bf8"
  }
 ],
 "metadata": {
  "kernelspec": {
   "display_name": "Python 3",
   "language": "python",
   "name": "python3"
  },
  "language_info": {
   "codemirror_mode": {
    "name": "ipython",
    "version": 2
   },
   "file_extension": ".py",
   "mimetype": "text/x-python",
   "name": "python",
   "nbconvert_exporter": "python",
   "pygments_lexer": "ipython2",
   "version": "2.7.6"
  }
 },
 "nbformat": 4,
 "nbformat_minor": 5
}
