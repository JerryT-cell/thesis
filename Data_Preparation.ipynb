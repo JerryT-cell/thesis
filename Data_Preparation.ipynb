{
 "cells": [
  {
   "cell_type": "code",
   "id": "initial_id",
   "metadata": {
    "collapsed": true,
    "ExecuteTime": {
     "end_time": "2024-07-11T11:26:43.618959Z",
     "start_time": "2024-07-11T11:26:42.904793Z"
    }
   },
   "source": [
    "import sqlite3\n",
    "import pandas as pd\n",
    "import json"
   ],
   "outputs": [],
   "execution_count": 1
  },
  {
   "metadata": {
    "ExecuteTime": {
     "end_time": "2024-07-11T11:26:44.228471Z",
     "start_time": "2024-07-11T11:26:44.216214Z"
    }
   },
   "cell_type": "code",
   "source": "DB_PATH = \"./modelset_extract/modelset/datasets/dataset.genmymodel/data/genmymodel.db\"",
   "id": "13a437f8d4164bdf",
   "outputs": [],
   "execution_count": 2
  },
  {
   "metadata": {
    "ExecuteTime": {
     "end_time": "2024-07-11T11:26:45.198463Z",
     "start_time": "2024-07-11T11:26:45.160459Z"
    }
   },
   "cell_type": "code",
   "source": [
    "conn = sqlite3.connect(DB_PATH)\n",
    "query = f\"SELECT * FROM metadata\"\n",
    "df = pd.read_sql_query(query, conn)\n",
    "conn.close()\n",
    "print(df)"
   ],
   "id": "2b61cede8ab6aa23",
   "outputs": [
    {
     "name": "stdout",
     "output_type": "stream",
     "text": [
      "                                                     id  \\\n",
      "0     repo-genmymodel-uml/data/d5dfa406-1735-41a2-8b...   \n",
      "1     repo-genmymodel-uml/data/af70738e-8261-49fd-be...   \n",
      "2     repo-genmymodel-uml/data/248f6d20-cc60-4d1a-b0...   \n",
      "3     repo-genmymodel-uml/data/ab282145-8ab0-4b9a-bd...   \n",
      "4     repo-genmymodel-uml/data/c6d2a9fd-9149-4bdb-a3...   \n",
      "...                                                 ...   \n",
      "5115  repo-genmymodel-uml/data/cbac978a-f68d-4ddf-bf...   \n",
      "5116  repo-genmymodel-uml/data/4cc3af16-4084-412e-a4...   \n",
      "5117  repo-genmymodel-uml/data/771d7ac9-fefb-4fa6-b7...   \n",
      "5118  repo-genmymodel-uml/data/380d81a7-9747-4329-93...   \n",
      "5119  repo-genmymodel-uml/data/40966914-1f3d-4f22-83...   \n",
      "\n",
      "                                               metadata  \\\n",
      "0     category: computerarchitecture, comment: \"mode...   \n",
      "1     category: computerarchitecture, comment: \"mode...   \n",
      "2     category: computerarchitecture, comment: \"mode...   \n",
      "3     category: computerarchitecture, comment: \"mode...   \n",
      "4     category: computerarchitecture, comment: \"mode...   \n",
      "...                                                 ...   \n",
      "5115  category: socialnetwork, comment: \"models typi...   \n",
      "5116  category: socialnetwork, comment: \"models typi...   \n",
      "5117  category: socialnetwork, comment: \"models typi...   \n",
      "5118  category: socialnetwork, comment: \"models typi...   \n",
      "5119  category: socialnetwork, comment: \"models typi...   \n",
      "\n",
      "                                                   json  \n",
      "0     {\"domain\":[\"computerarchitecture\"],\"subdomain\"...  \n",
      "1     {\"domain\":[\"computerarchitecture\"],\"subdomain\"...  \n",
      "2     {\"domain\":[\"computerarchitecture\"],\"subdomain\"...  \n",
      "3     {\"domain\":[\"computerarchitecture\"],\"subdomain\"...  \n",
      "4     {\"domain\":[\"computerarchitecture\"],\"subdomain\"...  \n",
      "...                                                 ...  \n",
      "5115  {\"domain\":[\"socialnetwork\"],\"step\":[\"3\"],\"comm...  \n",
      "5116  {\"domain\":[\"socialnetwork\"],\"step\":[\"3\"],\"comm...  \n",
      "5117  {\"domain\":[\"socialnetwork\"],\"step\":[\"3\"],\"comm...  \n",
      "5118  {\"domain\":[\"socialnetwork\"],\"step\":[\"3\"],\"comm...  \n",
      "5119  {\"domain\":[\"socialnetwork\"],\"step\":[\"3\"],\"comm...  \n",
      "\n",
      "[5120 rows x 3 columns]\n"
     ]
    }
   ],
   "execution_count": 3
  },
  {
   "metadata": {
    "ExecuteTime": {
     "end_time": "2024-07-11T12:05:53.844788Z",
     "start_time": "2024-07-11T12:05:53.837113Z"
    }
   },
   "cell_type": "code",
   "source": "df[\"path\"] = df[\"id\"]",
   "id": "4c48871f011eabb6",
   "outputs": [],
   "execution_count": 4
  },
  {
   "metadata": {
    "ExecuteTime": {
     "end_time": "2024-07-11T12:06:24.396492Z",
     "start_time": "2024-07-11T12:05:54.867103Z"
    }
   },
   "cell_type": "code",
   "source": [
    "# Function to read the content of the file\n",
    "def read_file_content(file_path):\n",
    "    try:\n",
    "        # Assuming the files are text files, you can adjust the read method according to file type\n",
    "        with open(file_path, 'r') as file:\n",
    "            return file.read()\n",
    "    except FileNotFoundError:\n",
    "        return \"File not found\"\n",
    "    except Exception as e:\n",
    "        return str(e)\n",
    "\n",
    "# Apply the function to each row in the DataFrame and store the results in a new column\n",
    "df['file_content'] = df['path'].apply(lambda x: read_file_content(\"./modelset_extract/modelset/raw-data/\"+x))\n",
    "\n",
    "print(df)"
   ],
   "id": "d50fa4ccf6ed6928",
   "outputs": [
    {
     "name": "stdout",
     "output_type": "stream",
     "text": [
      "                                                     id  \\\n",
      "0     repo-genmymodel-uml/data/d5dfa406-1735-41a2-8b...   \n",
      "1     repo-genmymodel-uml/data/af70738e-8261-49fd-be...   \n",
      "2     repo-genmymodel-uml/data/248f6d20-cc60-4d1a-b0...   \n",
      "3     repo-genmymodel-uml/data/ab282145-8ab0-4b9a-bd...   \n",
      "4     repo-genmymodel-uml/data/c6d2a9fd-9149-4bdb-a3...   \n",
      "...                                                 ...   \n",
      "5115  repo-genmymodel-uml/data/cbac978a-f68d-4ddf-bf...   \n",
      "5116  repo-genmymodel-uml/data/4cc3af16-4084-412e-a4...   \n",
      "5117  repo-genmymodel-uml/data/771d7ac9-fefb-4fa6-b7...   \n",
      "5118  repo-genmymodel-uml/data/380d81a7-9747-4329-93...   \n",
      "5119  repo-genmymodel-uml/data/40966914-1f3d-4f22-83...   \n",
      "\n",
      "                                               metadata  \\\n",
      "0     category: computerarchitecture, comment: \"mode...   \n",
      "1     category: computerarchitecture, comment: \"mode...   \n",
      "2     category: computerarchitecture, comment: \"mode...   \n",
      "3     category: computerarchitecture, comment: \"mode...   \n",
      "4     category: computerarchitecture, comment: \"mode...   \n",
      "...                                                 ...   \n",
      "5115  category: socialnetwork, comment: \"models typi...   \n",
      "5116  category: socialnetwork, comment: \"models typi...   \n",
      "5117  category: socialnetwork, comment: \"models typi...   \n",
      "5118  category: socialnetwork, comment: \"models typi...   \n",
      "5119  category: socialnetwork, comment: \"models typi...   \n",
      "\n",
      "                                                   json  \\\n",
      "0     {\"domain\":[\"computerarchitecture\"],\"subdomain\"...   \n",
      "1     {\"domain\":[\"computerarchitecture\"],\"subdomain\"...   \n",
      "2     {\"domain\":[\"computerarchitecture\"],\"subdomain\"...   \n",
      "3     {\"domain\":[\"computerarchitecture\"],\"subdomain\"...   \n",
      "4     {\"domain\":[\"computerarchitecture\"],\"subdomain\"...   \n",
      "...                                                 ...   \n",
      "5115  {\"domain\":[\"socialnetwork\"],\"step\":[\"3\"],\"comm...   \n",
      "5116  {\"domain\":[\"socialnetwork\"],\"step\":[\"3\"],\"comm...   \n",
      "5117  {\"domain\":[\"socialnetwork\"],\"step\":[\"3\"],\"comm...   \n",
      "5118  {\"domain\":[\"socialnetwork\"],\"step\":[\"3\"],\"comm...   \n",
      "5119  {\"domain\":[\"socialnetwork\"],\"step\":[\"3\"],\"comm...   \n",
      "\n",
      "                                                   path  \\\n",
      "0     repo-genmymodel-uml/data/d5dfa406-1735-41a2-8b...   \n",
      "1     repo-genmymodel-uml/data/af70738e-8261-49fd-be...   \n",
      "2     repo-genmymodel-uml/data/248f6d20-cc60-4d1a-b0...   \n",
      "3     repo-genmymodel-uml/data/ab282145-8ab0-4b9a-bd...   \n",
      "4     repo-genmymodel-uml/data/c6d2a9fd-9149-4bdb-a3...   \n",
      "...                                                 ...   \n",
      "5115  repo-genmymodel-uml/data/cbac978a-f68d-4ddf-bf...   \n",
      "5116  repo-genmymodel-uml/data/4cc3af16-4084-412e-a4...   \n",
      "5117  repo-genmymodel-uml/data/771d7ac9-fefb-4fa6-b7...   \n",
      "5118  repo-genmymodel-uml/data/380d81a7-9747-4329-93...   \n",
      "5119  repo-genmymodel-uml/data/40966914-1f3d-4f22-83...   \n",
      "\n",
      "                                           file_content  \n",
      "0     <xmi:XMI xmi:version=\"2.1\" xmlns:xmi=\"http://s...  \n",
      "1     <xmi:XMI xmi:version=\"2.1\" xmlns:xmi=\"http://s...  \n",
      "2     <xmi:XMI xmi:version=\"2.1\" xmlns:xmi=\"http://s...  \n",
      "3     <xmi:XMI xmi:version=\"2.1\" xmlns:xmi=\"http://s...  \n",
      "4     <xmi:XMI xmi:version=\"2.1\" xmlns:xmi=\"http://s...  \n",
      "...                                                 ...  \n",
      "5115  <xmi:XMI xmi:version=\"2.1\" xmlns:xmi=\"http://s...  \n",
      "5116  <xmi:XMI xmi:version=\"2.1\" xmlns:xmi=\"http://s...  \n",
      "5117  <xmi:XMI xmi:version=\"2.1\" xmlns:xmi=\"http://s...  \n",
      "5118  <xmi:XMI xmi:version=\"2.1\" xmlns:xmi=\"http://s...  \n",
      "5119  <xmi:XMI xmi:version=\"2.1\" xmlns:xmi=\"http://s...  \n",
      "\n",
      "[5120 rows x 5 columns]\n"
     ]
    }
   ],
   "execution_count": 5
  },
  {
   "metadata": {
    "ExecuteTime": {
     "end_time": "2024-07-11T12:07:43.639235Z",
     "start_time": "2024-07-11T12:07:07.777961Z"
    }
   },
   "cell_type": "code",
   "source": [
    "#create the input folder\n",
    "\n",
    "df['input'] = df['path'].apply(lambda x: read_file_content(\"./output/\" + x.replace(\".xmi\", \"\").replace( \"repo-genmymodel-uml/data/\",\"\") + \"_modified.xmi\"))\n",
    "\n",
    "df"
   ],
   "id": "69ba6914d1bdbbc9",
   "outputs": [
    {
     "data": {
      "text/plain": [
       "                                                     id  \\\n",
       "0     repo-genmymodel-uml/data/d5dfa406-1735-41a2-8b...   \n",
       "1     repo-genmymodel-uml/data/af70738e-8261-49fd-be...   \n",
       "2     repo-genmymodel-uml/data/248f6d20-cc60-4d1a-b0...   \n",
       "3     repo-genmymodel-uml/data/ab282145-8ab0-4b9a-bd...   \n",
       "4     repo-genmymodel-uml/data/c6d2a9fd-9149-4bdb-a3...   \n",
       "...                                                 ...   \n",
       "5115  repo-genmymodel-uml/data/cbac978a-f68d-4ddf-bf...   \n",
       "5116  repo-genmymodel-uml/data/4cc3af16-4084-412e-a4...   \n",
       "5117  repo-genmymodel-uml/data/771d7ac9-fefb-4fa6-b7...   \n",
       "5118  repo-genmymodel-uml/data/380d81a7-9747-4329-93...   \n",
       "5119  repo-genmymodel-uml/data/40966914-1f3d-4f22-83...   \n",
       "\n",
       "                                               metadata  \\\n",
       "0     category: computerarchitecture, comment: \"mode...   \n",
       "1     category: computerarchitecture, comment: \"mode...   \n",
       "2     category: computerarchitecture, comment: \"mode...   \n",
       "3     category: computerarchitecture, comment: \"mode...   \n",
       "4     category: computerarchitecture, comment: \"mode...   \n",
       "...                                                 ...   \n",
       "5115  category: socialnetwork, comment: \"models typi...   \n",
       "5116  category: socialnetwork, comment: \"models typi...   \n",
       "5117  category: socialnetwork, comment: \"models typi...   \n",
       "5118  category: socialnetwork, comment: \"models typi...   \n",
       "5119  category: socialnetwork, comment: \"models typi...   \n",
       "\n",
       "                                                   json  \\\n",
       "0     {\"domain\":[\"computerarchitecture\"],\"subdomain\"...   \n",
       "1     {\"domain\":[\"computerarchitecture\"],\"subdomain\"...   \n",
       "2     {\"domain\":[\"computerarchitecture\"],\"subdomain\"...   \n",
       "3     {\"domain\":[\"computerarchitecture\"],\"subdomain\"...   \n",
       "4     {\"domain\":[\"computerarchitecture\"],\"subdomain\"...   \n",
       "...                                                 ...   \n",
       "5115  {\"domain\":[\"socialnetwork\"],\"step\":[\"3\"],\"comm...   \n",
       "5116  {\"domain\":[\"socialnetwork\"],\"step\":[\"3\"],\"comm...   \n",
       "5117  {\"domain\":[\"socialnetwork\"],\"step\":[\"3\"],\"comm...   \n",
       "5118  {\"domain\":[\"socialnetwork\"],\"step\":[\"3\"],\"comm...   \n",
       "5119  {\"domain\":[\"socialnetwork\"],\"step\":[\"3\"],\"comm...   \n",
       "\n",
       "                                                   path  \\\n",
       "0     repo-genmymodel-uml/data/d5dfa406-1735-41a2-8b...   \n",
       "1     repo-genmymodel-uml/data/af70738e-8261-49fd-be...   \n",
       "2     repo-genmymodel-uml/data/248f6d20-cc60-4d1a-b0...   \n",
       "3     repo-genmymodel-uml/data/ab282145-8ab0-4b9a-bd...   \n",
       "4     repo-genmymodel-uml/data/c6d2a9fd-9149-4bdb-a3...   \n",
       "...                                                 ...   \n",
       "5115  repo-genmymodel-uml/data/cbac978a-f68d-4ddf-bf...   \n",
       "5116  repo-genmymodel-uml/data/4cc3af16-4084-412e-a4...   \n",
       "5117  repo-genmymodel-uml/data/771d7ac9-fefb-4fa6-b7...   \n",
       "5118  repo-genmymodel-uml/data/380d81a7-9747-4329-93...   \n",
       "5119  repo-genmymodel-uml/data/40966914-1f3d-4f22-83...   \n",
       "\n",
       "                                           file_content  \\\n",
       "0     <xmi:XMI xmi:version=\"2.1\" xmlns:xmi=\"http://s...   \n",
       "1     <xmi:XMI xmi:version=\"2.1\" xmlns:xmi=\"http://s...   \n",
       "2     <xmi:XMI xmi:version=\"2.1\" xmlns:xmi=\"http://s...   \n",
       "3     <xmi:XMI xmi:version=\"2.1\" xmlns:xmi=\"http://s...   \n",
       "4     <xmi:XMI xmi:version=\"2.1\" xmlns:xmi=\"http://s...   \n",
       "...                                                 ...   \n",
       "5115  <xmi:XMI xmi:version=\"2.1\" xmlns:xmi=\"http://s...   \n",
       "5116  <xmi:XMI xmi:version=\"2.1\" xmlns:xmi=\"http://s...   \n",
       "5117  <xmi:XMI xmi:version=\"2.1\" xmlns:xmi=\"http://s...   \n",
       "5118  <xmi:XMI xmi:version=\"2.1\" xmlns:xmi=\"http://s...   \n",
       "5119  <xmi:XMI xmi:version=\"2.1\" xmlns:xmi=\"http://s...   \n",
       "\n",
       "                                                  input  \n",
       "0     <?xml version='1.0' encoding='utf-8'?>\\n<xmi:X...  \n",
       "1     <?xml version='1.0' encoding='utf-8'?>\\n<xmi:X...  \n",
       "2     <?xml version='1.0' encoding='utf-8'?>\\n<xmi:X...  \n",
       "3     <?xml version='1.0' encoding='utf-8'?>\\n<xmi:X...  \n",
       "4     <?xml version='1.0' encoding='utf-8'?>\\n<xmi:X...  \n",
       "...                                                 ...  \n",
       "5115  <?xml version='1.0' encoding='utf-8'?>\\n<xmi:X...  \n",
       "5116  <?xml version='1.0' encoding='utf-8'?>\\n<xmi:X...  \n",
       "5117  <?xml version='1.0' encoding='utf-8'?>\\n<xmi:X...  \n",
       "5118  <?xml version='1.0' encoding='utf-8'?>\\n<xmi:X...  \n",
       "5119  <?xml version='1.0' encoding='utf-8'?>\\n<xmi:X...  \n",
       "\n",
       "[5120 rows x 6 columns]"
      ],
      "text/html": [
       "<div>\n",
       "<style scoped>\n",
       "    .dataframe tbody tr th:only-of-type {\n",
       "        vertical-align: middle;\n",
       "    }\n",
       "\n",
       "    .dataframe tbody tr th {\n",
       "        vertical-align: top;\n",
       "    }\n",
       "\n",
       "    .dataframe thead th {\n",
       "        text-align: right;\n",
       "    }\n",
       "</style>\n",
       "<table border=\"1\" class=\"dataframe\">\n",
       "  <thead>\n",
       "    <tr style=\"text-align: right;\">\n",
       "      <th></th>\n",
       "      <th>id</th>\n",
       "      <th>metadata</th>\n",
       "      <th>json</th>\n",
       "      <th>path</th>\n",
       "      <th>file_content</th>\n",
       "      <th>input</th>\n",
       "    </tr>\n",
       "  </thead>\n",
       "  <tbody>\n",
       "    <tr>\n",
       "      <th>0</th>\n",
       "      <td>repo-genmymodel-uml/data/d5dfa406-1735-41a2-8b...</td>\n",
       "      <td>category: computerarchitecture, comment: \"mode...</td>\n",
       "      <td>{\"domain\":[\"computerarchitecture\"],\"subdomain\"...</td>\n",
       "      <td>repo-genmymodel-uml/data/d5dfa406-1735-41a2-8b...</td>\n",
       "      <td>&lt;xmi:XMI xmi:version=\"2.1\" xmlns:xmi=\"http://s...</td>\n",
       "      <td>&lt;?xml version='1.0' encoding='utf-8'?&gt;\\n&lt;xmi:X...</td>\n",
       "    </tr>\n",
       "    <tr>\n",
       "      <th>1</th>\n",
       "      <td>repo-genmymodel-uml/data/af70738e-8261-49fd-be...</td>\n",
       "      <td>category: computerarchitecture, comment: \"mode...</td>\n",
       "      <td>{\"domain\":[\"computerarchitecture\"],\"subdomain\"...</td>\n",
       "      <td>repo-genmymodel-uml/data/af70738e-8261-49fd-be...</td>\n",
       "      <td>&lt;xmi:XMI xmi:version=\"2.1\" xmlns:xmi=\"http://s...</td>\n",
       "      <td>&lt;?xml version='1.0' encoding='utf-8'?&gt;\\n&lt;xmi:X...</td>\n",
       "    </tr>\n",
       "    <tr>\n",
       "      <th>2</th>\n",
       "      <td>repo-genmymodel-uml/data/248f6d20-cc60-4d1a-b0...</td>\n",
       "      <td>category: computerarchitecture, comment: \"mode...</td>\n",
       "      <td>{\"domain\":[\"computerarchitecture\"],\"subdomain\"...</td>\n",
       "      <td>repo-genmymodel-uml/data/248f6d20-cc60-4d1a-b0...</td>\n",
       "      <td>&lt;xmi:XMI xmi:version=\"2.1\" xmlns:xmi=\"http://s...</td>\n",
       "      <td>&lt;?xml version='1.0' encoding='utf-8'?&gt;\\n&lt;xmi:X...</td>\n",
       "    </tr>\n",
       "    <tr>\n",
       "      <th>3</th>\n",
       "      <td>repo-genmymodel-uml/data/ab282145-8ab0-4b9a-bd...</td>\n",
       "      <td>category: computerarchitecture, comment: \"mode...</td>\n",
       "      <td>{\"domain\":[\"computerarchitecture\"],\"subdomain\"...</td>\n",
       "      <td>repo-genmymodel-uml/data/ab282145-8ab0-4b9a-bd...</td>\n",
       "      <td>&lt;xmi:XMI xmi:version=\"2.1\" xmlns:xmi=\"http://s...</td>\n",
       "      <td>&lt;?xml version='1.0' encoding='utf-8'?&gt;\\n&lt;xmi:X...</td>\n",
       "    </tr>\n",
       "    <tr>\n",
       "      <th>4</th>\n",
       "      <td>repo-genmymodel-uml/data/c6d2a9fd-9149-4bdb-a3...</td>\n",
       "      <td>category: computerarchitecture, comment: \"mode...</td>\n",
       "      <td>{\"domain\":[\"computerarchitecture\"],\"subdomain\"...</td>\n",
       "      <td>repo-genmymodel-uml/data/c6d2a9fd-9149-4bdb-a3...</td>\n",
       "      <td>&lt;xmi:XMI xmi:version=\"2.1\" xmlns:xmi=\"http://s...</td>\n",
       "      <td>&lt;?xml version='1.0' encoding='utf-8'?&gt;\\n&lt;xmi:X...</td>\n",
       "    </tr>\n",
       "    <tr>\n",
       "      <th>...</th>\n",
       "      <td>...</td>\n",
       "      <td>...</td>\n",
       "      <td>...</td>\n",
       "      <td>...</td>\n",
       "      <td>...</td>\n",
       "      <td>...</td>\n",
       "    </tr>\n",
       "    <tr>\n",
       "      <th>5115</th>\n",
       "      <td>repo-genmymodel-uml/data/cbac978a-f68d-4ddf-bf...</td>\n",
       "      <td>category: socialnetwork, comment: \"models typi...</td>\n",
       "      <td>{\"domain\":[\"socialnetwork\"],\"step\":[\"3\"],\"comm...</td>\n",
       "      <td>repo-genmymodel-uml/data/cbac978a-f68d-4ddf-bf...</td>\n",
       "      <td>&lt;xmi:XMI xmi:version=\"2.1\" xmlns:xmi=\"http://s...</td>\n",
       "      <td>&lt;?xml version='1.0' encoding='utf-8'?&gt;\\n&lt;xmi:X...</td>\n",
       "    </tr>\n",
       "    <tr>\n",
       "      <th>5116</th>\n",
       "      <td>repo-genmymodel-uml/data/4cc3af16-4084-412e-a4...</td>\n",
       "      <td>category: socialnetwork, comment: \"models typi...</td>\n",
       "      <td>{\"domain\":[\"socialnetwork\"],\"step\":[\"3\"],\"comm...</td>\n",
       "      <td>repo-genmymodel-uml/data/4cc3af16-4084-412e-a4...</td>\n",
       "      <td>&lt;xmi:XMI xmi:version=\"2.1\" xmlns:xmi=\"http://s...</td>\n",
       "      <td>&lt;?xml version='1.0' encoding='utf-8'?&gt;\\n&lt;xmi:X...</td>\n",
       "    </tr>\n",
       "    <tr>\n",
       "      <th>5117</th>\n",
       "      <td>repo-genmymodel-uml/data/771d7ac9-fefb-4fa6-b7...</td>\n",
       "      <td>category: socialnetwork, comment: \"models typi...</td>\n",
       "      <td>{\"domain\":[\"socialnetwork\"],\"step\":[\"3\"],\"comm...</td>\n",
       "      <td>repo-genmymodel-uml/data/771d7ac9-fefb-4fa6-b7...</td>\n",
       "      <td>&lt;xmi:XMI xmi:version=\"2.1\" xmlns:xmi=\"http://s...</td>\n",
       "      <td>&lt;?xml version='1.0' encoding='utf-8'?&gt;\\n&lt;xmi:X...</td>\n",
       "    </tr>\n",
       "    <tr>\n",
       "      <th>5118</th>\n",
       "      <td>repo-genmymodel-uml/data/380d81a7-9747-4329-93...</td>\n",
       "      <td>category: socialnetwork, comment: \"models typi...</td>\n",
       "      <td>{\"domain\":[\"socialnetwork\"],\"step\":[\"3\"],\"comm...</td>\n",
       "      <td>repo-genmymodel-uml/data/380d81a7-9747-4329-93...</td>\n",
       "      <td>&lt;xmi:XMI xmi:version=\"2.1\" xmlns:xmi=\"http://s...</td>\n",
       "      <td>&lt;?xml version='1.0' encoding='utf-8'?&gt;\\n&lt;xmi:X...</td>\n",
       "    </tr>\n",
       "    <tr>\n",
       "      <th>5119</th>\n",
       "      <td>repo-genmymodel-uml/data/40966914-1f3d-4f22-83...</td>\n",
       "      <td>category: socialnetwork, comment: \"models typi...</td>\n",
       "      <td>{\"domain\":[\"socialnetwork\"],\"step\":[\"3\"],\"comm...</td>\n",
       "      <td>repo-genmymodel-uml/data/40966914-1f3d-4f22-83...</td>\n",
       "      <td>&lt;xmi:XMI xmi:version=\"2.1\" xmlns:xmi=\"http://s...</td>\n",
       "      <td>&lt;?xml version='1.0' encoding='utf-8'?&gt;\\n&lt;xmi:X...</td>\n",
       "    </tr>\n",
       "  </tbody>\n",
       "</table>\n",
       "<p>5120 rows × 6 columns</p>\n",
       "</div>"
      ]
     },
     "execution_count": 7,
     "metadata": {},
     "output_type": "execute_result"
    }
   ],
   "execution_count": 7
  },
  {
   "metadata": {
    "ExecuteTime": {
     "end_time": "2024-07-11T12:10:57.050612Z",
     "start_time": "2024-07-11T12:10:57.037350Z"
    }
   },
   "cell_type": "code",
   "source": "dataset_df = df[['id', 'input', 'file_content']]",
   "id": "69f4dda93b4d8cda",
   "outputs": [],
   "execution_count": 11
  },
  {
   "metadata": {
    "ExecuteTime": {
     "end_time": "2024-07-11T12:11:52.803219Z",
     "start_time": "2024-07-11T12:11:47.548991Z"
    }
   },
   "cell_type": "code",
   "source": [
    "# Path to the jsonl file you want to save\n",
    "jsonl_file_path = './data.jsonl'\n",
    "def create_dataset(jsonl_file_path, dataset_df):     \n",
    "    with open(jsonl_file_path, 'w') as file:\n",
    "        for _, row in dataset_df.iterrows():\n",
    "            # Construct the json object for each line\n",
    "            json_line = {\"input\": row['input'], \"output\": row['file_content']}\n",
    "            # Convert the dictionary to a JSON string and write it to the file\n",
    "            file.write(json.dumps(json_line) + '\\n')\n",
    "    \n",
    "\n",
    "print(f\"File saved as {jsonl_file_path}\")"
   ],
   "id": "85c47c531b79a6ce",
   "outputs": [
    {
     "name": "stdout",
     "output_type": "stream",
     "text": [
      "File saved as ./data.jsonl\n"
     ]
    }
   ],
   "execution_count": 14
  },
  {
   "metadata": {
    "ExecuteTime": {
     "end_time": "2024-07-11T12:12:48.942210Z",
     "start_time": "2024-07-11T12:12:47.765155Z"
    }
   },
   "cell_type": "code",
   "source": [
    "from sklearn.model_selection import train_test_split\n",
    "\n",
    "train, test = train_test_split(df, test_size=0.2)"
   ],
   "id": "6e2231ed6ef9e77",
   "outputs": [],
   "execution_count": 15
  },
  {
   "metadata": {
    "ExecuteTime": {
     "end_time": "2024-07-11T12:12:54.982722Z",
     "start_time": "2024-07-11T12:12:50.148212Z"
    }
   },
   "cell_type": "code",
   "source": [
    "create_dataset(\"./train.jsonl\", train)\n",
    "create_dataset(\"./test.jsonl\", test)"
   ],
   "id": "efd8dcdbbc0941ae",
   "outputs": [],
   "execution_count": 16
  },
  {
   "metadata": {},
   "cell_type": "code",
   "outputs": [],
   "execution_count": null,
   "source": "",
   "id": "3c0180f9287cac0b"
  }
 ],
 "metadata": {
  "kernelspec": {
   "display_name": "Python 3",
   "language": "python",
   "name": "python3"
  },
  "language_info": {
   "codemirror_mode": {
    "name": "ipython",
    "version": 2
   },
   "file_extension": ".py",
   "mimetype": "text/x-python",
   "name": "python",
   "nbconvert_exporter": "python",
   "pygments_lexer": "ipython2",
   "version": "2.7.6"
  }
 },
 "nbformat": 4,
 "nbformat_minor": 5
}
