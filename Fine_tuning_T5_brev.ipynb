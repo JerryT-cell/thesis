{
 "cells": [
  {
   "cell_type": "code",
   "execution_count": 14,
   "id": "initial_id",
   "metadata": {
    "ExecuteTime": {
     "end_time": "2024-07-16T07:19:42.019691Z",
     "start_time": "2024-07-16T07:19:34.655814Z"
    }
   },
   "outputs": [],
   "source": [
    "from datasets import load_dataset, load_metric\n",
    "from transformers import (T5Tokenizer, T5ForConditionalGeneration, Seq2SeqTrainingArguments, Seq2SeqTrainer,  DataCollatorForSeq2Seq)\n",
    "import torch\n",
    "import numpy as np\n",
    "import matplotlib\n",
    "import accelerate"
   ]
  },
  {
   "cell_type": "markdown",
   "id": "b7f5349c23da5dbb",
   "metadata": {},
   "source": [
    "Get Data"
   ]
  },
  {
   "cell_type": "code",
   "execution_count": 15,
   "id": "383fcb3161e7942c",
   "metadata": {
    "ExecuteTime": {
     "end_time": "2024-07-13T03:01:19.934621Z",
     "start_time": "2024-07-13T03:01:19.072307Z"
    }
   },
   "outputs": [],
   "source": [
    "data_files = {\n",
    "    'train': 't5_datasets_class1/t5_train_valid_test/train.jsonl',\n",
    "    'test': 't5_datasets_class1/t5_train_valid_test/test.jsonl',\n",
    "    'validation': 't5_datasets_class1/t5_train_valid_test/validation.jsonl'\n",
    "}\n",
    "\n",
    "dataset = load_dataset('json', data_files=data_files)\n",
    "train_dataset = dataset['train']\n",
    "test_dataset = dataset['test']\n",
    "validation_dataset = dataset['validation']"
   ]
  },
  {
   "cell_type": "code",
   "execution_count": 16,
   "id": "4e08e0c0cadcde22",
   "metadata": {
    "ExecuteTime": {
     "end_time": "2024-07-13T03:01:26.862959Z",
     "start_time": "2024-07-13T03:01:26.857148Z"
    }
   },
   "outputs": [
    {
     "data": {
      "text/plain": [
       "DatasetDict({\n",
       "    train: Dataset({\n",
       "        features: ['input', 'output'],\n",
       "        num_rows: 3584\n",
       "    })\n",
       "    test: Dataset({\n",
       "        features: ['input', 'output'],\n",
       "        num_rows: 768\n",
       "    })\n",
       "    validation: Dataset({\n",
       "        features: ['input', 'output'],\n",
       "        num_rows: 768\n",
       "    })\n",
       "})"
      ]
     },
     "execution_count": 16,
     "metadata": {},
     "output_type": "execute_result"
    }
   ],
   "source": [
    "dataset"
   ]
  },
  {
   "cell_type": "markdown",
   "id": "a975af5c54a27cf",
   "metadata": {},
   "source": [
    "Get the token and the T5 model"
   ]
  },
  {
   "cell_type": "code",
   "execution_count": 17,
   "id": "cfcdb56502dd91fc",
   "metadata": {
    "ExecuteTime": {
     "end_time": "2024-07-13T03:01:32.641837Z",
     "start_time": "2024-07-13T03:01:30.465559Z"
    }
   },
   "outputs": [
    {
     "name": "stderr",
     "output_type": "stream",
     "text": [
      "Special tokens have been added in the vocabulary, make sure the associated word embeddings are fine-tuned or trained.\n"
     ]
    }
   ],
   "source": [
    "model_name = 'google-t5/t5-base'\n",
    "tokenizer = T5Tokenizer.from_pretrained(model_name)\n",
    "model = T5ForConditionalGeneration.from_pretrained(model_name)"
   ]
  },
  {
   "cell_type": "markdown",
   "id": "e35c1cd86d2f4627",
   "metadata": {},
   "source": [
    "preprocess the data"
   ]
  },
  {
   "cell_type": "code",
   "execution_count": 18,
   "id": "4956a905208daf26",
   "metadata": {
    "ExecuteTime": {
     "end_time": "2024-07-13T03:01:35.567008Z",
     "start_time": "2024-07-13T03:01:35.563802Z"
    }
   },
   "outputs": [],
   "source": [
    "def preprocess_function(data_p):\n",
    "    prefix = \"complete: \"\n",
    "    max_length = 512\n",
    "    inputs = [prefix + d for d in data_p['input']]\n",
    "    targets = [d for d in data_p['output']]\n",
    "    model_input = tokenizer(inputs, max_length=max_length, padding=\"max_length\", truncation=True)\n",
    "    \n",
    "    with tokenizer.as_target_tokenizer():\n",
    "        labels = tokenizer(targets, max_length=max_length, padding=\"max_length\", truncation=True)\n",
    "        \n",
    "    model_input['labels'] = labels['input_ids']  \n",
    "    return model_input"
   ]
  },
  {
   "cell_type": "code",
   "execution_count": 19,
   "id": "924e7d00b0a2330d",
   "metadata": {
    "ExecuteTime": {
     "end_time": "2024-07-13T03:01:37.203596Z",
     "start_time": "2024-07-13T03:01:36.965926Z"
    }
   },
   "outputs": [],
   "source": [
    "trained_data = train_dataset.map(preprocess_function, batched=True)\n",
    "validation_data = validation_dataset.map(preprocess_function, batched=True)\n",
    "test_data = test_dataset.map(preprocess_function, batched=True)"
   ]
  },
  {
   "cell_type": "code",
   "execution_count": 20,
   "id": "914474bc8c4d76db",
   "metadata": {
    "ExecuteTime": {
     "end_time": "2024-07-13T03:01:51.802948Z",
     "start_time": "2024-07-13T03:01:51.787877Z"
    }
   },
   "outputs": [
    {
     "data": {
      "text/plain": [
       "'cuda'"
      ]
     },
     "execution_count": 20,
     "metadata": {},
     "output_type": "execute_result"
    }
   ],
   "source": [
    "device = 'cuda' if torch.cuda.is_available() else 'cpu'\n",
    "device"
   ]
  },
  {
   "cell_type": "code",
   "execution_count": 21,
   "id": "45b69b34-315b-4f99-866e-2f97433d3985",
   "metadata": {},
   "outputs": [
    {
     "data": {
      "text/plain": [
       "T5ForConditionalGeneration(\n",
       "  (shared): Embedding(32128, 768)\n",
       "  (encoder): T5Stack(\n",
       "    (embed_tokens): Embedding(32128, 768)\n",
       "    (block): ModuleList(\n",
       "      (0): T5Block(\n",
       "        (layer): ModuleList(\n",
       "          (0): T5LayerSelfAttention(\n",
       "            (SelfAttention): T5Attention(\n",
       "              (q): Linear(in_features=768, out_features=768, bias=False)\n",
       "              (k): Linear(in_features=768, out_features=768, bias=False)\n",
       "              (v): Linear(in_features=768, out_features=768, bias=False)\n",
       "              (o): Linear(in_features=768, out_features=768, bias=False)\n",
       "              (relative_attention_bias): Embedding(32, 12)\n",
       "            )\n",
       "            (layer_norm): T5LayerNorm()\n",
       "            (dropout): Dropout(p=0.1, inplace=False)\n",
       "          )\n",
       "          (1): T5LayerFF(\n",
       "            (DenseReluDense): T5DenseActDense(\n",
       "              (wi): Linear(in_features=768, out_features=3072, bias=False)\n",
       "              (wo): Linear(in_features=3072, out_features=768, bias=False)\n",
       "              (dropout): Dropout(p=0.1, inplace=False)\n",
       "              (act): ReLU()\n",
       "            )\n",
       "            (layer_norm): T5LayerNorm()\n",
       "            (dropout): Dropout(p=0.1, inplace=False)\n",
       "          )\n",
       "        )\n",
       "      )\n",
       "      (1-11): 11 x T5Block(\n",
       "        (layer): ModuleList(\n",
       "          (0): T5LayerSelfAttention(\n",
       "            (SelfAttention): T5Attention(\n",
       "              (q): Linear(in_features=768, out_features=768, bias=False)\n",
       "              (k): Linear(in_features=768, out_features=768, bias=False)\n",
       "              (v): Linear(in_features=768, out_features=768, bias=False)\n",
       "              (o): Linear(in_features=768, out_features=768, bias=False)\n",
       "            )\n",
       "            (layer_norm): T5LayerNorm()\n",
       "            (dropout): Dropout(p=0.1, inplace=False)\n",
       "          )\n",
       "          (1): T5LayerFF(\n",
       "            (DenseReluDense): T5DenseActDense(\n",
       "              (wi): Linear(in_features=768, out_features=3072, bias=False)\n",
       "              (wo): Linear(in_features=3072, out_features=768, bias=False)\n",
       "              (dropout): Dropout(p=0.1, inplace=False)\n",
       "              (act): ReLU()\n",
       "            )\n",
       "            (layer_norm): T5LayerNorm()\n",
       "            (dropout): Dropout(p=0.1, inplace=False)\n",
       "          )\n",
       "        )\n",
       "      )\n",
       "    )\n",
       "    (final_layer_norm): T5LayerNorm()\n",
       "    (dropout): Dropout(p=0.1, inplace=False)\n",
       "  )\n",
       "  (decoder): T5Stack(\n",
       "    (embed_tokens): Embedding(32128, 768)\n",
       "    (block): ModuleList(\n",
       "      (0): T5Block(\n",
       "        (layer): ModuleList(\n",
       "          (0): T5LayerSelfAttention(\n",
       "            (SelfAttention): T5Attention(\n",
       "              (q): Linear(in_features=768, out_features=768, bias=False)\n",
       "              (k): Linear(in_features=768, out_features=768, bias=False)\n",
       "              (v): Linear(in_features=768, out_features=768, bias=False)\n",
       "              (o): Linear(in_features=768, out_features=768, bias=False)\n",
       "              (relative_attention_bias): Embedding(32, 12)\n",
       "            )\n",
       "            (layer_norm): T5LayerNorm()\n",
       "            (dropout): Dropout(p=0.1, inplace=False)\n",
       "          )\n",
       "          (1): T5LayerCrossAttention(\n",
       "            (EncDecAttention): T5Attention(\n",
       "              (q): Linear(in_features=768, out_features=768, bias=False)\n",
       "              (k): Linear(in_features=768, out_features=768, bias=False)\n",
       "              (v): Linear(in_features=768, out_features=768, bias=False)\n",
       "              (o): Linear(in_features=768, out_features=768, bias=False)\n",
       "            )\n",
       "            (layer_norm): T5LayerNorm()\n",
       "            (dropout): Dropout(p=0.1, inplace=False)\n",
       "          )\n",
       "          (2): T5LayerFF(\n",
       "            (DenseReluDense): T5DenseActDense(\n",
       "              (wi): Linear(in_features=768, out_features=3072, bias=False)\n",
       "              (wo): Linear(in_features=3072, out_features=768, bias=False)\n",
       "              (dropout): Dropout(p=0.1, inplace=False)\n",
       "              (act): ReLU()\n",
       "            )\n",
       "            (layer_norm): T5LayerNorm()\n",
       "            (dropout): Dropout(p=0.1, inplace=False)\n",
       "          )\n",
       "        )\n",
       "      )\n",
       "      (1-11): 11 x T5Block(\n",
       "        (layer): ModuleList(\n",
       "          (0): T5LayerSelfAttention(\n",
       "            (SelfAttention): T5Attention(\n",
       "              (q): Linear(in_features=768, out_features=768, bias=False)\n",
       "              (k): Linear(in_features=768, out_features=768, bias=False)\n",
       "              (v): Linear(in_features=768, out_features=768, bias=False)\n",
       "              (o): Linear(in_features=768, out_features=768, bias=False)\n",
       "            )\n",
       "            (layer_norm): T5LayerNorm()\n",
       "            (dropout): Dropout(p=0.1, inplace=False)\n",
       "          )\n",
       "          (1): T5LayerCrossAttention(\n",
       "            (EncDecAttention): T5Attention(\n",
       "              (q): Linear(in_features=768, out_features=768, bias=False)\n",
       "              (k): Linear(in_features=768, out_features=768, bias=False)\n",
       "              (v): Linear(in_features=768, out_features=768, bias=False)\n",
       "              (o): Linear(in_features=768, out_features=768, bias=False)\n",
       "            )\n",
       "            (layer_norm): T5LayerNorm()\n",
       "            (dropout): Dropout(p=0.1, inplace=False)\n",
       "          )\n",
       "          (2): T5LayerFF(\n",
       "            (DenseReluDense): T5DenseActDense(\n",
       "              (wi): Linear(in_features=768, out_features=3072, bias=False)\n",
       "              (wo): Linear(in_features=3072, out_features=768, bias=False)\n",
       "              (dropout): Dropout(p=0.1, inplace=False)\n",
       "              (act): ReLU()\n",
       "            )\n",
       "            (layer_norm): T5LayerNorm()\n",
       "            (dropout): Dropout(p=0.1, inplace=False)\n",
       "          )\n",
       "        )\n",
       "      )\n",
       "    )\n",
       "    (final_layer_norm): T5LayerNorm()\n",
       "    (dropout): Dropout(p=0.1, inplace=False)\n",
       "  )\n",
       "  (lm_head): Linear(in_features=768, out_features=32128, bias=False)\n",
       ")"
      ]
     },
     "execution_count": 21,
     "metadata": {},
     "output_type": "execute_result"
    }
   ],
   "source": [
    "model.to(device)"
   ]
  },
  {
   "cell_type": "code",
   "execution_count": 22,
   "id": "668c5748d093d927",
   "metadata": {
    "ExecuteTime": {
     "end_time": "2024-07-13T03:01:42.125841Z",
     "start_time": "2024-07-13T03:01:42.115825Z"
    }
   },
   "outputs": [
    {
     "data": {
      "text/plain": [
       "datasets.arrow_dataset.Dataset"
      ]
     },
     "execution_count": 22,
     "metadata": {},
     "output_type": "execute_result"
    }
   ],
   "source": [
    "type(validation_data)"
   ]
  },
  {
   "cell_type": "markdown",
   "id": "fb49d653b28a3e68",
   "metadata": {},
   "source": [
    "training arguments"
   ]
  },
  {
   "cell_type": "code",
   "execution_count": 23,
   "id": "ad5e5606fa8bc4e2",
   "metadata": {
    "ExecuteTime": {
     "end_time": "2024-07-13T03:01:44.725643Z",
     "start_time": "2024-07-13T03:01:44.670404Z"
    }
   },
   "outputs": [
    {
     "name": "stderr",
     "output_type": "stream",
     "text": [
      "/home/ubuntu/.pyenv/versions/3.10.14/lib/python3.10/site-packages/transformers/training_args.py:1494: FutureWarning: `evaluation_strategy` is deprecated and will be removed in version 4.46 of 🤗 Transformers. Use `eval_strategy` instead\n",
      "  warnings.warn(\n"
     ]
    }
   ],
   "source": [
    "batch_size = 5\n",
    "epochs = 5\n",
    "max_length = 512\n",
    "output_dir = 't5_results/results'\n",
    "logs_dir = 't5_results/logs'\n",
    "\n",
    "\n",
    "\n",
    "args = Seq2SeqTrainingArguments(\n",
    "    output_dir = output_dir,\n",
    "    evaluation_strategy='steps',\n",
    "    per_device_train_batch_size=batch_size,\n",
    "    per_device_eval_batch_size=batch_size,\n",
    "    learning_rate=3e-5,\n",
    "    num_train_epochs=epochs,\n",
    "    logging_dir=logs_dir,\n",
    "    eval_steps=200,\n",
    "    logging_steps=200,\n",
    "    save_steps=200,\n",
    "    save_strategy=\"steps\",\n",
    "    weight_decay=0.01,\n",
    "    load_best_model_at_end=True,\n",
    "    fp16=True,\n",
    "    #predict_with_generate=True,\n",
    "    warmup_steps=500\n",
    ")"
   ]
  },
  {
   "cell_type": "markdown",
   "id": "28b7701b83a442e0",
   "metadata": {},
   "source": [
    "The trainer"
   ]
  },
  {
   "cell_type": "code",
   "execution_count": 24,
   "id": "254f44b871964903",
   "metadata": {
    "ExecuteTime": {
     "end_time": "2024-07-13T03:01:48.719712Z",
     "start_time": "2024-07-13T03:01:48.491400Z"
    }
   },
   "outputs": [],
   "source": [
    "trainer = Seq2SeqTrainer(\n",
    "    model=model,\n",
    "    args=args,\n",
    "    train_dataset= trained_data,\n",
    "    eval_dataset= validation_data,\n",
    ")"
   ]
  },
  {
   "cell_type": "markdown",
   "id": "933c3baa7d75bc5a",
   "metadata": {},
   "source": [
    "GPU"
   ]
  },
  {
   "cell_type": "markdown",
   "id": "3eebc8e608fcd685",
   "metadata": {},
   "source": []
  },
  {
   "cell_type": "markdown",
   "id": "38d991cdf7145a3b",
   "metadata": {},
   "source": [
    "Train the model"
   ]
  },
  {
   "cell_type": "code",
   "execution_count": 25,
   "id": "47473d537caa3dd5",
   "metadata": {
    "ExecuteTime": {
     "end_time": "2024-07-13T09:00:27.689598Z",
     "start_time": "2024-07-13T03:01:53.060007Z"
    }
   },
   "outputs": [
    {
     "data": {
      "text/html": [
       "\n",
       "    <div>\n",
       "      \n",
       "      <progress value='3585' max='3585' style='width:300px; height:20px; vertical-align: middle;'></progress>\n",
       "      [3585/3585 1:00:14, Epoch 5/5]\n",
       "    </div>\n",
       "    <table border=\"1\" class=\"dataframe\">\n",
       "  <thead>\n",
       " <tr style=\"text-align: left;\">\n",
       "      <th>Step</th>\n",
       "      <th>Training Loss</th>\n",
       "      <th>Validation Loss</th>\n",
       "    </tr>\n",
       "  </thead>\n",
       "  <tbody>\n",
       "    <tr>\n",
       "      <td>200</td>\n",
       "      <td>6.772800</td>\n",
       "      <td>0.558686</td>\n",
       "    </tr>\n",
       "    <tr>\n",
       "      <td>400</td>\n",
       "      <td>0.517900</td>\n",
       "      <td>0.370332</td>\n",
       "    </tr>\n",
       "    <tr>\n",
       "      <td>600</td>\n",
       "      <td>0.391800</td>\n",
       "      <td>0.320692</td>\n",
       "    </tr>\n",
       "    <tr>\n",
       "      <td>800</td>\n",
       "      <td>0.337200</td>\n",
       "      <td>0.297587</td>\n",
       "    </tr>\n",
       "    <tr>\n",
       "      <td>1000</td>\n",
       "      <td>0.322700</td>\n",
       "      <td>0.279326</td>\n",
       "    </tr>\n",
       "    <tr>\n",
       "      <td>1200</td>\n",
       "      <td>0.307800</td>\n",
       "      <td>0.262518</td>\n",
       "    </tr>\n",
       "    <tr>\n",
       "      <td>1400</td>\n",
       "      <td>0.293200</td>\n",
       "      <td>0.251552</td>\n",
       "    </tr>\n",
       "    <tr>\n",
       "      <td>1600</td>\n",
       "      <td>0.274500</td>\n",
       "      <td>0.238591</td>\n",
       "    </tr>\n",
       "    <tr>\n",
       "      <td>1800</td>\n",
       "      <td>0.266100</td>\n",
       "      <td>0.233667</td>\n",
       "    </tr>\n",
       "    <tr>\n",
       "      <td>2000</td>\n",
       "      <td>0.264800</td>\n",
       "      <td>0.225823</td>\n",
       "    </tr>\n",
       "    <tr>\n",
       "      <td>2200</td>\n",
       "      <td>0.258300</td>\n",
       "      <td>0.222328</td>\n",
       "    </tr>\n",
       "    <tr>\n",
       "      <td>2400</td>\n",
       "      <td>0.251200</td>\n",
       "      <td>0.218924</td>\n",
       "    </tr>\n",
       "    <tr>\n",
       "      <td>2600</td>\n",
       "      <td>0.251400</td>\n",
       "      <td>0.213097</td>\n",
       "    </tr>\n",
       "    <tr>\n",
       "      <td>2800</td>\n",
       "      <td>0.240200</td>\n",
       "      <td>0.210727</td>\n",
       "    </tr>\n",
       "    <tr>\n",
       "      <td>3000</td>\n",
       "      <td>0.242600</td>\n",
       "      <td>0.205965</td>\n",
       "    </tr>\n",
       "    <tr>\n",
       "      <td>3200</td>\n",
       "      <td>0.227000</td>\n",
       "      <td>0.204346</td>\n",
       "    </tr>\n",
       "    <tr>\n",
       "      <td>3400</td>\n",
       "      <td>0.231100</td>\n",
       "      <td>0.200681</td>\n",
       "    </tr>\n",
       "  </tbody>\n",
       "</table><p>"
      ],
      "text/plain": [
       "<IPython.core.display.HTML object>"
      ]
     },
     "metadata": {},
     "output_type": "display_data"
    },
    {
     "name": "stderr",
     "output_type": "stream",
     "text": [
      "There were missing keys in the checkpoint model loaded: ['encoder.embed_tokens.weight', 'decoder.embed_tokens.weight', 'lm_head.weight'].\n"
     ]
    },
    {
     "data": {
      "text/plain": [
       "TrainOutput(global_step=3585, training_loss=0.6508417999395266, metrics={'train_runtime': 3614.9656, 'train_samples_per_second': 4.957, 'train_steps_per_second': 0.992, 'total_flos': 1.09125253988352e+16, 'train_loss': 0.6508417999395266, 'epoch': 5.0})"
      ]
     },
     "execution_count": 25,
     "metadata": {},
     "output_type": "execute_result"
    }
   ],
   "source": [
    "trainer.train()"
   ]
  },
  {
   "cell_type": "markdown",
   "id": "593fd50ca7af1ddd",
   "metadata": {},
   "source": [
    "save model  and tokenizer"
   ]
  },
  {
   "cell_type": "code",
   "execution_count": 26,
   "id": "3ebbaf7b4b5d86c0",
   "metadata": {
    "ExecuteTime": {
     "end_time": "2024-07-13T11:00:44.651543Z",
     "start_time": "2024-07-13T11:00:43.661306Z"
    }
   },
   "outputs": [
    {
     "data": {
      "text/plain": [
       "('t5_data/model/tokenizer_config.json',\n",
       " 't5_data/model/special_tokens_map.json',\n",
       " 't5_data/model/spiece.model',\n",
       " 't5_data/model/added_tokens.json')"
      ]
     },
     "execution_count": 26,
     "metadata": {},
     "output_type": "execute_result"
    }
   ],
   "source": [
    "model_path = 't5_data/model'\n",
    "model.save_pretrained(model_path)\n",
    "tokenizer.save_pretrained(model_path)"
   ]
  },
  {
   "cell_type": "markdown",
   "id": "3d09c73ca070ac4b",
   "metadata": {},
   "source": [
    "Inferencing"
   ]
  },
  {
   "cell_type": "code",
   "execution_count": 2,
   "id": "b0d3fca8-89c4-4437-bb03-1e18e35c73d6",
   "metadata": {},
   "outputs": [],
   "source": [
    "import shutil"
   ]
  },
  {
   "cell_type": "code",
   "execution_count": 3,
   "id": "247a95bc-8956-4d08-8a89-d8cdb1ec39fa",
   "metadata": {},
   "outputs": [
    {
     "data": {
      "text/plain": [
       "'/home/ubuntu/verb-workspace/first/datasets_train_valid_test.zip'"
      ]
     },
     "execution_count": 3,
     "metadata": {},
     "output_type": "execute_result"
    }
   ],
   "source": [
    "shutil.make_archive(\"datasets_train_valid_test\", 'zip', 't5_datasets_class1/t5_train_valid_test')\n"
   ]
  },
  {
   "cell_type": "code",
   "execution_count": 29,
   "id": "f97d3f90-d5c7-4476-a3ce-1fb5c929e6ef",
   "metadata": {},
   "outputs": [],
   "source": [
    "test_dataset = dataset['test']"
   ]
  },
  {
   "cell_type": "code",
   "execution_count": 30,
   "id": "365f0e1d-7731-4d62-9fbd-d1cf277acfdf",
   "metadata": {},
   "outputs": [
    {
     "data": {
      "text/plain": [
       "'<xmi:XMI xmi:version=\"2.1\" xmlns:xmi=\"http://schema.omg.org/spec/XMI/2.1\" xmlns:xsi=\"http://www.w3.org/2001/XMLSchema-instance\" xmlns:uml=\"http://www.eclipse.org/uml2/5.0.0/UML\">\\n  <uml:Model xmi:id=\"_2ACcIJROEeqqGZh46IEtXQ\" name=\"model\">\\n    <xmi:Extension extender=\"http://www.eclipse.org/emf/2002/Ecore\">\\n      <eAnnotations xmi:id=\"_2ACcIZROEeqqGZh46IEtXQ\" source=\"genmymodel\">\\n        <details xmi:id=\"_2ACcIpROEeqqGZh46IEtXQ\" key=\"uuid\" value=\"75b4ca00-a639-4435-b2b2-3499c00617b4\"/>\\n      </eAnnotations>\\n    </xmi:Extension>\\n    <ownedComment xmi:id=\"_2ACcI5ROEeqqGZh46IEtXQ\" body=\"Flights&#xA;-We want to model a system for management of flights and pilots. An airline operates flights. Each airline has an ID.&#xA;-Each flight has an ID a departure airport and an arrival airport: an airport as a unique identifier.&#xA;-Each flight has a pilot and a co-pilot, and it uses an aircraft of a certain type; a flight has also a departure time and an arrival time.&#xA;-An airline owns a set of aircrafts of different types. &#xA;-An aircraft can be in a working state or it can be under repair. &#xA;-In a particular moment an aircraft can be landed or airborne. &#xA;-A company has a set of pilots: each pilot has an experience level: 1 is minimum, 3 is maximum.&#xA;-A type of aeroplane may need a particular number of pilots, with a different role (e.g.: captain, co-pilot, navigator): there must be at least one captain and one co-pilot, and a captain must have a level 3.\">\\n      <xmi:Extension extender=\"http://www.eclipse.org/emf/2002/Ecore\">\\n        <eAnnotations xmi:id=\"_2ACcJJROEeqqGZh46IEtXQ\" source=\"genmymodel\">\\n          <details xmi:id=\"_2ACcJZROEeqqGZh46IEtXQ\" key=\"uuid\" value=\"_sqhagUkDEDK8NuSP8ERbeA\"/>\\n        </eAnnotations>\\n      </xmi:Extension>\\n    </ownedComment>\\n    <packageImport xmi:id=\"_2ACcJpROEeqqGZh46IEtXQ\" importingNamespace=\"_2ACcIJROEeqqGZh46IEtXQ\">\\n      <xmi:Extension extender=\"http://www.eclipse.org/emf/2002/Ecore\">\\n        <eAnnotations xmi:id=\"_2ACcJ5ROEeqqGZh46IEtXQ\" source=\"genmymodel\">\\n          <details xmi:id=\"_2ACcKJROEeqqGZh46IEtXQ\" key=\"uuid\" value=\"_qLTc0GbVEeS3yOrtnopAkA\"/>\\n        </eAnnotations>\\n      </xmi:Extension>\\n      <importedPackage href=\"http://www.omg.org/spec/UML/20131001/PrimitiveTypes.xmi#/\"/>\\n    </packageImport>\\n    <packageImport xmi:id=\"_2ACcKZROEeqqGZh46IEtXQ\" importingNamespace=\"_2ACcIJROEeqqGZh46IEtXQ\">\\n      <xmi:Extension extender=\"http://www.eclipse.org/emf/2002/Ecore\">\\n        <eAnnotations xmi:id=\"_2ACcKpROEeqqGZh46IEtXQ\" source=\"genmymodel\">\\n          <details xmi:id=\"_2ACcK5ROEeqqGZh46IEtXQ\" key=\"uuid\" value=\"_qLTc0WbVEeS3yOrtnopAkA\"/>\\n        </eAnnotations>\\n      </xmi:Extension>\\n      <importedPackage href=\"pathmap://GENMYMODEL_LIBRARIES/GenMyModelPrimitiveTypes.library.uml#/\"/>\\n    </packageImport>\\n    <packagedElement xsi:type=\"uml:Class\" xmi:id=\"_2ACcLJROEeqqGZh46IEtXQ\" name=\"Airline\">\\n      <xmi:Extension extender=\"http://www.eclipse.org/emf/2002/Ecore\">\\n        <eAnnotations xmi:id=\"_2ACcLZROEeqqGZh46IEtXQ\" source=\"genmymodel\">\\n          <details xmi:id=\"_2ACcLpROEeqqGZh46IEtXQ\" key=\"uuid\" value=\"_EOPjgEkEEDK8NuSP8ERbeA\"/>\\n        </eAnnotations>\\n      </xmi:Extension>\\n      <ownedAttribute xmi:id=\"_2ACcL5ROEeqqGZh46IEtXQ\" name=\"id\">\\n        <xmi:Extension extender=\"http://www.eclipse.org/emf/2002/Ecore\">\\n          <eAnnotations xmi:id=\"_2ACcMJROEeqqGZh46IEtXQ\" source=\"genmymodel\">\\n            <details xmi:id=\"_2ACcMZROEeqqGZh46IEtXQ\" key=\"uuid\" value=\"_GMagYEkEEDK8NuSP8ERbeA\"/>\\n          </eAnnotations>\\n        </xmi:Extension>\\n        <type xsi:type=\"uml:PrimitiveType\" href=\"http://www.omg.org/spec/UML/20131001/PrimitiveTypes.xmi#//String\"/>\\n      </ownedAttribute>\\n    </packagedElement>\\n    <packagedElement xsi:type=\"uml:Class\" xmi:id=\"_2ACcMpROEeqqGZh46IEtXQ\" name=\"Flight\">\\n      <xmi:Extension extender=\"http://www.eclipse.org/emf/2002/Ecore\">\\n        <eAnnotations xmi:id=\"_2ACcM5ROEeqqGZh46IEtXQ\" source=\"genmymodel\">\\n          <details xmi:id=\"_2ACcNJROEeqqGZh46IEtXQ\" key=\"uuid\" value=\"_E3NA8EkEEDK8NuSP8ERbeA\"/>\\n        </eAnnotations>\\n      </xmi:Extension>\\n      <ownedAttribute xmi:id=\"_2ACcNZROEeqqGZh46IEtXQ\" name=\"id\">\\n        <xmi:Extension extender=\"http://www.eclipse.org/emf/2002/Ecore\">\\n          <eAnnotations xmi:id=\"_2ACcNpROEeqqGZh46IEtXQ\" source=\"genmymodel\">\\n            <details xmi:id=\"_2ACcN5ROEeqqGZh46IEtXQ\" key=\"uuid\" value=\"_NxfbYEkEEDK8NuSP8ERbeA\"/>\\n          </eAnnotations>\\n        </xmi:Extension>\\n        <type xsi:type=\"uml:PrimitiveType\" href=\"http://www.omg.org/spec/UML/20131001/PrimitiveTypes.xmi#//Integer\"/>\\n      </ownedAttribute>\\n      <ownedAttribute xmi:id=\"_2ACcOJROEeqqGZh46IEtXQ\" name=\"departureTime\">\\n        <xmi:Extension extender=\"http://www.eclipse.org/emf/2002/Ecore\">\\n          <eAnnotations xmi:id=\"_2ACcOZROEeqqGZh46IEtXQ\" source=\"genmymodel\">\\n            <details xmi:id=\"_2ACcOpROEeqqGZh46IEtXQ\" key=\"uuid\" value=\"_wi_rcEkEEDK8NuSP8ERbeA\"/>\\n          </eAnnotations>\\n        </xmi:Extension>\\n        <type xsi:type=\"uml:PrimitiveType\" href=\"pathmap://GENMYMODEL_LIBRARIES/GenMyModelPrimitiveTypes.library.uml#//Date\"/>\\n      </ownedAttribute>\\n      <ownedAttribute xmi:id=\"_2ACcO5ROEeqqGZh46IEtXQ\" name=\"arrivalTime\">\\n        <xmi:Extension extender=\"http://www.eclipse.org/emf/2002/Ecore\">\\n          <eAnnotations xmi:id=\"_2ACcPJROEeqqGZh46IEtXQ\" source=\"genmymodel\">\\n            <details xmi:id=\"_2ACcPZROEeqqGZh46IEtXQ\" key=\"uuid\" value=\"_2B3H4EkEEDK8NuSP8ERbeA\"/>\\n          </eAnnotations>\\n        </xmi:Extension>\\n        <type xsi:type=\"uml:PrimitiveType\" href=\"pathmap://GENMYMODEL_LIBRARIES/GenMyModelPrimitiveTypes.library.uml#//Date\"/>\\n      </ownedAttribute>\\n    </packagedElement>\\n    <packagedElement xsi:type=\"uml:Class\" xmi:id=\"_2ACcPpROEeqqGZh46IEtXQ\" name=\"Airport\">\\n      <xmi:Extension extender=\"http://www.eclipse.org/emf/2002/Ecore\">\\n        <eAnnotations xmi:id=\"_2ACcP5ROEeqqGZh46IEtXQ\" source=\"genmymodel\">\\n          <details xmi:id=\"_2ACcQJROEeqqGZh46IEtXQ\" key=\"uuid\" value=\"_WGpvgEkEEDK8NuSP8ERbeA\"/>\\n        </eAnnotations>\\n      </xmi:Extension>\\n      <ownedAttribute xmi:id=\"_2ACcQZROEeqqGZh46IEtXQ\" name=\"id\">\\n        <xmi:Extension extender=\"http://www.eclipse.org/emf/2002/Ecore\">\\n          <eAnnotations xmi:id=\"_2ACcQpROEeqqGZh46IEtXQ\" source=\"genmymodel\">\\n            <details xmi:id=\"_2ACcQ5ROEeqqGZh46IEtXQ\" key=\"uuid\" value=\"_aozFAEkEEDK8NuSP8ERbeA\"/>\\n          </eAnnotations>\\n        </xmi:Extension>\\n        <type xsi:type=\"uml:PrimitiveType\" href=\"http://www.omg.org/spec/UML/20131001/PrimitiveTypes.xmi#//String\"/>\\n      </ownedAttribute>\\n    </packagedElement>\\n    <packagedElement xsi:type=\"uml:Class\" xmi:id=\"_2ACcRJROEeqqGZh46IEtXQ\" name=\"Pilot\">\\n      <xmi:Extension extender=\"http://www.eclipse.org/emf/2002/Ecore\">\\n        <eAnnotations xmi:id=\"_2ACcRZROEeqqGZh46IEtXQ\" source=\"genmymodel\">\\n          <details xmi:id=\"_2ACcRpROEeqqGZh46IEtXQ\" key=\"uuid\" value=\"_fr8OwEkEEDK8NuSP8ERbeA\"/>\\n        </eAnnotations>\\n      </xmi:Extension>\\n    </packagedElement>\\n    <packagedElement xsi:type=\"uml:Class\" xmi:id=\"_2ACcR5ROEeqqGZh46IEtXQ\" name=\"Aircraft\">\\n      <xmi:Extension extender=\"http://www.eclipse.org/emf/2002/Ecore\">\\n        <eAnnotations xmi:id=\"_2ACcSJROEeqqGZh46IEtXQ\" source=\"genmymodel\">\\n          <details xmi:id=\"_2ACcSZROEeqqGZh46IEtXQ\" key=\"uuid\" value=\"_qP7K4EkEEDK8NuSP8ERbeA\"/>\\n        </eAnnotations>\\n      </xmi:Extension>\\n      <ownedAttribute xmi:id=\"_2ACcSpROEeqqGZh46IEtXQ\" name=\"state\" type=\"_2ACcXZROEeqqGZh46IEtXQ\">\\n        <xmi:Extension extender=\"http://www.eclipse.org/emf/2002/Ecore\">\\n          <eAnnotations xmi:id=\"_2ACcS5ROEeqqGZh46IEtXQ\" source=\"genmymodel\">\\n            <details xmi:id=\"_2ACcTJROEeqqGZh46IEtXQ\" key=\"uuid\" value=\"_SgYW8EkFEDK8NuSP8ERbeA\"/>\\n          </eAnnotations>\\n        </xmi:Extension>\\n      </ownedAttribute>\\n      <ownedAttribute xmi:id=\"_2ACcTZROEeqqGZh46IEtXQ\" name=\"flightState\" type=\"_2ACcZpROEeqqGZh46IEtXQ\">\\n        <xmi:Extension extender=\"http://www.eclipse.org/emf/2002/Ecore\">\\n          <eAnnotations xmi:id=\"_2ACcTpROEeqqGZh46IEtXQ\" source=\"genmymodel\">\\n            <details xmi:id=\"_2ACcT5ROEeqqGZh46IEtXQ\" key=\"uuid\" value=\"_eZprAEkFEDK8NuSP8ERbeA\"/>\\n          </eAnnotations>\\n        </xmi:Extension>\\n      </ownedAttribute>\\n    </packagedElement>\\n    <packagedElement xsi:type=\"uml:Association\" xmi:id=\"_2ACcUJROEeqqGZh46IEtXQ\" name=\"Airline_Aircraft\" memberEnd=\"_2ACcU5ROEeqqGZh46IEtXQ _2ACcWJROEeqqGZh46IEtXQ\" navigableOwnedEnd=\"_2ACcU5ROEeqqGZh46IEtXQ _2ACcWJROEeqqGZh46IEtXQ\">\\n      <xmi:Extension extender=\"http://www.eclipse.org/emf/2002/Ecore\">\\n        <eAnnotations xmi:id=\"_2ACcUZROEeqqGZh46IEtXQ\" source=\"genmymodel\">\\n          <details xmi:id=\"_2ACcUpROEeqqGZh46IEtXQ\" key=\"uuid\" value=\"_AAeGEUkFEDK8NuSP8ERbeA\"/>\\n        </eAnnotations>\\n      </xmi:Extension>\\n      <ownedEnd xmi:id=\"_2ACcU5ROEeqqGZh46IEtXQ\" name=\"aircraft\" type=\"_2ACcR5ROEeqqGZh46IEtXQ\" aggregation=\"composite\" owningAssociation=\"_2ACcUJROEeqqGZh46IEtXQ\" association=\"_2ACcUJROEeqqGZh46IEtXQ\">\\n        <xmi:Extension extender=\"http://www.eclipse.org/emf/2002/Ecore\">\\n          <eAnnotations xmi:id=\"_2ACcVJROEeqqGZh46IEtXQ\" source=\"genmymodel\">\\n            <details xmi:id=\"_2ACcVZROEeqqGZh46IEtXQ\" key=\"uuid\" value=\"_AAc38EkFEDK8NuSP8ERbeA\"/>\\n          </eAnnotations>\\n        </xmi:Extension>\\n        <lowerValue xsi:type=\"uml:LiteralInteger\" xmi:id=\"_2ACcVpROEeqqGZh46IEtXQ\"/>\\n        <upperValue xsi:type=\"uml:LiteralUnlimitedNatural\" xmi:id=\"_2ACcV5ROEeqqGZh46IEtXQ\" value=\"*\"/>\\n      </ownedEnd>\\n      <ownedEnd xmi:id=\"_2ACcWJROEeqqGZh46IEtXQ\" name=\"owns\" type=\"_2ACcLJROEeqqGZh46IEtXQ\" owningAssociation=\"_2ACcUJROEeqqGZh46IEtXQ\" association=\"_2ACcUJROEeqqGZh46IEtXQ\">\\n        <xmi:Extension extender=\"http://www.eclipse.org/emf/2002/Ecore\">\\n          <eAnnotations xmi:id=\"_2ACcWZROEeqqGZh46IEtXQ\" source=\"genmymodel\">\\n            <details xmi:id=\"_2ACcWpROEeqqGZh46IEtXQ\" key=\"uuid\" value=\"_AAeGEEkFEDK8NuSP8ERbeA\"/>\\n          </eAnnotations>\\n        </xmi:Extension>\\n        <lowerValue xsi:type=\"uml:LiteralInteger\" xmi:id=\"_2ACcW5ROEeqqGZh46IEtXQ\"/>\\n        <upperValue xsi:type=\"uml:LiteralUnlimitedNatural\" xmi:id=\"_2ACcXJROEeqqGZh46IEtXQ\" value=\"*\"/>\\n      </ownedEnd>\\n    </packagedElement>\\n    <packagedElement xsi:type=\"uml:Enumeration\" xmi:id=\"_2ACcXZROEeqqGZh46IEtXQ\" name=\"MaintenanceState\">\\n      <xmi:Extension extender=\"http://www.eclipse.org/emf/2002/Ecore\">\\n        <eAnnotations xmi:id=\"_2ACcXpROEeqqGZh46IEtXQ\" source=\"genmymodel\">\\n          <details xmi:id=\"_2ACcX5ROEeqqGZh46IEtXQ\" key=\"uuid\" value=\"_HhhcsEkFEDK8NuSP8ERbeA\"/>\\n        </eAnnotations>\\n      </xmi:Extension>\\n      <ownedLiteral xmi:id=\"_2ACcYJROEeqqGZh46IEtXQ\" name=\"Working\" enumeration=\"_2ACcXZROEeqqGZh46IEtXQ\">\\n        <xmi:Extension extender=\"http://www.eclipse.org/emf/2002/Ecore\">\\n          <eAnnotations xmi:id=\"_2ACcYZROEeqqGZh46IEtXQ\" source=\"genmymodel\">\\n            <details xmi:id=\"_2ACcYpROEeqqGZh46IEtXQ\" key=\"uuid\" value=\"_JzZYsEkFEDK8NuSP8ERbeA\"/>\\n          </eAnnotations>\\n        </xmi:Extension>\\n      </ownedLiteral>\\n      <ownedLiteral xmi:id=\"_2ACcY5ROEeqqGZh46IEtXQ\" name=\"UnderRepair\" enumeration=\"_2ACcXZROEeqqGZh46IEtXQ\">\\n        <xmi:Extension extender=\"http://www.eclipse.org/emf/2002/Ecore\">\\n          <eAnnotations xmi:id=\"_2ACcZJROEeqqGZh46IEtXQ\" source=\"genmymodel\">\\n            <details xmi:id=\"_2ACcZZROEeqqGZh46IEtXQ\" key=\"uuid\" value=\"_Kfd0gEkFEDK8NuSP8ERbeA\"/>\\n          </eAnnotations>\\n        </xmi:Extension>\\n      </ownedLiteral>\\n    </packagedElement>\\n    <packagedElement xsi:type=\"uml:Enumeration\" xmi:id=\"_2ACcZpROEeqqGZh46IEtXQ\" name=\"FlightState\">\\n      <xmi:Extension extender=\"http://www.eclipse.org/emf/2002/Ecore\">\\n        <eAnnotations xmi:id=\"_2ACcZ5ROEeqqGZh46IEtXQ\" source=\"genmymodel\">\\n          <details xmi:id=\"_2ACcaJROEeqqGZh46IEtXQ\" key=\"uuid\" value=\"_Z50psEkFEDK8NuSP8ERbeA\"/>\\n        </eAnnotations>\\n      </xmi:Extension>\\n      <ownedLiteral xmi:id=\"_2ACcaZROEeqqGZh46IEtXQ\" name=\"Landed\" enumeration=\"_2ACcZpROEeqqGZh46IEtXQ\">\\n        <xmi:Extension extender=\"http://www.eclipse.org/emf/2002/Ecore\">\\n          <eAnnotations xmi:id=\"_2ACcapROEeqqGZh46IEtXQ\" source=\"genmymodel\">\\n            <details xmi:id=\"_2ACca5ROEeqqGZh46IEtXQ\" key=\"uuid\" value=\"_jhfukEkFEDK8NuSP8ERbeA\"/>\\n          </eAnnotations>\\n        </xmi:Extension>\\n      </ownedLiteral>\\n      <ownedLiteral xmi:id=\"_2ACcbJROEeqqGZh46IEtXQ\" name=\"Airborne\" enumeration=\"_2ACcZpROEeqqGZh46IEtXQ\">\\n        <xmi:Extension extender=\"http://www.eclipse.org/emf/2002/Ecore\">\\n          <eAnnotations xmi:id=\"_2ACcbZROEeqqGZh46IEtXQ\" source=\"genmymodel\">\\n            <details xmi:id=\"_2ACcbpROEeqqGZh46IEtXQ\" key=\"uuid\" value=\"_lbadkEkFEDK8NuSP8ERbeA\"/>\\n          </eAnnotations>\\n        </xmi:Extension>\\n      </ownedLiteral>\\n    </packagedElement>\\n    <packagedElement xsi:type=\"uml:Class\" xmi:id=\"_2ACcb5ROEeqqGZh46IEtXQ\" name=\"Company\">\\n      <xmi:Extension extender=\"http://www.eclipse.org/emf/2002/Ecore\">\\n        <eAnnotations xmi:id=\"_2ACccJROEeqqGZh46IEtXQ\" source=\"genmymodel\">\\n          <details xmi:id=\"_2ACccZROEeqqGZh46IEtXQ\" key=\"uuid\" value=\"_rELc4EkFEDK8NuSP8ERbeA\"/>\\n        </eAnnotations>\\n      </xmi:Extension>\\n    </packagedElement>\\n    <packagedElement xsi:type=\"uml:Association\" xmi:id=\"_2ACccpROEeqqGZh46IEtXQ\" name=\"Company_Pilot\" memberEnd=\"_2ACcdZROEeqqGZh46IEtXQ _2ACcepROEeqqGZh46IEtXQ\" navigableOwnedEnd=\"_2ACcdZROEeqqGZh46IEtXQ _2ACcepROEeqqGZh46IEtXQ\">\\n      <xmi:Extension extender=\"http://www.eclipse.org/emf/2002/Ecore\">\\n        <eAnnotations xmi:id=\"_2ACcc5ROEeqqGZh46IEtXQ\" source=\"genmymodel\">\\n          <details xmi:id=\"_2ACcdJROEeqqGZh46IEtXQ\" key=\"uuid\" value=\"_Vy40EUkGEDK8NuSP8ERbeA\"/>\\n        </eAnnotations>\\n      </xmi:Extension>\\n      <ownedEnd xmi:id=\"_2ACcdZROEeqqGZh46IEtXQ\" name=\"pilot\" type=\"_2ACcRJROEeqqGZh46IEtXQ\" aggregation=\"composite\" owningAssociation=\"_2ACccpROEeqqGZh46IEtXQ\" association=\"_2ACccpROEeqqGZh46IEtXQ\">\\n        <xmi:Extension extender=\"http://www.eclipse.org/emf/2002/Ecore\">\\n          <eAnnotations xmi:id=\"_2ACcdpROEeqqGZh46IEtXQ\" source=\"genmymodel\">\\n            <details xmi:id=\"_2ACcd5ROEeqqGZh46IEtXQ\" key=\"uuid\" value=\"_Vy3l8EkGEDK8NuSP8ERbeA\"/>\\n          </eAnnotations>\\n        </xmi:Extension>\\n        <lowerValue xsi:type=\"uml:LiteralInteger\" xmi:id=\"_2ACceJROEeqqGZh46IEtXQ\" value=\"1\"/>\\n        <upperValue xsi:type=\"uml:LiteralUnlimitedNatural\" xmi:id=\"_2ACceZROEeqqGZh46IEtXQ\" value=\"*\"/>\\n      </ownedEnd>\\n      <ownedEnd xmi:id=\"_2ACcepROEeqqGZh46IEtXQ\" name=\"company\" type=\"_2ACcb5ROEeqqGZh46IEtXQ\" owningAssociation=\"_2ACccpROEeqqGZh46IEtXQ\" association=\"_2ACccpROEeqqGZh46IEtXQ\">\\n        <xmi:Extension extender=\"http://www.eclipse.org/emf/2002/Ecore\">\\n          <eAnnotations xmi:id=\"_2ACce5ROEeqqGZh46IEtXQ\" source=\"genmymodel\">\\n            <details xmi:id=\"_2ACcfJROEeqqGZh46IEtXQ\" key=\"uuid\" value=\"_Vy40EEkGEDK8NuSP8ERbeA\"/>\\n          </eAnnotations>\\n        </xmi:Extension>\\n        <lowerValue xsi:type=\"uml:LiteralInteger\" xmi:id=\"_2ACcfZROEeqqGZh46IEtXQ\" value=\"1\"/>\\n        <upperValue xsi:type=\"uml:LiteralUnlimitedNatural\" xmi:id=\"_2ACcfpROEeqqGZh46IEtXQ\" value=\"1\"/>\\n      </ownedEnd>\\n    </packagedElement>\\n    <packagedElement xsi:type=\"uml:Association\" xmi:id=\"_2ACcf5ROEeqqGZh46IEtXQ\" name=\"Flights_Airport\" memberEnd=\"_2ACcgpROEeqqGZh46IEtXQ _2ACch5ROEeqqGZh46IEtXQ\" navigableOwnedEnd=\"_2ACcgpROEeqqGZh46IEtXQ _2ACch5ROEeqqGZh46IEtXQ\">\\n      <xmi:Extension extender=\"http://www.eclipse.org/emf/2002/Ecore\">\\n        <eAnnotations xmi:id=\"_2ACcgJROEeqqGZh46IEtXQ\" source=\"genmymodel\">\\n          <details xmi:id=\"_2ACcgZROEeqqGZh46IEtXQ\" key=\"uuid\" value=\"_WtNR0EkHEDK8NuSP8ERbeA\"/>\\n        </eAnnotations>\\n      </xmi:Extension>\\n      <ownedEnd xmi:id=\"_2ACcgpROEeqqGZh46IEtXQ\" name=\"airport\" type=\"_2ACcPpROEeqqGZh46IEtXQ\" aggregation=\"composite\" owningAssociation=\"_2ACcf5ROEeqqGZh46IEtXQ\" association=\"_2ACcf5ROEeqqGZh46IEtXQ\">\\n        <xmi:Extension extender=\"http://www.eclipse.org/emf/2002/Ecore\">\\n          <eAnnotations xmi:id=\"_2ACcg5ROEeqqGZh46IEtXQ\" source=\"genmymodel\">\\n            <details xmi:id=\"_2ACchJROEeqqGZh46IEtXQ\" key=\"uuid\" value=\"_WtK1kEkHEDK8NuSP8ERbeA\"/>\\n          </eAnnotations>\\n        </xmi:Extension>\\n        <lowerValue xsi:type=\"uml:LiteralInteger\" xmi:id=\"_2ACchZROEeqqGZh46IEtXQ\" value=\"1\"/>\\n        <upperValue xsi:type=\"uml:LiteralUnlimitedNatural\" xmi:id=\"_2ACchpROEeqqGZh46IEtXQ\" value=\"1\"/>\\n      </ownedEnd>\\n      <ownedEnd xmi:id=\"_2ACch5ROEeqqGZh46IEtXQ\" name=\"arrives at\" type=\"_2ACcMpROEeqqGZh46IEtXQ\" owningAssociation=\"_2ACcf5ROEeqqGZh46IEtXQ\" association=\"_2ACcf5ROEeqqGZh46IEtXQ\">\\n        <xmi:Extension extender=\"http://www.eclipse.org/emf/2002/Ecore\">\\n          <eAnnotations xmi:id=\"_2ACciJROEeqqGZh46IEtXQ\" source=\"genmymodel\">\\n            <details xmi:id=\"_2ACciZROEeqqGZh46IEtXQ\" key=\"uuid\" value=\"_WtMqwEkHEDK8NuSP8ERbeA\"/>\\n          </eAnnotations>\\n        </xmi:Extension>\\n        <lowerValue xsi:type=\"uml:LiteralInteger\" xmi:id=\"_2ACcipROEeqqGZh46IEtXQ\"/>\\n        <upperValue xsi:type=\"uml:LiteralUnlimitedNatural\" xmi:id=\"_2ACci5ROEeqqGZh46IEtXQ\" value=\"*\"/>\\n      </ownedEnd>\\n    </packagedElement>\\n    <packagedElement xsi:type=\"uml:Association\" xmi:id=\"_2ACcjJROEeqqGZh46IEtXQ\" name=\"Flights_Airport2\" memberEnd=\"_2ACcj5ROEeqqGZh46IEtXQ _2ACclJROEeqqGZh46IEtXQ\" navigableOwnedEnd=\"_2ACcj5ROEeqqGZh46IEtXQ _2ACclJROEeqqGZh46IEtXQ\">\\n      <xmi:Extension extender=\"http://www.eclipse.org/emf/2002/Ecore\">\\n        <eAnnotations xmi:id=\"_2ACcjZROEeqqGZh46IEtXQ\" source=\"genmymodel\">\\n          <details xmi:id=\"_2ACcjpROEeqqGZh46IEtXQ\" key=\"uuid\" value=\"_nN4O0UkHEDK8NuSP8ERbeA\"/>\\n        </eAnnotations>\\n      </xmi:Extension>\\n      <ownedEnd xmi:id=\"_2ACcj5ROEeqqGZh46IEtXQ\" name=\"airport\" type=\"_2ACcPpROEeqqGZh46IEtXQ\" aggregation=\"composite\" owningAssociation=\"_2ACcjJROEeqqGZh46IEtXQ\" association=\"_2ACcjJROEeqqGZh46IEtXQ\">\\n        <xmi:Extension extender=\"http://www.eclipse.org/emf/2002/Ecore\">\\n          <eAnnotations xmi:id=\"_2ACckJROEeqqGZh46IEtXQ\" source=\"genmymodel\">\\n            <details xmi:id=\"_2ACckZROEeqqGZh46IEtXQ\" key=\"uuid\" value=\"_nN3AsEkHEDK8NuSP8ERbeA\"/>\\n          </eAnnotations>\\n        </xmi:Extension>\\n        <lowerValue xsi:type=\"uml:LiteralInteger\" xmi:id=\"_2ACckpROEeqqGZh46IEtXQ\" value=\"1\"/>\\n        <upperValue xsi:type=\"uml:LiteralUnlimitedNatural\" xmi:id=\"_2ACck5ROEeqqGZh46IEtXQ\" value=\"1\"/>\\n      </ownedEnd>\\n      <ownedEnd xmi:id=\"_2ACclJROEeqqGZh46IEtXQ\" name=\"departs from\" type=\"_2ACcMpROEeqqGZh46IEtXQ\" owningAssociation=\"_2ACcjJROEeqqGZh46IEtXQ\" association=\"_2ACcjJROEeqqGZh46IEtXQ\">\\n        <xmi:Extension extender=\"http://www.eclipse.org/emf/2002/Ecore\">\\n          <eAnnotations xmi:id=\"_2ACclZROEeqqGZh46IEtXQ\" source=\"genmymodel\">\\n            <details xmi:id=\"_2ACclpROEeqqGZh46IEtXQ\" key=\"uuid\" value=\"_nN4O0EkHEDK8NuSP8ERbeA\"/>\\n          </eAnnotations>\\n        </xmi:Extension>\\n        <lowerValue xsi:type=\"uml:LiteralInteger\" xmi:id=\"_2ACcl5ROEeqqGZh46IEtXQ\"/>\\n        <upperValue xsi:type=\"uml:LiteralUnlimitedNatural\" xmi:id=\"_2ACcmJROEeqqGZh46IEtXQ\" value=\"*\"/>\\n      </ownedEnd>\\n    </packagedElement>\\n    <packagedElement xsi:type=\"uml:Association\" xmi:id=\"_2ACcmZROEeqqGZh46IEtXQ\" name=\"Airline_Flight\" memberEnd=\"_2ACcnJROEeqqGZh46IEtXQ _2ACcoZROEeqqGZh46IEtXQ\" navigableOwnedEnd=\"_2ACcnJROEeqqGZh46IEtXQ _2ACcoZROEeqqGZh46IEtXQ\">\\n      <xmi:Extension extender=\"http://www.eclipse.org/emf/2002/Ecore\">\\n        <eAnnotations xmi:id=\"_2ACcmpROEeqqGZh46IEtXQ\" source=\"genmymodel\">\\n          <details xmi:id=\"_2ACcm5ROEeqqGZh46IEtXQ\" key=\"uuid\" value=\"_99A5MEkHEDK8NuSP8ERbeA\"/>\\n        </eAnnotations>\\n      </xmi:Extension>\\n      <ownedEnd xmi:id=\"_2ACcnJROEeqqGZh46IEtXQ\" name=\"flight\" type=\"_2ACcMpROEeqqGZh46IEtXQ\" aggregation=\"composite\" owningAssociation=\"_2ACcmZROEeqqGZh46IEtXQ\" association=\"_2ACcmZROEeqqGZh46IEtXQ\">\\n        <xmi:Extension extender=\"http://www.eclipse.org/emf/2002/Ecore\">\\n          <eAnnotations xmi:id=\"_2ACcnZROEeqqGZh46IEtXQ\" source=\"genmymodel\">\\n            <details xmi:id=\"_2ACcnpROEeqqGZh46IEtXQ\" key=\"uuid\" value=\"_98_rEEkHEDK8NuSP8ERbeA\"/>\\n          </eAnnotations>\\n        </xmi:Extension>\\n        <lowerValue xsi:type=\"uml:LiteralInteger\" xmi:id=\"_2ACcn5ROEeqqGZh46IEtXQ\"/>\\n        <upperValue xsi:type=\"uml:LiteralUnlimitedNatural\" xmi:id=\"_2ACcoJROEeqqGZh46IEtXQ\" value=\"*\"/>\\n      </ownedEnd>\\n      <ownedEnd xmi:id=\"_2ACcoZROEeqqGZh46IEtXQ\" name=\"operates\" type=\"_2ACcLJROEeqqGZh46IEtXQ\" owningAssociation=\"_2ACcmZROEeqqGZh46IEtXQ\" association=\"_2ACcmZROEeqqGZh46IEtXQ\">\\n        <xmi:Extension extender=\"http://www.eclipse.org/emf/2002/Ecore\">\\n          <eAnnotations xmi:id=\"_2ACcopROEeqqGZh46IEtXQ\" source=\"genmymodel\">\\n            <details xmi:id=\"_2ACco5ROEeqqGZh46IEtXQ\" key=\"uuid\" value=\"_99ASIEkHEDK8NuSP8ERbeA\"/>\\n          </eAnnotations>\\n        </xmi:Extension>\\n        <lowerValue xsi:type=\"uml:LiteralInteger\" xmi:id=\"_2ACcpJROEeqqGZh46IEtXQ\" value=\"1\"/>\\n        <upperValue xsi:type=\"uml:LiteralUnlimitedNatural\" xmi:id=\"_2ACcpZROEeqqGZh46IEtXQ\" value=\"1\"/>\\n      </ownedEnd>\\n    </packagedElement>\\n    <packagedElement xsi:type=\"uml:Association\" xmi:id=\"_2ACcppROEeqqGZh46IEtXQ\" name=\"Flight_Aircraft\" memberEnd=\"_2ACcqZROEeqqGZh46IEtXQ _2ACcrpROEeqqGZh46IEtXQ\" navigableOwnedEnd=\"_2ACcqZROEeqqGZh46IEtXQ _2ACcrpROEeqqGZh46IEtXQ\">\\n      <xmi:Extension extender=\"http://www.eclipse.org/emf/2002/Ecore\">\\n        <eAnnotations xmi:id=\"_2ACcp5ROEeqqGZh46IEtXQ\" source=\"genmymodel\">\\n          <details xmi:id=\"_2ACcqJROEeqqGZh46IEtXQ\" key=\"uuid\" value=\"_1FFZwUkIEDK8NuSP8ERbeA\"/>\\n        </eAnnotations>\\n      </xmi:Extension>\\n      <ownedEnd xmi:id=\"_2ACcqZROEeqqGZh46IEtXQ\" name=\"aircraft\" type=\"_2ACcR5ROEeqqGZh46IEtXQ\" aggregation=\"composite\" owningAssociation=\"_2ACcppROEeqqGZh46IEtXQ\" association=\"_2ACcppROEeqqGZh46IEtXQ\">\\n        <xmi:Extension extender=\"http://www.eclipse.org/emf/2002/Ecore\">\\n          <eAnnotations xmi:id=\"_2ACcqpROEeqqGZh46IEtXQ\" source=\"genmymodel\">\\n            <details xmi:id=\"_2ACcq5ROEeqqGZh46IEtXQ\" key=\"uuid\" value=\"_1FEysEkIEDK8NuSP8ERbeA\"/>\\n          </eAnnotations>\\n        </xmi:Extension>\\n        <lowerValue xsi:type=\"uml:LiteralInteger\" xmi:id=\"_2ACcrJROEeqqGZh46IEtXQ\" value=\"1\"/>\\n        <upperValue xsi:type=\"uml:LiteralUnlimitedNatural\" xmi:id=\"_2ACcrZROEeqqGZh46IEtXQ\" value=\"1\"/>\\n      </ownedEnd>\\n      <ownedEnd xmi:id=\"_2ACcrpROEeqqGZh46IEtXQ\" name=\"uses\" type=\"_2ACcMpROEeqqGZh46IEtXQ\" owningAssociation=\"_2ACcppROEeqqGZh46IEtXQ\" association=\"_2ACcppROEeqqGZh46IEtXQ\">\\n        <xmi:Extension extender=\"http://www.eclipse.org/emf/2002/Ecore\">\\n          <eAnnotations xmi:id=\"_2ACcr5ROEeqqGZh46IEtXQ\" source=\"genmymodel\">\\n            <details xmi:id=\"_2ACcsJROEeqqGZh46IEtXQ\" key=\"uuid\" value=\"_1FFZwEkIEDK8NuSP8ERbeA\"/>\\n          </eAnnotations>\\n        </xmi:Extension>\\n        <lowerValue xsi:type=\"uml:LiteralInteger\" xmi:id=\"_2ACcsZROEeqqGZh46IEtXQ\"/>\\n        <upperValue xsi:type=\"uml:LiteralUnlimitedNatural\" xmi:id=\"_2ACcspROEeqqGZh46IEtXQ\" value=\"*\"/>\\n      </ownedEnd>\\n    </packagedElement>\\n    <packagedElement xsi:type=\"uml:Association\" xmi:id=\"_2ACcs5ROEeqqGZh46IEtXQ\" name=\"Aircraft_Pilot\" memberEnd=\"_2ACctpROEeqqGZh46IEtXQ _2ACcu5ROEeqqGZh46IEtXQ\" navigableOwnedEnd=\"_2ACctpROEeqqGZh46IEtXQ _2ACcu5ROEeqqGZh46IEtXQ\">\\n      <xmi:Extension extender=\"http://www.eclipse.org/emf/2002/Ecore\">\\n        <eAnnotations xmi:id=\"_2ACctJROEeqqGZh46IEtXQ\" source=\"genmymodel\">\\n          <details xmi:id=\"_2ACctZROEeqqGZh46IEtXQ\" key=\"uuid\" value=\"_-fCg0UkKEDK8NuSP8ERbeA\"/>\\n        </eAnnotations>\\n      </xmi:Extension>\\n      <ownedEnd xmi:id=\"_2ACctpROEeqqGZh46IEtXQ\" name=\"employs\" type=\"_2ACcRJROEeqqGZh46IEtXQ\" aggregation=\"composite\" owningAssociation=\"_2ACcs5ROEeqqGZh46IEtXQ\" association=\"_2ACcs5ROEeqqGZh46IEtXQ\">\\n        <xmi:Extension extender=\"http://www.eclipse.org/emf/2002/Ecore\">\\n          <eAnnotations xmi:id=\"_2ACct5ROEeqqGZh46IEtXQ\" source=\"genmymodel\">\\n            <details xmi:id=\"_2ACcuJROEeqqGZh46IEtXQ\" key=\"uuid\" value=\"_-fBSsEkKEDK8NuSP8ERbeA\"/>\\n          </eAnnotations>\\n        </xmi:Extension>\\n        <lowerValue xsi:type=\"uml:LiteralInteger\" xmi:id=\"_2ACcuZROEeqqGZh46IEtXQ\"/>\\n        <upperValue xsi:type=\"uml:LiteralUnlimitedNatural\" xmi:id=\"_2ACcupROEeqqGZh46IEtXQ\" value=\"*\"/>\\n      </ownedEnd>\\n      <ownedEnd xmi:id=\"_2ACcu5ROEeqqGZh46IEtXQ\" name=\"pilots\" type=\"_2ACcR5ROEeqqGZh46IEtXQ\" owningAssociation=\"_2ACcs5ROEeqqGZh46IEtXQ\" association=\"_2ACcs5ROEeqqGZh46IEtXQ\">\\n        <xmi:Extension extender=\"http://www.eclipse.org/emf/2002/Ecore\">\\n          <eAnnotations xmi:id=\"_2ACcvJROEeqqGZh46IEtXQ\" source=\"genmymodel\">\\n            <details xmi:id=\"_2ACcvZROEeqqGZh46IEtXQ\" key=\"uuid\" value=\"_-fCg0EkKEDK8NuSP8ERbeA\"/>\\n          </eAnnotations>\\n        </xmi:Extension>\\n        <lowerValue xsi:type=\"uml:LiteralInteger\" xmi:id=\"_2ACcvpROEeqqGZh46IEtXQ\"/>\\n        <upperValue xsi:type=\"uml:LiteralUnlimitedNatural\" xmi:id=\"_2ACcv5ROEeqqGZh46IEtXQ\" value=\"*\"/>\\n      </ownedEnd>\\n    </packagedElement>\\n    <packagedElement xsi:type=\"uml:Class\" xmi:id=\"_2ACcwJROEeqqGZh46IEtXQ\" name=\"CoPilot\">\\n      <xmi:Extension extender=\"http://www.eclipse.org/emf/2002/Ecore\">\\n        <eAnnotations xmi:id=\"_2ACcwZROEeqqGZh46IEtXQ\" source=\"genmymodel\">\\n          <details xmi:id=\"_2ADDMJROEeqqGZh46IEtXQ\" key=\"uuid\" value=\"_IWzasEkMEDK8NuSP8ERbeA\"/>\\n        </eAnnotations>\\n      </xmi:Extension>\\n      <generalization xmi:id=\"_2ADDMZROEeqqGZh46IEtXQ\" general=\"_2ACcRJROEeqqGZh46IEtXQ\" specific=\"_2ACcwJROEeqqGZh46IEtXQ\">\\n        <xmi:Extension extender=\"http://www.eclipse.org/emf/2002/Ecore\">\\n          <eAnnotations xmi:id=\"_2ADDMpROEeqqGZh46IEtXQ\" source=\"genmymodel\">\\n            <details xmi:id=\"_2ADDM5ROEeqqGZh46IEtXQ\" key=\"uuid\" value=\"_7ZO7kEkMEDK8NuSP8ERbeA\"/>\\n          </eAnnotations>\\n        </xmi:Extension>\\n      </generalization>\\n    </packagedElement>\\n    <packagedElement xsi:type=\"uml:Class\" xmi:id=\"_2ADDNJROEeqqGZh46IEtXQ\" name=\"Navigator\">\\n      <xmi:Extension extender=\"http://www.eclipse.org/emf/2002/Ecore\">\\n        <eAnnotations xmi:id=\"_2ADDNZROEeqqGZh46IEtXQ\" source=\"genmymodel\">\\n          <details xmi:id=\"_2ADDNpROEeqqGZh46IEtXQ\" key=\"uuid\" value=\"_LUPcMEkMEDK8NuSP8ERbeA\"/>\\n        </eAnnotations>\\n      </xmi:Extension>\\n      <generalization xmi:id=\"_2ADDN5ROEeqqGZh46IEtXQ\" general=\"_2ACcRJROEeqqGZh46IEtXQ\" specific=\"_2ADDNJROEeqqGZh46IEtXQ\">\\n        <xmi:Extension extender=\"http://www.eclipse.org/emf/2002/Ecore\">\\n          <eAnnotations xmi:id=\"_2ADDOJROEeqqGZh46IEtXQ\" source=\"genmymodel\">\\n            <details xmi:id=\"_2ADDOZROEeqqGZh46IEtXQ\" key=\"uuid\" value=\"_9WhHoEkMEDK8NuSP8ERbeA\"/>\\n          </eAnnotations>\\n        </xmi:Extension>\\n      </generalization>\\n    </packagedElement>\\n    <packagedElement xsi:type=\"uml:Association\" xmi:id=\"_2ADDOpROEeqqGZh46IEtXQ\" name=\"Aircraft_CoPilot\" memberEnd=\"_2ADDPZROEeqqGZh46IEtXQ _2ADDQpROEeqqGZh46IEtXQ\" navigableOwnedEnd=\"_2ADDPZROEeqqGZh46IEtXQ _2ADDQpROEeqqGZh46IEtXQ\">\\n      <xmi:Extension extender=\"http://www.eclipse.org/emf/2002/Ecore\">\\n        <eAnnotations xmi:id=\"_2ADDO5ROEeqqGZh46IEtXQ\" source=\"genmymodel\">\\n          <details xmi:id=\"_2ADDPJROEeqqGZh46IEtXQ\" key=\"uuid\" value=\"_qAmb0UkMEDK8NuSP8ERbeA\"/>\\n        </eAnnotations>\\n      </xmi:Extension>\\n      <ownedEnd xmi:id=\"_2ADDPZROEeqqGZh46IEtXQ\" name=\"requires\" type=\"_2ACcwJROEeqqGZh46IEtXQ\" aggregation=\"composite\" owningAssociation=\"_2ADDOpROEeqqGZh46IEtXQ\" association=\"_2ADDOpROEeqqGZh46IEtXQ\">\\n        <xmi:Extension extender=\"http://www.eclipse.org/emf/2002/Ecore\">\\n          <eAnnotations xmi:id=\"_2ADDPpROEeqqGZh46IEtXQ\" source=\"genmymodel\">\\n            <details xmi:id=\"_2ADDP5ROEeqqGZh46IEtXQ\" key=\"uuid\" value=\"_qAl0wEkMEDK8NuSP8ERbeA\"/>\\n          </eAnnotations>\\n        </xmi:Extension>\\n        <lowerValue xsi:type=\"uml:LiteralInteger\" xmi:id=\"_2ADDQJROEeqqGZh46IEtXQ\" value=\"1\"/>\\n        <upperValue xsi:type=\"uml:LiteralUnlimitedNatural\" xmi:id=\"_2ADDQZROEeqqGZh46IEtXQ\" value=\"*\"/>\\n      </ownedEnd>\\n      <ownedEnd xmi:id=\"_2ADDQpROEeqqGZh46IEtXQ\" name=\"copilots\" type=\"_2ACcR5ROEeqqGZh46IEtXQ\" owningAssociation=\"_2ADDOpROEeqqGZh46IEtXQ\" association=\"_2ADDOpROEeqqGZh46IEtXQ\">\\n        <xmi:Extension extender=\"http://www.eclipse.org/emf/2002/Ecore\">\\n          <eAnnotations xmi:id=\"_2ADDQ5ROEeqqGZh46IEtXQ\" source=\"genmymodel\">\\n            <details xmi:id=\"_2ADDRJROEeqqGZh46IEtXQ\" key=\"uuid\" value=\"_qAmb0EkMEDK8NuSP8ERbeA\"/>\\n          </eAnnotations>\\n        </xmi:Extension>\\n        <lowerValue xsi:type=\"uml:LiteralInteger\" xmi:id=\"_2ADDRZROEeqqGZh46IEtXQ\"/>\\n        <upperValue xsi:type=\"uml:LiteralUnlimitedNatural\" xmi:id=\"_2ADDRpROEeqqGZh46IEtXQ\" value=\"*\"/>\\n      </ownedEnd>\\n    </packagedElement>\\n    <packagedElement xsi:type=\"uml:Class\" xmi:id=\"_2ADDR5ROEeqqGZh46IEtXQ\" name=\"Captain\">\\n      <xmi:Extension extender=\"http://www.eclipse.org/emf/2002/Ecore\">\\n        <eAnnotations xmi:id=\"_2ADDSJROEeqqGZh46IEtXQ\" source=\"genmymodel\">\\n          <details xmi:id=\"_2ADDSZROEeqqGZh46IEtXQ\" key=\"uuid\" value=\"_DN-DMEkNEDK8NuSP8ERbeA\"/>\\n        </eAnnotations>\\n      </xmi:Extension>\\n      <generalization xmi:id=\"_2ADDSpROEeqqGZh46IEtXQ\" general=\"_2ACcRJROEeqqGZh46IEtXQ\" specific=\"_2ADDR5ROEeqqGZh46IEtXQ\">\\n        <xmi:Extension extender=\"http://www.eclipse.org/emf/2002/Ecore\">\\n          <eAnnotations xmi:id=\"_2ADDS5ROEeqqGZh46IEtXQ\" source=\"genmymodel\">\\n            <details xmi:id=\"_2ADDTJROEeqqGZh46IEtXQ\" key=\"uuid\" value=\"_I-Qm0EkNEDK8NuSP8ERbeA\"/>\\n          </eAnnotations>\\n        </xmi:Extension>\\n      </generalization>\\n    </packagedElement>\\n    <packagedElement xsi:type=\"uml:Association\" xmi:id=\"_2ADDTZROEeqqGZh46IEtXQ\" name=\"Aircraft_Captain\" memberEnd=\"_2ADDUJROEeqqGZh46IEtXQ _2ADDVZROEeqqGZh46IEtXQ\" navigableOwnedEnd=\"_2ADDUJROEeqqGZh46IEtXQ _2ADDVZROEeqqGZh46IEtXQ\">\\n      <xmi:Extension extender=\"http://www.eclipse.org/emf/2002/Ecore\">\\n        <eAnnotations xmi:id=\"_2ADDTpROEeqqGZh46IEtXQ\" source=\"genmymodel\">\\n          <details xmi:id=\"_2ADDT5ROEeqqGZh46IEtXQ\" key=\"uuid\" value=\"_K1hDYEkNEDK8NuSP8ERbeA\"/>\\n        </eAnnotations>\\n      </xmi:Extension>\\n      <ownedEnd xmi:id=\"_2ADDUJROEeqqGZh46IEtXQ\" name=\"requires\" type=\"_2ADDR5ROEeqqGZh46IEtXQ\" aggregation=\"composite\" owningAssociation=\"_2ADDTZROEeqqGZh46IEtXQ\" association=\"_2ADDTZROEeqqGZh46IEtXQ\">\\n        <xmi:Extension extender=\"http://www.eclipse.org/emf/2002/Ecore\">\\n          <eAnnotations xmi:id=\"_2ADDUZROEeqqGZh46IEtXQ\" source=\"genmymodel\">\\n            <details xmi:id=\"_2ADDUpROEeqqGZh46IEtXQ\" key=\"uuid\" value=\"_K1gcUEkNEDK8NuSP8ERbeA\"/>\\n          </eAnnotations>\\n        </xmi:Extension>\\n        <lowerValue xsi:type=\"uml:LiteralInteger\" xmi:id=\"_2ADDU5ROEeqqGZh46IEtXQ\" value=\"1\"/>\\n        <upperValue xsi:type=\"uml:LiteralUnlimitedNatural\" xmi:id=\"_2ADDVJROEeqqGZh46IEtXQ\" value=\"*\"/>\\n      </ownedEnd>\\n      <ownedEnd xmi:id=\"_2ADDVZROEeqqGZh46IEtXQ\" name=\"captains\" type=\"_2ACcR5ROEeqqGZh46IEtXQ\" owningAssociation=\"_2ADDTZROEeqqGZh46IEtXQ\" association=\"_2ADDTZROEeqqGZh46IEtXQ\">\\n        <xmi:Extension extender=\"http://www.eclipse.org/emf/2002/Ecore\">\\n          <eAnnotations xmi:id=\"_2ADDVpROEeqqGZh46IEtXQ\" source=\"genmymodel\">\\n            <details xmi:id=\"_2ADDV5ROEeqqGZh46IEtXQ\" key=\"uuid\" value=\"_K1gcUUkNEDK8NuSP8ERbeA\"/>\\n          </eAnnotations>\\n        </xmi:Extension>\\n        <lowerValue xsi:type=\"uml:LiteralInteger\" xmi:id=\"_2ADDWJROEeqqGZh46IEtXQ\"/>\\n        <upperValue xsi:type=\"uml:LiteralUnlimitedNatural\" xmi:id=\"_2ADDWZROEeqqGZh46IEtXQ\" value=\"*\"/>\\n      </ownedEnd>\\n    </packagedElement>\\n  </uml:Model>\\n</xmi:XMI>\\n'"
      ]
     },
     "execution_count": 30,
     "metadata": {},
     "output_type": "execute_result"
    }
   ],
   "source": [
    "test_dataset[0]['input']"
   ]
  },
  {
   "cell_type": "code",
   "execution_count": 32,
   "id": "d5f5e7ab-7c0a-4b21-9bf1-f1e484d58817",
   "metadata": {},
   "outputs": [],
   "source": [
    "with open(\"test_out.xmi\", \"w\") as file:\n",
    "    file.write(test_dataset[0]['output'])"
   ]
  },
  {
   "cell_type": "code",
   "execution_count": 35,
   "id": "edae2567-726d-434a-9608-68c522063876",
   "metadata": {},
   "outputs": [
    {
     "data": {
      "text/plain": [
       "T5ForConditionalGeneration(\n",
       "  (shared): Embedding(32128, 768)\n",
       "  (encoder): T5Stack(\n",
       "    (embed_tokens): Embedding(32128, 768)\n",
       "    (block): ModuleList(\n",
       "      (0): T5Block(\n",
       "        (layer): ModuleList(\n",
       "          (0): T5LayerSelfAttention(\n",
       "            (SelfAttention): T5Attention(\n",
       "              (q): Linear(in_features=768, out_features=768, bias=False)\n",
       "              (k): Linear(in_features=768, out_features=768, bias=False)\n",
       "              (v): Linear(in_features=768, out_features=768, bias=False)\n",
       "              (o): Linear(in_features=768, out_features=768, bias=False)\n",
       "              (relative_attention_bias): Embedding(32, 12)\n",
       "            )\n",
       "            (layer_norm): T5LayerNorm()\n",
       "            (dropout): Dropout(p=0.1, inplace=False)\n",
       "          )\n",
       "          (1): T5LayerFF(\n",
       "            (DenseReluDense): T5DenseActDense(\n",
       "              (wi): Linear(in_features=768, out_features=3072, bias=False)\n",
       "              (wo): Linear(in_features=3072, out_features=768, bias=False)\n",
       "              (dropout): Dropout(p=0.1, inplace=False)\n",
       "              (act): ReLU()\n",
       "            )\n",
       "            (layer_norm): T5LayerNorm()\n",
       "            (dropout): Dropout(p=0.1, inplace=False)\n",
       "          )\n",
       "        )\n",
       "      )\n",
       "      (1-11): 11 x T5Block(\n",
       "        (layer): ModuleList(\n",
       "          (0): T5LayerSelfAttention(\n",
       "            (SelfAttention): T5Attention(\n",
       "              (q): Linear(in_features=768, out_features=768, bias=False)\n",
       "              (k): Linear(in_features=768, out_features=768, bias=False)\n",
       "              (v): Linear(in_features=768, out_features=768, bias=False)\n",
       "              (o): Linear(in_features=768, out_features=768, bias=False)\n",
       "            )\n",
       "            (layer_norm): T5LayerNorm()\n",
       "            (dropout): Dropout(p=0.1, inplace=False)\n",
       "          )\n",
       "          (1): T5LayerFF(\n",
       "            (DenseReluDense): T5DenseActDense(\n",
       "              (wi): Linear(in_features=768, out_features=3072, bias=False)\n",
       "              (wo): Linear(in_features=3072, out_features=768, bias=False)\n",
       "              (dropout): Dropout(p=0.1, inplace=False)\n",
       "              (act): ReLU()\n",
       "            )\n",
       "            (layer_norm): T5LayerNorm()\n",
       "            (dropout): Dropout(p=0.1, inplace=False)\n",
       "          )\n",
       "        )\n",
       "      )\n",
       "    )\n",
       "    (final_layer_norm): T5LayerNorm()\n",
       "    (dropout): Dropout(p=0.1, inplace=False)\n",
       "  )\n",
       "  (decoder): T5Stack(\n",
       "    (embed_tokens): Embedding(32128, 768)\n",
       "    (block): ModuleList(\n",
       "      (0): T5Block(\n",
       "        (layer): ModuleList(\n",
       "          (0): T5LayerSelfAttention(\n",
       "            (SelfAttention): T5Attention(\n",
       "              (q): Linear(in_features=768, out_features=768, bias=False)\n",
       "              (k): Linear(in_features=768, out_features=768, bias=False)\n",
       "              (v): Linear(in_features=768, out_features=768, bias=False)\n",
       "              (o): Linear(in_features=768, out_features=768, bias=False)\n",
       "              (relative_attention_bias): Embedding(32, 12)\n",
       "            )\n",
       "            (layer_norm): T5LayerNorm()\n",
       "            (dropout): Dropout(p=0.1, inplace=False)\n",
       "          )\n",
       "          (1): T5LayerCrossAttention(\n",
       "            (EncDecAttention): T5Attention(\n",
       "              (q): Linear(in_features=768, out_features=768, bias=False)\n",
       "              (k): Linear(in_features=768, out_features=768, bias=False)\n",
       "              (v): Linear(in_features=768, out_features=768, bias=False)\n",
       "              (o): Linear(in_features=768, out_features=768, bias=False)\n",
       "            )\n",
       "            (layer_norm): T5LayerNorm()\n",
       "            (dropout): Dropout(p=0.1, inplace=False)\n",
       "          )\n",
       "          (2): T5LayerFF(\n",
       "            (DenseReluDense): T5DenseActDense(\n",
       "              (wi): Linear(in_features=768, out_features=3072, bias=False)\n",
       "              (wo): Linear(in_features=3072, out_features=768, bias=False)\n",
       "              (dropout): Dropout(p=0.1, inplace=False)\n",
       "              (act): ReLU()\n",
       "            )\n",
       "            (layer_norm): T5LayerNorm()\n",
       "            (dropout): Dropout(p=0.1, inplace=False)\n",
       "          )\n",
       "        )\n",
       "      )\n",
       "      (1-11): 11 x T5Block(\n",
       "        (layer): ModuleList(\n",
       "          (0): T5LayerSelfAttention(\n",
       "            (SelfAttention): T5Attention(\n",
       "              (q): Linear(in_features=768, out_features=768, bias=False)\n",
       "              (k): Linear(in_features=768, out_features=768, bias=False)\n",
       "              (v): Linear(in_features=768, out_features=768, bias=False)\n",
       "              (o): Linear(in_features=768, out_features=768, bias=False)\n",
       "            )\n",
       "            (layer_norm): T5LayerNorm()\n",
       "            (dropout): Dropout(p=0.1, inplace=False)\n",
       "          )\n",
       "          (1): T5LayerCrossAttention(\n",
       "            (EncDecAttention): T5Attention(\n",
       "              (q): Linear(in_features=768, out_features=768, bias=False)\n",
       "              (k): Linear(in_features=768, out_features=768, bias=False)\n",
       "              (v): Linear(in_features=768, out_features=768, bias=False)\n",
       "              (o): Linear(in_features=768, out_features=768, bias=False)\n",
       "            )\n",
       "            (layer_norm): T5LayerNorm()\n",
       "            (dropout): Dropout(p=0.1, inplace=False)\n",
       "          )\n",
       "          (2): T5LayerFF(\n",
       "            (DenseReluDense): T5DenseActDense(\n",
       "              (wi): Linear(in_features=768, out_features=3072, bias=False)\n",
       "              (wo): Linear(in_features=3072, out_features=768, bias=False)\n",
       "              (dropout): Dropout(p=0.1, inplace=False)\n",
       "              (act): ReLU()\n",
       "            )\n",
       "            (layer_norm): T5LayerNorm()\n",
       "            (dropout): Dropout(p=0.1, inplace=False)\n",
       "          )\n",
       "        )\n",
       "      )\n",
       "    )\n",
       "    (final_layer_norm): T5LayerNorm()\n",
       "    (dropout): Dropout(p=0.1, inplace=False)\n",
       "  )\n",
       "  (lm_head): Linear(in_features=768, out_features=32128, bias=False)\n",
       ")"
      ]
     },
     "execution_count": 35,
     "metadata": {},
     "output_type": "execute_result"
    }
   ],
   "source": [
    "model.to(device)"
   ]
  },
  {
   "cell_type": "code",
   "execution_count": 36,
   "id": "ade6fee2-6353-4dfd-ad21-3dfcbb323e08",
   "metadata": {},
   "outputs": [
    {
     "ename": "RuntimeError",
     "evalue": "Expected all tensors to be on the same device, but found at least two devices, cuda:0 and cpu! (when checking argument for argument index in method wrapper_CUDA__index_select)",
     "output_type": "error",
     "traceback": [
      "\u001B[0;31m---------------------------------------------------------------------------\u001B[0m",
      "\u001B[0;31mRuntimeError\u001B[0m                              Traceback (most recent call last)",
      "Cell \u001B[0;32mIn[36], line 3\u001B[0m\n\u001B[1;32m      1\u001B[0m input_text \u001B[38;5;241m=\u001B[39m [\u001B[38;5;124m\"\u001B[39m\u001B[38;5;124mcomplete: \u001B[39m\u001B[38;5;124m\"\u001B[39m \u001B[38;5;241m+\u001B[39m test_dataset[\u001B[38;5;241m0\u001B[39m][\u001B[38;5;124m'\u001B[39m\u001B[38;5;124minput\u001B[39m\u001B[38;5;124m'\u001B[39m]]\n\u001B[1;32m      2\u001B[0m inputs \u001B[38;5;241m=\u001B[39m tokenizer(input_text, return_tensors\u001B[38;5;241m=\u001B[39m\u001B[38;5;124m\"\u001B[39m\u001B[38;5;124mpt\u001B[39m\u001B[38;5;124m\"\u001B[39m, padding\u001B[38;5;241m=\u001B[39m\u001B[38;5;28;01mTrue\u001B[39;00m, truncation\u001B[38;5;241m=\u001B[39m\u001B[38;5;28;01mTrue\u001B[39;00m, max_length\u001B[38;5;241m=\u001B[39m\u001B[38;5;241m512\u001B[39m)\n\u001B[0;32m----> 3\u001B[0m output \u001B[38;5;241m=\u001B[39m \u001B[43mmodel\u001B[49m\u001B[38;5;241;43m.\u001B[39;49m\u001B[43mgenerate\u001B[49m\u001B[43m(\u001B[49m\u001B[38;5;241;43m*\u001B[39;49m\u001B[38;5;241;43m*\u001B[39;49m\u001B[43minputs\u001B[49m\u001B[43m,\u001B[49m\u001B[43m \u001B[49m\u001B[43mdo_sample\u001B[49m\u001B[38;5;241;43m=\u001B[39;49m\u001B[38;5;28;43;01mTrue\u001B[39;49;00m\u001B[43m,\u001B[49m\u001B[43m \u001B[49m\u001B[43mmin_length\u001B[49m\u001B[38;5;241;43m=\u001B[39;49m\u001B[38;5;241;43m10\u001B[39;49m\u001B[43m,\u001B[49m\u001B[43m \u001B[49m\u001B[43mmax_length\u001B[49m\u001B[38;5;241;43m=\u001B[39;49m\u001B[38;5;241;43m512\u001B[39;49m\u001B[43m)\u001B[49m\n\u001B[1;32m      4\u001B[0m decoded_output \u001B[38;5;241m=\u001B[39m tokenizer\u001B[38;5;241m.\u001B[39mbatch_decode(output, skip_special_tokens\u001B[38;5;241m=\u001B[39m\u001B[38;5;28;01mTrue\u001B[39;00m)[\u001B[38;5;241m0\u001B[39m]\n\u001B[1;32m      5\u001B[0m decoded_output\n",
      "File \u001B[0;32m~/.pyenv/versions/3.10.14/lib/python3.10/site-packages/torch/utils/_contextlib.py:115\u001B[0m, in \u001B[0;36mcontext_decorator.<locals>.decorate_context\u001B[0;34m(*args, **kwargs)\u001B[0m\n\u001B[1;32m    112\u001B[0m \u001B[38;5;129m@functools\u001B[39m\u001B[38;5;241m.\u001B[39mwraps(func)\n\u001B[1;32m    113\u001B[0m \u001B[38;5;28;01mdef\u001B[39;00m \u001B[38;5;21mdecorate_context\u001B[39m(\u001B[38;5;241m*\u001B[39margs, \u001B[38;5;241m*\u001B[39m\u001B[38;5;241m*\u001B[39mkwargs):\n\u001B[1;32m    114\u001B[0m     \u001B[38;5;28;01mwith\u001B[39;00m ctx_factory():\n\u001B[0;32m--> 115\u001B[0m         \u001B[38;5;28;01mreturn\u001B[39;00m \u001B[43mfunc\u001B[49m\u001B[43m(\u001B[49m\u001B[38;5;241;43m*\u001B[39;49m\u001B[43margs\u001B[49m\u001B[43m,\u001B[49m\u001B[43m \u001B[49m\u001B[38;5;241;43m*\u001B[39;49m\u001B[38;5;241;43m*\u001B[39;49m\u001B[43mkwargs\u001B[49m\u001B[43m)\u001B[49m\n",
      "File \u001B[0;32m~/.pyenv/versions/3.10.14/lib/python3.10/site-packages/transformers/generation/utils.py:1696\u001B[0m, in \u001B[0;36mGenerationMixin.generate\u001B[0;34m(self, inputs, generation_config, logits_processor, stopping_criteria, prefix_allowed_tokens_fn, synced_gpus, assistant_model, streamer, negative_prompt_ids, negative_prompt_attention_mask, **kwargs)\u001B[0m\n\u001B[1;32m   1690\u001B[0m     model_kwargs[\u001B[38;5;124m\"\u001B[39m\u001B[38;5;124mattention_mask\u001B[39m\u001B[38;5;124m\"\u001B[39m] \u001B[38;5;241m=\u001B[39m \u001B[38;5;28mself\u001B[39m\u001B[38;5;241m.\u001B[39m_prepare_attention_mask_for_generation(\n\u001B[1;32m   1691\u001B[0m         inputs_tensor, generation_config\u001B[38;5;241m.\u001B[39mpad_token_id, generation_config\u001B[38;5;241m.\u001B[39meos_token_id\n\u001B[1;32m   1692\u001B[0m     )\n\u001B[1;32m   1694\u001B[0m \u001B[38;5;28;01mif\u001B[39;00m \u001B[38;5;28mself\u001B[39m\u001B[38;5;241m.\u001B[39mconfig\u001B[38;5;241m.\u001B[39mis_encoder_decoder \u001B[38;5;129;01mand\u001B[39;00m \u001B[38;5;124m\"\u001B[39m\u001B[38;5;124mencoder_outputs\u001B[39m\u001B[38;5;124m\"\u001B[39m \u001B[38;5;129;01mnot\u001B[39;00m \u001B[38;5;129;01min\u001B[39;00m model_kwargs:\n\u001B[1;32m   1695\u001B[0m     \u001B[38;5;66;03m# if model is encoder decoder encoder_outputs are created and added to `model_kwargs`\u001B[39;00m\n\u001B[0;32m-> 1696\u001B[0m     model_kwargs \u001B[38;5;241m=\u001B[39m \u001B[38;5;28;43mself\u001B[39;49m\u001B[38;5;241;43m.\u001B[39;49m\u001B[43m_prepare_encoder_decoder_kwargs_for_generation\u001B[49m\u001B[43m(\u001B[49m\n\u001B[1;32m   1697\u001B[0m \u001B[43m        \u001B[49m\u001B[43minputs_tensor\u001B[49m\u001B[43m,\u001B[49m\u001B[43m \u001B[49m\u001B[43mmodel_kwargs\u001B[49m\u001B[43m,\u001B[49m\u001B[43m \u001B[49m\u001B[43mmodel_input_name\u001B[49m\u001B[43m,\u001B[49m\u001B[43m \u001B[49m\u001B[43mgeneration_config\u001B[49m\n\u001B[1;32m   1698\u001B[0m \u001B[43m    \u001B[49m\u001B[43m)\u001B[49m\n\u001B[1;32m   1700\u001B[0m \u001B[38;5;66;03m# 5. Prepare `input_ids` which will be used for auto-regressive generation\u001B[39;00m\n\u001B[1;32m   1701\u001B[0m \u001B[38;5;28;01mif\u001B[39;00m \u001B[38;5;28mself\u001B[39m\u001B[38;5;241m.\u001B[39mconfig\u001B[38;5;241m.\u001B[39mis_encoder_decoder:\n",
      "File \u001B[0;32m~/.pyenv/versions/3.10.14/lib/python3.10/site-packages/transformers/generation/utils.py:539\u001B[0m, in \u001B[0;36mGenerationMixin._prepare_encoder_decoder_kwargs_for_generation\u001B[0;34m(self, inputs_tensor, model_kwargs, model_input_name, generation_config)\u001B[0m\n\u001B[1;32m    537\u001B[0m encoder_kwargs[\u001B[38;5;124m\"\u001B[39m\u001B[38;5;124mreturn_dict\u001B[39m\u001B[38;5;124m\"\u001B[39m] \u001B[38;5;241m=\u001B[39m \u001B[38;5;28;01mTrue\u001B[39;00m\n\u001B[1;32m    538\u001B[0m encoder_kwargs[model_input_name] \u001B[38;5;241m=\u001B[39m inputs_tensor\n\u001B[0;32m--> 539\u001B[0m model_kwargs[\u001B[38;5;124m\"\u001B[39m\u001B[38;5;124mencoder_outputs\u001B[39m\u001B[38;5;124m\"\u001B[39m]: ModelOutput \u001B[38;5;241m=\u001B[39m \u001B[43mencoder\u001B[49m\u001B[43m(\u001B[49m\u001B[38;5;241;43m*\u001B[39;49m\u001B[38;5;241;43m*\u001B[39;49m\u001B[43mencoder_kwargs\u001B[49m\u001B[43m)\u001B[49m\n\u001B[1;32m    541\u001B[0m \u001B[38;5;28;01mreturn\u001B[39;00m model_kwargs\n",
      "File \u001B[0;32m~/.pyenv/versions/3.10.14/lib/python3.10/site-packages/torch/nn/modules/module.py:1532\u001B[0m, in \u001B[0;36mModule._wrapped_call_impl\u001B[0;34m(self, *args, **kwargs)\u001B[0m\n\u001B[1;32m   1530\u001B[0m     \u001B[38;5;28;01mreturn\u001B[39;00m \u001B[38;5;28mself\u001B[39m\u001B[38;5;241m.\u001B[39m_compiled_call_impl(\u001B[38;5;241m*\u001B[39margs, \u001B[38;5;241m*\u001B[39m\u001B[38;5;241m*\u001B[39mkwargs)  \u001B[38;5;66;03m# type: ignore[misc]\u001B[39;00m\n\u001B[1;32m   1531\u001B[0m \u001B[38;5;28;01melse\u001B[39;00m:\n\u001B[0;32m-> 1532\u001B[0m     \u001B[38;5;28;01mreturn\u001B[39;00m \u001B[38;5;28;43mself\u001B[39;49m\u001B[38;5;241;43m.\u001B[39;49m\u001B[43m_call_impl\u001B[49m\u001B[43m(\u001B[49m\u001B[38;5;241;43m*\u001B[39;49m\u001B[43margs\u001B[49m\u001B[43m,\u001B[49m\u001B[43m \u001B[49m\u001B[38;5;241;43m*\u001B[39;49m\u001B[38;5;241;43m*\u001B[39;49m\u001B[43mkwargs\u001B[49m\u001B[43m)\u001B[49m\n",
      "File \u001B[0;32m~/.pyenv/versions/3.10.14/lib/python3.10/site-packages/torch/nn/modules/module.py:1541\u001B[0m, in \u001B[0;36mModule._call_impl\u001B[0;34m(self, *args, **kwargs)\u001B[0m\n\u001B[1;32m   1536\u001B[0m \u001B[38;5;66;03m# If we don't have any hooks, we want to skip the rest of the logic in\u001B[39;00m\n\u001B[1;32m   1537\u001B[0m \u001B[38;5;66;03m# this function, and just call forward.\u001B[39;00m\n\u001B[1;32m   1538\u001B[0m \u001B[38;5;28;01mif\u001B[39;00m \u001B[38;5;129;01mnot\u001B[39;00m (\u001B[38;5;28mself\u001B[39m\u001B[38;5;241m.\u001B[39m_backward_hooks \u001B[38;5;129;01mor\u001B[39;00m \u001B[38;5;28mself\u001B[39m\u001B[38;5;241m.\u001B[39m_backward_pre_hooks \u001B[38;5;129;01mor\u001B[39;00m \u001B[38;5;28mself\u001B[39m\u001B[38;5;241m.\u001B[39m_forward_hooks \u001B[38;5;129;01mor\u001B[39;00m \u001B[38;5;28mself\u001B[39m\u001B[38;5;241m.\u001B[39m_forward_pre_hooks\n\u001B[1;32m   1539\u001B[0m         \u001B[38;5;129;01mor\u001B[39;00m _global_backward_pre_hooks \u001B[38;5;129;01mor\u001B[39;00m _global_backward_hooks\n\u001B[1;32m   1540\u001B[0m         \u001B[38;5;129;01mor\u001B[39;00m _global_forward_hooks \u001B[38;5;129;01mor\u001B[39;00m _global_forward_pre_hooks):\n\u001B[0;32m-> 1541\u001B[0m     \u001B[38;5;28;01mreturn\u001B[39;00m \u001B[43mforward_call\u001B[49m\u001B[43m(\u001B[49m\u001B[38;5;241;43m*\u001B[39;49m\u001B[43margs\u001B[49m\u001B[43m,\u001B[49m\u001B[43m \u001B[49m\u001B[38;5;241;43m*\u001B[39;49m\u001B[38;5;241;43m*\u001B[39;49m\u001B[43mkwargs\u001B[49m\u001B[43m)\u001B[49m\n\u001B[1;32m   1543\u001B[0m \u001B[38;5;28;01mtry\u001B[39;00m:\n\u001B[1;32m   1544\u001B[0m     result \u001B[38;5;241m=\u001B[39m \u001B[38;5;28;01mNone\u001B[39;00m\n",
      "File \u001B[0;32m~/.pyenv/versions/3.10.14/lib/python3.10/site-packages/transformers/models/t5/modeling_t5.py:1012\u001B[0m, in \u001B[0;36mT5Stack.forward\u001B[0;34m(self, input_ids, attention_mask, encoder_hidden_states, encoder_attention_mask, inputs_embeds, head_mask, cross_attn_head_mask, past_key_values, use_cache, output_attentions, output_hidden_states, return_dict)\u001B[0m\n\u001B[1;32m   1010\u001B[0m     \u001B[38;5;28;01mif\u001B[39;00m \u001B[38;5;28mself\u001B[39m\u001B[38;5;241m.\u001B[39membed_tokens \u001B[38;5;129;01mis\u001B[39;00m \u001B[38;5;28;01mNone\u001B[39;00m:\n\u001B[1;32m   1011\u001B[0m         \u001B[38;5;28;01mraise\u001B[39;00m \u001B[38;5;167;01mValueError\u001B[39;00m(\u001B[38;5;124m\"\u001B[39m\u001B[38;5;124mYou have to initialize the model with valid token embeddings\u001B[39m\u001B[38;5;124m\"\u001B[39m)\n\u001B[0;32m-> 1012\u001B[0m     inputs_embeds \u001B[38;5;241m=\u001B[39m \u001B[38;5;28;43mself\u001B[39;49m\u001B[38;5;241;43m.\u001B[39;49m\u001B[43membed_tokens\u001B[49m\u001B[43m(\u001B[49m\u001B[43minput_ids\u001B[49m\u001B[43m)\u001B[49m\n\u001B[1;32m   1014\u001B[0m batch_size, seq_length \u001B[38;5;241m=\u001B[39m input_shape\n\u001B[1;32m   1016\u001B[0m \u001B[38;5;66;03m# required mask seq length can be calculated via length of past\u001B[39;00m\n",
      "File \u001B[0;32m~/.pyenv/versions/3.10.14/lib/python3.10/site-packages/torch/nn/modules/module.py:1532\u001B[0m, in \u001B[0;36mModule._wrapped_call_impl\u001B[0;34m(self, *args, **kwargs)\u001B[0m\n\u001B[1;32m   1530\u001B[0m     \u001B[38;5;28;01mreturn\u001B[39;00m \u001B[38;5;28mself\u001B[39m\u001B[38;5;241m.\u001B[39m_compiled_call_impl(\u001B[38;5;241m*\u001B[39margs, \u001B[38;5;241m*\u001B[39m\u001B[38;5;241m*\u001B[39mkwargs)  \u001B[38;5;66;03m# type: ignore[misc]\u001B[39;00m\n\u001B[1;32m   1531\u001B[0m \u001B[38;5;28;01melse\u001B[39;00m:\n\u001B[0;32m-> 1532\u001B[0m     \u001B[38;5;28;01mreturn\u001B[39;00m \u001B[38;5;28;43mself\u001B[39;49m\u001B[38;5;241;43m.\u001B[39;49m\u001B[43m_call_impl\u001B[49m\u001B[43m(\u001B[49m\u001B[38;5;241;43m*\u001B[39;49m\u001B[43margs\u001B[49m\u001B[43m,\u001B[49m\u001B[43m \u001B[49m\u001B[38;5;241;43m*\u001B[39;49m\u001B[38;5;241;43m*\u001B[39;49m\u001B[43mkwargs\u001B[49m\u001B[43m)\u001B[49m\n",
      "File \u001B[0;32m~/.pyenv/versions/3.10.14/lib/python3.10/site-packages/torch/nn/modules/module.py:1541\u001B[0m, in \u001B[0;36mModule._call_impl\u001B[0;34m(self, *args, **kwargs)\u001B[0m\n\u001B[1;32m   1536\u001B[0m \u001B[38;5;66;03m# If we don't have any hooks, we want to skip the rest of the logic in\u001B[39;00m\n\u001B[1;32m   1537\u001B[0m \u001B[38;5;66;03m# this function, and just call forward.\u001B[39;00m\n\u001B[1;32m   1538\u001B[0m \u001B[38;5;28;01mif\u001B[39;00m \u001B[38;5;129;01mnot\u001B[39;00m (\u001B[38;5;28mself\u001B[39m\u001B[38;5;241m.\u001B[39m_backward_hooks \u001B[38;5;129;01mor\u001B[39;00m \u001B[38;5;28mself\u001B[39m\u001B[38;5;241m.\u001B[39m_backward_pre_hooks \u001B[38;5;129;01mor\u001B[39;00m \u001B[38;5;28mself\u001B[39m\u001B[38;5;241m.\u001B[39m_forward_hooks \u001B[38;5;129;01mor\u001B[39;00m \u001B[38;5;28mself\u001B[39m\u001B[38;5;241m.\u001B[39m_forward_pre_hooks\n\u001B[1;32m   1539\u001B[0m         \u001B[38;5;129;01mor\u001B[39;00m _global_backward_pre_hooks \u001B[38;5;129;01mor\u001B[39;00m _global_backward_hooks\n\u001B[1;32m   1540\u001B[0m         \u001B[38;5;129;01mor\u001B[39;00m _global_forward_hooks \u001B[38;5;129;01mor\u001B[39;00m _global_forward_pre_hooks):\n\u001B[0;32m-> 1541\u001B[0m     \u001B[38;5;28;01mreturn\u001B[39;00m \u001B[43mforward_call\u001B[49m\u001B[43m(\u001B[49m\u001B[38;5;241;43m*\u001B[39;49m\u001B[43margs\u001B[49m\u001B[43m,\u001B[49m\u001B[43m \u001B[49m\u001B[38;5;241;43m*\u001B[39;49m\u001B[38;5;241;43m*\u001B[39;49m\u001B[43mkwargs\u001B[49m\u001B[43m)\u001B[49m\n\u001B[1;32m   1543\u001B[0m \u001B[38;5;28;01mtry\u001B[39;00m:\n\u001B[1;32m   1544\u001B[0m     result \u001B[38;5;241m=\u001B[39m \u001B[38;5;28;01mNone\u001B[39;00m\n",
      "File \u001B[0;32m~/.pyenv/versions/3.10.14/lib/python3.10/site-packages/torch/nn/modules/sparse.py:163\u001B[0m, in \u001B[0;36mEmbedding.forward\u001B[0;34m(self, input)\u001B[0m\n\u001B[1;32m    162\u001B[0m \u001B[38;5;28;01mdef\u001B[39;00m \u001B[38;5;21mforward\u001B[39m(\u001B[38;5;28mself\u001B[39m, \u001B[38;5;28minput\u001B[39m: Tensor) \u001B[38;5;241m-\u001B[39m\u001B[38;5;241m>\u001B[39m Tensor:\n\u001B[0;32m--> 163\u001B[0m     \u001B[38;5;28;01mreturn\u001B[39;00m \u001B[43mF\u001B[49m\u001B[38;5;241;43m.\u001B[39;49m\u001B[43membedding\u001B[49m\u001B[43m(\u001B[49m\n\u001B[1;32m    164\u001B[0m \u001B[43m        \u001B[49m\u001B[38;5;28;43minput\u001B[39;49m\u001B[43m,\u001B[49m\u001B[43m \u001B[49m\u001B[38;5;28;43mself\u001B[39;49m\u001B[38;5;241;43m.\u001B[39;49m\u001B[43mweight\u001B[49m\u001B[43m,\u001B[49m\u001B[43m \u001B[49m\u001B[38;5;28;43mself\u001B[39;49m\u001B[38;5;241;43m.\u001B[39;49m\u001B[43mpadding_idx\u001B[49m\u001B[43m,\u001B[49m\u001B[43m \u001B[49m\u001B[38;5;28;43mself\u001B[39;49m\u001B[38;5;241;43m.\u001B[39;49m\u001B[43mmax_norm\u001B[49m\u001B[43m,\u001B[49m\n\u001B[1;32m    165\u001B[0m \u001B[43m        \u001B[49m\u001B[38;5;28;43mself\u001B[39;49m\u001B[38;5;241;43m.\u001B[39;49m\u001B[43mnorm_type\u001B[49m\u001B[43m,\u001B[49m\u001B[43m \u001B[49m\u001B[38;5;28;43mself\u001B[39;49m\u001B[38;5;241;43m.\u001B[39;49m\u001B[43mscale_grad_by_freq\u001B[49m\u001B[43m,\u001B[49m\u001B[43m \u001B[49m\u001B[38;5;28;43mself\u001B[39;49m\u001B[38;5;241;43m.\u001B[39;49m\u001B[43msparse\u001B[49m\u001B[43m)\u001B[49m\n",
      "File \u001B[0;32m~/.pyenv/versions/3.10.14/lib/python3.10/site-packages/torch/nn/functional.py:2264\u001B[0m, in \u001B[0;36membedding\u001B[0;34m(input, weight, padding_idx, max_norm, norm_type, scale_grad_by_freq, sparse)\u001B[0m\n\u001B[1;32m   2258\u001B[0m     \u001B[38;5;66;03m# Note [embedding_renorm set_grad_enabled]\u001B[39;00m\n\u001B[1;32m   2259\u001B[0m     \u001B[38;5;66;03m# XXX: equivalent to\u001B[39;00m\n\u001B[1;32m   2260\u001B[0m     \u001B[38;5;66;03m# with torch.no_grad():\u001B[39;00m\n\u001B[1;32m   2261\u001B[0m     \u001B[38;5;66;03m#   torch.embedding_renorm_\u001B[39;00m\n\u001B[1;32m   2262\u001B[0m     \u001B[38;5;66;03m# remove once script supports set_grad_enabled\u001B[39;00m\n\u001B[1;32m   2263\u001B[0m     _no_grad_embedding_renorm_(weight, \u001B[38;5;28minput\u001B[39m, max_norm, norm_type)\n\u001B[0;32m-> 2264\u001B[0m \u001B[38;5;28;01mreturn\u001B[39;00m \u001B[43mtorch\u001B[49m\u001B[38;5;241;43m.\u001B[39;49m\u001B[43membedding\u001B[49m\u001B[43m(\u001B[49m\u001B[43mweight\u001B[49m\u001B[43m,\u001B[49m\u001B[43m \u001B[49m\u001B[38;5;28;43minput\u001B[39;49m\u001B[43m,\u001B[49m\u001B[43m \u001B[49m\u001B[43mpadding_idx\u001B[49m\u001B[43m,\u001B[49m\u001B[43m \u001B[49m\u001B[43mscale_grad_by_freq\u001B[49m\u001B[43m,\u001B[49m\u001B[43m \u001B[49m\u001B[43msparse\u001B[49m\u001B[43m)\u001B[49m\n",
      "\u001B[0;31mRuntimeError\u001B[0m: Expected all tensors to be on the same device, but found at least two devices, cuda:0 and cpu! (when checking argument for argument index in method wrapper_CUDA__index_select)"
     ]
    }
   ],
   "source": [
    "input_text = [\"complete: \" + test_dataset[0]['input']]\n",
    "inputs = tokenizer(input_text, return_tensors=\"pt\", padding=True, truncation=True, max_length=512)\n",
    "output = model.generate(**inputs, do_sample=True, min_length=10, max_length=512)\n",
    "decoded_output = tokenizer.batch_decode(output, skip_special_tokens=True)[0]\n",
    "decoded_output"
   ]
  },
  {
   "cell_type": "code",
   "execution_count": null,
   "id": "8b69f485-ea6c-4daa-9f9c-d8780783533a",
   "metadata": {},
   "outputs": [],
   "source": []
  }
 ],
 "metadata": {
  "kernelspec": {
   "display_name": "Python 3 (ipykernel)",
   "language": "python",
   "name": "python3"
  },
  "language_info": {
   "codemirror_mode": {
    "name": "ipython",
    "version": 3
   },
   "file_extension": ".py",
   "mimetype": "text/x-python",
   "name": "python",
   "nbconvert_exporter": "python",
   "pygments_lexer": "ipython3",
   "version": "3.10.12"
  }
 },
 "nbformat": 4,
 "nbformat_minor": 5
}
