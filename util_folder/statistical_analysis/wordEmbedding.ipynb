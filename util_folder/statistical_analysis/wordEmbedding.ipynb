{
 "cells": [
  {
   "metadata": {},
   "cell_type": "markdown",
   "source": "This script is to understand the word embedding and how it works.",
   "id": "b2321a2fa07bdbe"
  },
  {
   "metadata": {
    "collapsed": true,
    "ExecuteTime": {
     "end_time": "2024-11-28T17:11:48.600400Z",
     "start_time": "2024-11-28T17:11:47.747335Z"
    }
   },
   "cell_type": "code",
   "source": [
    "from transformers import AutoTokenizer, AutoModelForCausalLM, BitsAndBytesConfig\n",
    "import torch\n",
    "import torch.nn.functional as f"
   ],
   "id": "initial_id",
   "outputs": [],
   "execution_count": 1
  },
  {
   "metadata": {
    "ExecuteTime": {
     "end_time": "2024-11-28T17:12:20.973109Z",
     "start_time": "2024-11-28T17:12:20.970472Z"
    }
   },
   "cell_type": "code",
   "source": "checkpoint = \"google/gemma-2b\"",
   "id": "29def4427dc918ba",
   "outputs": [],
   "execution_count": 3
  },
  {
   "metadata": {
    "ExecuteTime": {
     "end_time": "2024-11-28T17:12:21.693400Z",
     "start_time": "2024-11-28T17:12:21.689075Z"
    }
   },
   "cell_type": "code",
   "source": [
    "quantization_config = BitsAndBytesConfig(\n",
    "    load_in_4bit=True,\n",
    "    bnb_4bit_quant_type=\"nf4\",\n",
    "    bnb_4bit_compute_dtype=torch.float16,\n",
    "    bnb_4bit_use_double_quant=True,\n",
    ")"
   ],
   "id": "f012e6aa0718129",
   "outputs": [],
   "execution_count": 4
  },
  {
   "metadata": {
    "ExecuteTime": {
     "end_time": "2024-11-28T17:12:39.890437Z",
     "start_time": "2024-11-28T17:12:22.685226Z"
    }
   },
   "cell_type": "code",
   "source": [
    "tokenizer = AutoTokenizer.from_pretrained(checkpoint)\n",
    "model = AutoModelForCausalLM.from_pretrained(\n",
    "    checkpoint\n",
    ")"
   ],
   "id": "75056a3d11d411aa",
   "outputs": [
    {
     "data": {
      "text/plain": [
       "Downloading shards:   0%|          | 0/2 [00:00<?, ?it/s]"
      ],
      "application/vnd.jupyter.widget-view+json": {
       "version_major": 2,
       "version_minor": 0,
       "model_id": "821f052e3c084a24b0d4acab10ef0d1b"
      }
     },
     "metadata": {},
     "output_type": "display_data"
    },
    {
     "name": "stderr",
     "output_type": "stream",
     "text": [
      "`config.hidden_act` is ignored, you should use `config.hidden_activation` instead.\n",
      "Gemma's activation function will be set to `gelu_pytorch_tanh`. Please, use\n",
      "`config.hidden_activation` if you want to override this behaviour.\n",
      "See https://github.com/huggingface/transformers/pull/29402 for more details.\n"
     ]
    },
    {
     "data": {
      "text/plain": [
       "Loading checkpoint shards:   0%|          | 0/2 [00:00<?, ?it/s]"
      ],
      "application/vnd.jupyter.widget-view+json": {
       "version_major": 2,
       "version_minor": 0,
       "model_id": "d5dd5a27b82a4bf0a957d9154ab968fa"
      }
     },
     "metadata": {},
     "output_type": "display_data"
    },
    {
     "data": {
      "text/plain": [
       "generation_config.json:   0%|          | 0.00/137 [00:00<?, ?B/s]"
      ],
      "application/vnd.jupyter.widget-view+json": {
       "version_major": 2,
       "version_minor": 0,
       "model_id": "a4bfe6aeff104619bba2db3fd3ccdbf6"
      }
     },
     "metadata": {},
     "output_type": "display_data"
    }
   ],
   "execution_count": 5
  },
  {
   "metadata": {
    "ExecuteTime": {
     "end_time": "2024-11-28T17:15:55.949Z",
     "start_time": "2024-11-28T17:15:55.877824Z"
    }
   },
   "cell_type": "code",
   "source": [
    "vocab = tokenizer.get_vocab()\n",
    "print(\"Vocabulary size:\", len(vocab))"
   ],
   "id": "c1e13d1bdaa8c062",
   "outputs": [
    {
     "name": "stdout",
     "output_type": "stream",
     "text": [
      "Vocabulary size: 256000\n"
     ]
    }
   ],
   "execution_count": 6
  },
  {
   "metadata": {
    "ExecuteTime": {
     "end_time": "2024-11-28T17:29:41.007274Z",
     "start_time": "2024-11-28T17:28:12.351117Z"
    }
   },
   "cell_type": "code",
   "source": [
    "text1 = \"King\"\n",
    "text2 = \"Queen\"\n",
    "inputs1 = tokenizer(text1, return_tensors=\"pt\", padding=True, truncation=True)\n",
    "inputs2 = tokenizer(text2, return_tensors=\"pt\", padding=True, truncation=True)\n",
    "\n",
    "# Get embeddings from the model\n",
    "with torch.no_grad():\n",
    "    outputs1 = model(**inputs1, output_hidden_states=True)\n",
    "    outputs2 = model(**inputs2, output_hidden_states=True)\n",
    "\n",
    "# Use CLS token embeddings (first token in the sequence)\n",
    "embedding1 = outputs1.last_hidden_state[:, 0, :]  # CLS token\n",
    "embedding2 = outputs2.last_hidden_state[:, 0, :]\n"
   ],
   "id": "746ec012205a18f8",
   "outputs": [
    {
     "ename": "AttributeError",
     "evalue": "'CausalLMOutputWithPast' object has no attribute 'last_hidden_state'",
     "output_type": "error",
     "traceback": [
      "\u001B[0;31m---------------------------------------------------------------------------\u001B[0m",
      "\u001B[0;31mAttributeError\u001B[0m                            Traceback (most recent call last)",
      "Cell \u001B[0;32mIn[12], line 12\u001B[0m\n\u001B[1;32m      9\u001B[0m     outputs2 \u001B[38;5;241m=\u001B[39m model(\u001B[38;5;241m*\u001B[39m\u001B[38;5;241m*\u001B[39minputs2, output_hidden_states\u001B[38;5;241m=\u001B[39m\u001B[38;5;28;01mTrue\u001B[39;00m)\n\u001B[1;32m     11\u001B[0m \u001B[38;5;66;03m# Use CLS token embeddings (first token in the sequence)\u001B[39;00m\n\u001B[0;32m---> 12\u001B[0m embedding1 \u001B[38;5;241m=\u001B[39m \u001B[43moutputs1\u001B[49m\u001B[38;5;241;43m.\u001B[39;49m\u001B[43mlast_hidden_state\u001B[49m[:, \u001B[38;5;241m0\u001B[39m, :]  \u001B[38;5;66;03m# CLS token\u001B[39;00m\n\u001B[1;32m     13\u001B[0m embedding2 \u001B[38;5;241m=\u001B[39m outputs2\u001B[38;5;241m.\u001B[39mlast_hidden_state[:, \u001B[38;5;241m0\u001B[39m, :]\n",
      "\u001B[0;31mAttributeError\u001B[0m: 'CausalLMOutputWithPast' object has no attribute 'last_hidden_state'"
     ]
    }
   ],
   "execution_count": 12
  },
  {
   "metadata": {
    "ExecuteTime": {
     "end_time": "2024-11-28T17:30:23.588721Z",
     "start_time": "2024-11-28T17:30:23.551698Z"
    }
   },
   "cell_type": "code",
   "source": "print(outputs1.last_hidden_state)",
   "id": "f4cfa6c183b537d2",
   "outputs": [
    {
     "ename": "AttributeError",
     "evalue": "'CausalLMOutputWithPast' object has no attribute 'last_hidden_state'",
     "output_type": "error",
     "traceback": [
      "\u001B[0;31m---------------------------------------------------------------------------\u001B[0m",
      "\u001B[0;31mAttributeError\u001B[0m                            Traceback (most recent call last)",
      "Cell \u001B[0;32mIn[13], line 1\u001B[0m\n\u001B[0;32m----> 1\u001B[0m \u001B[38;5;28mprint\u001B[39m(\u001B[43moutputs1\u001B[49m\u001B[38;5;241;43m.\u001B[39;49m\u001B[43mlast_hidden_state\u001B[49m)\n",
      "\u001B[0;31mAttributeError\u001B[0m: 'CausalLMOutputWithPast' object has no attribute 'last_hidden_state'"
     ]
    }
   ],
   "execution_count": 13
  },
  {
   "metadata": {},
   "cell_type": "code",
   "outputs": [],
   "execution_count": null,
   "source": [
    "# Normalize embeddings\n",
    "embedding1 = f.normalize(embedding1, p=2, dim=1)\n",
    "embedding2 = f.normalize(embedding2, p=2, dim=1)\n",
    "\n",
    "# Compute cosine similarity\n",
    "cosine_sim = torch.mm(embedding1, embedding2.T)\n",
    "print(f\"Cosine similarity: {cosine_sim.item()}\")"
   ],
   "id": "b04596097ef962a2"
  }
 ],
 "metadata": {
  "kernelspec": {
   "display_name": "Python 3",
   "language": "python",
   "name": "python3"
  },
  "language_info": {
   "codemirror_mode": {
    "name": "ipython",
    "version": 2
   },
   "file_extension": ".py",
   "mimetype": "text/x-python",
   "name": "python",
   "nbconvert_exporter": "python",
   "pygments_lexer": "ipython2",
   "version": "2.7.6"
  }
 },
 "nbformat": 4,
 "nbformat_minor": 5
}
