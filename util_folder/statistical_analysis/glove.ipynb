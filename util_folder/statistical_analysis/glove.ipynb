{
 "cells": [
  {
   "cell_type": "code",
   "id": "initial_id",
   "metadata": {
    "collapsed": true,
    "ExecuteTime": {
     "end_time": "2024-12-20T12:27:41.579104Z",
     "start_time": "2024-12-20T12:27:40.103340Z"
    }
   },
   "source": [
    "from gensim.scripts.glove2word2vec import glove2word2vec\n",
    "from gensim.models import KeyedVectors"
   ],
   "outputs": [],
   "execution_count": 1
  },
  {
   "metadata": {
    "ExecuteTime": {
     "end_time": "2024-12-20T12:34:34.107806Z",
     "start_time": "2024-12-20T12:28:09.326396Z"
    }
   },
   "cell_type": "code",
   "source": [
    "glove_input_file = 'D:\\\\LLM\\\\thesisPractical\\\\glove.840B.300d\\\\glove.840B.300d.txt'\n",
    "word2vec_output_file = 'D:\\\\LLM\\\\thesisPractical\\\\glove.840B.300d\\\\glove.840B.300d.word2vec.txt'\n",
    "glove2word2vec(glove_input_file, word2vec_output_file)"
   ],
   "id": "8c19d9478b374697",
   "outputs": [
    {
     "name": "stderr",
     "output_type": "stream",
     "text": [
      "C:\\Users\\Admin\\AppData\\Local\\Temp\\ipykernel_27288\\3198852931.py:3: DeprecationWarning: Call to deprecated `glove2word2vec` (KeyedVectors.load_word2vec_format(.., binary=False, no_header=True) loads GLoVE text vectors.).\n",
      "  glove2word2vec(glove_input_file, word2vec_output_file)\n"
     ]
    },
    {
     "data": {
      "text/plain": [
       "(2196017, 300)"
      ]
     },
     "execution_count": 3,
     "metadata": {},
     "output_type": "execute_result"
    }
   ],
   "execution_count": 3
  },
  {
   "metadata": {
    "ExecuteTime": {
     "end_time": "2024-12-20T12:38:16.635514Z",
     "start_time": "2024-12-20T12:34:34.111973Z"
    }
   },
   "cell_type": "code",
   "source": "model = KeyedVectors.load_word2vec_format(word2vec_output_file, binary=False)",
   "id": "ddd9d46187d7b52b",
   "outputs": [
    {
     "ename": "EOFError",
     "evalue": "unexpected end of input; is count incorrect or file otherwise damaged?",
     "output_type": "error",
     "traceback": [
      "\u001B[1;31m---------------------------------------------------------------------------\u001B[0m",
      "\u001B[1;31mEOFError\u001B[0m                                  Traceback (most recent call last)",
      "Cell \u001B[1;32mIn[4], line 1\u001B[0m\n\u001B[1;32m----> 1\u001B[0m model \u001B[38;5;241m=\u001B[39m KeyedVectors\u001B[38;5;241m.\u001B[39mload_word2vec_format(word2vec_output_file, binary\u001B[38;5;241m=\u001B[39m\u001B[38;5;28;01mFalse\u001B[39;00m)\n",
      "File \u001B[1;32m~\\anaconda3\\envs\\LLM\\Lib\\site-packages\\gensim\\models\\keyedvectors.py:1719\u001B[0m, in \u001B[0;36mKeyedVectors.load_word2vec_format\u001B[1;34m(cls, fname, fvocab, binary, encoding, unicode_errors, limit, datatype, no_header)\u001B[0m\n\u001B[0;32m   1672\u001B[0m \u001B[38;5;129m@classmethod\u001B[39m\n\u001B[0;32m   1673\u001B[0m \u001B[38;5;28;01mdef\u001B[39;00m \u001B[38;5;21mload_word2vec_format\u001B[39m(\n\u001B[0;32m   1674\u001B[0m         \u001B[38;5;28mcls\u001B[39m, fname, fvocab\u001B[38;5;241m=\u001B[39m\u001B[38;5;28;01mNone\u001B[39;00m, binary\u001B[38;5;241m=\u001B[39m\u001B[38;5;28;01mFalse\u001B[39;00m, encoding\u001B[38;5;241m=\u001B[39m\u001B[38;5;124m'\u001B[39m\u001B[38;5;124mutf8\u001B[39m\u001B[38;5;124m'\u001B[39m, unicode_errors\u001B[38;5;241m=\u001B[39m\u001B[38;5;124m'\u001B[39m\u001B[38;5;124mstrict\u001B[39m\u001B[38;5;124m'\u001B[39m,\n\u001B[0;32m   1675\u001B[0m         limit\u001B[38;5;241m=\u001B[39m\u001B[38;5;28;01mNone\u001B[39;00m, datatype\u001B[38;5;241m=\u001B[39mREAL, no_header\u001B[38;5;241m=\u001B[39m\u001B[38;5;28;01mFalse\u001B[39;00m,\n\u001B[0;32m   1676\u001B[0m     ):\n\u001B[0;32m   1677\u001B[0m \u001B[38;5;250m    \u001B[39m\u001B[38;5;124;03m\"\"\"Load KeyedVectors from a file produced by the original C word2vec-tool format.\u001B[39;00m\n\u001B[0;32m   1678\u001B[0m \n\u001B[0;32m   1679\u001B[0m \u001B[38;5;124;03m    Warnings\u001B[39;00m\n\u001B[1;32m   (...)\u001B[0m\n\u001B[0;32m   1717\u001B[0m \n\u001B[0;32m   1718\u001B[0m \u001B[38;5;124;03m    \"\"\"\u001B[39;00m\n\u001B[1;32m-> 1719\u001B[0m     \u001B[38;5;28;01mreturn\u001B[39;00m _load_word2vec_format(\n\u001B[0;32m   1720\u001B[0m         \u001B[38;5;28mcls\u001B[39m, fname, fvocab\u001B[38;5;241m=\u001B[39mfvocab, binary\u001B[38;5;241m=\u001B[39mbinary, encoding\u001B[38;5;241m=\u001B[39mencoding, unicode_errors\u001B[38;5;241m=\u001B[39municode_errors,\n\u001B[0;32m   1721\u001B[0m         limit\u001B[38;5;241m=\u001B[39mlimit, datatype\u001B[38;5;241m=\u001B[39mdatatype, no_header\u001B[38;5;241m=\u001B[39mno_header,\n\u001B[0;32m   1722\u001B[0m     )\n",
      "File \u001B[1;32m~\\anaconda3\\envs\\LLM\\Lib\\site-packages\\gensim\\models\\keyedvectors.py:2069\u001B[0m, in \u001B[0;36m_load_word2vec_format\u001B[1;34m(cls, fname, fvocab, binary, encoding, unicode_errors, limit, datatype, no_header, binary_chunk_size)\u001B[0m\n\u001B[0;32m   2065\u001B[0m         _word2vec_read_binary(\n\u001B[0;32m   2066\u001B[0m             fin, kv, counts, vocab_size, vector_size, datatype, unicode_errors, binary_chunk_size, encoding\n\u001B[0;32m   2067\u001B[0m         )\n\u001B[0;32m   2068\u001B[0m     \u001B[38;5;28;01melse\u001B[39;00m:\n\u001B[1;32m-> 2069\u001B[0m         _word2vec_read_text(fin, kv, counts, vocab_size, vector_size, datatype, unicode_errors, encoding)\n\u001B[0;32m   2070\u001B[0m \u001B[38;5;28;01mif\u001B[39;00m kv\u001B[38;5;241m.\u001B[39mvectors\u001B[38;5;241m.\u001B[39mshape[\u001B[38;5;241m0\u001B[39m] \u001B[38;5;241m!=\u001B[39m \u001B[38;5;28mlen\u001B[39m(kv):\n\u001B[0;32m   2071\u001B[0m     logger\u001B[38;5;241m.\u001B[39minfo(\n\u001B[0;32m   2072\u001B[0m         \u001B[38;5;124m\"\u001B[39m\u001B[38;5;124mduplicate words detected, shrinking matrix size from \u001B[39m\u001B[38;5;132;01m%i\u001B[39;00m\u001B[38;5;124m to \u001B[39m\u001B[38;5;132;01m%i\u001B[39;00m\u001B[38;5;124m\"\u001B[39m,\n\u001B[0;32m   2073\u001B[0m         kv\u001B[38;5;241m.\u001B[39mvectors\u001B[38;5;241m.\u001B[39mshape[\u001B[38;5;241m0\u001B[39m], \u001B[38;5;28mlen\u001B[39m(kv),\n\u001B[0;32m   2074\u001B[0m     )\n",
      "File \u001B[1;32m~\\anaconda3\\envs\\LLM\\Lib\\site-packages\\gensim\\models\\keyedvectors.py:1973\u001B[0m, in \u001B[0;36m_word2vec_read_text\u001B[1;34m(fin, kv, counts, vocab_size, vector_size, datatype, unicode_errors, encoding)\u001B[0m\n\u001B[0;32m   1971\u001B[0m line \u001B[38;5;241m=\u001B[39m fin\u001B[38;5;241m.\u001B[39mreadline()\n\u001B[0;32m   1972\u001B[0m \u001B[38;5;28;01mif\u001B[39;00m line \u001B[38;5;241m==\u001B[39m \u001B[38;5;124mb\u001B[39m\u001B[38;5;124m'\u001B[39m\u001B[38;5;124m'\u001B[39m:\n\u001B[1;32m-> 1973\u001B[0m     \u001B[38;5;28;01mraise\u001B[39;00m \u001B[38;5;167;01mEOFError\u001B[39;00m(\u001B[38;5;124m\"\u001B[39m\u001B[38;5;124munexpected end of input; is count incorrect or file otherwise damaged?\u001B[39m\u001B[38;5;124m\"\u001B[39m)\n\u001B[0;32m   1974\u001B[0m word, weights \u001B[38;5;241m=\u001B[39m _word2vec_line_to_vector(line, datatype, unicode_errors, encoding)\n\u001B[0;32m   1975\u001B[0m _add_word_to_kv(kv, counts, word, weights, vocab_size)\n",
      "\u001B[1;31mEOFError\u001B[0m: unexpected end of input; is count incorrect or file otherwise damaged?"
     ]
    }
   ],
   "execution_count": 4
  },
  {
   "metadata": {
    "ExecuteTime": {
     "end_time": "2024-12-20T04:18:22.635968Z",
     "start_time": "2024-12-20T04:18:22.632141Z"
    }
   },
   "cell_type": "code",
   "source": [
    "from sklearn.metrics.pairwise import cosine_similarity\n",
    "import numpy as np\n",
    "\n",
    "a = \"fine\"\n",
    "b = \"queen\"\n",
    "\n",
    "king_vec = model[a]\n",
    "queen_vec = model[b]\n",
    "\n",
    "# Average vectors\n",
    "vec1 = np.mean(king_vec, axis=0).reshape(1, -1)\n",
    "vec2 = np.mean(queen_vec, axis=0).reshape(1, -1)\n",
    "\n",
    "\n",
    "# Compute cosine similarity\n",
    "sim = cosine_similarity(vec1, vec2)[0][0]"
   ],
   "id": "af4d94f94c1b0941",
   "outputs": [],
   "execution_count": 21
  },
  {
   "metadata": {
    "ExecuteTime": {
     "end_time": "2024-12-20T04:18:23.625780Z",
     "start_time": "2024-12-20T04:18:23.621855Z"
    }
   },
   "cell_type": "code",
   "source": "sim",
   "id": "a0045e4e6e983078",
   "outputs": [
    {
     "data": {
      "text/plain": [
       "-1.0"
      ]
     },
     "execution_count": 22,
     "metadata": {},
     "output_type": "execute_result"
    }
   ],
   "execution_count": 22
  }
 ],
 "metadata": {
  "kernelspec": {
   "display_name": "Python 3",
   "language": "python",
   "name": "python3"
  },
  "language_info": {
   "codemirror_mode": {
    "name": "ipython",
    "version": 2
   },
   "file_extension": ".py",
   "mimetype": "text/x-python",
   "name": "python",
   "nbconvert_exporter": "python",
   "pygments_lexer": "ipython2",
   "version": "2.7.6"
  }
 },
 "nbformat": 4,
 "nbformat_minor": 5
}
